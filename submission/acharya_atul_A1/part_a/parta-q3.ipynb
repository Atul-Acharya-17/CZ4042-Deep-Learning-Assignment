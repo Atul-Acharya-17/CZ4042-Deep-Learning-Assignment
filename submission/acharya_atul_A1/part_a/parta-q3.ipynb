{
 "cells": [
  {
   "cell_type": "markdown",
   "id": "7eb7ed2e",
   "metadata": {
    "papermill": {
     "duration": 0.011162,
     "end_time": "2022-10-08T14:20:35.777637",
     "exception": false,
     "start_time": "2022-10-08T14:20:35.766475",
     "status": "completed"
    },
    "tags": []
   },
   "source": [
    "# Part A: Classification Problem\n",
    "\n",
    "* **Name** Acharya Atul\n",
    "* **Matriculation Number** U1923502C\n",
    "* **Email** atul001@e.ntu.edu.sg\n",
    "\n",
    "# Question 3"
   ]
  },
  {
   "cell_type": "markdown",
   "id": "b17f9695",
   "metadata": {
    "papermill": {
     "duration": 0.008739,
     "end_time": "2022-10-08T14:20:35.796044",
     "exception": false,
     "start_time": "2022-10-08T14:20:35.787305",
     "status": "completed"
    },
    "tags": []
   },
   "source": [
    "### Install latest version of tensroflow"
   ]
  },
  {
   "cell_type": "code",
   "execution_count": 1,
   "id": "a85b39b9",
   "metadata": {
    "execution": {
     "iopub.execute_input": "2022-10-08T14:20:35.817411Z",
     "iopub.status.busy": "2022-10-08T14:20:35.816416Z",
     "iopub.status.idle": "2022-10-08T14:22:12.411195Z",
     "shell.execute_reply": "2022-10-08T14:22:12.410226Z"
    },
    "papermill": {
     "duration": 96.608945,
     "end_time": "2022-10-08T14:22:12.413960",
     "exception": false,
     "start_time": "2022-10-08T14:20:35.805015",
     "status": "completed"
    },
    "tags": []
   },
   "outputs": [
    {
     "name": "stdout",
     "output_type": "stream",
     "text": [
      "Requirement already satisfied: tensorflow in /opt/conda/lib/python3.7/site-packages (2.6.4)\r\n",
      "Collecting tensorflow\r\n",
      "  Downloading tensorflow-2.10.0-cp37-cp37m-manylinux_2_17_x86_64.manylinux2014_x86_64.whl (578.0 MB)\r\n",
      "\u001b[2K     \u001b[90m━━━━━━━━━━━━━━━━━━━━━━━━━━━━━━━━━━━━━━━\u001b[0m \u001b[32m578.0/578.0 MB\u001b[0m \u001b[31m1.0 MB/s\u001b[0m eta \u001b[36m0:00:00\u001b[0m\r\n",
      "\u001b[?25hRequirement already satisfied: keras-preprocessing>=1.1.1 in /opt/conda/lib/python3.7/site-packages (from tensorflow) (1.1.2)\r\n",
      "Collecting absl-py>=1.0.0\r\n",
      "  Downloading absl_py-1.2.0-py3-none-any.whl (123 kB)\r\n",
      "\u001b[2K     \u001b[90m━━━━━━━━━━━━━━━━━━━━━━━━━━━━━━━━━━━━━━\u001b[0m \u001b[32m123.4/123.4 kB\u001b[0m \u001b[31m10.1 MB/s\u001b[0m eta \u001b[36m0:00:00\u001b[0m\r\n",
      "\u001b[?25hRequirement already satisfied: opt-einsum>=2.3.2 in /opt/conda/lib/python3.7/site-packages (from tensorflow) (3.3.0)\r\n",
      "Requirement already satisfied: astunparse>=1.6.0 in /opt/conda/lib/python3.7/site-packages (from tensorflow) (1.6.3)\r\n",
      "Collecting flatbuffers>=2.0\r\n",
      "  Downloading flatbuffers-22.9.24-py2.py3-none-any.whl (26 kB)\r\n",
      "Collecting libclang>=13.0.0\r\n",
      "  Downloading libclang-14.0.6-py2.py3-none-manylinux2010_x86_64.whl (14.1 MB)\r\n",
      "\u001b[2K     \u001b[90m━━━━━━━━━━━━━━━━━━━━━━━━━━━━━━━━━━━━━━━━\u001b[0m \u001b[32m14.1/14.1 MB\u001b[0m \u001b[31m38.2 MB/s\u001b[0m eta \u001b[36m0:00:00\u001b[0m\r\n",
      "\u001b[?25hRequirement already satisfied: tensorboard<2.11,>=2.10 in /opt/conda/lib/python3.7/site-packages (from tensorflow) (2.10.0)\r\n",
      "Requirement already satisfied: setuptools in /opt/conda/lib/python3.7/site-packages (from tensorflow) (59.8.0)\r\n",
      "Collecting tensorflow-estimator<2.11,>=2.10.0\r\n",
      "  Downloading tensorflow_estimator-2.10.0-py2.py3-none-any.whl (438 kB)\r\n",
      "\u001b[2K     \u001b[90m━━━━━━━━━━━━━━━━━━━━━━━━━━━━━━━━━━━━━━\u001b[0m \u001b[32m438.7/438.7 kB\u001b[0m \u001b[31m32.4 MB/s\u001b[0m eta \u001b[36m0:00:00\u001b[0m\r\n",
      "\u001b[?25hRequirement already satisfied: h5py>=2.9.0 in /opt/conda/lib/python3.7/site-packages (from tensorflow) (3.7.0)\r\n",
      "Requirement already satisfied: grpcio<2.0,>=1.24.3 in /opt/conda/lib/python3.7/site-packages (from tensorflow) (1.43.0)\r\n",
      "Requirement already satisfied: protobuf<3.20,>=3.9.2 in /opt/conda/lib/python3.7/site-packages (from tensorflow) (3.19.4)\r\n",
      "Requirement already satisfied: numpy>=1.20 in /opt/conda/lib/python3.7/site-packages (from tensorflow) (1.21.6)\r\n",
      "Requirement already satisfied: six>=1.12.0 in /opt/conda/lib/python3.7/site-packages (from tensorflow) (1.15.0)\r\n",
      "Requirement already satisfied: gast<=0.4.0,>=0.2.1 in /opt/conda/lib/python3.7/site-packages (from tensorflow) (0.4.0)\r\n",
      "Requirement already satisfied: typing-extensions>=3.6.6 in /opt/conda/lib/python3.7/site-packages (from tensorflow) (4.3.0)\r\n",
      "Collecting tensorflow-io-gcs-filesystem>=0.23.1\r\n",
      "  Downloading tensorflow_io_gcs_filesystem-0.27.0-cp37-cp37m-manylinux_2_12_x86_64.manylinux2010_x86_64.whl (2.4 MB)\r\n",
      "\u001b[2K     \u001b[90m━━━━━━━━━━━━━━━━━━━━━━━━━━━━━━━━━━━━━━━━\u001b[0m \u001b[32m2.4/2.4 MB\u001b[0m \u001b[31m62.2 MB/s\u001b[0m eta \u001b[36m0:00:00\u001b[0m\r\n",
      "\u001b[?25hRequirement already satisfied: google-pasta>=0.1.1 in /opt/conda/lib/python3.7/site-packages (from tensorflow) (0.2.0)\r\n",
      "Requirement already satisfied: termcolor>=1.1.0 in /opt/conda/lib/python3.7/site-packages (from tensorflow) (1.1.0)\r\n",
      "Collecting keras<2.11,>=2.10.0\r\n",
      "  Downloading keras-2.10.0-py2.py3-none-any.whl (1.7 MB)\r\n",
      "\u001b[2K     \u001b[90m━━━━━━━━━━━━━━━━━━━━━━━━━━━━━━━━━━━━━━━━\u001b[0m \u001b[32m1.7/1.7 MB\u001b[0m \u001b[31m60.6 MB/s\u001b[0m eta \u001b[36m0:00:00\u001b[0m\r\n",
      "\u001b[?25hRequirement already satisfied: wrapt>=1.11.0 in /opt/conda/lib/python3.7/site-packages (from tensorflow) (1.12.1)\r\n",
      "Requirement already satisfied: packaging in /opt/conda/lib/python3.7/site-packages (from tensorflow) (21.3)\r\n",
      "Requirement already satisfied: wheel<1.0,>=0.23.0 in /opt/conda/lib/python3.7/site-packages (from astunparse>=1.6.0->tensorflow) (0.37.1)\r\n",
      "Requirement already satisfied: tensorboard-plugin-wit>=1.6.0 in /opt/conda/lib/python3.7/site-packages (from tensorboard<2.11,>=2.10->tensorflow) (1.8.1)\r\n",
      "Requirement already satisfied: google-auth<3,>=1.6.3 in /opt/conda/lib/python3.7/site-packages (from tensorboard<2.11,>=2.10->tensorflow) (1.35.0)\r\n",
      "Requirement already satisfied: markdown>=2.6.8 in /opt/conda/lib/python3.7/site-packages (from tensorboard<2.11,>=2.10->tensorflow) (3.3.7)\r\n",
      "Requirement already satisfied: google-auth-oauthlib<0.5,>=0.4.1 in /opt/conda/lib/python3.7/site-packages (from tensorboard<2.11,>=2.10->tensorflow) (0.4.6)\r\n",
      "Requirement already satisfied: requests<3,>=2.21.0 in /opt/conda/lib/python3.7/site-packages (from tensorboard<2.11,>=2.10->tensorflow) (2.28.1)\r\n",
      "Requirement already satisfied: werkzeug>=1.0.1 in /opt/conda/lib/python3.7/site-packages (from tensorboard<2.11,>=2.10->tensorflow) (2.2.2)\r\n",
      "Requirement already satisfied: tensorboard-data-server<0.7.0,>=0.6.0 in /opt/conda/lib/python3.7/site-packages (from tensorboard<2.11,>=2.10->tensorflow) (0.6.1)\r\n",
      "Requirement already satisfied: pyparsing!=3.0.5,>=2.0.2 in /opt/conda/lib/python3.7/site-packages (from packaging->tensorflow) (3.0.9)\r\n",
      "Requirement already satisfied: rsa<5,>=3.1.4 in /opt/conda/lib/python3.7/site-packages (from google-auth<3,>=1.6.3->tensorboard<2.11,>=2.10->tensorflow) (4.8)\r\n",
      "Requirement already satisfied: pyasn1-modules>=0.2.1 in /opt/conda/lib/python3.7/site-packages (from google-auth<3,>=1.6.3->tensorboard<2.11,>=2.10->tensorflow) (0.2.7)\r\n",
      "Requirement already satisfied: cachetools<5.0,>=2.0.0 in /opt/conda/lib/python3.7/site-packages (from google-auth<3,>=1.6.3->tensorboard<2.11,>=2.10->tensorflow) (4.2.4)\r\n",
      "Requirement already satisfied: requests-oauthlib>=0.7.0 in /opt/conda/lib/python3.7/site-packages (from google-auth-oauthlib<0.5,>=0.4.1->tensorboard<2.11,>=2.10->tensorflow) (1.3.1)\r\n",
      "Requirement already satisfied: importlib-metadata>=4.4 in /opt/conda/lib/python3.7/site-packages (from markdown>=2.6.8->tensorboard<2.11,>=2.10->tensorflow) (4.12.0)\r\n",
      "Requirement already satisfied: certifi>=2017.4.17 in /opt/conda/lib/python3.7/site-packages (from requests<3,>=2.21.0->tensorboard<2.11,>=2.10->tensorflow) (2022.6.15.2)\r\n",
      "Requirement already satisfied: charset-normalizer<3,>=2 in /opt/conda/lib/python3.7/site-packages (from requests<3,>=2.21.0->tensorboard<2.11,>=2.10->tensorflow) (2.1.0)\r\n",
      "Requirement already satisfied: urllib3<1.27,>=1.21.1 in /opt/conda/lib/python3.7/site-packages (from requests<3,>=2.21.0->tensorboard<2.11,>=2.10->tensorflow) (1.26.12)\r\n",
      "Requirement already satisfied: idna<4,>=2.5 in /opt/conda/lib/python3.7/site-packages (from requests<3,>=2.21.0->tensorboard<2.11,>=2.10->tensorflow) (3.3)\r\n",
      "Requirement already satisfied: MarkupSafe>=2.1.1 in /opt/conda/lib/python3.7/site-packages (from werkzeug>=1.0.1->tensorboard<2.11,>=2.10->tensorflow) (2.1.1)\r\n",
      "Requirement already satisfied: zipp>=0.5 in /opt/conda/lib/python3.7/site-packages (from importlib-metadata>=4.4->markdown>=2.6.8->tensorboard<2.11,>=2.10->tensorflow) (3.8.0)\r\n",
      "Requirement already satisfied: pyasn1<0.5.0,>=0.4.6 in /opt/conda/lib/python3.7/site-packages (from pyasn1-modules>=0.2.1->google-auth<3,>=1.6.3->tensorboard<2.11,>=2.10->tensorflow) (0.4.8)\r\n",
      "Requirement already satisfied: oauthlib>=3.0.0 in /opt/conda/lib/python3.7/site-packages (from requests-oauthlib>=0.7.0->google-auth-oauthlib<0.5,>=0.4.1->tensorboard<2.11,>=2.10->tensorflow) (3.2.0)\r\n",
      "Installing collected packages: libclang, keras, flatbuffers, tensorflow-io-gcs-filesystem, tensorflow-estimator, absl-py, tensorflow\r\n",
      "  Attempting uninstall: keras\r\n",
      "    Found existing installation: keras 2.6.0\r\n",
      "    Uninstalling keras-2.6.0:\r\n",
      "      Successfully uninstalled keras-2.6.0\r\n",
      "  Attempting uninstall: flatbuffers\r\n",
      "    Found existing installation: flatbuffers 1.12\r\n",
      "    Uninstalling flatbuffers-1.12:\r\n",
      "      Successfully uninstalled flatbuffers-1.12\r\n",
      "  Attempting uninstall: tensorflow-estimator\r\n",
      "    Found existing installation: tensorflow-estimator 2.6.0\r\n",
      "    Uninstalling tensorflow-estimator-2.6.0:\r\n",
      "      Successfully uninstalled tensorflow-estimator-2.6.0\r\n",
      "  Attempting uninstall: absl-py\r\n",
      "    Found existing installation: absl-py 0.15.0\r\n",
      "    Uninstalling absl-py-0.15.0:\r\n",
      "      Successfully uninstalled absl-py-0.15.0\r\n",
      "  Attempting uninstall: tensorflow\r\n",
      "    Found existing installation: tensorflow 2.6.4\r\n",
      "    Uninstalling tensorflow-2.6.4:\r\n",
      "      Successfully uninstalled tensorflow-2.6.4\r\n",
      "\u001b[31mERROR: pip's dependency resolver does not currently take into account all the packages that are installed. This behaviour is the source of the following dependency conflicts.\r\n",
      "tfx-bsl 1.9.0 requires pyarrow<6,>=1, but you have pyarrow 8.0.0 which is incompatible.\r\n",
      "tensorflow-transform 1.9.0 requires pyarrow<6,>=1, but you have pyarrow 8.0.0 which is incompatible.\r\n",
      "tensorflow-transform 1.9.0 requires tensorflow!=2.0.*,!=2.1.*,!=2.2.*,!=2.3.*,!=2.4.*,!=2.5.*,!=2.6.*,!=2.7.*,!=2.8.*,<2.10,>=1.15.5, but you have tensorflow 2.10.0 which is incompatible.\r\n",
      "tensorflow-io 0.21.0 requires tensorflow<2.7.0,>=2.6.0, but you have tensorflow 2.10.0 which is incompatible.\r\n",
      "tensorflow-io 0.21.0 requires tensorflow-io-gcs-filesystem==0.21.0, but you have tensorflow-io-gcs-filesystem 0.27.0 which is incompatible.\r\n",
      "flax 0.6.0 requires rich~=11.1, but you have rich 12.1.0 which is incompatible.\u001b[0m\u001b[31m\r\n",
      "\u001b[0mSuccessfully installed absl-py-1.2.0 flatbuffers-22.9.24 keras-2.10.0 libclang-14.0.6 tensorflow-2.10.0 tensorflow-estimator-2.10.0 tensorflow-io-gcs-filesystem-0.27.0\r\n",
      "\u001b[33mWARNING: Running pip as the 'root' user can result in broken permissions and conflicting behaviour with the system package manager. It is recommended to use a virtual environment instead: https://pip.pypa.io/warnings/venv\u001b[0m\u001b[33m\r\n",
      "\u001b[0mCollecting git+https://github.com/tensorflow/docs\r\n",
      "  Cloning https://github.com/tensorflow/docs to /tmp/pip-req-build-22_577hl\r\n",
      "  Running command git clone --filter=blob:none --quiet https://github.com/tensorflow/docs /tmp/pip-req-build-22_577hl\r\n",
      "  Resolved https://github.com/tensorflow/docs to commit f863411235c24209073d5138ee2e434c843325ff\r\n",
      "  Preparing metadata (setup.py) ... \u001b[?25l-\b \bdone\r\n",
      "\u001b[?25hCollecting astor\r\n",
      "  Downloading astor-0.8.1-py2.py3-none-any.whl (27 kB)\r\n",
      "Requirement already satisfied: absl-py in /opt/conda/lib/python3.7/site-packages (from tensorflow-docs==0.0.0.dev0) (1.2.0)\r\n",
      "Requirement already satisfied: jinja2 in /opt/conda/lib/python3.7/site-packages (from tensorflow-docs==0.0.0.dev0) (3.1.2)\r\n",
      "Requirement already satisfied: nbformat in /opt/conda/lib/python3.7/site-packages (from tensorflow-docs==0.0.0.dev0) (5.4.0)\r\n",
      "Requirement already satisfied: protobuf<3.20,>=3.12.0 in /opt/conda/lib/python3.7/site-packages (from tensorflow-docs==0.0.0.dev0) (3.19.4)\r\n",
      "Requirement already satisfied: pyyaml in /opt/conda/lib/python3.7/site-packages (from tensorflow-docs==0.0.0.dev0) (6.0)\r\n",
      "Requirement already satisfied: MarkupSafe>=2.0 in /opt/conda/lib/python3.7/site-packages (from jinja2->tensorflow-docs==0.0.0.dev0) (2.1.1)\r\n",
      "Requirement already satisfied: traitlets>=5.1 in /opt/conda/lib/python3.7/site-packages (from nbformat->tensorflow-docs==0.0.0.dev0) (5.3.0)\r\n",
      "Requirement already satisfied: fastjsonschema in /opt/conda/lib/python3.7/site-packages (from nbformat->tensorflow-docs==0.0.0.dev0) (2.15.3)\r\n",
      "Requirement already satisfied: jsonschema>=2.6 in /opt/conda/lib/python3.7/site-packages (from nbformat->tensorflow-docs==0.0.0.dev0) (4.6.1)\r\n",
      "Requirement already satisfied: jupyter-core in /opt/conda/lib/python3.7/site-packages (from nbformat->tensorflow-docs==0.0.0.dev0) (4.10.0)\r\n",
      "Requirement already satisfied: typing-extensions in /opt/conda/lib/python3.7/site-packages (from jsonschema>=2.6->nbformat->tensorflow-docs==0.0.0.dev0) (4.3.0)\r\n",
      "Requirement already satisfied: pyrsistent!=0.17.0,!=0.17.1,!=0.17.2,>=0.14.0 in /opt/conda/lib/python3.7/site-packages (from jsonschema>=2.6->nbformat->tensorflow-docs==0.0.0.dev0) (0.18.1)\r\n",
      "Requirement already satisfied: importlib-metadata in /opt/conda/lib/python3.7/site-packages (from jsonschema>=2.6->nbformat->tensorflow-docs==0.0.0.dev0) (4.12.0)\r\n",
      "Requirement already satisfied: attrs>=17.4.0 in /opt/conda/lib/python3.7/site-packages (from jsonschema>=2.6->nbformat->tensorflow-docs==0.0.0.dev0) (21.4.0)\r\n",
      "Requirement already satisfied: importlib-resources>=1.4.0 in /opt/conda/lib/python3.7/site-packages (from jsonschema>=2.6->nbformat->tensorflow-docs==0.0.0.dev0) (5.8.0)\r\n",
      "Requirement already satisfied: zipp>=3.1.0 in /opt/conda/lib/python3.7/site-packages (from importlib-resources>=1.4.0->jsonschema>=2.6->nbformat->tensorflow-docs==0.0.0.dev0) (3.8.0)\r\n",
      "Building wheels for collected packages: tensorflow-docs\r\n",
      "  Building wheel for tensorflow-docs (setup.py) ... \u001b[?25l-\b \b\\\b \b|\b \bdone\r\n",
      "\u001b[?25h  Created wheel for tensorflow-docs: filename=tensorflow_docs-0.0.0.dev0-py3-none-any.whl size=184222 sha256=cd6ebb9b5468593e78fa47a53a0a106fe0587b671e4dfd52da5dafcc0890d076\r\n",
      "  Stored in directory: /tmp/pip-ephem-wheel-cache-rnh0r4go/wheels/cc/c4/d8/5341e93b6376c5c929c49469fce21155eb69cef1a4da4ce32c\r\n",
      "Successfully built tensorflow-docs\r\n",
      "Installing collected packages: astor, tensorflow-docs\r\n",
      "Successfully installed astor-0.8.1 tensorflow-docs-0.0.0.dev0\r\n",
      "\u001b[33mWARNING: Running pip as the 'root' user can result in broken permissions and conflicting behaviour with the system package manager. It is recommended to use a virtual environment instead: https://pip.pypa.io/warnings/venv\u001b[0m\u001b[33m\r\n",
      "\u001b[0m"
     ]
    }
   ],
   "source": [
    "!pip install --upgrade tensorflow\n",
    "\n",
    "!pip install git+https://github.com/tensorflow/docs"
   ]
  },
  {
   "cell_type": "markdown",
   "id": "f2959ece",
   "metadata": {
    "papermill": {
     "duration": 0.036518,
     "end_time": "2022-10-08T14:22:12.487954",
     "exception": false,
     "start_time": "2022-10-08T14:22:12.451436",
     "status": "completed"
    },
    "tags": []
   },
   "source": [
    "### Neccessary Imports\n",
    "\n",
    "* **pandas** - Data analysis and manipulation\n",
    "* **matplotlib** - Plotting graphs and creating visuals\n",
    "* **sklearn** - Basic data preprocessing, splitting dataset and cross validation\n",
    "* **tensorflow** - Modeling neural networks and training them\n",
    "* **tensorflow_docs** - Plot histories neatly"
   ]
  },
  {
   "cell_type": "code",
   "execution_count": 2,
   "id": "a9a7ab55",
   "metadata": {
    "execution": {
     "iopub.execute_input": "2022-10-08T14:22:12.564059Z",
     "iopub.status.busy": "2022-10-08T14:22:12.563596Z",
     "iopub.status.idle": "2022-10-08T14:22:17.882779Z",
     "shell.execute_reply": "2022-10-08T14:22:17.881866Z"
    },
    "papermill": {
     "duration": 5.360477,
     "end_time": "2022-10-08T14:22:17.885576",
     "exception": false,
     "start_time": "2022-10-08T14:22:12.525099",
     "status": "completed"
    },
    "tags": []
   },
   "outputs": [
    {
     "name": "stderr",
     "output_type": "stream",
     "text": [
      "2022-10-08 14:22:13.698310: I tensorflow/core/platform/cpu_feature_guard.cc:193] This TensorFlow binary is optimized with oneAPI Deep Neural Network Library (oneDNN) to use the following CPU instructions in performance-critical operations:  AVX2 FMA\n",
      "To enable them in other operations, rebuild TensorFlow with the appropriate compiler flags.\n",
      "2022-10-08 14:22:13.871147: W tensorflow/stream_executor/platform/default/dso_loader.cc:64] Could not load dynamic library 'libcudart.so.11.0'; dlerror: libcudart.so.11.0: cannot open shared object file: No such file or directory; LD_LIBRARY_PATH: /usr/local/cuda/lib64:/usr/local/cuda/lib:/usr/local/lib/x86_64-linux-gnu:/usr/local/nvidia/lib:/usr/local/nvidia/lib64:\n",
      "2022-10-08 14:22:13.871181: I tensorflow/stream_executor/cuda/cudart_stub.cc:29] Ignore above cudart dlerror if you do not have a GPU set up on your machine.\n",
      "2022-10-08 14:22:13.909905: E tensorflow/stream_executor/cuda/cuda_blas.cc:2981] Unable to register cuBLAS factory: Attempting to register factory for plugin cuBLAS when one has already been registered\n",
      "2022-10-08 14:22:15.016671: W tensorflow/stream_executor/platform/default/dso_loader.cc:64] Could not load dynamic library 'libnvinfer.so.7'; dlerror: libnvinfer.so.7: cannot open shared object file: No such file or directory; LD_LIBRARY_PATH: /usr/local/cuda/lib64:/usr/local/cuda/lib:/usr/local/lib/x86_64-linux-gnu:/usr/local/nvidia/lib:/usr/local/nvidia/lib64:\n",
      "2022-10-08 14:22:15.016875: W tensorflow/stream_executor/platform/default/dso_loader.cc:64] Could not load dynamic library 'libnvinfer_plugin.so.7'; dlerror: libnvinfer_plugin.so.7: cannot open shared object file: No such file or directory; LD_LIBRARY_PATH: /usr/local/cuda/lib64:/usr/local/cuda/lib:/usr/local/lib/x86_64-linux-gnu:/usr/local/nvidia/lib:/usr/local/nvidia/lib64:\n",
      "2022-10-08 14:22:15.016890: W tensorflow/compiler/tf2tensorrt/utils/py_utils.cc:38] TF-TRT Warning: Cannot dlopen some TensorRT libraries. If you would like to use Nvidia GPU with TensorRT, please make sure the missing libraries mentioned above are installed properly.\n"
     ]
    }
   ],
   "source": [
    "import pandas as pd\n",
    "import matplotlib.pyplot as plt\n",
    "\n",
    "from sklearn.model_selection import train_test_split\n",
    "from sklearn import preprocessing\n",
    "from sklearn.model_selection import KFold\n",
    "\n",
    "import tensorflow.keras as keras\n",
    "from tensorflow.keras import Sequential\n",
    "from tensorflow.keras.layers import InputLayer, Dense, Dropout\n",
    "from tensorflow.keras.callbacks import EarlyStopping\n",
    "from tensorflow.keras.optimizers import Adam\n",
    "from tensorflow.keras.regularizers import l2\n",
    "\n",
    "import tensorflow_docs as tfdocs\n",
    "import tensorflow_docs.modeling\n",
    "import tensorflow_docs.plots"
   ]
  },
  {
   "cell_type": "markdown",
   "id": "a2c1991a",
   "metadata": {
    "papermill": {
     "duration": 0.045342,
     "end_time": "2022-10-08T14:22:17.980238",
     "exception": false,
     "start_time": "2022-10-08T14:22:17.934896",
     "status": "completed"
    },
    "tags": []
   },
   "source": [
    "### Setting the seed for reproducability\n",
    "\n",
    ">For this assignment we will be using 42 as the seed"
   ]
  },
  {
   "cell_type": "code",
   "execution_count": 3,
   "id": "42111583",
   "metadata": {
    "execution": {
     "iopub.execute_input": "2022-10-08T14:22:18.077277Z",
     "iopub.status.busy": "2022-10-08T14:22:18.075317Z",
     "iopub.status.idle": "2022-10-08T14:22:18.083382Z",
     "shell.execute_reply": "2022-10-08T14:22:18.082602Z"
    },
    "papermill": {
     "duration": 0.058666,
     "end_time": "2022-10-08T14:22:18.085565",
     "exception": false,
     "start_time": "2022-10-08T14:22:18.026899",
     "status": "completed"
    },
    "tags": []
   },
   "outputs": [],
   "source": [
    "SEED = 42\n",
    "\n",
    "import os\n",
    "os.environ['TF_CUDNN_DETERMINISTIC'] = '1'\n",
    "\n",
    "import random \n",
    "random.seed(SEED)\n",
    "\n",
    "import numpy as np\n",
    "np.random.seed(SEED)\n",
    "\n",
    "import tensorflow as tf\n",
    "tf.random.set_seed(SEED)"
   ]
  },
  {
   "cell_type": "markdown",
   "id": "52adaa87",
   "metadata": {
    "papermill": {
     "duration": 0.036431,
     "end_time": "2022-10-08T14:22:18.160190",
     "exception": false,
     "start_time": "2022-10-08T14:22:18.123759",
     "status": "completed"
    },
    "tags": []
   },
   "source": [
    "### Reading dataset"
   ]
  },
  {
   "cell_type": "code",
   "execution_count": 4,
   "id": "e632d56e",
   "metadata": {
    "execution": {
     "iopub.execute_input": "2022-10-08T14:22:18.236233Z",
     "iopub.status.busy": "2022-10-08T14:22:18.235271Z",
     "iopub.status.idle": "2022-10-08T14:22:23.830344Z",
     "shell.execute_reply": "2022-10-08T14:22:23.829205Z"
    },
    "papermill": {
     "duration": 5.635679,
     "end_time": "2022-10-08T14:22:23.832948",
     "exception": false,
     "start_time": "2022-10-08T14:22:18.197269",
     "status": "completed"
    },
    "tags": []
   },
   "outputs": [
    {
     "data": {
      "text/html": [
       "<div>\n",
       "<style scoped>\n",
       "    .dataframe tbody tr th:only-of-type {\n",
       "        vertical-align: middle;\n",
       "    }\n",
       "\n",
       "    .dataframe tbody tr th {\n",
       "        vertical-align: top;\n",
       "    }\n",
       "\n",
       "    .dataframe thead th {\n",
       "        text-align: right;\n",
       "    }\n",
       "</style>\n",
       "<table border=\"1\" class=\"dataframe\">\n",
       "  <thead>\n",
       "    <tr style=\"text-align: right;\">\n",
       "      <th></th>\n",
       "      <th>filename</th>\n",
       "      <th>tempo</th>\n",
       "      <th>total_beats</th>\n",
       "      <th>average_beats</th>\n",
       "      <th>chroma_stft_mean</th>\n",
       "      <th>chroma_stft_var</th>\n",
       "      <th>chroma_cq_mean</th>\n",
       "      <th>chroma_cq_var</th>\n",
       "      <th>chroma_cens_mean</th>\n",
       "      <th>chroma_cens_var</th>\n",
       "      <th>...</th>\n",
       "      <th>mfcc15_mean</th>\n",
       "      <th>mfcc15_var</th>\n",
       "      <th>mfcc16_mean</th>\n",
       "      <th>mfcc16_var</th>\n",
       "      <th>mfcc17_mean</th>\n",
       "      <th>mfcc17_var</th>\n",
       "      <th>mfcc18_mean</th>\n",
       "      <th>mfcc18_var</th>\n",
       "      <th>mfcc19_mean</th>\n",
       "      <th>mfcc19_var</th>\n",
       "    </tr>\n",
       "  </thead>\n",
       "  <tbody>\n",
       "    <tr>\n",
       "      <th>0</th>\n",
       "      <td>app_3001_4001_phnd_neg_0000.wav</td>\n",
       "      <td>184.570312</td>\n",
       "      <td>623</td>\n",
       "      <td>69.222222</td>\n",
       "      <td>0.515281</td>\n",
       "      <td>0.093347</td>\n",
       "      <td>0.443441</td>\n",
       "      <td>0.082742</td>\n",
       "      <td>0.249143</td>\n",
       "      <td>0.021261</td>\n",
       "      <td>...</td>\n",
       "      <td>-10.669799</td>\n",
       "      <td>63.340282</td>\n",
       "      <td>1.811605</td>\n",
       "      <td>58.117188</td>\n",
       "      <td>-3.286546</td>\n",
       "      <td>54.268448</td>\n",
       "      <td>-2.719069</td>\n",
       "      <td>59.548176</td>\n",
       "      <td>-4.559987</td>\n",
       "      <td>70.774803</td>\n",
       "    </tr>\n",
       "    <tr>\n",
       "      <th>1</th>\n",
       "      <td>app_3001_4001_phnd_neg_0001.wav</td>\n",
       "      <td>151.999081</td>\n",
       "      <td>521</td>\n",
       "      <td>74.428571</td>\n",
       "      <td>0.487201</td>\n",
       "      <td>0.094461</td>\n",
       "      <td>0.542182</td>\n",
       "      <td>0.073359</td>\n",
       "      <td>0.274423</td>\n",
       "      <td>0.008025</td>\n",
       "      <td>...</td>\n",
       "      <td>-5.666375</td>\n",
       "      <td>90.256195</td>\n",
       "      <td>1.573594</td>\n",
       "      <td>105.070496</td>\n",
       "      <td>-0.742024</td>\n",
       "      <td>82.417496</td>\n",
       "      <td>-1.961745</td>\n",
       "      <td>119.312355</td>\n",
       "      <td>1.513660</td>\n",
       "      <td>101.014572</td>\n",
       "    </tr>\n",
       "    <tr>\n",
       "      <th>2</th>\n",
       "      <td>app_3001_4001_phnd_neg_0002.wav</td>\n",
       "      <td>112.347147</td>\n",
       "      <td>1614</td>\n",
       "      <td>146.727273</td>\n",
       "      <td>0.444244</td>\n",
       "      <td>0.099268</td>\n",
       "      <td>0.442014</td>\n",
       "      <td>0.083224</td>\n",
       "      <td>0.264430</td>\n",
       "      <td>0.013410</td>\n",
       "      <td>...</td>\n",
       "      <td>-5.502390</td>\n",
       "      <td>73.079750</td>\n",
       "      <td>0.202623</td>\n",
       "      <td>72.040550</td>\n",
       "      <td>-4.021009</td>\n",
       "      <td>73.844353</td>\n",
       "      <td>-5.916223</td>\n",
       "      <td>103.834824</td>\n",
       "      <td>-2.939086</td>\n",
       "      <td>113.598824</td>\n",
       "    </tr>\n",
       "    <tr>\n",
       "      <th>3</th>\n",
       "      <td>app_3001_4001_phnd_neg_0003.wav</td>\n",
       "      <td>107.666016</td>\n",
       "      <td>2060</td>\n",
       "      <td>158.461538</td>\n",
       "      <td>0.454156</td>\n",
       "      <td>0.100834</td>\n",
       "      <td>0.424370</td>\n",
       "      <td>0.084435</td>\n",
       "      <td>0.257672</td>\n",
       "      <td>0.016938</td>\n",
       "      <td>...</td>\n",
       "      <td>-8.812989</td>\n",
       "      <td>93.791893</td>\n",
       "      <td>-0.429413</td>\n",
       "      <td>60.002579</td>\n",
       "      <td>-4.013513</td>\n",
       "      <td>82.544540</td>\n",
       "      <td>-5.858006</td>\n",
       "      <td>84.402092</td>\n",
       "      <td>0.686969</td>\n",
       "      <td>90.126389</td>\n",
       "    </tr>\n",
       "    <tr>\n",
       "      <th>4</th>\n",
       "      <td>app_3001_4001_phnd_neg_0004.wav</td>\n",
       "      <td>75.999540</td>\n",
       "      <td>66</td>\n",
       "      <td>33.000000</td>\n",
       "      <td>0.478780</td>\n",
       "      <td>0.100000</td>\n",
       "      <td>0.414859</td>\n",
       "      <td>0.089313</td>\n",
       "      <td>0.252143</td>\n",
       "      <td>0.019757</td>\n",
       "      <td>...</td>\n",
       "      <td>-6.584204</td>\n",
       "      <td>64.973305</td>\n",
       "      <td>0.744403</td>\n",
       "      <td>68.908516</td>\n",
       "      <td>-6.354805</td>\n",
       "      <td>66.414391</td>\n",
       "      <td>-6.555534</td>\n",
       "      <td>47.852840</td>\n",
       "      <td>-4.809713</td>\n",
       "      <td>73.033966</td>\n",
       "    </tr>\n",
       "  </tbody>\n",
       "</table>\n",
       "<p>5 rows × 78 columns</p>\n",
       "</div>"
      ],
      "text/plain": [
       "                          filename       tempo  total_beats  average_beats  \\\n",
       "0  app_3001_4001_phnd_neg_0000.wav  184.570312          623      69.222222   \n",
       "1  app_3001_4001_phnd_neg_0001.wav  151.999081          521      74.428571   \n",
       "2  app_3001_4001_phnd_neg_0002.wav  112.347147         1614     146.727273   \n",
       "3  app_3001_4001_phnd_neg_0003.wav  107.666016         2060     158.461538   \n",
       "4  app_3001_4001_phnd_neg_0004.wav   75.999540           66      33.000000   \n",
       "\n",
       "   chroma_stft_mean  chroma_stft_var  chroma_cq_mean  chroma_cq_var  \\\n",
       "0          0.515281         0.093347        0.443441       0.082742   \n",
       "1          0.487201         0.094461        0.542182       0.073359   \n",
       "2          0.444244         0.099268        0.442014       0.083224   \n",
       "3          0.454156         0.100834        0.424370       0.084435   \n",
       "4          0.478780         0.100000        0.414859       0.089313   \n",
       "\n",
       "   chroma_cens_mean  chroma_cens_var  ...  mfcc15_mean  mfcc15_var  \\\n",
       "0          0.249143         0.021261  ...   -10.669799   63.340282   \n",
       "1          0.274423         0.008025  ...    -5.666375   90.256195   \n",
       "2          0.264430         0.013410  ...    -5.502390   73.079750   \n",
       "3          0.257672         0.016938  ...    -8.812989   93.791893   \n",
       "4          0.252143         0.019757  ...    -6.584204   64.973305   \n",
       "\n",
       "   mfcc16_mean  mfcc16_var  mfcc17_mean  mfcc17_var  mfcc18_mean  mfcc18_var  \\\n",
       "0     1.811605   58.117188    -3.286546   54.268448    -2.719069   59.548176   \n",
       "1     1.573594  105.070496    -0.742024   82.417496    -1.961745  119.312355   \n",
       "2     0.202623   72.040550    -4.021009   73.844353    -5.916223  103.834824   \n",
       "3    -0.429413   60.002579    -4.013513   82.544540    -5.858006   84.402092   \n",
       "4     0.744403   68.908516    -6.354805   66.414391    -6.555534   47.852840   \n",
       "\n",
       "   mfcc19_mean  mfcc19_var  \n",
       "0    -4.559987   70.774803  \n",
       "1     1.513660  101.014572  \n",
       "2    -2.939086  113.598824  \n",
       "3     0.686969   90.126389  \n",
       "4    -4.809713   73.033966  \n",
       "\n",
       "[5 rows x 78 columns]"
      ]
     },
     "execution_count": 4,
     "metadata": {},
     "output_type": "execute_result"
    }
   ],
   "source": [
    "df = pd.read_csv('../input/assignment/full.csv') \n",
    "df.head()"
   ]
  },
  {
   "cell_type": "code",
   "execution_count": 5,
   "id": "af7fb914",
   "metadata": {
    "execution": {
     "iopub.execute_input": "2022-10-08T14:22:23.909673Z",
     "iopub.status.busy": "2022-10-08T14:22:23.908461Z",
     "iopub.status.idle": "2022-10-08T14:22:24.676666Z",
     "shell.execute_reply": "2022-10-08T14:22:24.675381Z"
    },
    "papermill": {
     "duration": 0.809563,
     "end_time": "2022-10-08T14:22:24.679544",
     "exception": false,
     "start_time": "2022-10-08T14:22:23.869981",
     "status": "completed"
    },
    "tags": []
   },
   "outputs": [],
   "source": [
    "df['label'] = df['filename'].str.split('_').str[-2]"
   ]
  },
  {
   "cell_type": "code",
   "execution_count": 6,
   "id": "05520d08",
   "metadata": {
    "execution": {
     "iopub.execute_input": "2022-10-08T14:22:24.756361Z",
     "iopub.status.busy": "2022-10-08T14:22:24.755519Z",
     "iopub.status.idle": "2022-10-08T14:22:24.787629Z",
     "shell.execute_reply": "2022-10-08T14:22:24.786446Z"
    },
    "papermill": {
     "duration": 0.073211,
     "end_time": "2022-10-08T14:22:24.789944",
     "exception": false,
     "start_time": "2022-10-08T14:22:24.716733",
     "status": "completed"
    },
    "tags": []
   },
   "outputs": [
    {
     "data": {
      "text/plain": [
       "pos    92826\n",
       "neg    89428\n",
       "Name: label, dtype: int64"
      ]
     },
     "execution_count": 6,
     "metadata": {},
     "output_type": "execute_result"
    }
   ],
   "source": [
    "df['label'].value_counts()"
   ]
  },
  {
   "cell_type": "markdown",
   "id": "b48aaa99",
   "metadata": {
    "papermill": {
     "duration": 0.036943,
     "end_time": "2022-10-08T14:22:24.864237",
     "exception": false,
     "start_time": "2022-10-08T14:22:24.827294",
     "status": "completed"
    },
    "tags": []
   },
   "source": [
    "### Function to preprocess the dataset and split it into train and test"
   ]
  },
  {
   "cell_type": "code",
   "execution_count": 7,
   "id": "417a0dcf",
   "metadata": {
    "execution": {
     "iopub.execute_input": "2022-10-08T14:22:24.940951Z",
     "iopub.status.busy": "2022-10-08T14:22:24.940158Z",
     "iopub.status.idle": "2022-10-08T14:22:24.947755Z",
     "shell.execute_reply": "2022-10-08T14:22:24.946670Z"
    },
    "papermill": {
     "duration": 0.048974,
     "end_time": "2022-10-08T14:22:24.950335",
     "exception": false,
     "start_time": "2022-10-08T14:22:24.901361",
     "status": "completed"
    },
    "tags": []
   },
   "outputs": [],
   "source": [
    "def split_dataset(df, columns_to_drop, test_size, random_state):\n",
    "    label_encoder = preprocessing.LabelEncoder()\n",
    "\n",
    "    df['label'] = label_encoder.fit_transform(df['label'])\n",
    "\n",
    "    df_train, df_test = train_test_split(df, test_size=test_size, random_state=random_state)\n",
    "\n",
    "    df_train2 = df_train.drop(columns_to_drop,axis=1)\n",
    "    y_train2 = df_train['label'].to_numpy()\n",
    "\n",
    "    df_test2 = df_test.drop(columns_to_drop,axis=1)\n",
    "    y_test2 = df_test['label'].to_numpy() \n",
    "\n",
    "    return df_train2, y_train2, df_test2, y_test2"
   ]
  },
  {
   "cell_type": "markdown",
   "id": "a9af9829",
   "metadata": {
    "papermill": {
     "duration": 0.037023,
     "end_time": "2022-10-08T14:22:25.024788",
     "exception": false,
     "start_time": "2022-10-08T14:22:24.987765",
     "status": "completed"
    },
    "tags": []
   },
   "source": [
    "### Function to appropriately scale the dataset"
   ]
  },
  {
   "cell_type": "code",
   "execution_count": 8,
   "id": "09093288",
   "metadata": {
    "execution": {
     "iopub.execute_input": "2022-10-08T14:22:25.101157Z",
     "iopub.status.busy": "2022-10-08T14:22:25.100765Z",
     "iopub.status.idle": "2022-10-08T14:22:25.106236Z",
     "shell.execute_reply": "2022-10-08T14:22:25.105147Z"
    },
    "papermill": {
     "duration": 0.047044,
     "end_time": "2022-10-08T14:22:25.108829",
     "exception": false,
     "start_time": "2022-10-08T14:22:25.061785",
     "status": "completed"
    },
    "tags": []
   },
   "outputs": [],
   "source": [
    "def preprocess_dataset(df_train, df_test):\n",
    "\n",
    "    standard_scaler = preprocessing.StandardScaler()\n",
    "    df_train_scaled = standard_scaler.fit_transform(df_train)\n",
    "\n",
    "    df_test_scaled = standard_scaler.transform(df_test)\n",
    "\n",
    "    return df_train_scaled, df_test_scaled"
   ]
  },
  {
   "cell_type": "markdown",
   "id": "acad0a4a",
   "metadata": {
    "papermill": {
     "duration": 0.038252,
     "end_time": "2022-10-08T14:22:25.184763",
     "exception": false,
     "start_time": "2022-10-08T14:22:25.146511",
     "status": "completed"
    },
    "tags": []
   },
   "source": [
    "### Preprocess and scale the dataset"
   ]
  },
  {
   "cell_type": "code",
   "execution_count": 9,
   "id": "bb405e44",
   "metadata": {
    "execution": {
     "iopub.execute_input": "2022-10-08T14:22:25.262471Z",
     "iopub.status.busy": "2022-10-08T14:22:25.262080Z",
     "iopub.status.idle": "2022-10-08T14:22:25.510503Z",
     "shell.execute_reply": "2022-10-08T14:22:25.509338Z"
    },
    "papermill": {
     "duration": 0.289957,
     "end_time": "2022-10-08T14:22:25.513240",
     "exception": false,
     "start_time": "2022-10-08T14:22:25.223283",
     "status": "completed"
    },
    "tags": []
   },
   "outputs": [],
   "source": [
    "columns_to_drop = ['label','filename']\n",
    "\n",
    "X_train, y_train, X_test, y_test = split_dataset(df, columns_to_drop, test_size=0.3, random_state=0) # positive labels being encoded as 1"
   ]
  },
  {
   "cell_type": "markdown",
   "id": "86064f16",
   "metadata": {
    "papermill": {
     "duration": 0.037416,
     "end_time": "2022-10-08T14:22:25.588483",
     "exception": false,
     "start_time": "2022-10-08T14:22:25.551067",
     "status": "completed"
    },
    "tags": []
   },
   "source": [
    "### Set variables for training\n",
    "* **Number of epochs**: 50\n",
    "* **Number of folds**: 5\n",
    "* **Optimal Batch Size**: 512\n",
    "* **Search space of batch size**: [ 64, 128, 256 ]\n",
    "> Note: The optimal batch size was determined in Part-A, Question 2"
   ]
  },
  {
   "cell_type": "code",
   "execution_count": 10,
   "id": "e6a12cfb",
   "metadata": {
    "execution": {
     "iopub.execute_input": "2022-10-08T14:22:25.665469Z",
     "iopub.status.busy": "2022-10-08T14:22:25.665087Z",
     "iopub.status.idle": "2022-10-08T14:22:25.670355Z",
     "shell.execute_reply": "2022-10-08T14:22:25.669237Z"
    },
    "papermill": {
     "duration": 0.046522,
     "end_time": "2022-10-08T14:22:25.672498",
     "exception": false,
     "start_time": "2022-10-08T14:22:25.625976",
     "status": "completed"
    },
    "tags": []
   },
   "outputs": [],
   "source": [
    "num_epochs = 100\n",
    "\n",
    "num_folds = 5\n",
    "\n",
    "hidden_layers = [64, 128, 256]\n",
    "\n",
    "optimal_batch_size = 512"
   ]
  },
  {
   "cell_type": "markdown",
   "id": "51ef8d7b",
   "metadata": {
    "papermill": {
     "duration": 0.037374,
     "end_time": "2022-10-08T14:22:25.748557",
     "exception": false,
     "start_time": "2022-10-08T14:22:25.711183",
     "status": "completed"
    },
    "tags": []
   },
   "source": [
    "### Create model architecture based on specifications\n",
    ">The function takes an additional argument - **hidden_layer_size** which is the size of the first hidden layer. The remaining hidden layers have a size of 128 neurons"
   ]
  },
  {
   "cell_type": "code",
   "execution_count": 11,
   "id": "e33ddf08",
   "metadata": {
    "execution": {
     "iopub.execute_input": "2022-10-08T14:22:25.827460Z",
     "iopub.status.busy": "2022-10-08T14:22:25.826889Z",
     "iopub.status.idle": "2022-10-08T14:22:25.834437Z",
     "shell.execute_reply": "2022-10-08T14:22:25.833350Z"
    },
    "papermill": {
     "duration": 0.050558,
     "end_time": "2022-10-08T14:22:25.836717",
     "exception": false,
     "start_time": "2022-10-08T14:22:25.786159",
     "status": "completed"
    },
    "tags": []
   },
   "outputs": [],
   "source": [
    "def create_model(input_shape, hidden_layer_size):\n",
    "    \n",
    "    num_neurons = 128\n",
    "    \n",
    "    model = Sequential([\n",
    "        InputLayer(input_shape=(input_shape,)),\n",
    "        Dense(hidden_layer_size, activation='relu'),\n",
    "        Dropout(0.2),\n",
    "        Dense(num_neurons, activation='relu'),\n",
    "        Dropout(0.2),\n",
    "        Dense(num_neurons, activation='relu'),\n",
    "        Dropout(0.2),\n",
    "        Dense(1, activation='sigmoid')\n",
    "    ])\n",
    "\n",
    "    optimizer = Adam(learning_rate=0.001)\n",
    "\n",
    "    model.compile(\n",
    "            optimizer=optimizer,\n",
    "            loss='binary_crossentropy',\n",
    "            metrics=['accuracy']\n",
    "        )\n",
    "    \n",
    "    return model"
   ]
  },
  {
   "cell_type": "markdown",
   "id": "fd6834a9",
   "metadata": {
    "papermill": {
     "duration": 0.037651,
     "end_time": "2022-10-08T14:22:25.911854",
     "exception": false,
     "start_time": "2022-10-08T14:22:25.874203",
     "status": "completed"
    },
    "tags": []
   },
   "source": [
    "## Part A\n",
    ">Plot the mean cross-validation accuracies on the final epoch for different\n",
    "numbers of hidden-layer neurons using a scatter plot. Limit the search space of the\n",
    "number of neurons to {64, 128, 256}. "
   ]
  },
  {
   "cell_type": "markdown",
   "id": "3cb30d5c",
   "metadata": {
    "papermill": {
     "duration": 0.036906,
     "end_time": "2022-10-08T14:22:25.986156",
     "exception": false,
     "start_time": "2022-10-08T14:22:25.949250",
     "status": "completed"
    },
    "tags": []
   },
   "source": [
    "### Hyperparamter tuning with 5-Fold Cross Validation\n",
    "> For each batch size we perform a 5-Fold cross validation and report the mean validation accuracy. In my experiment, I have chosen the outer loop to iterate through the hidden layer size space and the inner loop performs the 5-Fold Cross Validation. I wanted each hidden layer size to be its own experiment. Note that you can reverse the loop order and train for each hidden layer size on the same fold. Since I am using a seed, the cross validation split should be the same and both methods must give the same answer.\n",
    "\n",
    "> **Scaling** <br>\n",
    "The scaling is performed in the Cross Validation loop and the scalar is fit only on the training fold and not the validation fold. This is done to prevent data leakage and it does not include the validation set when calculating the statistics for the training set."
   ]
  },
  {
   "cell_type": "code",
   "execution_count": 12,
   "id": "bc697aae",
   "metadata": {
    "execution": {
     "iopub.execute_input": "2022-10-08T14:22:26.063044Z",
     "iopub.status.busy": "2022-10-08T14:22:26.062595Z",
     "iopub.status.idle": "2022-10-08T14:48:56.842213Z",
     "shell.execute_reply": "2022-10-08T14:48:56.840812Z"
    },
    "papermill": {
     "duration": 1590.86001,
     "end_time": "2022-10-08T14:48:56.883473",
     "exception": false,
     "start_time": "2022-10-08T14:22:26.023463",
     "status": "completed"
    },
    "tags": []
   },
   "outputs": [
    {
     "name": "stdout",
     "output_type": "stream",
     "text": [
      "Hidden Layer Size 64\n"
     ]
    },
    {
     "name": "stderr",
     "output_type": "stream",
     "text": [
      "2022-10-08 14:22:26.309281: W tensorflow/stream_executor/platform/default/dso_loader.cc:64] Could not load dynamic library 'libcuda.so.1'; dlerror: libcuda.so.1: cannot open shared object file: No such file or directory; LD_LIBRARY_PATH: /usr/local/cuda/lib64:/usr/local/cuda/lib:/usr/local/lib/x86_64-linux-gnu:/usr/local/nvidia/lib:/usr/local/nvidia/lib64:\n",
      "2022-10-08 14:22:26.309324: W tensorflow/stream_executor/cuda/cuda_driver.cc:263] failed call to cuInit: UNKNOWN ERROR (303)\n",
      "2022-10-08 14:22:26.309353: I tensorflow/stream_executor/cuda/cuda_diagnostics.cc:156] kernel driver does not appear to be running on this host (699353cd4744): /proc/driver/nvidia/version does not exist\n",
      "2022-10-08 14:22:26.309675: I tensorflow/core/platform/cpu_feature_guard.cc:193] This TensorFlow binary is optimized with oneAPI Deep Neural Network Library (oneDNN) to use the following CPU instructions in performance-critical operations:  AVX2 FMA\n",
      "To enable them in other operations, rebuild TensorFlow with the appropriate compiler flags.\n"
     ]
    },
    {
     "name": "stdout",
     "output_type": "stream",
     "text": [
      "Hidden Layer Size 64 | fold 0 | validation accuracy 0.6285467743873596\n",
      "Hidden Layer Size 64 | fold 1 | validation accuracy 0.6148298978805542\n",
      "Hidden Layer Size 64 | fold 2 | validation accuracy 0.6285322308540344\n",
      "Hidden Layer Size 64 | fold 3 | validation accuracy 0.6284146308898926\n",
      "Hidden Layer Size 64 | fold 4 | validation accuracy 0.614814817905426\n",
      "* mean accuracy = 0.623028 *\n",
      "Hidden Layer Size 128\n",
      "Hidden Layer Size 128 | fold 0 | validation accuracy 0.6425380110740662\n",
      "Hidden Layer Size 128 | fold 1 | validation accuracy 0.6485734581947327\n",
      "Hidden Layer Size 128 | fold 2 | validation accuracy 0.6571820378303528\n",
      "Hidden Layer Size 128 | fold 3 | validation accuracy 0.6525965332984924\n",
      "Hidden Layer Size 128 | fold 4 | validation accuracy 0.6601998805999756\n",
      "* mean accuracy = 0.652218 *\n",
      "Hidden Layer Size 256\n",
      "Hidden Layer Size 256 | fold 0 | validation accuracy 0.674439549446106\n",
      "Hidden Layer Size 256 | fold 1 | validation accuracy 0.6795735955238342\n",
      "Hidden Layer Size 256 | fold 2 | validation accuracy 0.6815990805625916\n",
      "Hidden Layer Size 256 | fold 3 | validation accuracy 0.6779541373252869\n",
      "Hidden Layer Size 256 | fold 4 | validation accuracy 0.6775622367858887\n",
      "* mean accuracy = 0.678226 *\n"
     ]
    }
   ],
   "source": [
    "input_shape = X_train.shape[1]\n",
    "\n",
    "hidden_layers_acc = {}\n",
    "\n",
    "for hidden_layer_neurons in hidden_layers:\n",
    "    print(f'Hidden Layer Size {hidden_layer_neurons}')\n",
    "    fold = 0\n",
    "    acc = []\n",
    "    cv = KFold(n_splits=num_folds, shuffle=True, random_state=SEED)\n",
    "\n",
    "    for i, (train_idx, val_idx) in enumerate(cv.split(X_train, y_train)):\n",
    "        \n",
    "        X_train_copy, y_train_copy  = X_train.iloc[train_idx], y_train[train_idx]\n",
    "        X_val, y_val = X_train.iloc[val_idx], y_train[val_idx]\n",
    "\n",
    "        X_train_copy_scaled, X_val_scaled = preprocess_dataset(X_train_copy, X_val)\n",
    "        \n",
    "        model = create_model(input_shape, hidden_layer_neurons)\n",
    "\n",
    "        optimizer = Adam(learning_rate=0.001)\n",
    "\n",
    "        model.compile(optimizer=optimizer,\n",
    "                        loss='binary_crossentropy',\n",
    "                        metrics=['accuracy'])\n",
    "\n",
    "        early_stopping_callback = EarlyStopping(monitor='val_loss', patience=3)\n",
    "            \n",
    "        history = model.fit(X_train_copy_scaled, y_train_copy,\n",
    "                            epochs=num_epochs,\n",
    "                            verbose=0,\n",
    "                            batch_size=optimal_batch_size,\n",
    "                            use_multiprocessing=False,\n",
    "                            validation_data=(X_val_scaled, y_val),\n",
    "                            callbacks=[early_stopping_callback] \n",
    "                        )\n",
    "        \n",
    "        acc.append(history.history['val_accuracy'][-1])\n",
    "        \n",
    "        print(f'Hidden Layer Size {hidden_layer_neurons} | fold {fold} | validation accuracy {acc[fold]}')\n",
    "        fold += 1\n",
    "        \n",
    "    print('* mean accuracy = %g *'% np.mean(acc))\n",
    "    hidden_layers_acc[hidden_layer_neurons] = np.mean(acc)"
   ]
  },
  {
   "cell_type": "markdown",
   "id": "846276f1",
   "metadata": {
    "papermill": {
     "duration": 0.039295,
     "end_time": "2022-10-08T14:48:56.962042",
     "exception": false,
     "start_time": "2022-10-08T14:48:56.922747",
     "status": "completed"
    },
    "tags": []
   },
   "source": [
    "### Scatter plot of mean cross-validation accuracies on the final epoch for different batch sizes "
   ]
  },
  {
   "cell_type": "code",
   "execution_count": 13,
   "id": "00cea2a3",
   "metadata": {
    "execution": {
     "iopub.execute_input": "2022-10-08T14:48:57.042686Z",
     "iopub.status.busy": "2022-10-08T14:48:57.042258Z",
     "iopub.status.idle": "2022-10-08T14:49:25.124829Z",
     "shell.execute_reply": "2022-10-08T14:49:25.123660Z"
    },
    "papermill": {
     "duration": 28.125766,
     "end_time": "2022-10-08T14:49:25.127363",
     "exception": false,
     "start_time": "2022-10-08T14:48:57.001597",
     "status": "completed"
    },
    "tags": []
   },
   "outputs": [
    {
     "data": {
      "image/png": "[encoded data removed]",
      "text/plain": [
       "<Figure size 432x288 with 1 Axes>"
      ]
     },
     "metadata": {
      "needs_background": "light"
     },
     "output_type": "display_data"
    }
   ],
   "source": [
    "fig, ax = plt.subplots()\n",
    "ax.scatter([str(hidden_layers) for hidden_layers in hidden_layers_acc.keys()], hidden_layers_acc.values(),  marker = 'x')\n",
    "plt.xlabel('Num neurons in 1st Hidden Layer')\n",
    "plt.ylabel('Mean cross-validation accuracy')\n",
    "plt.show()"
   ]
  },
  {
   "cell_type": "markdown",
   "id": "b081a8c6",
   "metadata": {
    "papermill": {
     "duration": 0.039572,
     "end_time": "2022-10-08T14:49:25.206325",
     "exception": false,
     "start_time": "2022-10-08T14:49:25.166753",
     "status": "completed"
    },
    "tags": []
   },
   "source": [
    "### Observations\n",
    ">The cross validation accuracy inceases as the number of neurons in the first hidden layer increases. This is because each neuron tries to learn a relationship between the features and learns more features. The approximation of the function improves leading to better results."
   ]
  },
  {
   "cell_type": "markdown",
   "id": "217ad98c",
   "metadata": {
    "papermill": {
     "duration": 0.039372,
     "end_time": "2022-10-08T14:49:25.285163",
     "exception": false,
     "start_time": "2022-10-08T14:49:25.245791",
     "status": "completed"
    },
    "tags": []
   },
   "source": [
    "## Part B\n",
    ">Select the optimal number of neurons for the hidden layer. State the rationale\n",
    "for your selection."
   ]
  },
  {
   "cell_type": "markdown",
   "id": "07eb4c93",
   "metadata": {
    "papermill": {
     "duration": 0.038965,
     "end_time": "2022-10-08T14:49:25.363529",
     "exception": false,
     "start_time": "2022-10-08T14:49:25.324564",
     "status": "completed"
    },
    "tags": []
   },
   "source": [
    "### Selection of optimal number of neurons\n",
    "> To select the optimal number of neurons we need to analyze the tradeoff between accuracy and the computation cost. As the number of neurons increases, the accuracy improves, but this results in more computations. Since the assignment is fairly small and increasing number of neurons doesnt drastically affect training time, the optimal number of neurons was selected solely based on cross validation accuracy\n",
    "<br>\n",
    "**Optimal Number of Neurons in first hidden layer = 256**"
   ]
  },
  {
   "cell_type": "code",
   "execution_count": 14,
   "id": "fd12e480",
   "metadata": {
    "execution": {
     "iopub.execute_input": "2022-10-08T14:49:25.446684Z",
     "iopub.status.busy": "2022-10-08T14:49:25.445868Z",
     "iopub.status.idle": "2022-10-08T14:49:25.452637Z",
     "shell.execute_reply": "2022-10-08T14:49:25.451480Z"
    },
    "papermill": {
     "duration": 0.050725,
     "end_time": "2022-10-08T14:49:25.454881",
     "exception": false,
     "start_time": "2022-10-08T14:49:25.404156",
     "status": "completed"
    },
    "tags": []
   },
   "outputs": [
    {
     "name": "stdout",
     "output_type": "stream",
     "text": [
      "Optimal Hidden Layer Size of 1st layer: 256\n"
     ]
    }
   ],
   "source": [
    "optimal_hidden_layer_size = max(hidden_layers_acc, key=hidden_layers_acc.get)\n",
    "print(f'Optimal Hidden Layer Size of 1st layer: {optimal_hidden_layer_size}')"
   ]
  },
  {
   "cell_type": "code",
   "execution_count": 15,
   "id": "0897239a",
   "metadata": {
    "execution": {
     "iopub.execute_input": "2022-10-08T14:49:25.536923Z",
     "iopub.status.busy": "2022-10-08T14:49:25.536490Z",
     "iopub.status.idle": "2022-10-08T14:49:25.541271Z",
     "shell.execute_reply": "2022-10-08T14:49:25.540069Z"
    },
    "papermill": {
     "duration": 0.049237,
     "end_time": "2022-10-08T14:49:25.543666",
     "exception": false,
     "start_time": "2022-10-08T14:49:25.494429",
     "status": "completed"
    },
    "tags": []
   },
   "outputs": [],
   "source": [
    "# Dictionary to save histories of different models\n",
    "histories = {}"
   ]
  },
  {
   "cell_type": "markdown",
   "id": "169ae16d",
   "metadata": {
    "papermill": {
     "duration": 0.039635,
     "end_time": "2022-10-08T14:49:25.623017",
     "exception": false,
     "start_time": "2022-10-08T14:49:25.583382",
     "status": "completed"
    },
    "tags": []
   },
   "source": [
    "## Part C\n",
    ">Plot the train and test accuracies against training epochs with the optimal\n",
    "number of neurons using a line plot"
   ]
  },
  {
   "cell_type": "markdown",
   "id": "c36a1b49",
   "metadata": {
    "papermill": {
     "duration": 0.039334,
     "end_time": "2022-10-08T14:49:25.702597",
     "exception": false,
     "start_time": "2022-10-08T14:49:25.663263",
     "status": "completed"
    },
    "tags": []
   },
   "source": [
    "### Training model on entire training set with optimal hidden layer size"
   ]
  },
  {
   "cell_type": "code",
   "execution_count": 16,
   "id": "dc6a5701",
   "metadata": {
    "execution": {
     "iopub.execute_input": "2022-10-08T14:49:25.784881Z",
     "iopub.status.busy": "2022-10-08T14:49:25.784104Z",
     "iopub.status.idle": "2022-10-08T14:52:25.779842Z",
     "shell.execute_reply": "2022-10-08T14:52:25.778774Z"
    },
    "papermill": {
     "duration": 180.040093,
     "end_time": "2022-10-08T14:52:25.782546",
     "exception": false,
     "start_time": "2022-10-08T14:49:25.742453",
     "status": "completed"
    },
    "tags": []
   },
   "outputs": [
    {
     "name": "stdout",
     "output_type": "stream",
     "text": [
      "Epoch 1/100\n",
      "250/250 [==============================] - 3s 10ms/step - loss: 0.6898 - accuracy: 0.5368 - val_loss: 0.6849 - val_accuracy: 0.5495\n",
      "Epoch 2/100\n",
      "250/250 [==============================] - 3s 10ms/step - loss: 0.6831 - accuracy: 0.5537 - val_loss: 0.6807 - val_accuracy: 0.5580\n",
      "Epoch 3/100\n",
      "250/250 [==============================] - 2s 9ms/step - loss: 0.6793 - accuracy: 0.5616 - val_loss: 0.6803 - val_accuracy: 0.5588\n",
      "Epoch 4/100\n",
      "250/250 [==============================] - 2s 10ms/step - loss: 0.6763 - accuracy: 0.5685 - val_loss: 0.6743 - val_accuracy: 0.5712\n",
      "Epoch 5/100\n",
      "250/250 [==============================] - 2s 10ms/step - loss: 0.6717 - accuracy: 0.5770 - val_loss: 0.6713 - val_accuracy: 0.5784\n",
      "Epoch 6/100\n",
      "250/250 [==============================] - 2s 10ms/step - loss: 0.6672 - accuracy: 0.5854 - val_loss: 0.6684 - val_accuracy: 0.5839\n",
      "Epoch 7/100\n",
      "250/250 [==============================] - 2s 10ms/step - loss: 0.6624 - accuracy: 0.5926 - val_loss: 0.6623 - val_accuracy: 0.5899\n",
      "Epoch 8/100\n",
      "250/250 [==============================] - 2s 10ms/step - loss: 0.6565 - accuracy: 0.6012 - val_loss: 0.6572 - val_accuracy: 0.6007\n",
      "Epoch 9/100\n",
      "250/250 [==============================] - 2s 10ms/step - loss: 0.6515 - accuracy: 0.6083 - val_loss: 0.6529 - val_accuracy: 0.6069\n",
      "Epoch 10/100\n",
      "250/250 [==============================] - 2s 10ms/step - loss: 0.6455 - accuracy: 0.6166 - val_loss: 0.6488 - val_accuracy: 0.6122\n",
      "Epoch 11/100\n",
      "250/250 [==============================] - 2s 10ms/step - loss: 0.6402 - accuracy: 0.6217 - val_loss: 0.6443 - val_accuracy: 0.6190\n",
      "Epoch 12/100\n",
      "250/250 [==============================] - 2s 10ms/step - loss: 0.6341 - accuracy: 0.6295 - val_loss: 0.6392 - val_accuracy: 0.6223\n",
      "Epoch 13/100\n",
      "250/250 [==============================] - 2s 10ms/step - loss: 0.6292 - accuracy: 0.6356 - val_loss: 0.6337 - val_accuracy: 0.6297\n",
      "Epoch 14/100\n",
      "250/250 [==============================] - 2s 10ms/step - loss: 0.6242 - accuracy: 0.6400 - val_loss: 0.6293 - val_accuracy: 0.6330\n",
      "Epoch 15/100\n",
      "250/250 [==============================] - 3s 11ms/step - loss: 0.6201 - accuracy: 0.6444 - val_loss: 0.6268 - val_accuracy: 0.6375\n",
      "Epoch 16/100\n",
      "250/250 [==============================] - 2s 10ms/step - loss: 0.6154 - accuracy: 0.6483 - val_loss: 0.6227 - val_accuracy: 0.6436\n",
      "Epoch 17/100\n",
      "250/250 [==============================] - 3s 10ms/step - loss: 0.6107 - accuracy: 0.6538 - val_loss: 0.6215 - val_accuracy: 0.6438\n",
      "Epoch 18/100\n",
      "250/250 [==============================] - 2s 10ms/step - loss: 0.6060 - accuracy: 0.6571 - val_loss: 0.6169 - val_accuracy: 0.6485\n",
      "Epoch 19/100\n",
      "250/250 [==============================] - 2s 10ms/step - loss: 0.6014 - accuracy: 0.6617 - val_loss: 0.6139 - val_accuracy: 0.6525\n",
      "Epoch 20/100\n",
      "250/250 [==============================] - 2s 10ms/step - loss: 0.5990 - accuracy: 0.6644 - val_loss: 0.6119 - val_accuracy: 0.6530\n",
      "Epoch 21/100\n",
      "250/250 [==============================] - 2s 10ms/step - loss: 0.5952 - accuracy: 0.6695 - val_loss: 0.6112 - val_accuracy: 0.6522\n",
      "Epoch 22/100\n",
      "250/250 [==============================] - 3s 10ms/step - loss: 0.5913 - accuracy: 0.6714 - val_loss: 0.6070 - val_accuracy: 0.6570\n",
      "Epoch 23/100\n",
      "250/250 [==============================] - 2s 10ms/step - loss: 0.5881 - accuracy: 0.6768 - val_loss: 0.6036 - val_accuracy: 0.6611\n",
      "Epoch 24/100\n",
      "250/250 [==============================] - 2s 10ms/step - loss: 0.5857 - accuracy: 0.6766 - val_loss: 0.6028 - val_accuracy: 0.6602\n",
      "Epoch 25/100\n",
      "250/250 [==============================] - 2s 10ms/step - loss: 0.5830 - accuracy: 0.6795 - val_loss: 0.6009 - val_accuracy: 0.6646\n",
      "Epoch 26/100\n",
      "250/250 [==============================] - 2s 10ms/step - loss: 0.5795 - accuracy: 0.6833 - val_loss: 0.5993 - val_accuracy: 0.6645\n",
      "Epoch 27/100\n",
      "250/250 [==============================] - 3s 10ms/step - loss: 0.5774 - accuracy: 0.6852 - val_loss: 0.5973 - val_accuracy: 0.6677\n",
      "Epoch 28/100\n",
      "250/250 [==============================] - 3s 10ms/step - loss: 0.5748 - accuracy: 0.6879 - val_loss: 0.5957 - val_accuracy: 0.6674\n",
      "Epoch 29/100\n",
      "250/250 [==============================] - 2s 10ms/step - loss: 0.5707 - accuracy: 0.6921 - val_loss: 0.5921 - val_accuracy: 0.6721\n",
      "Epoch 30/100\n",
      "250/250 [==============================] - 3s 10ms/step - loss: 0.5704 - accuracy: 0.6920 - val_loss: 0.5946 - val_accuracy: 0.6715\n",
      "Epoch 31/100\n",
      "250/250 [==============================] - 3s 10ms/step - loss: 0.5685 - accuracy: 0.6921 - val_loss: 0.5933 - val_accuracy: 0.6699\n",
      "Epoch 32/100\n",
      "250/250 [==============================] - 3s 10ms/step - loss: 0.5644 - accuracy: 0.6953 - val_loss: 0.5920 - val_accuracy: 0.6721\n",
      "Epoch 33/100\n",
      "250/250 [==============================] - 2s 10ms/step - loss: 0.5639 - accuracy: 0.6953 - val_loss: 0.5893 - val_accuracy: 0.6729\n",
      "Epoch 34/100\n",
      "250/250 [==============================] - 2s 10ms/step - loss: 0.5609 - accuracy: 0.6982 - val_loss: 0.5876 - val_accuracy: 0.6756\n",
      "Epoch 35/100\n",
      "250/250 [==============================] - 3s 10ms/step - loss: 0.5576 - accuracy: 0.7002 - val_loss: 0.5864 - val_accuracy: 0.6744\n",
      "Epoch 36/100\n",
      "250/250 [==============================] - 2s 10ms/step - loss: 0.5570 - accuracy: 0.7031 - val_loss: 0.5865 - val_accuracy: 0.6789\n",
      "Epoch 37/100\n",
      "250/250 [==============================] - 2s 10ms/step - loss: 0.5558 - accuracy: 0.7025 - val_loss: 0.5831 - val_accuracy: 0.6790\n",
      "Epoch 38/100\n",
      "250/250 [==============================] - 2s 9ms/step - loss: 0.5538 - accuracy: 0.7038 - val_loss: 0.5821 - val_accuracy: 0.6818\n",
      "Epoch 39/100\n",
      "250/250 [==============================] - 2s 9ms/step - loss: 0.5513 - accuracy: 0.7063 - val_loss: 0.5823 - val_accuracy: 0.6796\n",
      "Epoch 40/100\n",
      "250/250 [==============================] - 3s 11ms/step - loss: 0.5495 - accuracy: 0.7076 - val_loss: 0.5790 - val_accuracy: 0.6826\n",
      "Epoch 41/100\n",
      "250/250 [==============================] - 2s 10ms/step - loss: 0.5478 - accuracy: 0.7080 - val_loss: 0.5799 - val_accuracy: 0.6833\n",
      "Epoch 42/100\n",
      "250/250 [==============================] - 2s 10ms/step - loss: 0.5465 - accuracy: 0.7100 - val_loss: 0.5775 - val_accuracy: 0.6844\n",
      "Epoch 43/100\n",
      "250/250 [==============================] - 3s 10ms/step - loss: 0.5466 - accuracy: 0.7104 - val_loss: 0.5768 - val_accuracy: 0.6840\n",
      "Epoch 44/100\n",
      "250/250 [==============================] - 2s 10ms/step - loss: 0.5441 - accuracy: 0.7107 - val_loss: 0.5772 - val_accuracy: 0.6846\n",
      "Epoch 45/100\n",
      "250/250 [==============================] - 2s 10ms/step - loss: 0.5428 - accuracy: 0.7125 - val_loss: 0.5774 - val_accuracy: 0.6855\n",
      "Epoch 46/100\n",
      "250/250 [==============================] - 2s 10ms/step - loss: 0.5412 - accuracy: 0.7134 - val_loss: 0.5767 - val_accuracy: 0.6866\n",
      "Epoch 47/100\n",
      "250/250 [==============================] - 2s 10ms/step - loss: 0.5397 - accuracy: 0.7166 - val_loss: 0.5764 - val_accuracy: 0.6846\n",
      "Epoch 48/100\n",
      "250/250 [==============================] - 2s 10ms/step - loss: 0.5366 - accuracy: 0.7173 - val_loss: 0.5744 - val_accuracy: 0.6869\n",
      "Epoch 49/100\n",
      "250/250 [==============================] - 2s 10ms/step - loss: 0.5380 - accuracy: 0.7180 - val_loss: 0.5750 - val_accuracy: 0.6859\n",
      "Epoch 50/100\n",
      "250/250 [==============================] - 2s 9ms/step - loss: 0.5380 - accuracy: 0.7162 - val_loss: 0.5737 - val_accuracy: 0.6864\n",
      "Epoch 51/100\n",
      "250/250 [==============================] - 2s 9ms/step - loss: 0.5350 - accuracy: 0.7198 - val_loss: 0.5719 - val_accuracy: 0.6890\n",
      "Epoch 52/100\n",
      "250/250 [==============================] - 2s 10ms/step - loss: 0.5343 - accuracy: 0.7190 - val_loss: 0.5729 - val_accuracy: 0.6881\n",
      "Epoch 53/100\n",
      "250/250 [==============================] - 3s 11ms/step - loss: 0.5329 - accuracy: 0.7201 - val_loss: 0.5715 - val_accuracy: 0.6886\n",
      "Epoch 54/100\n",
      "250/250 [==============================] - 2s 10ms/step - loss: 0.5312 - accuracy: 0.7208 - val_loss: 0.5698 - val_accuracy: 0.6916\n",
      "Epoch 55/100\n",
      "250/250 [==============================] - 3s 10ms/step - loss: 0.5313 - accuracy: 0.7227 - val_loss: 0.5710 - val_accuracy: 0.6886\n",
      "Epoch 56/100\n",
      "250/250 [==============================] - 3s 10ms/step - loss: 0.5307 - accuracy: 0.7240 - val_loss: 0.5691 - val_accuracy: 0.6921\n",
      "Epoch 57/100\n",
      "250/250 [==============================] - 2s 10ms/step - loss: 0.5272 - accuracy: 0.7258 - val_loss: 0.5707 - val_accuracy: 0.6905\n",
      "Epoch 58/100\n",
      "250/250 [==============================] - 3s 10ms/step - loss: 0.5285 - accuracy: 0.7247 - val_loss: 0.5689 - val_accuracy: 0.6921\n",
      "Epoch 59/100\n",
      "250/250 [==============================] - 3s 10ms/step - loss: 0.5273 - accuracy: 0.7254 - val_loss: 0.5684 - val_accuracy: 0.6911\n",
      "Epoch 60/100\n",
      "250/250 [==============================] - 2s 10ms/step - loss: 0.5267 - accuracy: 0.7278 - val_loss: 0.5693 - val_accuracy: 0.6925\n",
      "Epoch 61/100\n",
      "250/250 [==============================] - 2s 10ms/step - loss: 0.5238 - accuracy: 0.7292 - val_loss: 0.5680 - val_accuracy: 0.6915\n",
      "Epoch 62/100\n",
      "250/250 [==============================] - 2s 10ms/step - loss: 0.5240 - accuracy: 0.7266 - val_loss: 0.5688 - val_accuracy: 0.6922\n",
      "Epoch 63/100\n",
      "250/250 [==============================] - 2s 10ms/step - loss: 0.5233 - accuracy: 0.7275 - val_loss: 0.5664 - val_accuracy: 0.6968\n",
      "Epoch 64/100\n",
      "250/250 [==============================] - 2s 9ms/step - loss: 0.5201 - accuracy: 0.7316 - val_loss: 0.5675 - val_accuracy: 0.6924\n",
      "Epoch 65/100\n",
      "250/250 [==============================] - 3s 11ms/step - loss: 0.5206 - accuracy: 0.7302 - val_loss: 0.5671 - val_accuracy: 0.6946\n",
      "Epoch 66/100\n",
      "250/250 [==============================] - 3s 10ms/step - loss: 0.5212 - accuracy: 0.7298 - val_loss: 0.5661 - val_accuracy: 0.6948\n",
      "Epoch 67/100\n",
      "250/250 [==============================] - 2s 10ms/step - loss: 0.5199 - accuracy: 0.7299 - val_loss: 0.5671 - val_accuracy: 0.6930\n",
      "Epoch 68/100\n",
      "250/250 [==============================] - 3s 10ms/step - loss: 0.5172 - accuracy: 0.7326 - val_loss: 0.5648 - val_accuracy: 0.6943\n",
      "Epoch 69/100\n",
      "250/250 [==============================] - 2s 10ms/step - loss: 0.5167 - accuracy: 0.7338 - val_loss: 0.5645 - val_accuracy: 0.6951\n",
      "Epoch 70/100\n",
      "250/250 [==============================] - 2s 10ms/step - loss: 0.5174 - accuracy: 0.7320 - val_loss: 0.5655 - val_accuracy: 0.6950\n",
      "Epoch 71/100\n",
      "250/250 [==============================] - 3s 10ms/step - loss: 0.5161 - accuracy: 0.7334 - val_loss: 0.5655 - val_accuracy: 0.6948\n",
      "Epoch 72/100\n",
      "250/250 [==============================] - 3s 10ms/step - loss: 0.5161 - accuracy: 0.7339 - val_loss: 0.5653 - val_accuracy: 0.6933\n"
     ]
    }
   ],
   "source": [
    "X_train_scaled, X_test_scaled = preprocess_dataset(X_train, X_test)\n",
    "\n",
    "model = create_model(input_shape, optimal_hidden_layer_size)\n",
    "\n",
    "early_stopping_callback = EarlyStopping(monitor='val_loss', patience=3)\n",
    "    \n",
    "history = model.fit(X_train_scaled, y_train,\n",
    "                    epochs=num_epochs,\n",
    "                    verbose=1,\n",
    "                    batch_size=optimal_batch_size,\n",
    "                    use_multiprocessing=False,\n",
    "                    validation_data=(X_test_scaled, y_test),\n",
    "                    callbacks=[early_stopping_callback] \n",
    "                )\n",
    "\n",
    "histories['non_regularized'] = history"
   ]
  },
  {
   "cell_type": "markdown",
   "id": "4b671dda",
   "metadata": {
    "papermill": {
     "duration": 0.237437,
     "end_time": "2022-10-08T14:52:26.256649",
     "exception": false,
     "start_time": "2022-10-08T14:52:26.019212",
     "status": "completed"
    },
    "tags": []
   },
   "source": [
    "## Plot of train and test accuracies"
   ]
  },
  {
   "cell_type": "code",
   "execution_count": 17,
   "id": "3e4aca0a",
   "metadata": {
    "execution": {
     "iopub.execute_input": "2022-10-08T14:52:26.719262Z",
     "iopub.status.busy": "2022-10-08T14:52:26.718849Z",
     "iopub.status.idle": "2022-10-08T14:52:48.934743Z",
     "shell.execute_reply": "2022-10-08T14:52:48.933574Z"
    },
    "papermill": {
     "duration": 22.448099,
     "end_time": "2022-10-08T14:52:48.937259",
     "exception": false,
     "start_time": "2022-10-08T14:52:26.489160",
     "status": "completed"
    },
    "tags": []
   },
   "outputs": [
    {
     "data": {
      "text/plain": [
       "<matplotlib.legend.Legend at 0x7fde1a05fd90>"
      ]
     },
     "execution_count": 17,
     "metadata": {},
     "output_type": "execute_result"
    },
    {
     "data": {
      "image/png": "[encoded data removed]",
      "text/plain": [
       "<Figure size 432x288 with 1 Axes>"
      ]
     },
     "metadata": {
      "needs_background": "light"
     },
     "output_type": "display_data"
    }
   ],
   "source": [
    "plt.figure()\n",
    "plt.plot(history.history['accuracy'])\n",
    "plt.plot(history.history['val_accuracy'])\n",
    "plt.title('model accuracy')\n",
    "plt.ylabel('accuracy')\n",
    "plt.xlabel('epoch')\n",
    "plt.legend(['train', 'test'], loc='upper left')"
   ]
  },
  {
   "cell_type": "markdown",
   "id": "9f157585",
   "metadata": {
    "papermill": {
     "duration": 0.234918,
     "end_time": "2022-10-08T14:52:49.402387",
     "exception": false,
     "start_time": "2022-10-08T14:52:49.167469",
     "status": "completed"
    },
    "tags": []
   },
   "source": [
    "## Plot of train and test losses"
   ]
  },
  {
   "cell_type": "code",
   "execution_count": 18,
   "id": "c6059170",
   "metadata": {
    "execution": {
     "iopub.execute_input": "2022-10-08T14:52:49.930991Z",
     "iopub.status.busy": "2022-10-08T14:52:49.930571Z",
     "iopub.status.idle": "2022-10-08T14:52:50.180484Z",
     "shell.execute_reply": "2022-10-08T14:52:50.179344Z"
    },
    "papermill": {
     "duration": 0.486806,
     "end_time": "2022-10-08T14:52:50.182937",
     "exception": false,
     "start_time": "2022-10-08T14:52:49.696131",
     "status": "completed"
    },
    "tags": []
   },
   "outputs": [
    {
     "data": {
      "text/plain": [
       "<matplotlib.legend.Legend at 0x7fde1f85a190>"
      ]
     },
     "execution_count": 18,
     "metadata": {},
     "output_type": "execute_result"
    },
    {
     "data": {
      "image/png": "[encoded data removed]",
      "text/plain": [
       "<Figure size 432x288 with 1 Axes>"
      ]
     },
     "metadata": {
      "needs_background": "light"
     },
     "output_type": "display_data"
    }
   ],
   "source": [
    "plt.figure()\n",
    "plt.plot(history.history['loss'])\n",
    "plt.plot(history.history['val_loss'])\n",
    "plt.title('model loss')\n",
    "plt.ylabel('cross-entropy')\n",
    "plt.xlabel('epoch')\n",
    "plt.legend(['train', 'test'], loc='upper right')"
   ]
  },
  {
   "cell_type": "markdown",
   "id": "cd19ca42",
   "metadata": {
    "papermill": {
     "duration": 0.229106,
     "end_time": "2022-10-08T14:52:50.640133",
     "exception": false,
     "start_time": "2022-10-08T14:52:50.411027",
     "status": "completed"
    },
    "tags": []
   },
   "source": [
    "## Part D\n",
    ">How does dropouts work, and what is the purpose of dropouts?"
   ]
  },
  {
   "cell_type": "markdown",
   "id": "09f3eb58",
   "metadata": {
    "papermill": {
     "duration": 0.22933,
     "end_time": "2022-10-08T14:52:51.098680",
     "exception": false,
     "start_time": "2022-10-08T14:52:50.869350",
     "status": "completed"
    },
    "tags": []
   },
   "source": [
    "### Dropouts\n",
    ">Dropouts randomly drop neurons (along with their\n",
    "connections) from the networks during training. This prevents neurons\n",
    "from co-adapting and thereby reduces overfitting <br><br>\n",
    "**Training Time** - The units (neurons) are presented with a probability p and presented to the next layer with weight W to the next layer at the training time<br><br>\n",
    "**Test Time** - At test time, the weights are always present and presented to the network with weights multiplied by probability p (dropout rate)<br><br>\n",
    "Applying dropouts result in a ‘thinned network’ that consists of only\n",
    "neurons that survived. This minimizes the redundancy in the network <br><br>\n",
    "**Purpose** - Dropouts helps prevent overfitting. Dropout prevents overfitting due to a layer's over-reliance on a few of its inputs. Because these inputs aren't always present during training (i.e. they are dropped at random), the layer learns to use all of its inputs, improving generalization."
   ]
  },
  {
   "cell_type": "markdown",
   "id": "9cec4522",
   "metadata": {
    "papermill": {
     "duration": 0.226918,
     "end_time": "2022-10-08T14:52:51.554795",
     "exception": false,
     "start_time": "2022-10-08T14:52:51.327877",
     "status": "completed"
    },
    "tags": []
   },
   "source": [
    "## Part E\n",
    ">Besides early stopping and dropout, what is another approach that you could\n",
    "take to address overfitting in the model, and how does it work? Implement the\n",
    "approach"
   ]
  },
  {
   "cell_type": "markdown",
   "id": "e6ef6cd6",
   "metadata": {
    "papermill": {
     "duration": 0.230743,
     "end_time": "2022-10-08T14:52:52.070785",
     "exception": false,
     "start_time": "2022-10-08T14:52:51.840042",
     "status": "completed"
    },
    "tags": []
   },
   "source": [
    "### L2 Regularization\n",
    ">During overfitting, some weights attain large values to reduce training error,\n",
    "jeopardizing its ability to generalizing. In order to avoid this, a penalty term\n",
    "***(regularization term)*** is added to the cost function. <br>\n",
    "\n",
    ">Let $J$ be the standard cost function. Then the cost function after applyting regularization is given by: <br> $J_1 = J + \\beta_2*\\Sigma(w_{ij})$ <br>\n",
    "$\\beta_2$ is known as the weight decay parameter"
   ]
  },
  {
   "cell_type": "markdown",
   "id": "63ed3dbf",
   "metadata": {
    "papermill": {
     "duration": 0.229989,
     "end_time": "2022-10-08T14:52:52.531696",
     "exception": false,
     "start_time": "2022-10-08T14:52:52.301707",
     "status": "completed"
    },
    "tags": []
   },
   "source": [
    "### Optimal Model Architecture with L2 Regularization"
   ]
  },
  {
   "cell_type": "code",
   "execution_count": 19,
   "id": "eebcf3ca",
   "metadata": {
    "execution": {
     "iopub.execute_input": "2022-10-08T14:52:52.994283Z",
     "iopub.status.busy": "2022-10-08T14:52:52.993889Z",
     "iopub.status.idle": "2022-10-08T14:52:53.001588Z",
     "shell.execute_reply": "2022-10-08T14:52:53.000413Z"
    },
    "papermill": {
     "duration": 0.2451,
     "end_time": "2022-10-08T14:52:53.003675",
     "exception": false,
     "start_time": "2022-10-08T14:52:52.758575",
     "status": "completed"
    },
    "tags": []
   },
   "outputs": [],
   "source": [
    "def create_regularized_model(input_shape, hidden_size):\n",
    "    model = Sequential([\n",
    "        InputLayer(input_shape=(input_shape,)),\n",
    "        Dense(hidden_size, activation='relu'),\n",
    "        Dropout(0.2),\n",
    "        Dense(128, activation='relu', kernel_regularizer=l2(0.0001)),\n",
    "        Dropout(0.2),\n",
    "        Dense(128, activation='relu', kernel_regularizer=l2(0.0001)),\n",
    "        Dropout(0.2),\n",
    "        Dense(1, activation='sigmoid', kernel_regularizer=l2(0.0001))\n",
    "    ])\n",
    "\n",
    "    optimizer = Adam(learning_rate=0.001)\n",
    "\n",
    "    model.compile(optimizer=optimizer,\n",
    "                    loss='binary_crossentropy',\n",
    "                    metrics=['accuracy'])\n",
    "    \n",
    "    return model\n"
   ]
  },
  {
   "cell_type": "markdown",
   "id": "a6e807f4",
   "metadata": {
    "papermill": {
     "duration": 0.231864,
     "end_time": "2022-10-08T14:52:53.465847",
     "exception": false,
     "start_time": "2022-10-08T14:52:53.233983",
     "status": "completed"
    },
    "tags": []
   },
   "source": [
    "### Training Regularized Model"
   ]
  },
  {
   "cell_type": "code",
   "execution_count": 20,
   "id": "1503cce6",
   "metadata": {
    "execution": {
     "iopub.execute_input": "2022-10-08T14:52:54.004350Z",
     "iopub.status.busy": "2022-10-08T14:52:54.003509Z",
     "iopub.status.idle": "2022-10-08T14:55:13.581398Z",
     "shell.execute_reply": "2022-10-08T14:55:13.580154Z"
    },
    "papermill": {
     "duration": 139.833991,
     "end_time": "2022-10-08T14:55:13.584260",
     "exception": false,
     "start_time": "2022-10-08T14:52:53.750269",
     "status": "completed"
    },
    "tags": []
   },
   "outputs": [
    {
     "name": "stdout",
     "output_type": "stream",
     "text": [
      "Epoch 1/100\n",
      "250/250 [==============================] - 3s 11ms/step - loss: 0.7154 - accuracy: 0.5389 - val_loss: 0.7060 - val_accuracy: 0.5520\n",
      "Epoch 2/100\n",
      "250/250 [==============================] - 2s 10ms/step - loss: 0.7019 - accuracy: 0.5520 - val_loss: 0.6967 - val_accuracy: 0.5583\n",
      "Epoch 3/100\n",
      "250/250 [==============================] - 2s 10ms/step - loss: 0.6933 - accuracy: 0.5611 - val_loss: 0.6925 - val_accuracy: 0.5609\n",
      "Epoch 4/100\n",
      "250/250 [==============================] - 2s 10ms/step - loss: 0.6874 - accuracy: 0.5697 - val_loss: 0.6852 - val_accuracy: 0.5738\n",
      "Epoch 5/100\n",
      "250/250 [==============================] - 2s 10ms/step - loss: 0.6820 - accuracy: 0.5763 - val_loss: 0.6820 - val_accuracy: 0.5791\n",
      "Epoch 6/100\n",
      "250/250 [==============================] - 3s 12ms/step - loss: 0.6768 - accuracy: 0.5847 - val_loss: 0.6779 - val_accuracy: 0.5834\n",
      "Epoch 7/100\n",
      "250/250 [==============================] - 2s 10ms/step - loss: 0.6721 - accuracy: 0.5922 - val_loss: 0.6742 - val_accuracy: 0.5901\n",
      "Epoch 8/100\n",
      "250/250 [==============================] - 2s 10ms/step - loss: 0.6678 - accuracy: 0.5981 - val_loss: 0.6684 - val_accuracy: 0.5988\n",
      "Epoch 9/100\n",
      "250/250 [==============================] - 3s 10ms/step - loss: 0.6625 - accuracy: 0.6048 - val_loss: 0.6653 - val_accuracy: 0.6033\n",
      "Epoch 10/100\n",
      "250/250 [==============================] - 3s 10ms/step - loss: 0.6573 - accuracy: 0.6146 - val_loss: 0.6614 - val_accuracy: 0.6085\n",
      "Epoch 11/100\n",
      "250/250 [==============================] - 2s 10ms/step - loss: 0.6528 - accuracy: 0.6183 - val_loss: 0.6573 - val_accuracy: 0.6156\n",
      "Epoch 12/100\n",
      "250/250 [==============================] - 3s 10ms/step - loss: 0.6484 - accuracy: 0.6256 - val_loss: 0.6583 - val_accuracy: 0.6137\n",
      "Epoch 13/100\n",
      "250/250 [==============================] - 2s 10ms/step - loss: 0.6445 - accuracy: 0.6324 - val_loss: 0.6504 - val_accuracy: 0.6243\n",
      "Epoch 14/100\n",
      "250/250 [==============================] - 2s 10ms/step - loss: 0.6399 - accuracy: 0.6383 - val_loss: 0.6462 - val_accuracy: 0.6304\n",
      "Epoch 15/100\n",
      "250/250 [==============================] - 2s 10ms/step - loss: 0.6364 - accuracy: 0.6407 - val_loss: 0.6438 - val_accuracy: 0.6333\n",
      "Epoch 16/100\n",
      "250/250 [==============================] - 2s 10ms/step - loss: 0.6322 - accuracy: 0.6463 - val_loss: 0.6422 - val_accuracy: 0.6356\n",
      "Epoch 17/100\n",
      "250/250 [==============================] - 2s 10ms/step - loss: 0.6285 - accuracy: 0.6496 - val_loss: 0.6400 - val_accuracy: 0.6379\n",
      "Epoch 18/100\n",
      "250/250 [==============================] - 3s 10ms/step - loss: 0.6250 - accuracy: 0.6543 - val_loss: 0.6366 - val_accuracy: 0.6437\n",
      "Epoch 19/100\n",
      "250/250 [==============================] - 3s 11ms/step - loss: 0.6230 - accuracy: 0.6563 - val_loss: 0.6332 - val_accuracy: 0.6460\n",
      "Epoch 20/100\n",
      "250/250 [==============================] - 3s 10ms/step - loss: 0.6190 - accuracy: 0.6604 - val_loss: 0.6356 - val_accuracy: 0.6431\n",
      "Epoch 21/100\n",
      "250/250 [==============================] - 2s 10ms/step - loss: 0.6177 - accuracy: 0.6633 - val_loss: 0.6303 - val_accuracy: 0.6506\n",
      "Epoch 22/100\n",
      "250/250 [==============================] - 3s 10ms/step - loss: 0.6141 - accuracy: 0.6656 - val_loss: 0.6288 - val_accuracy: 0.6494\n",
      "Epoch 23/100\n",
      "250/250 [==============================] - 3s 12ms/step - loss: 0.6122 - accuracy: 0.6689 - val_loss: 0.6270 - val_accuracy: 0.6515\n",
      "Epoch 24/100\n",
      "250/250 [==============================] - 2s 10ms/step - loss: 0.6089 - accuracy: 0.6709 - val_loss: 0.6265 - val_accuracy: 0.6525\n",
      "Epoch 25/100\n",
      "250/250 [==============================] - 2s 10ms/step - loss: 0.6074 - accuracy: 0.6716 - val_loss: 0.6260 - val_accuracy: 0.6541\n",
      "Epoch 26/100\n",
      "250/250 [==============================] - 2s 10ms/step - loss: 0.6066 - accuracy: 0.6732 - val_loss: 0.6225 - val_accuracy: 0.6601\n",
      "Epoch 27/100\n",
      "250/250 [==============================] - 2s 10ms/step - loss: 0.6028 - accuracy: 0.6771 - val_loss: 0.6240 - val_accuracy: 0.6583\n",
      "Epoch 28/100\n",
      "250/250 [==============================] - 2s 10ms/step - loss: 0.6007 - accuracy: 0.6798 - val_loss: 0.6197 - val_accuracy: 0.6619\n",
      "Epoch 29/100\n",
      "250/250 [==============================] - 2s 10ms/step - loss: 0.5995 - accuracy: 0.6815 - val_loss: 0.6185 - val_accuracy: 0.6652\n",
      "Epoch 30/100\n",
      "250/250 [==============================] - 2s 10ms/step - loss: 0.5990 - accuracy: 0.6817 - val_loss: 0.6203 - val_accuracy: 0.6629\n",
      "Epoch 31/100\n",
      "250/250 [==============================] - 3s 11ms/step - loss: 0.5965 - accuracy: 0.6825 - val_loss: 0.6175 - val_accuracy: 0.6667\n",
      "Epoch 32/100\n",
      "250/250 [==============================] - 2s 10ms/step - loss: 0.5943 - accuracy: 0.6875 - val_loss: 0.6183 - val_accuracy: 0.6648\n",
      "Epoch 33/100\n",
      "250/250 [==============================] - 2s 10ms/step - loss: 0.5927 - accuracy: 0.6863 - val_loss: 0.6159 - val_accuracy: 0.6656\n",
      "Epoch 34/100\n",
      "250/250 [==============================] - 2s 10ms/step - loss: 0.5929 - accuracy: 0.6866 - val_loss: 0.6141 - val_accuracy: 0.6683\n",
      "Epoch 35/100\n",
      "250/250 [==============================] - 3s 10ms/step - loss: 0.5890 - accuracy: 0.6916 - val_loss: 0.6134 - val_accuracy: 0.6703\n",
      "Epoch 36/100\n",
      "250/250 [==============================] - 2s 10ms/step - loss: 0.5889 - accuracy: 0.6917 - val_loss: 0.6132 - val_accuracy: 0.6706\n",
      "Epoch 37/100\n",
      "250/250 [==============================] - 2s 10ms/step - loss: 0.5863 - accuracy: 0.6916 - val_loss: 0.6117 - val_accuracy: 0.6739\n",
      "Epoch 38/100\n",
      "250/250 [==============================] - 2s 10ms/step - loss: 0.5848 - accuracy: 0.6941 - val_loss: 0.6097 - val_accuracy: 0.6762\n",
      "Epoch 39/100\n",
      "250/250 [==============================] - 2s 10ms/step - loss: 0.5841 - accuracy: 0.6947 - val_loss: 0.6094 - val_accuracy: 0.6748\n",
      "Epoch 40/100\n",
      "250/250 [==============================] - 2s 10ms/step - loss: 0.5828 - accuracy: 0.6957 - val_loss: 0.6103 - val_accuracy: 0.6736\n",
      "Epoch 41/100\n",
      "250/250 [==============================] - 2s 10ms/step - loss: 0.5819 - accuracy: 0.6976 - val_loss: 0.6111 - val_accuracy: 0.6724\n",
      "Epoch 42/100\n",
      "250/250 [==============================] - 3s 10ms/step - loss: 0.5816 - accuracy: 0.6987 - val_loss: 0.6086 - val_accuracy: 0.6790\n",
      "Epoch 43/100\n",
      "250/250 [==============================] - 3s 11ms/step - loss: 0.5795 - accuracy: 0.7002 - val_loss: 0.6072 - val_accuracy: 0.6776\n",
      "Epoch 44/100\n",
      "250/250 [==============================] - 3s 11ms/step - loss: 0.5808 - accuracy: 0.6979 - val_loss: 0.6082 - val_accuracy: 0.6781\n",
      "Epoch 45/100\n",
      "250/250 [==============================] - 3s 10ms/step - loss: 0.5797 - accuracy: 0.7007 - val_loss: 0.6065 - val_accuracy: 0.6767\n",
      "Epoch 46/100\n",
      "250/250 [==============================] - 3s 10ms/step - loss: 0.5780 - accuracy: 0.7005 - val_loss: 0.6056 - val_accuracy: 0.6793\n",
      "Epoch 47/100\n",
      "250/250 [==============================] - 3s 10ms/step - loss: 0.5765 - accuracy: 0.7024 - val_loss: 0.6052 - val_accuracy: 0.6808\n",
      "Epoch 48/100\n",
      "250/250 [==============================] - 3s 10ms/step - loss: 0.5739 - accuracy: 0.7041 - val_loss: 0.6038 - val_accuracy: 0.6798\n",
      "Epoch 49/100\n",
      "250/250 [==============================] - 2s 10ms/step - loss: 0.5748 - accuracy: 0.7040 - val_loss: 0.6025 - val_accuracy: 0.6803\n",
      "Epoch 50/100\n",
      "250/250 [==============================] - 2s 10ms/step - loss: 0.5732 - accuracy: 0.7069 - val_loss: 0.6039 - val_accuracy: 0.6817\n",
      "Epoch 51/100\n",
      "250/250 [==============================] - 3s 10ms/step - loss: 0.5732 - accuracy: 0.7052 - val_loss: 0.6029 - val_accuracy: 0.6820\n",
      "Epoch 52/100\n",
      "250/250 [==============================] - 2s 10ms/step - loss: 0.5704 - accuracy: 0.7069 - val_loss: 0.6020 - val_accuracy: 0.6817\n",
      "Epoch 53/100\n",
      "250/250 [==============================] - 3s 10ms/step - loss: 0.5710 - accuracy: 0.7055 - val_loss: 0.6028 - val_accuracy: 0.6814\n",
      "Epoch 54/100\n",
      "250/250 [==============================] - 3s 10ms/step - loss: 0.5706 - accuracy: 0.7066 - val_loss: 0.6027 - val_accuracy: 0.6813\n",
      "Epoch 55/100\n",
      "250/250 [==============================] - 3s 10ms/step - loss: 0.5699 - accuracy: 0.7090 - val_loss: 0.6036 - val_accuracy: 0.6802\n"
     ]
    }
   ],
   "source": [
    "X_train_scaled, X_test_scaled = preprocess_dataset(X_train, X_test)\n",
    "\n",
    "model = create_regularized_model(input_shape, optimal_hidden_layer_size)\n",
    "\n",
    "early_stopping_callback = EarlyStopping(monitor='val_loss', patience=3)\n",
    "    \n",
    "history = model.fit(X_train_scaled, y_train,\n",
    "                    epochs=num_epochs,\n",
    "                    verbose=1,\n",
    "                    batch_size=optimal_batch_size,\n",
    "                    use_multiprocessing=False,\n",
    "                    validation_data=(X_test_scaled, y_test),\n",
    "                    callbacks=[early_stopping_callback] \n",
    "                )\n",
    "\n",
    "histories['regularized'] = history"
   ]
  },
  {
   "cell_type": "markdown",
   "id": "b8c493c9",
   "metadata": {
    "papermill": {
     "duration": 0.378587,
     "end_time": "2022-10-08T14:55:14.405714",
     "exception": false,
     "start_time": "2022-10-08T14:55:14.027127",
     "status": "completed"
    },
    "tags": []
   },
   "source": [
    "### Plot of Regularized model accuracy"
   ]
  },
  {
   "cell_type": "code",
   "execution_count": 21,
   "id": "02c39b8d",
   "metadata": {
    "execution": {
     "iopub.execute_input": "2022-10-08T14:55:15.233828Z",
     "iopub.status.busy": "2022-10-08T14:55:15.233241Z",
     "iopub.status.idle": "2022-10-08T14:55:15.484802Z",
     "shell.execute_reply": "2022-10-08T14:55:15.483674Z"
    },
    "papermill": {
     "duration": 0.655778,
     "end_time": "2022-10-08T14:55:15.487264",
     "exception": false,
     "start_time": "2022-10-08T14:55:14.831486",
     "status": "completed"
    },
    "tags": []
   },
   "outputs": [
    {
     "data": {
      "text/plain": [
       "<matplotlib.legend.Legend at 0x7fde1c02c990>"
      ]
     },
     "execution_count": 21,
     "metadata": {},
     "output_type": "execute_result"
    },
    {
     "data": {
      "image/png": "[encoded data removed]",
      "text/plain": [
       "<Figure size 432x288 with 1 Axes>"
      ]
     },
     "metadata": {
      "needs_background": "light"
     },
     "output_type": "display_data"
    }
   ],
   "source": [
    "plt.figure()\n",
    "plt.plot(history.history['accuracy'])\n",
    "plt.plot(history.history['val_accuracy'])\n",
    "plt.title('model accuracy')\n",
    "plt.ylabel('accuracy')\n",
    "plt.xlabel('epoch')\n",
    "plt.legend(['train', 'test'], loc='upper left')"
   ]
  },
  {
   "cell_type": "markdown",
   "id": "b370cfaf",
   "metadata": {
    "papermill": {
     "duration": 0.436985,
     "end_time": "2022-10-08T14:55:16.314845",
     "exception": false,
     "start_time": "2022-10-08T14:55:15.877860",
     "status": "completed"
    },
    "tags": []
   },
   "source": [
    "### Plot of Regularized model loss"
   ]
  },
  {
   "cell_type": "code",
   "execution_count": 22,
   "id": "d8cbca7c",
   "metadata": {
    "execution": {
     "iopub.execute_input": "2022-10-08T14:55:17.096164Z",
     "iopub.status.busy": "2022-10-08T14:55:17.095741Z",
     "iopub.status.idle": "2022-10-08T14:55:17.337493Z",
     "shell.execute_reply": "2022-10-08T14:55:17.336463Z"
    },
    "papermill": {
     "duration": 0.648423,
     "end_time": "2022-10-08T14:55:17.340559",
     "exception": false,
     "start_time": "2022-10-08T14:55:16.692136",
     "status": "completed"
    },
    "tags": []
   },
   "outputs": [
    {
     "data": {
      "text/plain": [
       "<matplotlib.legend.Legend at 0x7fde1a0f21d0>"
      ]
     },
     "execution_count": 22,
     "metadata": {},
     "output_type": "execute_result"
    },
    {
     "data": {
      "image/png": "[encoded data removed]",
      "text/plain": [
       "<Figure size 432x288 with 1 Axes>"
      ]
     },
     "metadata": {
      "needs_background": "light"
     },
     "output_type": "display_data"
    }
   ],
   "source": [
    "plt.figure()\n",
    "plt.plot(history.history['loss'])\n",
    "plt.plot(history.history['val_loss'])\n",
    "plt.title('model loss')\n",
    "plt.ylabel('cross-entropy')\n",
    "plt.xlabel('epoch')\n",
    "plt.legend(['train', 'test'], loc='upper right')"
   ]
  },
  {
   "cell_type": "markdown",
   "id": "7f89bffb",
   "metadata": {
    "papermill": {
     "duration": 0.37849,
     "end_time": "2022-10-08T14:55:18.096225",
     "exception": false,
     "start_time": "2022-10-08T14:55:17.717735",
     "status": "completed"
    },
    "tags": []
   },
   "source": [
    "### Comparison of Optimal Model with the Regularized Model"
   ]
  },
  {
   "cell_type": "code",
   "execution_count": 23,
   "id": "155aa357",
   "metadata": {
    "execution": {
     "iopub.execute_input": "2022-10-08T14:55:18.907874Z",
     "iopub.status.busy": "2022-10-08T14:55:18.907100Z",
     "iopub.status.idle": "2022-10-08T14:55:19.185846Z",
     "shell.execute_reply": "2022-10-08T14:55:19.184701Z"
    },
    "papermill": {
     "duration": 0.656261,
     "end_time": "2022-10-08T14:55:19.188452",
     "exception": false,
     "start_time": "2022-10-08T14:55:18.532191",
     "status": "completed"
    },
    "tags": []
   },
   "outputs": [
    {
     "data": {
      "image/png": "[encoded data removed]",
      "text/plain": [
       "<Figure size 432x288 with 1 Axes>"
      ]
     },
     "metadata": {
      "needs_background": "light"
     },
     "output_type": "display_data"
    }
   ],
   "source": [
    "plotter = tfdocs.plots.HistoryPlotter(metric = 'loss', smoothing_std=10)\n",
    "plotter.plot(histories)"
   ]
  },
  {
   "cell_type": "code",
   "execution_count": 24,
   "id": "b08845c9",
   "metadata": {
    "execution": {
     "iopub.execute_input": "2022-10-08T14:55:19.953031Z",
     "iopub.status.busy": "2022-10-08T14:55:19.952322Z",
     "iopub.status.idle": "2022-10-08T14:55:20.249013Z",
     "shell.execute_reply": "2022-10-08T14:55:20.247865Z"
    },
    "papermill": {
     "duration": 0.679683,
     "end_time": "2022-10-08T14:55:20.251439",
     "exception": false,
     "start_time": "2022-10-08T14:55:19.571756",
     "status": "completed"
    },
    "tags": []
   },
   "outputs": [
    {
     "data": {
      "image/png": "[encoded data removed]",
      "text/plain": [
       "<Figure size 432x288 with 1 Axes>"
      ]
     },
     "metadata": {
      "needs_background": "light"
     },
     "output_type": "display_data"
    }
   ],
   "source": [
    "plotter = tfdocs.plots.HistoryPlotter(metric = 'accuracy', smoothing_std=10)\n",
    "plotter.plot(histories)"
   ]
  },
  {
   "cell_type": "code",
   "execution_count": null,
   "id": "eb9fb209",
   "metadata": {
    "papermill": {
     "duration": 0.375532,
     "end_time": "2022-10-08T14:55:21.067860",
     "exception": false,
     "start_time": "2022-10-08T14:55:20.692328",
     "status": "completed"
    },
    "tags": []
   },
   "outputs": [],
   "source": []
  }
 ],
 "metadata": {
  "kernelspec": {
   "display_name": "Python 3",
   "language": "python",
   "name": "python3"
  },
  "language_info": {
   "codemirror_mode": {
    "name": "ipython",
    "version": 3
   },
   "file_extension": ".py",
   "mimetype": "text/x-python",
   "name": "python",
   "nbconvert_exporter": "python",
   "pygments_lexer": "ipython3",
   "version": "3.7.12"
  },
  "papermill": {
   "default_parameters": {},
   "duration": 2097.477234,
   "end_time": "2022-10-08T14:55:24.480850",
   "environment_variables": {},
   "exception": null,
   "input_path": "__notebook__.ipynb",
   "output_path": "__notebook__.ipynb",
   "parameters": {},
   "start_time": "2022-10-08T14:20:27.003616",
   "version": "2.3.4"
  }
 },
 "nbformat": 4,
 "nbformat_minor": 5
}
