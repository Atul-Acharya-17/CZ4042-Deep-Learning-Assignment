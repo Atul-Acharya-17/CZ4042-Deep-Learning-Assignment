{
 "cells": [
  {
   "cell_type": "markdown",
   "id": "23548611",
   "metadata": {
    "papermill": {
     "duration": 0.007539,
     "end_time": "2022-10-10T06:24:15.007597",
     "exception": false,
     "start_time": "2022-10-10T06:24:15.000058",
     "status": "completed"
    },
    "tags": []
   },
   "source": [
    "# Part A: Classification Problem\n",
    "\n",
    "* **Name** Acharya Atul\n",
    "* **Matriculation Number** U1923502C\n",
    "* **Email** atul001@e.ntu.edu.sg\n",
    "\n",
    "# Question 2\n",
    ">In this question, we will determine the optimal batch size for mini-batch gradient descent. Find\n",
    "the optimal batch size for mini-batch gradient descent by training the neural network and\n",
    "evaluating the performances for different batch sizes. Note: Use 5-fold cross-validation on\n",
    "training partition to perform hyperparameter selection. <br><br>\n",
    "You will have to reconsider the scaling of the dataset during the 5-fold cross validation"
   ]
  },
  {
   "cell_type": "markdown",
   "id": "4126e054",
   "metadata": {
    "papermill": {
     "duration": 0.006163,
     "end_time": "2022-10-10T06:24:15.020247",
     "exception": false,
     "start_time": "2022-10-10T06:24:15.014084",
     "status": "completed"
    },
    "tags": []
   },
   "source": [
    "### Install latest version of tensorflow"
   ]
  },
  {
   "cell_type": "code",
   "execution_count": 1,
   "id": "34c4fa2b",
   "metadata": {
    "execution": {
     "iopub.execute_input": "2022-10-10T06:24:15.034334Z",
     "iopub.status.busy": "2022-10-10T06:24:15.033951Z",
     "iopub.status.idle": "2022-10-10T06:25:30.602717Z",
     "shell.execute_reply": "2022-10-10T06:25:30.601556Z"
    },
    "papermill": {
     "duration": 75.578804,
     "end_time": "2022-10-10T06:25:30.605440",
     "exception": false,
     "start_time": "2022-10-10T06:24:15.026636",
     "status": "completed"
    },
    "tags": []
   },
   "outputs": [
    {
     "name": "stdout",
     "output_type": "stream",
     "text": [
      "Requirement already satisfied: tensorflow in /opt/conda/lib/python3.7/site-packages (2.6.4)\r\n",
      "Collecting tensorflow\r\n",
      "  Downloading tensorflow-2.10.0-cp37-cp37m-manylinux_2_17_x86_64.manylinux2014_x86_64.whl (578.0 MB)\r\n",
      "\u001b[2K     \u001b[90m━━━━━━━━━━━━━━━━━━━━━━━━━━━━━━━━━━━━━━━\u001b[0m \u001b[32m578.0/578.0 MB\u001b[0m \u001b[31m2.1 MB/s\u001b[0m eta \u001b[36m0:00:00\u001b[0m\r\n",
      "\u001b[?25hRequirement already satisfied: google-pasta>=0.1.1 in /opt/conda/lib/python3.7/site-packages (from tensorflow) (0.2.0)\r\n",
      "Requirement already satisfied: keras-preprocessing>=1.1.1 in /opt/conda/lib/python3.7/site-packages (from tensorflow) (1.1.2)\r\n",
      "Collecting keras<2.11,>=2.10.0\r\n",
      "  Downloading keras-2.10.0-py2.py3-none-any.whl (1.7 MB)\r\n",
      "\u001b[2K     \u001b[90m━━━━━━━━━━━━━━━━━━━━━━━━━━━━━━━━━━━━━━━━\u001b[0m \u001b[32m1.7/1.7 MB\u001b[0m \u001b[31m65.2 MB/s\u001b[0m eta \u001b[36m0:00:00\u001b[0m\r\n",
      "\u001b[?25hRequirement already satisfied: numpy>=1.20 in /opt/conda/lib/python3.7/site-packages (from tensorflow) (1.21.6)\r\n",
      "Requirement already satisfied: typing-extensions>=3.6.6 in /opt/conda/lib/python3.7/site-packages (from tensorflow) (4.3.0)\r\n",
      "Requirement already satisfied: termcolor>=1.1.0 in /opt/conda/lib/python3.7/site-packages (from tensorflow) (1.1.0)\r\n",
      "Requirement already satisfied: six>=1.12.0 in /opt/conda/lib/python3.7/site-packages (from tensorflow) (1.15.0)\r\n",
      "Collecting tensorflow-io-gcs-filesystem>=0.23.1\r\n",
      "  Downloading tensorflow_io_gcs_filesystem-0.27.0-cp37-cp37m-manylinux_2_12_x86_64.manylinux2010_x86_64.whl (2.4 MB)\r\n",
      "\u001b[2K     \u001b[90m━━━━━━━━━━━━━━━━━━━━━━━━━━━━━━━━━━━━━━━━\u001b[0m \u001b[32m2.4/2.4 MB\u001b[0m \u001b[31m70.8 MB/s\u001b[0m eta \u001b[36m0:00:00\u001b[0m\r\n",
      "\u001b[?25hRequirement already satisfied: wrapt>=1.11.0 in /opt/conda/lib/python3.7/site-packages (from tensorflow) (1.12.1)\r\n",
      "Requirement already satisfied: setuptools in /opt/conda/lib/python3.7/site-packages (from tensorflow) (59.8.0)\r\n",
      "Collecting absl-py>=1.0.0\r\n",
      "  Downloading absl_py-1.2.0-py3-none-any.whl (123 kB)\r\n",
      "\u001b[2K     \u001b[90m━━━━━━━━━━━━━━━━━━━━━━━━━━━━━━━━━━━━━━\u001b[0m \u001b[32m123.4/123.4 kB\u001b[0m \u001b[31m10.6 MB/s\u001b[0m eta \u001b[36m0:00:00\u001b[0m\r\n",
      "\u001b[?25hRequirement already satisfied: opt-einsum>=2.3.2 in /opt/conda/lib/python3.7/site-packages (from tensorflow) (3.3.0)\r\n",
      "Collecting libclang>=13.0.0\r\n",
      "  Downloading libclang-14.0.6-py2.py3-none-manylinux2010_x86_64.whl (14.1 MB)\r\n",
      "\u001b[2K     \u001b[90m━━━━━━━━━━━━━━━━━━━━━━━━━━━━━━━━━━━━━━━━\u001b[0m \u001b[32m14.1/14.1 MB\u001b[0m \u001b[31m29.8 MB/s\u001b[0m eta \u001b[36m0:00:00\u001b[0m\r\n",
      "\u001b[?25hRequirement already satisfied: tensorboard<2.11,>=2.10 in /opt/conda/lib/python3.7/site-packages (from tensorflow) (2.10.0)\r\n",
      "Requirement already satisfied: packaging in /opt/conda/lib/python3.7/site-packages (from tensorflow) (21.3)\r\n",
      "Requirement already satisfied: astunparse>=1.6.0 in /opt/conda/lib/python3.7/site-packages (from tensorflow) (1.6.3)\r\n",
      "Requirement already satisfied: h5py>=2.9.0 in /opt/conda/lib/python3.7/site-packages (from tensorflow) (3.7.0)\r\n",
      "Requirement already satisfied: gast<=0.4.0,>=0.2.1 in /opt/conda/lib/python3.7/site-packages (from tensorflow) (0.4.0)\r\n",
      "Collecting flatbuffers>=2.0\r\n",
      "  Downloading flatbuffers-22.9.24-py2.py3-none-any.whl (26 kB)\r\n",
      "Collecting tensorflow-estimator<2.11,>=2.10.0\r\n",
      "  Downloading tensorflow_estimator-2.10.0-py2.py3-none-any.whl (438 kB)\r\n",
      "\u001b[2K     \u001b[90m━━━━━━━━━━━━━━━━━━━━━━━━━━━━━━━━━━━━━━\u001b[0m \u001b[32m438.7/438.7 kB\u001b[0m \u001b[31m34.8 MB/s\u001b[0m eta \u001b[36m0:00:00\u001b[0m\r\n",
      "\u001b[?25hRequirement already satisfied: grpcio<2.0,>=1.24.3 in /opt/conda/lib/python3.7/site-packages (from tensorflow) (1.43.0)\r\n",
      "Requirement already satisfied: protobuf<3.20,>=3.9.2 in /opt/conda/lib/python3.7/site-packages (from tensorflow) (3.19.4)\r\n",
      "Requirement already satisfied: wheel<1.0,>=0.23.0 in /opt/conda/lib/python3.7/site-packages (from astunparse>=1.6.0->tensorflow) (0.37.1)\r\n",
      "Requirement already satisfied: requests<3,>=2.21.0 in /opt/conda/lib/python3.7/site-packages (from tensorboard<2.11,>=2.10->tensorflow) (2.28.1)\r\n",
      "Requirement already satisfied: markdown>=2.6.8 in /opt/conda/lib/python3.7/site-packages (from tensorboard<2.11,>=2.10->tensorflow) (3.3.7)\r\n",
      "Requirement already satisfied: tensorboard-data-server<0.7.0,>=0.6.0 in /opt/conda/lib/python3.7/site-packages (from tensorboard<2.11,>=2.10->tensorflow) (0.6.1)\r\n",
      "Requirement already satisfied: google-auth<3,>=1.6.3 in /opt/conda/lib/python3.7/site-packages (from tensorboard<2.11,>=2.10->tensorflow) (1.35.0)\r\n",
      "Requirement already satisfied: google-auth-oauthlib<0.5,>=0.4.1 in /opt/conda/lib/python3.7/site-packages (from tensorboard<2.11,>=2.10->tensorflow) (0.4.6)\r\n",
      "Requirement already satisfied: tensorboard-plugin-wit>=1.6.0 in /opt/conda/lib/python3.7/site-packages (from tensorboard<2.11,>=2.10->tensorflow) (1.8.1)\r\n",
      "Requirement already satisfied: werkzeug>=1.0.1 in /opt/conda/lib/python3.7/site-packages (from tensorboard<2.11,>=2.10->tensorflow) (2.2.2)\r\n",
      "Requirement already satisfied: pyparsing!=3.0.5,>=2.0.2 in /opt/conda/lib/python3.7/site-packages (from packaging->tensorflow) (3.0.9)\r\n",
      "Requirement already satisfied: cachetools<5.0,>=2.0.0 in /opt/conda/lib/python3.7/site-packages (from google-auth<3,>=1.6.3->tensorboard<2.11,>=2.10->tensorflow) (4.2.4)\r\n",
      "Requirement already satisfied: pyasn1-modules>=0.2.1 in /opt/conda/lib/python3.7/site-packages (from google-auth<3,>=1.6.3->tensorboard<2.11,>=2.10->tensorflow) (0.2.7)\r\n",
      "Requirement already satisfied: rsa<5,>=3.1.4 in /opt/conda/lib/python3.7/site-packages (from google-auth<3,>=1.6.3->tensorboard<2.11,>=2.10->tensorflow) (4.8)\r\n",
      "Requirement already satisfied: requests-oauthlib>=0.7.0 in /opt/conda/lib/python3.7/site-packages (from google-auth-oauthlib<0.5,>=0.4.1->tensorboard<2.11,>=2.10->tensorflow) (1.3.1)\r\n",
      "Requirement already satisfied: importlib-metadata>=4.4 in /opt/conda/lib/python3.7/site-packages (from markdown>=2.6.8->tensorboard<2.11,>=2.10->tensorflow) (4.12.0)\r\n",
      "Requirement already satisfied: charset-normalizer<3,>=2 in /opt/conda/lib/python3.7/site-packages (from requests<3,>=2.21.0->tensorboard<2.11,>=2.10->tensorflow) (2.1.0)\r\n",
      "Requirement already satisfied: urllib3<1.27,>=1.21.1 in /opt/conda/lib/python3.7/site-packages (from requests<3,>=2.21.0->tensorboard<2.11,>=2.10->tensorflow) (1.26.12)\r\n",
      "Requirement already satisfied: certifi>=2017.4.17 in /opt/conda/lib/python3.7/site-packages (from requests<3,>=2.21.0->tensorboard<2.11,>=2.10->tensorflow) (2022.6.15.2)\r\n",
      "Requirement already satisfied: idna<4,>=2.5 in /opt/conda/lib/python3.7/site-packages (from requests<3,>=2.21.0->tensorboard<2.11,>=2.10->tensorflow) (3.3)\r\n",
      "Requirement already satisfied: MarkupSafe>=2.1.1 in /opt/conda/lib/python3.7/site-packages (from werkzeug>=1.0.1->tensorboard<2.11,>=2.10->tensorflow) (2.1.1)\r\n",
      "Requirement already satisfied: zipp>=0.5 in /opt/conda/lib/python3.7/site-packages (from importlib-metadata>=4.4->markdown>=2.6.8->tensorboard<2.11,>=2.10->tensorflow) (3.8.0)\r\n",
      "Requirement already satisfied: pyasn1<0.5.0,>=0.4.6 in /opt/conda/lib/python3.7/site-packages (from pyasn1-modules>=0.2.1->google-auth<3,>=1.6.3->tensorboard<2.11,>=2.10->tensorflow) (0.4.8)\r\n",
      "Requirement already satisfied: oauthlib>=3.0.0 in /opt/conda/lib/python3.7/site-packages (from requests-oauthlib>=0.7.0->google-auth-oauthlib<0.5,>=0.4.1->tensorboard<2.11,>=2.10->tensorflow) (3.2.0)\r\n",
      "Installing collected packages: libclang, keras, flatbuffers, tensorflow-io-gcs-filesystem, tensorflow-estimator, absl-py, tensorflow\r\n",
      "  Attempting uninstall: keras\r\n",
      "    Found existing installation: keras 2.6.0\r\n",
      "    Uninstalling keras-2.6.0:\r\n",
      "      Successfully uninstalled keras-2.6.0\r\n",
      "  Attempting uninstall: flatbuffers\r\n",
      "    Found existing installation: flatbuffers 1.12\r\n",
      "    Uninstalling flatbuffers-1.12:\r\n",
      "      Successfully uninstalled flatbuffers-1.12\r\n",
      "  Attempting uninstall: tensorflow-estimator\r\n",
      "    Found existing installation: tensorflow-estimator 2.6.0\r\n",
      "    Uninstalling tensorflow-estimator-2.6.0:\r\n",
      "      Successfully uninstalled tensorflow-estimator-2.6.0\r\n",
      "  Attempting uninstall: absl-py\r\n",
      "    Found existing installation: absl-py 0.15.0\r\n",
      "    Uninstalling absl-py-0.15.0:\r\n",
      "      Successfully uninstalled absl-py-0.15.0\r\n",
      "  Attempting uninstall: tensorflow\r\n",
      "    Found existing installation: tensorflow 2.6.4\r\n",
      "    Uninstalling tensorflow-2.6.4:\r\n",
      "      Successfully uninstalled tensorflow-2.6.4\r\n",
      "\u001b[31mERROR: pip's dependency resolver does not currently take into account all the packages that are installed. This behaviour is the source of the following dependency conflicts.\r\n",
      "tensorflow-transform 1.9.0 requires tensorflow!=2.0.*,!=2.1.*,!=2.2.*,!=2.3.*,!=2.4.*,!=2.5.*,!=2.6.*,!=2.7.*,!=2.8.*,<2.10,>=1.15.5, but you have tensorflow 2.10.0 which is incompatible.\r\n",
      "tensorflow-io 0.21.0 requires tensorflow<2.7.0,>=2.6.0, but you have tensorflow 2.10.0 which is incompatible.\r\n",
      "tensorflow-io 0.21.0 requires tensorflow-io-gcs-filesystem==0.21.0, but you have tensorflow-io-gcs-filesystem 0.27.0 which is incompatible.\r\n",
      "flax 0.6.0 requires rich~=11.1, but you have rich 12.1.0 which is incompatible.\u001b[0m\u001b[31m\r\n",
      "\u001b[0mSuccessfully installed absl-py-1.2.0 flatbuffers-22.9.24 keras-2.10.0 libclang-14.0.6 tensorflow-2.10.0 tensorflow-estimator-2.10.0 tensorflow-io-gcs-filesystem-0.27.0\r\n",
      "\u001b[33mWARNING: Running pip as the 'root' user can result in broken permissions and conflicting behaviour with the system package manager. It is recommended to use a virtual environment instead: https://pip.pypa.io/warnings/venv\u001b[0m\u001b[33m\r\n",
      "\u001b[0m"
     ]
    }
   ],
   "source": [
    "!pip install --upgrade tensorflow"
   ]
  },
  {
   "cell_type": "markdown",
   "id": "ab38032b",
   "metadata": {
    "papermill": {
     "duration": 0.028965,
     "end_time": "2022-10-10T06:25:30.664412",
     "exception": false,
     "start_time": "2022-10-10T06:25:30.635447",
     "status": "completed"
    },
    "tags": []
   },
   "source": [
    "### Neccessary Imports\n",
    "\n",
    "* **pandas** - Data analysis and manipulation\n",
    "* **matplotlib** - Plotting graphs and creating visuals\n",
    "* **sklearn** - Basic data preprocessing, splitting dataset and cross validation\n",
    "* **tensorflow** - Modeling neural networks and training them"
   ]
  },
  {
   "cell_type": "code",
   "execution_count": 2,
   "id": "8032ed79",
   "metadata": {
    "execution": {
     "iopub.execute_input": "2022-10-10T06:25:30.725318Z",
     "iopub.status.busy": "2022-10-10T06:25:30.724605Z",
     "iopub.status.idle": "2022-10-10T06:25:35.066707Z",
     "shell.execute_reply": "2022-10-10T06:25:35.065789Z"
    },
    "papermill": {
     "duration": 4.376077,
     "end_time": "2022-10-10T06:25:35.069986",
     "exception": false,
     "start_time": "2022-10-10T06:25:30.693909",
     "status": "completed"
    },
    "tags": []
   },
   "outputs": [
    {
     "name": "stderr",
     "output_type": "stream",
     "text": [
      "2022-10-10 06:25:31.634111: I tensorflow/core/platform/cpu_feature_guard.cc:193] This TensorFlow binary is optimized with oneAPI Deep Neural Network Library (oneDNN) to use the following CPU instructions in performance-critical operations:  AVX2 AVX512F FMA\n",
      "To enable them in other operations, rebuild TensorFlow with the appropriate compiler flags.\n",
      "2022-10-10 06:25:31.801662: E tensorflow/stream_executor/cuda/cuda_blas.cc:2981] Unable to register cuBLAS factory: Attempting to register factory for plugin cuBLAS when one has already been registered\n",
      "2022-10-10 06:25:32.676559: W tensorflow/stream_executor/platform/default/dso_loader.cc:64] Could not load dynamic library 'libnvinfer.so.7'; dlerror: libnvinfer.so.7: cannot open shared object file: No such file or directory; LD_LIBRARY_PATH: /usr/local/cuda/lib64:/usr/local/cuda/lib:/usr/local/lib/x86_64-linux-gnu:/usr/local/nvidia/lib:/usr/local/nvidia/lib64:/usr/local/cuda/lib64:/usr/local/cuda/lib:/usr/local/lib/x86_64-linux-gnu:/usr/local/nvidia/lib:/usr/local/nvidia/lib64:/usr/local/nvidia/lib:/usr/local/nvidia/lib64\n",
      "2022-10-10 06:25:32.676857: W tensorflow/stream_executor/platform/default/dso_loader.cc:64] Could not load dynamic library 'libnvinfer_plugin.so.7'; dlerror: libnvinfer_plugin.so.7: cannot open shared object file: No such file or directory; LD_LIBRARY_PATH: /usr/local/cuda/lib64:/usr/local/cuda/lib:/usr/local/lib/x86_64-linux-gnu:/usr/local/nvidia/lib:/usr/local/nvidia/lib64:/usr/local/cuda/lib64:/usr/local/cuda/lib:/usr/local/lib/x86_64-linux-gnu:/usr/local/nvidia/lib:/usr/local/nvidia/lib64:/usr/local/nvidia/lib:/usr/local/nvidia/lib64\n",
      "2022-10-10 06:25:32.676872: W tensorflow/compiler/tf2tensorrt/utils/py_utils.cc:38] TF-TRT Warning: Cannot dlopen some TensorRT libraries. If you would like to use Nvidia GPU with TensorRT, please make sure the missing libraries mentioned above are installed properly.\n"
     ]
    }
   ],
   "source": [
    "import time\n",
    "\n",
    "import pandas as pd\n",
    "import matplotlib.pyplot as plt\n",
    "\n",
    "from sklearn.model_selection import train_test_split\n",
    "from sklearn import preprocessing\n",
    "from sklearn.model_selection import KFold\n",
    "\n",
    "from tensorflow.keras import Sequential\n",
    "from tensorflow.keras.layers import InputLayer, Dense, Dropout\n",
    "from tensorflow.keras.callbacks import EarlyStopping\n",
    "from tensorflow.keras.optimizers import Adam"
   ]
  },
  {
   "cell_type": "markdown",
   "id": "69817dbd",
   "metadata": {
    "papermill": {
     "duration": 0.043835,
     "end_time": "2022-10-10T06:25:35.178231",
     "exception": false,
     "start_time": "2022-10-10T06:25:35.134396",
     "status": "completed"
    },
    "tags": []
   },
   "source": [
    "### Setting the seed for reproducability\n",
    "\n",
    ">For this assignment we will be using 42 as the seed"
   ]
  },
  {
   "cell_type": "code",
   "execution_count": 3,
   "id": "ea9cb6e4",
   "metadata": {
    "execution": {
     "iopub.execute_input": "2022-10-10T06:25:35.270434Z",
     "iopub.status.busy": "2022-10-10T06:25:35.269857Z",
     "iopub.status.idle": "2022-10-10T06:25:35.278603Z",
     "shell.execute_reply": "2022-10-10T06:25:35.276622Z"
    },
    "papermill": {
     "duration": 0.059889,
     "end_time": "2022-10-10T06:25:35.281087",
     "exception": false,
     "start_time": "2022-10-10T06:25:35.221198",
     "status": "completed"
    },
    "tags": []
   },
   "outputs": [],
   "source": [
    "SEED = 42\n",
    "\n",
    "import os\n",
    "os.environ['TF_CUDNN_DETERMINISTIC'] = '1'\n",
    "\n",
    "import random \n",
    "random.seed(SEED)\n",
    "\n",
    "import numpy as np\n",
    "np.random.seed(SEED)\n",
    "\n",
    "import tensorflow as tf\n",
    "tf.random.set_seed(SEED)"
   ]
  },
  {
   "cell_type": "markdown",
   "id": "ed6bbb80",
   "metadata": {
    "papermill": {
     "duration": 0.04582,
     "end_time": "2022-10-10T06:25:35.369490",
     "exception": false,
     "start_time": "2022-10-10T06:25:35.323670",
     "status": "completed"
    },
    "tags": []
   },
   "source": [
    "### Reading dataset"
   ]
  },
  {
   "cell_type": "code",
   "execution_count": 4,
   "id": "7d6b1c6c",
   "metadata": {
    "execution": {
     "iopub.execute_input": "2022-10-10T06:25:35.457066Z",
     "iopub.status.busy": "2022-10-10T06:25:35.456605Z",
     "iopub.status.idle": "2022-10-10T06:25:40.216367Z",
     "shell.execute_reply": "2022-10-10T06:25:40.215416Z"
    },
    "papermill": {
     "duration": 4.805903,
     "end_time": "2022-10-10T06:25:40.218586",
     "exception": false,
     "start_time": "2022-10-10T06:25:35.412683",
     "status": "completed"
    },
    "tags": []
   },
   "outputs": [
    {
     "data": {
      "text/html": [
       "<div>\n",
       "<style scoped>\n",
       "    .dataframe tbody tr th:only-of-type {\n",
       "        vertical-align: middle;\n",
       "    }\n",
       "\n",
       "    .dataframe tbody tr th {\n",
       "        vertical-align: top;\n",
       "    }\n",
       "\n",
       "    .dataframe thead th {\n",
       "        text-align: right;\n",
       "    }\n",
       "</style>\n",
       "<table border=\"1\" class=\"dataframe\">\n",
       "  <thead>\n",
       "    <tr style=\"text-align: right;\">\n",
       "      <th></th>\n",
       "      <th>filename</th>\n",
       "      <th>tempo</th>\n",
       "      <th>total_beats</th>\n",
       "      <th>average_beats</th>\n",
       "      <th>chroma_stft_mean</th>\n",
       "      <th>chroma_stft_var</th>\n",
       "      <th>chroma_cq_mean</th>\n",
       "      <th>chroma_cq_var</th>\n",
       "      <th>chroma_cens_mean</th>\n",
       "      <th>chroma_cens_var</th>\n",
       "      <th>...</th>\n",
       "      <th>mfcc15_mean</th>\n",
       "      <th>mfcc15_var</th>\n",
       "      <th>mfcc16_mean</th>\n",
       "      <th>mfcc16_var</th>\n",
       "      <th>mfcc17_mean</th>\n",
       "      <th>mfcc17_var</th>\n",
       "      <th>mfcc18_mean</th>\n",
       "      <th>mfcc18_var</th>\n",
       "      <th>mfcc19_mean</th>\n",
       "      <th>mfcc19_var</th>\n",
       "    </tr>\n",
       "  </thead>\n",
       "  <tbody>\n",
       "    <tr>\n",
       "      <th>0</th>\n",
       "      <td>app_3001_4001_phnd_neg_0000.wav</td>\n",
       "      <td>184.570312</td>\n",
       "      <td>623</td>\n",
       "      <td>69.222222</td>\n",
       "      <td>0.515281</td>\n",
       "      <td>0.093347</td>\n",
       "      <td>0.443441</td>\n",
       "      <td>0.082742</td>\n",
       "      <td>0.249143</td>\n",
       "      <td>0.021261</td>\n",
       "      <td>...</td>\n",
       "      <td>-10.669799</td>\n",
       "      <td>63.340282</td>\n",
       "      <td>1.811605</td>\n",
       "      <td>58.117188</td>\n",
       "      <td>-3.286546</td>\n",
       "      <td>54.268448</td>\n",
       "      <td>-2.719069</td>\n",
       "      <td>59.548176</td>\n",
       "      <td>-4.559987</td>\n",
       "      <td>70.774803</td>\n",
       "    </tr>\n",
       "    <tr>\n",
       "      <th>1</th>\n",
       "      <td>app_3001_4001_phnd_neg_0001.wav</td>\n",
       "      <td>151.999081</td>\n",
       "      <td>521</td>\n",
       "      <td>74.428571</td>\n",
       "      <td>0.487201</td>\n",
       "      <td>0.094461</td>\n",
       "      <td>0.542182</td>\n",
       "      <td>0.073359</td>\n",
       "      <td>0.274423</td>\n",
       "      <td>0.008025</td>\n",
       "      <td>...</td>\n",
       "      <td>-5.666375</td>\n",
       "      <td>90.256195</td>\n",
       "      <td>1.573594</td>\n",
       "      <td>105.070496</td>\n",
       "      <td>-0.742024</td>\n",
       "      <td>82.417496</td>\n",
       "      <td>-1.961745</td>\n",
       "      <td>119.312355</td>\n",
       "      <td>1.513660</td>\n",
       "      <td>101.014572</td>\n",
       "    </tr>\n",
       "    <tr>\n",
       "      <th>2</th>\n",
       "      <td>app_3001_4001_phnd_neg_0002.wav</td>\n",
       "      <td>112.347147</td>\n",
       "      <td>1614</td>\n",
       "      <td>146.727273</td>\n",
       "      <td>0.444244</td>\n",
       "      <td>0.099268</td>\n",
       "      <td>0.442014</td>\n",
       "      <td>0.083224</td>\n",
       "      <td>0.264430</td>\n",
       "      <td>0.013410</td>\n",
       "      <td>...</td>\n",
       "      <td>-5.502390</td>\n",
       "      <td>73.079750</td>\n",
       "      <td>0.202623</td>\n",
       "      <td>72.040550</td>\n",
       "      <td>-4.021009</td>\n",
       "      <td>73.844353</td>\n",
       "      <td>-5.916223</td>\n",
       "      <td>103.834824</td>\n",
       "      <td>-2.939086</td>\n",
       "      <td>113.598824</td>\n",
       "    </tr>\n",
       "    <tr>\n",
       "      <th>3</th>\n",
       "      <td>app_3001_4001_phnd_neg_0003.wav</td>\n",
       "      <td>107.666016</td>\n",
       "      <td>2060</td>\n",
       "      <td>158.461538</td>\n",
       "      <td>0.454156</td>\n",
       "      <td>0.100834</td>\n",
       "      <td>0.424370</td>\n",
       "      <td>0.084435</td>\n",
       "      <td>0.257672</td>\n",
       "      <td>0.016938</td>\n",
       "      <td>...</td>\n",
       "      <td>-8.812989</td>\n",
       "      <td>93.791893</td>\n",
       "      <td>-0.429413</td>\n",
       "      <td>60.002579</td>\n",
       "      <td>-4.013513</td>\n",
       "      <td>82.544540</td>\n",
       "      <td>-5.858006</td>\n",
       "      <td>84.402092</td>\n",
       "      <td>0.686969</td>\n",
       "      <td>90.126389</td>\n",
       "    </tr>\n",
       "    <tr>\n",
       "      <th>4</th>\n",
       "      <td>app_3001_4001_phnd_neg_0004.wav</td>\n",
       "      <td>75.999540</td>\n",
       "      <td>66</td>\n",
       "      <td>33.000000</td>\n",
       "      <td>0.478780</td>\n",
       "      <td>0.100000</td>\n",
       "      <td>0.414859</td>\n",
       "      <td>0.089313</td>\n",
       "      <td>0.252143</td>\n",
       "      <td>0.019757</td>\n",
       "      <td>...</td>\n",
       "      <td>-6.584204</td>\n",
       "      <td>64.973305</td>\n",
       "      <td>0.744403</td>\n",
       "      <td>68.908516</td>\n",
       "      <td>-6.354805</td>\n",
       "      <td>66.414391</td>\n",
       "      <td>-6.555534</td>\n",
       "      <td>47.852840</td>\n",
       "      <td>-4.809713</td>\n",
       "      <td>73.033966</td>\n",
       "    </tr>\n",
       "  </tbody>\n",
       "</table>\n",
       "<p>5 rows × 78 columns</p>\n",
       "</div>"
      ],
      "text/plain": [
       "                          filename       tempo  total_beats  average_beats  \\\n",
       "0  app_3001_4001_phnd_neg_0000.wav  184.570312          623      69.222222   \n",
       "1  app_3001_4001_phnd_neg_0001.wav  151.999081          521      74.428571   \n",
       "2  app_3001_4001_phnd_neg_0002.wav  112.347147         1614     146.727273   \n",
       "3  app_3001_4001_phnd_neg_0003.wav  107.666016         2060     158.461538   \n",
       "4  app_3001_4001_phnd_neg_0004.wav   75.999540           66      33.000000   \n",
       "\n",
       "   chroma_stft_mean  chroma_stft_var  chroma_cq_mean  chroma_cq_var  \\\n",
       "0          0.515281         0.093347        0.443441       0.082742   \n",
       "1          0.487201         0.094461        0.542182       0.073359   \n",
       "2          0.444244         0.099268        0.442014       0.083224   \n",
       "3          0.454156         0.100834        0.424370       0.084435   \n",
       "4          0.478780         0.100000        0.414859       0.089313   \n",
       "\n",
       "   chroma_cens_mean  chroma_cens_var  ...  mfcc15_mean  mfcc15_var  \\\n",
       "0          0.249143         0.021261  ...   -10.669799   63.340282   \n",
       "1          0.274423         0.008025  ...    -5.666375   90.256195   \n",
       "2          0.264430         0.013410  ...    -5.502390   73.079750   \n",
       "3          0.257672         0.016938  ...    -8.812989   93.791893   \n",
       "4          0.252143         0.019757  ...    -6.584204   64.973305   \n",
       "\n",
       "   mfcc16_mean  mfcc16_var  mfcc17_mean  mfcc17_var  mfcc18_mean  mfcc18_var  \\\n",
       "0     1.811605   58.117188    -3.286546   54.268448    -2.719069   59.548176   \n",
       "1     1.573594  105.070496    -0.742024   82.417496    -1.961745  119.312355   \n",
       "2     0.202623   72.040550    -4.021009   73.844353    -5.916223  103.834824   \n",
       "3    -0.429413   60.002579    -4.013513   82.544540    -5.858006   84.402092   \n",
       "4     0.744403   68.908516    -6.354805   66.414391    -6.555534   47.852840   \n",
       "\n",
       "   mfcc19_mean  mfcc19_var  \n",
       "0    -4.559987   70.774803  \n",
       "1     1.513660  101.014572  \n",
       "2    -2.939086  113.598824  \n",
       "3     0.686969   90.126389  \n",
       "4    -4.809713   73.033966  \n",
       "\n",
       "[5 rows x 78 columns]"
      ]
     },
     "execution_count": 4,
     "metadata": {},
     "output_type": "execute_result"
    }
   ],
   "source": [
    "df = pd.read_csv('../input/assignment/full.csv')\n",
    "df.head()"
   ]
  },
  {
   "cell_type": "code",
   "execution_count": 5,
   "id": "046fb032",
   "metadata": {
    "execution": {
     "iopub.execute_input": "2022-10-10T06:25:40.281335Z",
     "iopub.status.busy": "2022-10-10T06:25:40.281047Z",
     "iopub.status.idle": "2022-10-10T06:25:40.946015Z",
     "shell.execute_reply": "2022-10-10T06:25:40.945054Z"
    },
    "papermill": {
     "duration": 0.698723,
     "end_time": "2022-10-10T06:25:40.948339",
     "exception": false,
     "start_time": "2022-10-10T06:25:40.249616",
     "status": "completed"
    },
    "tags": []
   },
   "outputs": [],
   "source": [
    "df['label'] = df['filename'].str.split('_').str[-2]"
   ]
  },
  {
   "cell_type": "code",
   "execution_count": 6,
   "id": "14c3db5a",
   "metadata": {
    "execution": {
     "iopub.execute_input": "2022-10-10T06:25:41.011251Z",
     "iopub.status.busy": "2022-10-10T06:25:41.009724Z",
     "iopub.status.idle": "2022-10-10T06:25:41.037218Z",
     "shell.execute_reply": "2022-10-10T06:25:41.036251Z"
    },
    "papermill": {
     "duration": 0.060428,
     "end_time": "2022-10-10T06:25:41.039201",
     "exception": false,
     "start_time": "2022-10-10T06:25:40.978773",
     "status": "completed"
    },
    "tags": []
   },
   "outputs": [
    {
     "data": {
      "text/plain": [
       "pos    92826\n",
       "neg    89428\n",
       "Name: label, dtype: int64"
      ]
     },
     "execution_count": 6,
     "metadata": {},
     "output_type": "execute_result"
    }
   ],
   "source": [
    "df['label'].value_counts()"
   ]
  },
  {
   "cell_type": "markdown",
   "id": "9469e71d",
   "metadata": {
    "papermill": {
     "duration": 0.029389,
     "end_time": "2022-10-10T06:25:41.098498",
     "exception": false,
     "start_time": "2022-10-10T06:25:41.069109",
     "status": "completed"
    },
    "tags": []
   },
   "source": [
    "### Function to preprocess the dataset and split it into train and test"
   ]
  },
  {
   "cell_type": "code",
   "execution_count": 7,
   "id": "704b48b9",
   "metadata": {
    "execution": {
     "iopub.execute_input": "2022-10-10T06:25:41.160683Z",
     "iopub.status.busy": "2022-10-10T06:25:41.159275Z",
     "iopub.status.idle": "2022-10-10T06:25:41.166314Z",
     "shell.execute_reply": "2022-10-10T06:25:41.165506Z"
    },
    "papermill": {
     "duration": 0.039463,
     "end_time": "2022-10-10T06:25:41.168365",
     "exception": false,
     "start_time": "2022-10-10T06:25:41.128902",
     "status": "completed"
    },
    "tags": []
   },
   "outputs": [],
   "source": [
    "def split_dataset(df, columns_to_drop, test_size, random_state):\n",
    "    label_encoder = preprocessing.LabelEncoder()\n",
    "\n",
    "    df['label'] = label_encoder.fit_transform(df['label'])\n",
    "\n",
    "    df_train, df_test = train_test_split(df, test_size=test_size, random_state=random_state)\n",
    "\n",
    "    df_train2 = df_train.drop(columns_to_drop,axis=1)\n",
    "    y_train2 = df_train['label'].to_numpy()\n",
    "\n",
    "    df_test2 = df_test.drop(columns_to_drop,axis=1)\n",
    "    y_test2 = df_test['label'].to_numpy() \n",
    "\n",
    "    return df_train2, y_train2, df_test2, y_test2"
   ]
  },
  {
   "cell_type": "markdown",
   "id": "d74fda58",
   "metadata": {
    "papermill": {
     "duration": 0.029622,
     "end_time": "2022-10-10T06:25:41.227820",
     "exception": false,
     "start_time": "2022-10-10T06:25:41.198198",
     "status": "completed"
    },
    "tags": []
   },
   "source": [
    "### Function to appropriately scale the dataset"
   ]
  },
  {
   "cell_type": "code",
   "execution_count": 8,
   "id": "02a77131",
   "metadata": {
    "execution": {
     "iopub.execute_input": "2022-10-10T06:25:41.288350Z",
     "iopub.status.busy": "2022-10-10T06:25:41.288073Z",
     "iopub.status.idle": "2022-10-10T06:25:41.292980Z",
     "shell.execute_reply": "2022-10-10T06:25:41.291908Z"
    },
    "papermill": {
     "duration": 0.037666,
     "end_time": "2022-10-10T06:25:41.295321",
     "exception": false,
     "start_time": "2022-10-10T06:25:41.257655",
     "status": "completed"
    },
    "tags": []
   },
   "outputs": [],
   "source": [
    "def preprocess_dataset(df_train, df_test):\n",
    "\n",
    "    standard_scaler = preprocessing.StandardScaler()\n",
    "    df_train_scaled = standard_scaler.fit_transform(df_train)\n",
    "\n",
    "    df_test_scaled = standard_scaler.transform(df_test)\n",
    "\n",
    "    return df_train_scaled, df_test_scaled"
   ]
  },
  {
   "cell_type": "markdown",
   "id": "60ab4061",
   "metadata": {
    "papermill": {
     "duration": 0.030827,
     "end_time": "2022-10-10T06:25:41.355731",
     "exception": false,
     "start_time": "2022-10-10T06:25:41.324904",
     "status": "completed"
    },
    "tags": []
   },
   "source": [
    "### Preprocess and scale the dataset"
   ]
  },
  {
   "cell_type": "code",
   "execution_count": 9,
   "id": "531945ad",
   "metadata": {
    "execution": {
     "iopub.execute_input": "2022-10-10T06:25:41.416636Z",
     "iopub.status.busy": "2022-10-10T06:25:41.416359Z",
     "iopub.status.idle": "2022-10-10T06:25:41.653886Z",
     "shell.execute_reply": "2022-10-10T06:25:41.652727Z"
    },
    "papermill": {
     "duration": 0.271082,
     "end_time": "2022-10-10T06:25:41.656736",
     "exception": false,
     "start_time": "2022-10-10T06:25:41.385654",
     "status": "completed"
    },
    "tags": []
   },
   "outputs": [],
   "source": [
    "columns_to_drop = ['label','filename']\n",
    "\n",
    "X_train, y_train, X_test, y_test = split_dataset(df, columns_to_drop, test_size=0.3, random_state=0) # positive labels being encoded as 1"
   ]
  },
  {
   "cell_type": "markdown",
   "id": "6d571929",
   "metadata": {
    "papermill": {
     "duration": 0.029851,
     "end_time": "2022-10-10T06:25:41.717465",
     "exception": false,
     "start_time": "2022-10-10T06:25:41.687614",
     "status": "completed"
    },
    "tags": []
   },
   "source": [
    "### Set variables for training\n",
    "* **Number of epochs**: 50\n",
    "* **Number of folds**: 5\n",
    "* **Search space of batch size**: [ 128, 256, 512, 1024 [](http://)]"
   ]
  },
  {
   "cell_type": "code",
   "execution_count": 10,
   "id": "ae71b6a2",
   "metadata": {
    "execution": {
     "iopub.execute_input": "2022-10-10T06:25:41.779277Z",
     "iopub.status.busy": "2022-10-10T06:25:41.778651Z",
     "iopub.status.idle": "2022-10-10T06:25:41.783039Z",
     "shell.execute_reply": "2022-10-10T06:25:41.782102Z"
    },
    "papermill": {
     "duration": 0.038058,
     "end_time": "2022-10-10T06:25:41.785235",
     "exception": false,
     "start_time": "2022-10-10T06:25:41.747177",
     "status": "completed"
    },
    "tags": []
   },
   "outputs": [],
   "source": [
    "num_epochs = 100\n",
    "\n",
    "num_folds = 5\n",
    "\n",
    "batch_sizes = [128, 256, 512, 1024]"
   ]
  },
  {
   "cell_type": "markdown",
   "id": "3eecb59d",
   "metadata": {
    "papermill": {
     "duration": 0.030688,
     "end_time": "2022-10-10T06:25:41.845623",
     "exception": false,
     "start_time": "2022-10-10T06:25:41.814935",
     "status": "completed"
    },
    "tags": []
   },
   "source": [
    "### Callback to record the training time on the last epoch\n",
    "\n",
    "> The class inhherits from ***tf.keras.callbacks.Callback*** and implements the following methods: <br>\n",
    "***on_epoch_begin***: Calculates the time at which the epoch starts <br>\n",
    "***on_epoch_end***: Calculates the time at which the epoch ended <br>\n",
    "***on_train_end***: Calculates the differnce between the end time and start time at the end of the last epoch."
   ]
  },
  {
   "cell_type": "code",
   "execution_count": 11,
   "id": "8ed87c76",
   "metadata": {
    "execution": {
     "iopub.execute_input": "2022-10-10T06:25:41.909103Z",
     "iopub.status.busy": "2022-10-10T06:25:41.908816Z",
     "iopub.status.idle": "2022-10-10T06:25:41.915361Z",
     "shell.execute_reply": "2022-10-10T06:25:41.914422Z"
    },
    "papermill": {
     "duration": 0.040693,
     "end_time": "2022-10-10T06:25:41.917508",
     "exception": false,
     "start_time": "2022-10-10T06:25:41.876815",
     "status": "completed"
    },
    "tags": []
   },
   "outputs": [],
   "source": [
    "class TimerCallback(tf.keras.callbacks.Callback):\n",
    "    def __init__(self) -> None:\n",
    "        super().__init__()\n",
    "        self.time_taken_in_last_epoch = 0\n",
    "        self.start_time = 0\n",
    "        self.end_time = 0\n",
    "\n",
    "    def on_epoch_begin(self, epoch, logs=None):\n",
    "        self.start_time = time.time()\n",
    "\n",
    "    def on_epoch_end(self, epoch, logs=None):\n",
    "        self.end_time = time.time()\n",
    "    \n",
    "    def on_train_end(self, logs=None):\n",
    "        self.time_taken_in_last_epoch = self.end_time - self.start_time"
   ]
  },
  {
   "cell_type": "markdown",
   "id": "4715265f",
   "metadata": {
    "papermill": {
     "duration": 0.030605,
     "end_time": "2022-10-10T06:25:41.979301",
     "exception": false,
     "start_time": "2022-10-10T06:25:41.948696",
     "status": "completed"
    },
    "tags": []
   },
   "source": [
    "### Create model architecture based on specifications"
   ]
  },
  {
   "cell_type": "code",
   "execution_count": 12,
   "id": "24b05eb2",
   "metadata": {
    "execution": {
     "iopub.execute_input": "2022-10-10T06:25:42.042438Z",
     "iopub.status.busy": "2022-10-10T06:25:42.042143Z",
     "iopub.status.idle": "2022-10-10T06:25:42.048312Z",
     "shell.execute_reply": "2022-10-10T06:25:42.047324Z"
    },
    "papermill": {
     "duration": 0.039584,
     "end_time": "2022-10-10T06:25:42.050393",
     "exception": false,
     "start_time": "2022-10-10T06:25:42.010809",
     "status": "completed"
    },
    "tags": []
   },
   "outputs": [],
   "source": [
    "def create_model(input_shape):\n",
    "    \n",
    "    # Number of neurons in every hidden layer\n",
    "    num_neurons = 128\n",
    "    \n",
    "    model = Sequential([\n",
    "        InputLayer(input_shape=(input_shape,)),\n",
    "        Dense(num_neurons, activation='relu'),\n",
    "        Dropout(0.2),\n",
    "        Dense(num_neurons, activation='relu'),\n",
    "        Dropout(0.2),\n",
    "        Dense(num_neurons, activation='relu'),\n",
    "        Dropout(0.2),\n",
    "        Dense(1, activation='sigmoid')\n",
    "    ])\n",
    "\n",
    "    optimizer = Adam(learning_rate=0.001)\n",
    "\n",
    "    model.compile(\n",
    "            optimizer=optimizer,\n",
    "            loss='binary_crossentropy',\n",
    "            metrics=['accuracy']\n",
    "        )\n",
    "    \n",
    "    return model"
   ]
  },
  {
   "cell_type": "markdown",
   "id": "f890e46e",
   "metadata": {
    "papermill": {
     "duration": 0.029461,
     "end_time": "2022-10-10T06:25:42.109826",
     "exception": false,
     "start_time": "2022-10-10T06:25:42.080365",
     "status": "completed"
    },
    "tags": []
   },
   "source": [
    "## Part A\n",
    ">Plot mean cross-validation accuracies on the final epoch for different batch sizes as\n",
    "a scatter plot. Limit search space to batch sizes {128, 256, 512, 1024}. This might take\n",
    "a while to run."
   ]
  },
  {
   "cell_type": "markdown",
   "id": "eac566a0",
   "metadata": {
    "papermill": {
     "duration": 0.029816,
     "end_time": "2022-10-10T06:25:42.169465",
     "exception": false,
     "start_time": "2022-10-10T06:25:42.139649",
     "status": "completed"
    },
    "tags": []
   },
   "source": [
    "### Hyperparamter tuning with 5-Fold Cross Validation\n",
    "> For each batch size we perform a 5-Fold cross validation and report the mean validation accuracy. In my experiment, I have chosen the outer loop to iterate through the batch size space and the inner loop performs the 5-Fold Cross Validation. I wanted each batch size to be its own experiment. Note that you can reverse the loop order and train for each batch size on the same fold. Since I am using a seed, the cross validation split should be the same and both methods must give the same answer.\n",
    "\n",
    "> **Scaling** <br>\n",
    "The scaling is performed in the Cross Validation loop and the scalar is fit only on the training fold and not the validation fold. This is done to prevent data leakage and it does not include the validation set when calculating the statistics for the training set."
   ]
  },
  {
   "cell_type": "code",
   "execution_count": 13,
   "id": "d0739cbd",
   "metadata": {
    "execution": {
     "iopub.execute_input": "2022-10-10T06:25:42.231306Z",
     "iopub.status.busy": "2022-10-10T06:25:42.231029Z",
     "iopub.status.idle": "2022-10-10T06:54:25.838794Z",
     "shell.execute_reply": "2022-10-10T06:54:25.837594Z"
    },
    "papermill": {
     "duration": 1723.641487,
     "end_time": "2022-10-10T06:54:25.841544",
     "exception": false,
     "start_time": "2022-10-10T06:25:42.200057",
     "status": "completed"
    },
    "tags": []
   },
   "outputs": [
    {
     "name": "stderr",
     "output_type": "stream",
     "text": [
      "2022-10-10 06:25:42.508671: I tensorflow/stream_executor/cuda/cuda_gpu_executor.cc:980] successful NUMA node read from SysFS had negative value (-1), but there must be at least one NUMA node, so returning NUMA node zero\n",
      "2022-10-10 06:25:42.610415: I tensorflow/stream_executor/cuda/cuda_gpu_executor.cc:980] successful NUMA node read from SysFS had negative value (-1), but there must be at least one NUMA node, so returning NUMA node zero\n",
      "2022-10-10 06:25:42.611276: I tensorflow/stream_executor/cuda/cuda_gpu_executor.cc:980] successful NUMA node read from SysFS had negative value (-1), but there must be at least one NUMA node, so returning NUMA node zero\n",
      "2022-10-10 06:25:42.612380: I tensorflow/core/platform/cpu_feature_guard.cc:193] This TensorFlow binary is optimized with oneAPI Deep Neural Network Library (oneDNN) to use the following CPU instructions in performance-critical operations:  AVX2 AVX512F FMA\n",
      "To enable them in other operations, rebuild TensorFlow with the appropriate compiler flags.\n",
      "2022-10-10 06:25:42.612751: I tensorflow/stream_executor/cuda/cuda_gpu_executor.cc:980] successful NUMA node read from SysFS had negative value (-1), but there must be at least one NUMA node, so returning NUMA node zero\n",
      "2022-10-10 06:25:42.613510: I tensorflow/stream_executor/cuda/cuda_gpu_executor.cc:980] successful NUMA node read from SysFS had negative value (-1), but there must be at least one NUMA node, so returning NUMA node zero\n",
      "2022-10-10 06:25:42.614168: I tensorflow/stream_executor/cuda/cuda_gpu_executor.cc:980] successful NUMA node read from SysFS had negative value (-1), but there must be at least one NUMA node, so returning NUMA node zero\n",
      "2022-10-10 06:25:43.511800: I tensorflow/stream_executor/cuda/cuda_gpu_executor.cc:980] successful NUMA node read from SysFS had negative value (-1), but there must be at least one NUMA node, so returning NUMA node zero\n",
      "2022-10-10 06:25:43.512670: I tensorflow/stream_executor/cuda/cuda_gpu_executor.cc:980] successful NUMA node read from SysFS had negative value (-1), but there must be at least one NUMA node, so returning NUMA node zero\n",
      "2022-10-10 06:25:43.513552: I tensorflow/stream_executor/cuda/cuda_gpu_executor.cc:980] successful NUMA node read from SysFS had negative value (-1), but there must be at least one NUMA node, so returning NUMA node zero\n",
      "2022-10-10 06:25:43.514157: I tensorflow/core/common_runtime/gpu/gpu_device.cc:1616] Created device /job:localhost/replica:0/task:0/device:GPU:0 with 15361 MB memory:  -> device: 0, name: Tesla P100-PCIE-16GB, pci bus id: 0000:00:04.0, compute capability: 6.0\n"
     ]
    },
    {
     "name": "stdout",
     "output_type": "stream",
     "text": [
      "Batch Size 128 | fold 0 | validation accuracy 0.6481423377990723 | Time on last epoch 2.6391024589538574\n",
      "Batch Size 128 | fold 1 | validation accuracy 0.6440664529800415 | Time on last epoch 3.0073776245117188\n",
      "Batch Size 128 | fold 2 | validation accuracy 0.6553791761398315 | Time on last epoch 2.652071714401245\n",
      "Batch Size 128 | fold 3 | validation accuracy 0.6533019542694092 | Time on last epoch 2.3335835933685303\n",
      "Batch Size 128 | fold 4 | validation accuracy 0.642524003982544 | Time on last epoch 2.3572163581848145\n",
      "* mean accuracy = 0.648683 *\n",
      "Batch Size 256 | fold 0 | validation accuracy 0.6568427681922913 | Time on last epoch 1.1644675731658936\n",
      "Batch Size 256 | fold 1 | validation accuracy 0.6598604917526245 | Time on last epoch 1.32035231590271\n",
      "Batch Size 256 | fold 2 | validation accuracy 0.6460121273994446 | Time on last epoch 1.513153076171875\n",
      "Batch Size 256 | fold 3 | validation accuracy 0.6570252776145935 | Time on last epoch 1.3174030780792236\n",
      "Batch Size 256 | fold 4 | validation accuracy 0.6490299701690674 | Time on last epoch 1.229299783706665\n",
      "* mean accuracy = 0.653754 *\n",
      "Batch Size 512 | fold 0 | validation accuracy 0.6542561650276184 | Time on last epoch 0.6411385536193848\n",
      "Batch Size 512 | fold 1 | validation accuracy 0.6602915525436401 | Time on last epoch 0.66925048828125\n",
      "Batch Size 512 | fold 2 | validation accuracy 0.6595336198806763 | Time on last epoch 0.6634140014648438\n",
      "Batch Size 512 | fold 3 | validation accuracy 0.6591808795928955 | Time on last epoch 0.6781704425811768\n",
      "Batch Size 512 | fold 4 | validation accuracy 0.6621203422546387 | Time on last epoch 0.6508493423461914\n",
      "* mean accuracy = 0.659077 *\n",
      "Batch Size 1024 | fold 0 | validation accuracy 0.6502978801727295 | Time on last epoch 0.49252772331237793\n",
      "Batch Size 1024 | fold 1 | validation accuracy 0.6524533629417419 | Time on last epoch 0.3389754295349121\n",
      "Batch Size 1024 | fold 2 | validation accuracy 0.6471095681190491 | Time on last epoch 0.3433189392089844\n",
      "Batch Size 1024 | fold 3 | validation accuracy 0.655575156211853 | Time on last epoch 0.32378125190734863\n",
      "Batch Size 1024 | fold 4 | validation accuracy 0.6498138308525085 | Time on last epoch 0.32964348793029785\n",
      "* mean accuracy = 0.65105 *\n"
     ]
    }
   ],
   "source": [
    "input_shape = X_train.shape[1]\n",
    "\n",
    "batch_size_acc = {}\n",
    "timer = {}\n",
    "\n",
    "for batch_size in batch_sizes:\n",
    "    fold = 0\n",
    "    acc = []\n",
    "    cv = KFold(n_splits=num_folds, shuffle=True, random_state=SEED)\n",
    "    timer[batch_size] = 0\n",
    "\n",
    "    for i, (train_idx, val_idx) in enumerate(cv.split(X_train, y_train)):\n",
    "        X_train_copy, y_train_copy  = X_train.iloc[train_idx], y_train[train_idx]\n",
    "        X_val, y_val = X_train.iloc[val_idx], y_train[val_idx]\n",
    "\n",
    "        X_train_copy_scaled, X_val_scaled = preprocess_dataset(X_train_copy, X_val)\n",
    "        \n",
    "        model = create_model(input_shape)\n",
    "\n",
    "        timer_callback = TimerCallback()\n",
    "        early_stopping_callback = EarlyStopping(monitor='val_loss', patience=3)\n",
    "            \n",
    "        history = model.fit(X_train_copy_scaled, y_train_copy,\n",
    "                            epochs=num_epochs,\n",
    "                            verbose=0,\n",
    "                            batch_size=batch_size,\n",
    "                            use_multiprocessing=False,\n",
    "                            validation_data=(X_val_scaled, y_val),\n",
    "                            callbacks=[timer_callback, early_stopping_callback] \n",
    "                        )\n",
    "        \n",
    "\n",
    "        timer[batch_size] += timer_callback.time_taken_in_last_epoch\n",
    "        \n",
    "        acc.append(history.history['val_accuracy'][-1])\n",
    "        \n",
    "        print(f'Batch Size {batch_size} | fold {fold} | validation accuracy {acc[fold]} | Time on last epoch {timer_callback.time_taken_in_last_epoch}')\n",
    "        fold += 1\n",
    "    \n",
    "    timer[batch_size] /= num_folds\n",
    "        \n",
    "    print('* mean accuracy = %g *'% np.mean(acc))\n",
    "    batch_size_acc[batch_size] = np.mean(acc)"
   ]
  },
  {
   "cell_type": "markdown",
   "id": "f120848f",
   "metadata": {
    "papermill": {
     "duration": 0.031001,
     "end_time": "2022-10-10T06:54:25.905087",
     "exception": false,
     "start_time": "2022-10-10T06:54:25.874086",
     "status": "completed"
    },
    "tags": []
   },
   "source": [
    "### Scatter plot of mean cross-validation accuracies on the final epoch for different batch sizes "
   ]
  },
  {
   "cell_type": "code",
   "execution_count": 14,
   "id": "e512d8c6",
   "metadata": {
    "execution": {
     "iopub.execute_input": "2022-10-10T06:54:25.969750Z",
     "iopub.status.busy": "2022-10-10T06:54:25.968721Z",
     "iopub.status.idle": "2022-10-10T06:54:44.252058Z",
     "shell.execute_reply": "2022-10-10T06:54:44.251163Z"
    },
    "papermill": {
     "duration": 18.318262,
     "end_time": "2022-10-10T06:54:44.254424",
     "exception": false,
     "start_time": "2022-10-10T06:54:25.936162",
     "status": "completed"
    },
    "tags": []
   },
   "outputs": [
    {
     "data": {
      "image/png": "[encoded data removed]",
      "text/plain": [
       "<Figure size 432x288 with 1 Axes>"
      ]
     },
     "metadata": {
      "needs_background": "light"
     },
     "output_type": "display_data"
    }
   ],
   "source": [
    "fig, ax = plt.subplots()\n",
    "ax.scatter([str(batch_size) for batch_size in batch_size_acc.keys()], batch_size_acc.values(),  marker = 'x')\n",
    "plt.xlabel('Batch Size')\n",
    "plt.ylabel('Mean cross-validation accuracy')\n",
    "plt.show()"
   ]
  },
  {
   "cell_type": "markdown",
   "id": "89bf44c5",
   "metadata": {
    "papermill": {
     "duration": 0.046025,
     "end_time": "2022-10-10T06:54:44.348012",
     "exception": false,
     "start_time": "2022-10-10T06:54:44.301987",
     "status": "completed"
    },
    "tags": []
   },
   "source": [
    "### Observations\n",
    "> The batch size that gives the best score is 512. At first the accuracy increases as the batch size increases and then the accuracy drops at batch size = 1024."
   ]
  },
  {
   "cell_type": "markdown",
   "id": "cf5c0b7a",
   "metadata": {
    "papermill": {
     "duration": 0.046935,
     "end_time": "2022-10-10T06:54:44.445074",
     "exception": false,
     "start_time": "2022-10-10T06:54:44.398139",
     "status": "completed"
    },
    "tags": []
   },
   "source": [
    "## Part B\n",
    ">Create a table of time taken to train the network on the last epoch against\n",
    "different batch sizes. (Hint: Introduce a callback)"
   ]
  },
  {
   "cell_type": "markdown",
   "id": "e50ec273",
   "metadata": {
    "papermill": {
     "duration": 0.045767,
     "end_time": "2022-10-10T06:54:44.537257",
     "exception": false,
     "start_time": "2022-10-10T06:54:44.491490",
     "status": "completed"
    },
    "tags": []
   },
   "source": [
    "### Table of time taken to train on the last epoch"
   ]
  },
  {
   "cell_type": "code",
   "execution_count": 15,
   "id": "98a48ba4",
   "metadata": {
    "execution": {
     "iopub.execute_input": "2022-10-10T06:54:44.635469Z",
     "iopub.status.busy": "2022-10-10T06:54:44.635145Z",
     "iopub.status.idle": "2022-10-10T06:54:44.648061Z",
     "shell.execute_reply": "2022-10-10T06:54:44.647165Z"
    },
    "papermill": {
     "duration": 0.06232,
     "end_time": "2022-10-10T06:54:44.649970",
     "exception": false,
     "start_time": "2022-10-10T06:54:44.587650",
     "status": "completed"
    },
    "tags": []
   },
   "outputs": [
    {
     "data": {
      "text/html": [
       "<div>\n",
       "<style scoped>\n",
       "    .dataframe tbody tr th:only-of-type {\n",
       "        vertical-align: middle;\n",
       "    }\n",
       "\n",
       "    .dataframe tbody tr th {\n",
       "        vertical-align: top;\n",
       "    }\n",
       "\n",
       "    .dataframe thead th {\n",
       "        text-align: right;\n",
       "    }\n",
       "</style>\n",
       "<table border=\"1\" class=\"dataframe\">\n",
       "  <thead>\n",
       "    <tr style=\"text-align: right;\">\n",
       "      <th></th>\n",
       "      <th>batch_size</th>\n",
       "      <th>training_time_on_last_epoch</th>\n",
       "    </tr>\n",
       "  </thead>\n",
       "  <tbody>\n",
       "    <tr>\n",
       "      <th>0</th>\n",
       "      <td>128</td>\n",
       "      <td>2.597870</td>\n",
       "    </tr>\n",
       "    <tr>\n",
       "      <th>1</th>\n",
       "      <td>256</td>\n",
       "      <td>1.308935</td>\n",
       "    </tr>\n",
       "    <tr>\n",
       "      <th>2</th>\n",
       "      <td>512</td>\n",
       "      <td>0.660565</td>\n",
       "    </tr>\n",
       "    <tr>\n",
       "      <th>3</th>\n",
       "      <td>1024</td>\n",
       "      <td>0.365649</td>\n",
       "    </tr>\n",
       "  </tbody>\n",
       "</table>\n",
       "</div>"
      ],
      "text/plain": [
       "   batch_size  training_time_on_last_epoch\n",
       "0         128                     2.597870\n",
       "1         256                     1.308935\n",
       "2         512                     0.660565\n",
       "3        1024                     0.365649"
      ]
     },
     "execution_count": 15,
     "metadata": {},
     "output_type": "execute_result"
    }
   ],
   "source": [
    "timer_df = pd.DataFrame()\n",
    "timer_df['batch_size'] = timer.keys()\n",
    "timer_df['training_time_on_last_epoch'] = timer.values()\n",
    "timer_df"
   ]
  },
  {
   "cell_type": "markdown",
   "id": "e1da2da8",
   "metadata": {
    "papermill": {
     "duration": 0.031219,
     "end_time": "2022-10-10T06:54:44.712557",
     "exception": false,
     "start_time": "2022-10-10T06:54:44.681338",
     "status": "completed"
    },
    "tags": []
   },
   "source": [
    "### Observations\n",
    "> As the batch size increases, the training time decreased. This is because increasing batch size as it is equivalent to taking a few big steps, instead of taking many little steps."
   ]
  },
  {
   "cell_type": "markdown",
   "id": "3df9cacf",
   "metadata": {
    "papermill": {
     "duration": 0.030845,
     "end_time": "2022-10-10T06:54:44.774693",
     "exception": false,
     "start_time": "2022-10-10T06:54:44.743848",
     "status": "completed"
    },
    "tags": []
   },
   "source": [
    "## Part C\n",
    "> Select the optimal batch size and state a reason for your selection"
   ]
  },
  {
   "cell_type": "markdown",
   "id": "b5c69329",
   "metadata": {
    "papermill": {
     "duration": 0.031922,
     "end_time": "2022-10-10T06:54:44.838095",
     "exception": false,
     "start_time": "2022-10-10T06:54:44.806173",
     "status": "completed"
    },
    "tags": []
   },
   "source": [
    "### Selection of optimal batch size\n",
    "> To select the optimal batch size we need to analyze the tradeoff between accuracy and training time. Since the training time is still relatively small < 2s per epoch for every batch size, it is safe to ignore the training time for this question. Therefore, the selection of batch size is solely based on the mean cross validation accuracy.\n",
    "<br>\n",
    "**Optimal Batch Size = 512**"
   ]
  },
  {
   "cell_type": "code",
   "execution_count": 16,
   "id": "c21e1224",
   "metadata": {
    "execution": {
     "iopub.execute_input": "2022-10-10T06:54:44.902264Z",
     "iopub.status.busy": "2022-10-10T06:54:44.901981Z",
     "iopub.status.idle": "2022-10-10T06:54:44.906751Z",
     "shell.execute_reply": "2022-10-10T06:54:44.905830Z"
    },
    "papermill": {
     "duration": 0.039797,
     "end_time": "2022-10-10T06:54:44.909406",
     "exception": false,
     "start_time": "2022-10-10T06:54:44.869609",
     "status": "completed"
    },
    "tags": []
   },
   "outputs": [
    {
     "name": "stdout",
     "output_type": "stream",
     "text": [
      "Optimal Batch Size: 512\n"
     ]
    }
   ],
   "source": [
    "optimal_batch_size = max(batch_size_acc, key=batch_size_acc.get)\n",
    "print(f'Optimal Batch Size: {optimal_batch_size}')"
   ]
  },
  {
   "cell_type": "markdown",
   "id": "5399f3c9",
   "metadata": {
    "papermill": {
     "duration": 0.031428,
     "end_time": "2022-10-10T06:54:44.972951",
     "exception": false,
     "start_time": "2022-10-10T06:54:44.941523",
     "status": "completed"
    },
    "tags": []
   },
   "source": [
    "## Part D\n",
    "> What happens when batch size increases, and why does it happen? "
   ]
  },
  {
   "cell_type": "markdown",
   "id": "021b4f42",
   "metadata": {
    "papermill": {
     "duration": 0.031823,
     "end_time": "2022-10-10T06:54:45.037058",
     "exception": false,
     "start_time": "2022-10-10T06:54:45.005235",
     "status": "completed"
    },
    "tags": []
   },
   "source": [
    "### Effects of increasing batch size\n",
    "> ***Effect on training time***<br>\n",
    "As we can see from the table in Question 2b, the training time reduces as the batch size increases. <br><br>If you hold the number of epochs constant, then the total number of gradient descent steps made by the algorithm is inversely proportional to the batch size. That's because to go through all of the data (one epoch), you need num_examples / batch_size steps. <br><br>As the batch size increases, there are more training examples to calculate the loss for. Moreover, there also needs to be more amount of computation in the forward prop. But however, most of this is optimized using **Vectorization** (Array programming, a style of computer programming where operations are applied to whole arrays instead of individual elements).<br><br>\n",
    "***Effect on accuracy***<br>\n",
    "From the scatter plot its difficult to make a solid claim about the effect of batch size. Different runs with different seeds gave different results.<br><br>\n",
    "Gradients with small batch size oscillates much more compared to larger batch size. This oscillation can be considered noise and helps the model escape local minima. Larger batches do fewer and coarser search steps for the optimal solution, and so by construction will be less likely to converge on the optimal solution. This should mean that decreasing the batch size improves the accuracy/loss <br><br> However from the scatter plot, we can see that the accuracy improves as the batch size increases and peaks at Batch Size = 512. However, at Batch Size = 1024, there is a dip in accuracy. \n"
   ]
  },
  {
   "cell_type": "markdown",
   "id": "3864174b",
   "metadata": {
    "papermill": {
     "duration": 0.031072,
     "end_time": "2022-10-10T06:54:45.100301",
     "exception": false,
     "start_time": "2022-10-10T06:54:45.069229",
     "status": "completed"
    },
    "tags": []
   },
   "source": [
    "## Part E\n",
    ">Plot the train and test accuracies against epochs for the optimal batch size in a line\n",
    "plot. "
   ]
  },
  {
   "cell_type": "markdown",
   "id": "8775417b",
   "metadata": {
    "papermill": {
     "duration": 0.031153,
     "end_time": "2022-10-10T06:54:45.163410",
     "exception": false,
     "start_time": "2022-10-10T06:54:45.132257",
     "status": "completed"
    },
    "tags": []
   },
   "source": [
    "### Training model on entire training set with optimal batch size"
   ]
  },
  {
   "cell_type": "code",
   "execution_count": 17,
   "id": "11ea3c17",
   "metadata": {
    "execution": {
     "iopub.execute_input": "2022-10-10T06:54:45.280136Z",
     "iopub.status.busy": "2022-10-10T06:54:45.279794Z",
     "iopub.status.idle": "2022-10-10T06:56:16.297671Z",
     "shell.execute_reply": "2022-10-10T06:56:16.296671Z"
    },
    "papermill": {
     "duration": 91.104862,
     "end_time": "2022-10-10T06:56:16.300089",
     "exception": false,
     "start_time": "2022-10-10T06:54:45.195227",
     "status": "completed"
    },
    "tags": []
   },
   "outputs": [
    {
     "name": "stdout",
     "output_type": "stream",
     "text": [
      "Epoch 1/100\n",
      "250/250 [==============================] - 2s 5ms/step - loss: 0.6910 - accuracy: 0.5355 - val_loss: 0.6857 - val_accuracy: 0.5479\n",
      "Epoch 2/100\n",
      "250/250 [==============================] - 1s 4ms/step - loss: 0.6842 - accuracy: 0.5502 - val_loss: 0.6826 - val_accuracy: 0.5537\n",
      "Epoch 3/100\n",
      "250/250 [==============================] - 1s 4ms/step - loss: 0.6815 - accuracy: 0.5562 - val_loss: 0.6812 - val_accuracy: 0.5581\n",
      "Epoch 4/100\n",
      "250/250 [==============================] - 1s 4ms/step - loss: 0.6790 - accuracy: 0.5624 - val_loss: 0.6784 - val_accuracy: 0.5661\n",
      "Epoch 5/100\n",
      "250/250 [==============================] - 1s 4ms/step - loss: 0.6768 - accuracy: 0.5667 - val_loss: 0.6758 - val_accuracy: 0.5694\n",
      "Epoch 6/100\n",
      "250/250 [==============================] - 1s 4ms/step - loss: 0.6739 - accuracy: 0.5720 - val_loss: 0.6739 - val_accuracy: 0.5753\n",
      "Epoch 7/100\n",
      "250/250 [==============================] - 1s 4ms/step - loss: 0.6709 - accuracy: 0.5778 - val_loss: 0.6704 - val_accuracy: 0.5804\n",
      "Epoch 8/100\n",
      "250/250 [==============================] - 1s 4ms/step - loss: 0.6680 - accuracy: 0.5850 - val_loss: 0.6672 - val_accuracy: 0.5883\n",
      "Epoch 9/100\n",
      "250/250 [==============================] - 1s 5ms/step - loss: 0.6650 - accuracy: 0.5902 - val_loss: 0.6655 - val_accuracy: 0.5933\n",
      "Epoch 10/100\n",
      "250/250 [==============================] - 1s 4ms/step - loss: 0.6613 - accuracy: 0.5948 - val_loss: 0.6637 - val_accuracy: 0.5940\n",
      "Epoch 11/100\n",
      "250/250 [==============================] - 1s 4ms/step - loss: 0.6588 - accuracy: 0.5977 - val_loss: 0.6599 - val_accuracy: 0.5992\n",
      "Epoch 12/100\n",
      "250/250 [==============================] - 1s 4ms/step - loss: 0.6547 - accuracy: 0.6042 - val_loss: 0.6561 - val_accuracy: 0.6020\n",
      "Epoch 13/100\n",
      "250/250 [==============================] - 1s 4ms/step - loss: 0.6510 - accuracy: 0.6078 - val_loss: 0.6531 - val_accuracy: 0.6065\n",
      "Epoch 14/100\n",
      "250/250 [==============================] - 1s 4ms/step - loss: 0.6488 - accuracy: 0.6122 - val_loss: 0.6500 - val_accuracy: 0.6137\n",
      "Epoch 15/100\n",
      "250/250 [==============================] - 1s 4ms/step - loss: 0.6468 - accuracy: 0.6153 - val_loss: 0.6473 - val_accuracy: 0.6135\n",
      "Epoch 16/100\n",
      "250/250 [==============================] - 1s 4ms/step - loss: 0.6428 - accuracy: 0.6183 - val_loss: 0.6453 - val_accuracy: 0.6201\n",
      "Epoch 17/100\n",
      "250/250 [==============================] - 1s 4ms/step - loss: 0.6391 - accuracy: 0.6251 - val_loss: 0.6423 - val_accuracy: 0.6206\n",
      "Epoch 18/100\n",
      "250/250 [==============================] - 1s 4ms/step - loss: 0.6380 - accuracy: 0.6257 - val_loss: 0.6391 - val_accuracy: 0.6227\n",
      "Epoch 19/100\n",
      "250/250 [==============================] - 1s 4ms/step - loss: 0.6347 - accuracy: 0.6281 - val_loss: 0.6366 - val_accuracy: 0.6269\n",
      "Epoch 20/100\n",
      "250/250 [==============================] - 1s 5ms/step - loss: 0.6323 - accuracy: 0.6309 - val_loss: 0.6371 - val_accuracy: 0.6269\n",
      "Epoch 21/100\n",
      "250/250 [==============================] - 1s 4ms/step - loss: 0.6310 - accuracy: 0.6337 - val_loss: 0.6363 - val_accuracy: 0.6289\n",
      "Epoch 22/100\n",
      "250/250 [==============================] - 1s 4ms/step - loss: 0.6289 - accuracy: 0.6346 - val_loss: 0.6321 - val_accuracy: 0.6332\n",
      "Epoch 23/100\n",
      "250/250 [==============================] - 1s 4ms/step - loss: 0.6255 - accuracy: 0.6383 - val_loss: 0.6317 - val_accuracy: 0.6321\n",
      "Epoch 24/100\n",
      "250/250 [==============================] - 1s 4ms/step - loss: 0.6238 - accuracy: 0.6411 - val_loss: 0.6294 - val_accuracy: 0.6352\n",
      "Epoch 25/100\n",
      "250/250 [==============================] - 1s 4ms/step - loss: 0.6224 - accuracy: 0.6426 - val_loss: 0.6279 - val_accuracy: 0.6391\n",
      "Epoch 26/100\n",
      "250/250 [==============================] - 1s 5ms/step - loss: 0.6206 - accuracy: 0.6443 - val_loss: 0.6256 - val_accuracy: 0.6384\n",
      "Epoch 27/100\n",
      "250/250 [==============================] - 1s 4ms/step - loss: 0.6180 - accuracy: 0.6478 - val_loss: 0.6240 - val_accuracy: 0.6404\n",
      "Epoch 28/100\n",
      "250/250 [==============================] - 1s 4ms/step - loss: 0.6161 - accuracy: 0.6494 - val_loss: 0.6226 - val_accuracy: 0.6424\n",
      "Epoch 29/100\n",
      "250/250 [==============================] - 1s 4ms/step - loss: 0.6155 - accuracy: 0.6498 - val_loss: 0.6214 - val_accuracy: 0.6457\n",
      "Epoch 30/100\n",
      "250/250 [==============================] - 1s 4ms/step - loss: 0.6141 - accuracy: 0.6517 - val_loss: 0.6219 - val_accuracy: 0.6445\n",
      "Epoch 31/100\n",
      "250/250 [==============================] - 1s 5ms/step - loss: 0.6108 - accuracy: 0.6555 - val_loss: 0.6191 - val_accuracy: 0.6469\n",
      "Epoch 32/100\n",
      "250/250 [==============================] - 1s 4ms/step - loss: 0.6119 - accuracy: 0.6532 - val_loss: 0.6189 - val_accuracy: 0.6463\n",
      "Epoch 33/100\n",
      "250/250 [==============================] - 1s 4ms/step - loss: 0.6097 - accuracy: 0.6570 - val_loss: 0.6173 - val_accuracy: 0.6489\n",
      "Epoch 34/100\n",
      "250/250 [==============================] - 1s 4ms/step - loss: 0.6086 - accuracy: 0.6575 - val_loss: 0.6158 - val_accuracy: 0.6514\n",
      "Epoch 35/100\n",
      "250/250 [==============================] - 1s 4ms/step - loss: 0.6068 - accuracy: 0.6595 - val_loss: 0.6148 - val_accuracy: 0.6510\n",
      "Epoch 36/100\n",
      "250/250 [==============================] - 1s 4ms/step - loss: 0.6069 - accuracy: 0.6587 - val_loss: 0.6143 - val_accuracy: 0.6518\n",
      "Epoch 37/100\n",
      "250/250 [==============================] - 1s 4ms/step - loss: 0.6046 - accuracy: 0.6602 - val_loss: 0.6138 - val_accuracy: 0.6536\n",
      "Epoch 38/100\n",
      "250/250 [==============================] - 1s 4ms/step - loss: 0.6042 - accuracy: 0.6608 - val_loss: 0.6137 - val_accuracy: 0.6539\n",
      "Epoch 39/100\n",
      "250/250 [==============================] - 1s 4ms/step - loss: 0.6021 - accuracy: 0.6637 - val_loss: 0.6120 - val_accuracy: 0.6546\n",
      "Epoch 40/100\n",
      "250/250 [==============================] - 1s 4ms/step - loss: 0.6024 - accuracy: 0.6626 - val_loss: 0.6108 - val_accuracy: 0.6551\n",
      "Epoch 41/100\n",
      "250/250 [==============================] - 1s 4ms/step - loss: 0.6002 - accuracy: 0.6641 - val_loss: 0.6104 - val_accuracy: 0.6576\n",
      "Epoch 42/100\n",
      "250/250 [==============================] - 1s 4ms/step - loss: 0.5991 - accuracy: 0.6662 - val_loss: 0.6098 - val_accuracy: 0.6561\n",
      "Epoch 43/100\n",
      "250/250 [==============================] - 1s 4ms/step - loss: 0.5988 - accuracy: 0.6662 - val_loss: 0.6090 - val_accuracy: 0.6582\n",
      "Epoch 44/100\n",
      "250/250 [==============================] - 1s 4ms/step - loss: 0.5984 - accuracy: 0.6665 - val_loss: 0.6082 - val_accuracy: 0.6578\n",
      "Epoch 45/100\n",
      "250/250 [==============================] - 1s 4ms/step - loss: 0.5960 - accuracy: 0.6689 - val_loss: 0.6081 - val_accuracy: 0.6590\n",
      "Epoch 46/100\n",
      "250/250 [==============================] - 1s 4ms/step - loss: 0.5942 - accuracy: 0.6711 - val_loss: 0.6075 - val_accuracy: 0.6598\n",
      "Epoch 47/100\n",
      "250/250 [==============================] - 1s 4ms/step - loss: 0.5944 - accuracy: 0.6709 - val_loss: 0.6059 - val_accuracy: 0.6602\n",
      "Epoch 48/100\n",
      "250/250 [==============================] - 1s 4ms/step - loss: 0.5946 - accuracy: 0.6693 - val_loss: 0.6066 - val_accuracy: 0.6593\n",
      "Epoch 49/100\n",
      "250/250 [==============================] - 1s 4ms/step - loss: 0.5929 - accuracy: 0.6731 - val_loss: 0.6052 - val_accuracy: 0.6605\n",
      "Epoch 50/100\n",
      "250/250 [==============================] - 1s 4ms/step - loss: 0.5920 - accuracy: 0.6728 - val_loss: 0.6043 - val_accuracy: 0.6631\n",
      "Epoch 51/100\n",
      "250/250 [==============================] - 1s 4ms/step - loss: 0.5904 - accuracy: 0.6754 - val_loss: 0.6035 - val_accuracy: 0.6631\n",
      "Epoch 52/100\n",
      "250/250 [==============================] - 1s 5ms/step - loss: 0.5915 - accuracy: 0.6739 - val_loss: 0.6032 - val_accuracy: 0.6616\n",
      "Epoch 53/100\n",
      "250/250 [==============================] - 1s 4ms/step - loss: 0.5893 - accuracy: 0.6747 - val_loss: 0.6034 - val_accuracy: 0.6636\n",
      "Epoch 54/100\n",
      "250/250 [==============================] - 1s 4ms/step - loss: 0.5882 - accuracy: 0.6763 - val_loss: 0.6021 - val_accuracy: 0.6620\n",
      "Epoch 55/100\n",
      "250/250 [==============================] - 1s 4ms/step - loss: 0.5894 - accuracy: 0.6750 - val_loss: 0.6017 - val_accuracy: 0.6640\n",
      "Epoch 56/100\n",
      "250/250 [==============================] - 1s 5ms/step - loss: 0.5876 - accuracy: 0.6765 - val_loss: 0.6019 - val_accuracy: 0.6629\n",
      "Epoch 57/100\n",
      "250/250 [==============================] - 1s 5ms/step - loss: 0.5872 - accuracy: 0.6775 - val_loss: 0.6015 - val_accuracy: 0.6636\n",
      "Epoch 58/100\n",
      "250/250 [==============================] - 1s 4ms/step - loss: 0.5862 - accuracy: 0.6804 - val_loss: 0.6028 - val_accuracy: 0.6626\n",
      "Epoch 59/100\n",
      "250/250 [==============================] - 1s 4ms/step - loss: 0.5874 - accuracy: 0.6778 - val_loss: 0.6018 - val_accuracy: 0.6642\n",
      "Epoch 60/100\n",
      "250/250 [==============================] - 1s 4ms/step - loss: 0.5863 - accuracy: 0.6775 - val_loss: 0.6005 - val_accuracy: 0.6659\n",
      "Epoch 61/100\n",
      "250/250 [==============================] - 1s 4ms/step - loss: 0.5847 - accuracy: 0.6792 - val_loss: 0.5996 - val_accuracy: 0.6659\n",
      "Epoch 62/100\n",
      "250/250 [==============================] - 1s 5ms/step - loss: 0.5837 - accuracy: 0.6804 - val_loss: 0.5986 - val_accuracy: 0.6657\n",
      "Epoch 63/100\n",
      "250/250 [==============================] - 1s 4ms/step - loss: 0.5844 - accuracy: 0.6795 - val_loss: 0.5995 - val_accuracy: 0.6656\n",
      "Epoch 64/100\n",
      "250/250 [==============================] - 1s 4ms/step - loss: 0.5827 - accuracy: 0.6805 - val_loss: 0.5984 - val_accuracy: 0.6655\n",
      "Epoch 65/100\n",
      "250/250 [==============================] - 1s 4ms/step - loss: 0.5831 - accuracy: 0.6798 - val_loss: 0.5974 - val_accuracy: 0.6681\n",
      "Epoch 66/100\n",
      "250/250 [==============================] - 1s 4ms/step - loss: 0.5820 - accuracy: 0.6819 - val_loss: 0.5970 - val_accuracy: 0.6671\n",
      "Epoch 67/100\n",
      "250/250 [==============================] - 1s 4ms/step - loss: 0.5817 - accuracy: 0.6834 - val_loss: 0.5971 - val_accuracy: 0.6667\n",
      "Epoch 68/100\n",
      "250/250 [==============================] - 1s 4ms/step - loss: 0.5824 - accuracy: 0.6827 - val_loss: 0.5964 - val_accuracy: 0.6686\n",
      "Epoch 69/100\n",
      "250/250 [==============================] - 1s 4ms/step - loss: 0.5796 - accuracy: 0.6842 - val_loss: 0.5963 - val_accuracy: 0.6687\n",
      "Epoch 70/100\n",
      "250/250 [==============================] - 1s 4ms/step - loss: 0.5818 - accuracy: 0.6838 - val_loss: 0.5960 - val_accuracy: 0.6693\n",
      "Epoch 71/100\n",
      "250/250 [==============================] - 1s 4ms/step - loss: 0.5792 - accuracy: 0.6842 - val_loss: 0.5956 - val_accuracy: 0.6718\n",
      "Epoch 72/100\n",
      "250/250 [==============================] - 1s 4ms/step - loss: 0.5775 - accuracy: 0.6859 - val_loss: 0.5946 - val_accuracy: 0.6704\n",
      "Epoch 73/100\n",
      "250/250 [==============================] - 1s 5ms/step - loss: 0.5775 - accuracy: 0.6867 - val_loss: 0.5949 - val_accuracy: 0.6675\n",
      "Epoch 74/100\n",
      "250/250 [==============================] - 1s 4ms/step - loss: 0.5772 - accuracy: 0.6863 - val_loss: 0.5939 - val_accuracy: 0.6702\n",
      "Epoch 75/100\n",
      "250/250 [==============================] - 1s 4ms/step - loss: 0.5781 - accuracy: 0.6856 - val_loss: 0.5955 - val_accuracy: 0.6701\n",
      "Epoch 76/100\n",
      "250/250 [==============================] - 1s 4ms/step - loss: 0.5787 - accuracy: 0.6839 - val_loss: 0.5938 - val_accuracy: 0.6715\n",
      "Epoch 77/100\n",
      "250/250 [==============================] - 1s 4ms/step - loss: 0.5769 - accuracy: 0.6867 - val_loss: 0.5934 - val_accuracy: 0.6696\n",
      "Epoch 78/100\n",
      "250/250 [==============================] - 1s 4ms/step - loss: 0.5772 - accuracy: 0.6867 - val_loss: 0.5928 - val_accuracy: 0.6727\n",
      "Epoch 79/100\n",
      "250/250 [==============================] - 1s 4ms/step - loss: 0.5756 - accuracy: 0.6882 - val_loss: 0.5939 - val_accuracy: 0.6693\n",
      "Epoch 80/100\n",
      "250/250 [==============================] - 1s 4ms/step - loss: 0.5736 - accuracy: 0.6884 - val_loss: 0.5921 - val_accuracy: 0.6726\n",
      "Epoch 81/100\n",
      "250/250 [==============================] - 1s 4ms/step - loss: 0.5761 - accuracy: 0.6873 - val_loss: 0.5930 - val_accuracy: 0.6724\n",
      "Epoch 82/100\n",
      "250/250 [==============================] - 1s 4ms/step - loss: 0.5738 - accuracy: 0.6880 - val_loss: 0.5923 - val_accuracy: 0.6742\n",
      "Epoch 83/100\n",
      "250/250 [==============================] - 1s 5ms/step - loss: 0.5729 - accuracy: 0.6910 - val_loss: 0.5909 - val_accuracy: 0.6749\n",
      "Epoch 84/100\n",
      "250/250 [==============================] - 1s 4ms/step - loss: 0.5737 - accuracy: 0.6902 - val_loss: 0.5911 - val_accuracy: 0.6728\n",
      "Epoch 85/100\n",
      "250/250 [==============================] - 1s 4ms/step - loss: 0.5732 - accuracy: 0.6906 - val_loss: 0.5910 - val_accuracy: 0.6738\n",
      "Epoch 86/100\n",
      "250/250 [==============================] - 2s 6ms/step - loss: 0.5729 - accuracy: 0.6894 - val_loss: 0.5914 - val_accuracy: 0.6734\n"
     ]
    }
   ],
   "source": [
    "X_train_scaled, X_test_scaled = preprocess_dataset(X_train, X_test)\n",
    "\n",
    "model = create_model(input_shape)\n",
    "\n",
    "early_stopping_callback = EarlyStopping(monitor='val_loss', patience=3)\n",
    "    \n",
    "history = model.fit(X_train_scaled, y_train,\n",
    "                    epochs=num_epochs,\n",
    "                    verbose=1,\n",
    "                    batch_size=optimal_batch_size,\n",
    "                    use_multiprocessing=False,\n",
    "                    validation_data=(X_test_scaled, y_test),\n",
    "                    callbacks=[early_stopping_callback] \n",
    "                )"
   ]
  },
  {
   "cell_type": "markdown",
   "id": "4f97f855",
   "metadata": {
    "papermill": {
     "duration": 0.112826,
     "end_time": "2022-10-10T06:56:16.527290",
     "exception": false,
     "start_time": "2022-10-10T06:56:16.414464",
     "status": "completed"
    },
    "tags": []
   },
   "source": [
    "## Plot of train and test accuracies"
   ]
  },
  {
   "cell_type": "code",
   "execution_count": 18,
   "id": "f5c63c1a",
   "metadata": {
    "execution": {
     "iopub.execute_input": "2022-10-10T06:56:16.754790Z",
     "iopub.status.busy": "2022-10-10T06:56:16.754437Z",
     "iopub.status.idle": "2022-10-10T06:56:16.978405Z",
     "shell.execute_reply": "2022-10-10T06:56:16.977409Z"
    },
    "papermill": {
     "duration": 0.339027,
     "end_time": "2022-10-10T06:56:16.980716",
     "exception": false,
     "start_time": "2022-10-10T06:56:16.641689",
     "status": "completed"
    },
    "tags": []
   },
   "outputs": [
    {
     "data": {
      "text/plain": [
       "<matplotlib.legend.Legend at 0x7f48ab434190>"
      ]
     },
     "execution_count": 18,
     "metadata": {},
     "output_type": "execute_result"
    },
    {
     "data": {
      "image/png": "[encoded data removed]",
      "text/plain": [
       "<Figure size 432x288 with 1 Axes>"
      ]
     },
     "metadata": {
      "needs_background": "light"
     },
     "output_type": "display_data"
    }
   ],
   "source": [
    "plt.figure()\n",
    "plt.plot(history.history['accuracy'])\n",
    "plt.plot(history.history['val_accuracy'])\n",
    "plt.title('model accuracy')\n",
    "plt.ylabel('accuracy')\n",
    "plt.xlabel('epoch')\n",
    "plt.legend(['train', 'test'], loc='upper left')"
   ]
  },
  {
   "cell_type": "markdown",
   "id": "61f79fb6",
   "metadata": {
    "papermill": {
     "duration": 0.108864,
     "end_time": "2022-10-10T06:56:17.197908",
     "exception": false,
     "start_time": "2022-10-10T06:56:17.089044",
     "status": "completed"
    },
    "tags": []
   },
   "source": [
    "## Plot of train and test losses"
   ]
  },
  {
   "cell_type": "code",
   "execution_count": 19,
   "id": "cf40056d",
   "metadata": {
    "execution": {
     "iopub.execute_input": "2022-10-10T06:56:17.416623Z",
     "iopub.status.busy": "2022-10-10T06:56:17.415683Z",
     "iopub.status.idle": "2022-10-10T06:56:17.625619Z",
     "shell.execute_reply": "2022-10-10T06:56:17.624728Z"
    },
    "papermill": {
     "duration": 0.321024,
     "end_time": "2022-10-10T06:56:17.627834",
     "exception": false,
     "start_time": "2022-10-10T06:56:17.306810",
     "status": "completed"
    },
    "tags": []
   },
   "outputs": [
    {
     "data": {
      "text/plain": [
       "<matplotlib.legend.Legend at 0x7f48a659a410>"
      ]
     },
     "execution_count": 19,
     "metadata": {},
     "output_type": "execute_result"
    },
    {
     "data": {
      "image/png": "[encoded data removed]",
      "text/plain": [
       "<Figure size 432x288 with 1 Axes>"
      ]
     },
     "metadata": {
      "needs_background": "light"
     },
     "output_type": "display_data"
    }
   ],
   "source": [
    "plt.figure()\n",
    "plt.plot(history.history['loss'])\n",
    "plt.plot(history.history['val_loss'])\n",
    "plt.title('model loss')\n",
    "plt.ylabel('cross-entropy')\n",
    "plt.xlabel('epoch')\n",
    "plt.legend(['train', 'test'], loc='upper right')"
   ]
  },
  {
   "cell_type": "code",
   "execution_count": null,
   "id": "8abc59ac",
   "metadata": {
    "papermill": {
     "duration": 0.108517,
     "end_time": "2022-10-10T06:56:17.846936",
     "exception": false,
     "start_time": "2022-10-10T06:56:17.738419",
     "status": "completed"
    },
    "tags": []
   },
   "outputs": [],
   "source": []
  }
 ],
 "metadata": {
  "kernelspec": {
   "display_name": "Python 3",
   "language": "python",
   "name": "python3"
  },
  "language_info": {
   "codemirror_mode": {
    "name": "ipython",
    "version": 3
   },
   "file_extension": ".py",
   "mimetype": "text/x-python",
   "name": "python",
   "nbconvert_exporter": "python",
   "pygments_lexer": "ipython3",
   "version": "3.7.12"
  },
  "papermill": {
   "default_parameters": {},
   "duration": 1934.091982,
   "end_time": "2022-10-10T06:56:21.646696",
   "environment_variables": {},
   "exception": null,
   "input_path": "__notebook__.ipynb",
   "output_path": "__notebook__.ipynb",
   "parameters": {},
   "start_time": "2022-10-10T06:24:07.554714",
   "version": "2.3.4"
  }
 },
 "nbformat": 4,
 "nbformat_minor": 5
}
