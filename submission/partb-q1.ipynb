{
 "cells": [
  {
   "cell_type": "markdown",
   "id": "034e03b8",
   "metadata": {
    "papermill": {
     "duration": 0.009492,
     "end_time": "2022-10-10T12:27:47.266933",
     "exception": false,
     "start_time": "2022-10-10T12:27:47.257441",
     "status": "completed"
    },
    "tags": []
   },
   "source": [
    "# Part B: Regression Problem\n",
    "\n",
    "* **Name** Acharya Atul\n",
    "* **Matriculation Number** U1923502C\n",
    "* **Email** atul001@e.ntu.edu.sg\n",
    "\n",
    "# Question 1\n",
    ">Real world datasets often have a mix of numeric and categorical features – this dataset is one such\n",
    "example. To build models on such data, categorical features have to be encoded. Also, before\n",
    "applying neural networks, it is a good practice to try simpler machine learning algorithms first.\n",
    "For all models in Part B of the assignment, the following features should be used:\n",
    ">- Numeric features: dist_to_nearest_stn, dist_to_dhoby, degree_centrality,\n",
    "eigenvector_centrality, remaining_lease_years, floor_area_sqm\n",
    ">- Categorical features: month, flat_model_type, storey_range\n",
    "One-hot encoding should be applied on categorical features.\n",
    "Standardisation should be performed on numeric features."
   ]
  },
  {
   "cell_type": "markdown",
   "id": "60611b81",
   "metadata": {
    "papermill": {
     "duration": 0.007276,
     "end_time": "2022-10-10T12:27:47.281977",
     "exception": false,
     "start_time": "2022-10-10T12:27:47.274701",
     "status": "completed"
    },
    "tags": []
   },
   "source": [
    "### Neccessary Imports\n",
    "\n",
    "* **pandas** - Data analysis and manipulation\n",
    "* **tensorflow** - Modeling neural networks and training them\n",
    "* **graphviz** - Visualization of model architecture"
   ]
  },
  {
   "cell_type": "code",
   "execution_count": 1,
   "id": "c65784ce",
   "metadata": {
    "execution": {
     "iopub.execute_input": "2022-10-10T12:27:47.300907Z",
     "iopub.status.busy": "2022-10-10T12:27:47.299869Z",
     "iopub.status.idle": "2022-10-10T12:27:54.477836Z",
     "shell.execute_reply": "2022-10-10T12:27:54.476416Z"
    },
    "papermill": {
     "duration": 7.19137,
     "end_time": "2022-10-10T12:27:54.481335",
     "exception": false,
     "start_time": "2022-10-10T12:27:47.289965",
     "status": "completed"
    },
    "tags": []
   },
   "outputs": [],
   "source": [
    "import pandas as pd\n",
    "\n",
    "from tensorflow import keras\n",
    "from tensorflow.keras import layers\n",
    "from tensorflow.keras.layers import Normalization, StringLookup, IntegerLookup\n",
    "\n",
    "import graphviz\n",
    "from keras.utils.vis_utils import plot_model"
   ]
  },
  {
   "cell_type": "markdown",
   "id": "b3e158f7",
   "metadata": {
    "papermill": {
     "duration": 0.007535,
     "end_time": "2022-10-10T12:27:54.496773",
     "exception": false,
     "start_time": "2022-10-10T12:27:54.489238",
     "status": "completed"
    },
    "tags": []
   },
   "source": [
    "### Setting the seed for reproducability\n",
    "\n",
    ">For this assignment we will be using 42 as the seed"
   ]
  },
  {
   "cell_type": "code",
   "execution_count": 2,
   "id": "f2443f3b",
   "metadata": {
    "execution": {
     "iopub.execute_input": "2022-10-10T12:27:54.515455Z",
     "iopub.status.busy": "2022-10-10T12:27:54.514564Z",
     "iopub.status.idle": "2022-10-10T12:27:54.520803Z",
     "shell.execute_reply": "2022-10-10T12:27:54.519573Z"
    },
    "papermill": {
     "duration": 0.018502,
     "end_time": "2022-10-10T12:27:54.523153",
     "exception": false,
     "start_time": "2022-10-10T12:27:54.504651",
     "status": "completed"
    },
    "tags": []
   },
   "outputs": [],
   "source": [
    "# Setting the seed here is sufficient. \n",
    "# If you don't plan to use these starter code, make sure you add this cell.\n",
    "\n",
    "SEED = 42\n",
    "\n",
    "import os\n",
    "os.environ['TF_CUDNN_DETERMINISTIC'] = '1'\n",
    "\n",
    "import random \n",
    "random.seed(SEED)\n",
    "\n",
    "import numpy as np\n",
    "np.random.seed(SEED)\n",
    "\n",
    "import tensorflow as tf\n",
    "tf.random.set_seed(SEED)"
   ]
  },
  {
   "cell_type": "markdown",
   "id": "4caf1f84",
   "metadata": {
    "papermill": {
     "duration": 0.009067,
     "end_time": "2022-10-10T12:27:54.539932",
     "exception": false,
     "start_time": "2022-10-10T12:27:54.530865",
     "status": "completed"
    },
    "tags": []
   },
   "source": [
    "### Reading dataset"
   ]
  },
  {
   "cell_type": "code",
   "execution_count": 3,
   "id": "793a80d5",
   "metadata": {
    "execution": {
     "iopub.execute_input": "2022-10-10T12:27:54.557195Z",
     "iopub.status.busy": "2022-10-10T12:27:54.556729Z",
     "iopub.status.idle": "2022-10-10T12:27:55.204271Z",
     "shell.execute_reply": "2022-10-10T12:27:55.203002Z"
    },
    "papermill": {
     "duration": 0.659456,
     "end_time": "2022-10-10T12:27:55.207027",
     "exception": false,
     "start_time": "2022-10-10T12:27:54.547571",
     "status": "completed"
    },
    "tags": []
   },
   "outputs": [
    {
     "data": {
      "text/html": [
       "<div>\n",
       "<style scoped>\n",
       "    .dataframe tbody tr th:only-of-type {\n",
       "        vertical-align: middle;\n",
       "    }\n",
       "\n",
       "    .dataframe tbody tr th {\n",
       "        vertical-align: top;\n",
       "    }\n",
       "\n",
       "    .dataframe thead th {\n",
       "        text-align: right;\n",
       "    }\n",
       "</style>\n",
       "<table border=\"1\" class=\"dataframe\">\n",
       "  <thead>\n",
       "    <tr style=\"text-align: right;\">\n",
       "      <th></th>\n",
       "      <th>month</th>\n",
       "      <th>year</th>\n",
       "      <th>full_address</th>\n",
       "      <th>nearest_stn</th>\n",
       "      <th>dist_to_nearest_stn</th>\n",
       "      <th>dist_to_dhoby</th>\n",
       "      <th>degree_centrality</th>\n",
       "      <th>eigenvector_centrality</th>\n",
       "      <th>flat_model_type</th>\n",
       "      <th>remaining_lease_years</th>\n",
       "      <th>floor_area_sqm</th>\n",
       "      <th>storey_range</th>\n",
       "      <th>resale_price</th>\n",
       "    </tr>\n",
       "  </thead>\n",
       "  <tbody>\n",
       "    <tr>\n",
       "      <th>0</th>\n",
       "      <td>1</td>\n",
       "      <td>2017</td>\n",
       "      <td>406 ANG MO KIO AVENUE 10</td>\n",
       "      <td>Ang Mo Kio</td>\n",
       "      <td>1.007264</td>\n",
       "      <td>7.006044</td>\n",
       "      <td>0.016807</td>\n",
       "      <td>0.006243</td>\n",
       "      <td>2 ROOM, Improved</td>\n",
       "      <td>61.333333</td>\n",
       "      <td>44.0</td>\n",
       "      <td>10 TO 12</td>\n",
       "      <td>232000.0</td>\n",
       "    </tr>\n",
       "    <tr>\n",
       "      <th>1</th>\n",
       "      <td>1</td>\n",
       "      <td>2017</td>\n",
       "      <td>108 ANG MO KIO AVENUE 4</td>\n",
       "      <td>Ang Mo Kio</td>\n",
       "      <td>1.271389</td>\n",
       "      <td>7.983837</td>\n",
       "      <td>0.016807</td>\n",
       "      <td>0.006243</td>\n",
       "      <td>3 ROOM, New Generation</td>\n",
       "      <td>60.583333</td>\n",
       "      <td>67.0</td>\n",
       "      <td>01 TO 03</td>\n",
       "      <td>250000.0</td>\n",
       "    </tr>\n",
       "    <tr>\n",
       "      <th>2</th>\n",
       "      <td>1</td>\n",
       "      <td>2017</td>\n",
       "      <td>602 ANG MO KIO AVENUE 5</td>\n",
       "      <td>Yio Chu Kang</td>\n",
       "      <td>1.069743</td>\n",
       "      <td>9.090700</td>\n",
       "      <td>0.016807</td>\n",
       "      <td>0.002459</td>\n",
       "      <td>3 ROOM, New Generation</td>\n",
       "      <td>62.416667</td>\n",
       "      <td>67.0</td>\n",
       "      <td>01 TO 03</td>\n",
       "      <td>262000.0</td>\n",
       "    </tr>\n",
       "    <tr>\n",
       "      <th>3</th>\n",
       "      <td>1</td>\n",
       "      <td>2017</td>\n",
       "      <td>465 ANG MO KIO AVENUE 10</td>\n",
       "      <td>Ang Mo Kio</td>\n",
       "      <td>0.946890</td>\n",
       "      <td>7.519889</td>\n",
       "      <td>0.016807</td>\n",
       "      <td>0.006243</td>\n",
       "      <td>3 ROOM, New Generation</td>\n",
       "      <td>62.083333</td>\n",
       "      <td>68.0</td>\n",
       "      <td>04 TO 06</td>\n",
       "      <td>265000.0</td>\n",
       "    </tr>\n",
       "    <tr>\n",
       "      <th>4</th>\n",
       "      <td>1</td>\n",
       "      <td>2017</td>\n",
       "      <td>601 ANG MO KIO AVENUE 5</td>\n",
       "      <td>Yio Chu Kang</td>\n",
       "      <td>1.092551</td>\n",
       "      <td>9.130489</td>\n",
       "      <td>0.016807</td>\n",
       "      <td>0.002459</td>\n",
       "      <td>3 ROOM, New Generation</td>\n",
       "      <td>62.416667</td>\n",
       "      <td>67.0</td>\n",
       "      <td>01 TO 03</td>\n",
       "      <td>265000.0</td>\n",
       "    </tr>\n",
       "    <tr>\n",
       "      <th>...</th>\n",
       "      <td>...</td>\n",
       "      <td>...</td>\n",
       "      <td>...</td>\n",
       "      <td>...</td>\n",
       "      <td>...</td>\n",
       "      <td>...</td>\n",
       "      <td>...</td>\n",
       "      <td>...</td>\n",
       "      <td>...</td>\n",
       "      <td>...</td>\n",
       "      <td>...</td>\n",
       "      <td>...</td>\n",
       "      <td>...</td>\n",
       "    </tr>\n",
       "    <tr>\n",
       "      <th>133407</th>\n",
       "      <td>6</td>\n",
       "      <td>2022</td>\n",
       "      <td>877 YISHUN STREET 81</td>\n",
       "      <td>Khatib</td>\n",
       "      <td>0.475885</td>\n",
       "      <td>12.738721</td>\n",
       "      <td>0.016807</td>\n",
       "      <td>0.000968</td>\n",
       "      <td>EXECUTIVE, Maisonette</td>\n",
       "      <td>64.583333</td>\n",
       "      <td>145.0</td>\n",
       "      <td>07 TO 09</td>\n",
       "      <td>810000.0</td>\n",
       "    </tr>\n",
       "    <tr>\n",
       "      <th>133408</th>\n",
       "      <td>1</td>\n",
       "      <td>2022</td>\n",
       "      <td>633 YISHUN STREET 61</td>\n",
       "      <td>Khatib</td>\n",
       "      <td>0.774113</td>\n",
       "      <td>13.229106</td>\n",
       "      <td>0.016807</td>\n",
       "      <td>0.000968</td>\n",
       "      <td>MULTI-GENERATION, Multi Generation</td>\n",
       "      <td>65.000000</td>\n",
       "      <td>164.0</td>\n",
       "      <td>04 TO 06</td>\n",
       "      <td>785000.0</td>\n",
       "    </tr>\n",
       "    <tr>\n",
       "      <th>133409</th>\n",
       "      <td>2</td>\n",
       "      <td>2022</td>\n",
       "      <td>633 YISHUN STREET 61</td>\n",
       "      <td>Khatib</td>\n",
       "      <td>0.774113</td>\n",
       "      <td>13.229106</td>\n",
       "      <td>0.016807</td>\n",
       "      <td>0.000968</td>\n",
       "      <td>MULTI-GENERATION, Multi Generation</td>\n",
       "      <td>64.916667</td>\n",
       "      <td>171.0</td>\n",
       "      <td>04 TO 06</td>\n",
       "      <td>842000.0</td>\n",
       "    </tr>\n",
       "    <tr>\n",
       "      <th>133410</th>\n",
       "      <td>2</td>\n",
       "      <td>2022</td>\n",
       "      <td>632 YISHUN STREET 61</td>\n",
       "      <td>Khatib</td>\n",
       "      <td>0.700595</td>\n",
       "      <td>13.222912</td>\n",
       "      <td>0.016807</td>\n",
       "      <td>0.000968</td>\n",
       "      <td>MULTI-GENERATION, Multi Generation</td>\n",
       "      <td>64.750000</td>\n",
       "      <td>164.0</td>\n",
       "      <td>10 TO 12</td>\n",
       "      <td>845000.0</td>\n",
       "    </tr>\n",
       "    <tr>\n",
       "      <th>133411</th>\n",
       "      <td>5</td>\n",
       "      <td>2022</td>\n",
       "      <td>605 YISHUN STREET 61</td>\n",
       "      <td>Khatib</td>\n",
       "      <td>0.603845</td>\n",
       "      <td>13.592586</td>\n",
       "      <td>0.016807</td>\n",
       "      <td>0.000968</td>\n",
       "      <td>MULTI-GENERATION, Multi Generation</td>\n",
       "      <td>64.750000</td>\n",
       "      <td>163.0</td>\n",
       "      <td>04 TO 06</td>\n",
       "      <td>862000.0</td>\n",
       "    </tr>\n",
       "  </tbody>\n",
       "</table>\n",
       "<p>133412 rows × 13 columns</p>\n",
       "</div>"
      ],
      "text/plain": [
       "        month  year              full_address   nearest_stn  \\\n",
       "0           1  2017  406 ANG MO KIO AVENUE 10    Ang Mo Kio   \n",
       "1           1  2017   108 ANG MO KIO AVENUE 4    Ang Mo Kio   \n",
       "2           1  2017   602 ANG MO KIO AVENUE 5  Yio Chu Kang   \n",
       "3           1  2017  465 ANG MO KIO AVENUE 10    Ang Mo Kio   \n",
       "4           1  2017   601 ANG MO KIO AVENUE 5  Yio Chu Kang   \n",
       "...       ...   ...                       ...           ...   \n",
       "133407      6  2022      877 YISHUN STREET 81        Khatib   \n",
       "133408      1  2022      633 YISHUN STREET 61        Khatib   \n",
       "133409      2  2022      633 YISHUN STREET 61        Khatib   \n",
       "133410      2  2022      632 YISHUN STREET 61        Khatib   \n",
       "133411      5  2022      605 YISHUN STREET 61        Khatib   \n",
       "\n",
       "        dist_to_nearest_stn  dist_to_dhoby  degree_centrality  \\\n",
       "0                  1.007264       7.006044           0.016807   \n",
       "1                  1.271389       7.983837           0.016807   \n",
       "2                  1.069743       9.090700           0.016807   \n",
       "3                  0.946890       7.519889           0.016807   \n",
       "4                  1.092551       9.130489           0.016807   \n",
       "...                     ...            ...                ...   \n",
       "133407             0.475885      12.738721           0.016807   \n",
       "133408             0.774113      13.229106           0.016807   \n",
       "133409             0.774113      13.229106           0.016807   \n",
       "133410             0.700595      13.222912           0.016807   \n",
       "133411             0.603845      13.592586           0.016807   \n",
       "\n",
       "        eigenvector_centrality                     flat_model_type  \\\n",
       "0                     0.006243                    2 ROOM, Improved   \n",
       "1                     0.006243              3 ROOM, New Generation   \n",
       "2                     0.002459              3 ROOM, New Generation   \n",
       "3                     0.006243              3 ROOM, New Generation   \n",
       "4                     0.002459              3 ROOM, New Generation   \n",
       "...                        ...                                 ...   \n",
       "133407                0.000968               EXECUTIVE, Maisonette   \n",
       "133408                0.000968  MULTI-GENERATION, Multi Generation   \n",
       "133409                0.000968  MULTI-GENERATION, Multi Generation   \n",
       "133410                0.000968  MULTI-GENERATION, Multi Generation   \n",
       "133411                0.000968  MULTI-GENERATION, Multi Generation   \n",
       "\n",
       "        remaining_lease_years  floor_area_sqm storey_range  resale_price  \n",
       "0                   61.333333            44.0     10 TO 12      232000.0  \n",
       "1                   60.583333            67.0     01 TO 03      250000.0  \n",
       "2                   62.416667            67.0     01 TO 03      262000.0  \n",
       "3                   62.083333            68.0     04 TO 06      265000.0  \n",
       "4                   62.416667            67.0     01 TO 03      265000.0  \n",
       "...                       ...             ...          ...           ...  \n",
       "133407              64.583333           145.0     07 TO 09      810000.0  \n",
       "133408              65.000000           164.0     04 TO 06      785000.0  \n",
       "133409              64.916667           171.0     04 TO 06      842000.0  \n",
       "133410              64.750000           164.0     10 TO 12      845000.0  \n",
       "133411              64.750000           163.0     04 TO 06      862000.0  \n",
       "\n",
       "[133412 rows x 13 columns]"
      ]
     },
     "execution_count": 3,
     "metadata": {},
     "output_type": "execute_result"
    }
   ],
   "source": [
    "df = pd.read_csv('../input/assignment/hdb_price_prediction.csv')\n",
    "df"
   ]
  },
  {
   "cell_type": "markdown",
   "id": "5d9ab730",
   "metadata": {
    "papermill": {
     "duration": 0.008107,
     "end_time": "2022-10-10T12:27:55.223581",
     "exception": false,
     "start_time": "2022-10-10T12:27:55.215474",
     "status": "completed"
    },
    "tags": []
   },
   "source": [
    "### Functions to create our dataset and encode features"
   ]
  },
  {
   "cell_type": "code",
   "execution_count": 4,
   "id": "7446358f",
   "metadata": {
    "execution": {
     "iopub.execute_input": "2022-10-10T12:27:55.241977Z",
     "iopub.status.busy": "2022-10-10T12:27:55.241526Z",
     "iopub.status.idle": "2022-10-10T12:27:55.254020Z",
     "shell.execute_reply": "2022-10-10T12:27:55.252679Z"
    },
    "papermill": {
     "duration": 0.025244,
     "end_time": "2022-10-10T12:27:55.257087",
     "exception": false,
     "start_time": "2022-10-10T12:27:55.231843",
     "status": "completed"
    },
    "tags": []
   },
   "outputs": [],
   "source": [
    "# The functions in this cell are adapted from https://keras.io/examples/structured_data/structured_data_classification_from_scratch/\n",
    "# It is the same link as the one mentioned in the question paper (Q1b)\n",
    "\n",
    "def dataframe_to_dataset(dataframe):\n",
    "    dataframe = dataframe.copy()\n",
    "    labels = dataframe.pop(\"resale_price\")\n",
    "    ds = tf.data.Dataset.from_tensor_slices((dict(dataframe), labels))\n",
    "    ds = ds.shuffle(buffer_size=len(dataframe))\n",
    "    return ds\n",
    "\n",
    "\n",
    "def encode_numerical_feature(feature, name, dataset):\n",
    "    # Create a Normalization layer for our feature\n",
    "    normalizer = Normalization()\n",
    "\n",
    "    # Prepare a Dataset that only yields our feature\n",
    "    feature_ds = dataset.map(lambda x, y: x[name])\n",
    "    feature_ds = feature_ds.map(lambda x: tf.expand_dims(x, -1))\n",
    "\n",
    "    # Learn the statistics of the data\n",
    "    normalizer.adapt(feature_ds)\n",
    "\n",
    "    # Normalize the input feature\n",
    "    encoded_feature = normalizer(feature)\n",
    "    return encoded_feature\n",
    "\n",
    "\n",
    "def encode_categorical_feature(feature, name, dataset, is_string):\n",
    "    lookup_class = StringLookup if is_string else IntegerLookup\n",
    "    # Create a lookup layer which will turn strings into integer indices\n",
    "    lookup = lookup_class(output_mode=\"binary\") # NOTE: as mentioned in the question paper, this actually does one-hot encoding. You could replace 'binary' with 'one_hot' if you wish to.\n",
    "\n",
    "    # Prepare a Dataset that only yields our feature\n",
    "    feature_ds = dataset.map(lambda x, y: x[name])\n",
    "    feature_ds = feature_ds.map(lambda x: tf.expand_dims(x, -1))\n",
    "\n",
    "    # Learn the set of possible string values and assign them a fixed integer index\n",
    "    lookup.adapt(feature_ds)\n",
    "\n",
    "    # Turn the string input into integer indices\n",
    "    encoded_feature = lookup(feature)\n",
    "    return encoded_feature\n"
   ]
  },
  {
   "cell_type": "markdown",
   "id": "c5bd3160",
   "metadata": {
    "papermill": {
     "duration": 0.00804,
     "end_time": "2022-10-10T12:27:55.273726",
     "exception": false,
     "start_time": "2022-10-10T12:27:55.265686",
     "status": "completed"
    },
    "tags": []
   },
   "source": [
    "### Function to compute $R^2$ score\n",
    ">$R^2$ = 1 - $\\dfrac{\\Sigma_i(y_i - \\hat{y_i})} {\\Sigma_i(y_i - \\bar{y_i})}$"
   ]
  },
  {
   "cell_type": "code",
   "execution_count": 5,
   "id": "714c878b",
   "metadata": {
    "execution": {
     "iopub.execute_input": "2022-10-10T12:27:55.292389Z",
     "iopub.status.busy": "2022-10-10T12:27:55.291987Z",
     "iopub.status.idle": "2022-10-10T12:27:55.299390Z",
     "shell.execute_reply": "2022-10-10T12:27:55.297979Z"
    },
    "jupyter": {
     "source_hidden": true
    },
    "papermill": {
     "duration": 0.019816,
     "end_time": "2022-10-10T12:27:55.301950",
     "exception": false,
     "start_time": "2022-10-10T12:27:55.282134",
     "status": "completed"
    },
    "tags": []
   },
   "outputs": [],
   "source": [
    "from keras import backend as K\n",
    "\n",
    "def r2(y_true, y_pred): \n",
    "    '''\n",
    "    # Obtained from https://jmlb.github.io/ml/2017/03/20/CoeffDetermination_CustomMetric4Keras/\n",
    "    # TODO: you have to find out how to use it in your code\n",
    "    '''\n",
    "    SS_res = K.sum(K.square( y_true - y_pred )) \n",
    "    SS_tot = K.sum(K.square( y_true - K.mean(y_true) ) ) \n",
    "    return ( 1 - SS_res/(SS_tot + K.epsilon()) )"
   ]
  },
  {
   "cell_type": "markdown",
   "id": "4460b653",
   "metadata": {
    "papermill": {
     "duration": 0.008079,
     "end_time": "2022-10-10T12:27:55.318789",
     "exception": false,
     "start_time": "2022-10-10T12:27:55.310710",
     "status": "completed"
    },
    "tags": []
   },
   "source": [
    "## Part A\n",
    ">Divide the dataset (‘HDB_price_prediction.csv’) into train and test sets by using\n",
    "entries from year 2020 and before as training data (with the remaining data from\n",
    "year 2021 and 2022 used as test data). "
   ]
  },
  {
   "cell_type": "markdown",
   "id": "024c5c05",
   "metadata": {
    "papermill": {
     "duration": 0.008433,
     "end_time": "2022-10-10T12:27:55.335911",
     "exception": false,
     "start_time": "2022-10-10T12:27:55.327478",
     "status": "completed"
    },
    "tags": []
   },
   "source": [
    "### Splitting Data\n",
    ">All datapoints until the year 2020 belong in the train set and all datapoints from year 2021 and onwards belong to the test set\n",
    "\n",
    "#### Reason\n",
    ">Our aim in this task is to predict the resale prices of houses in the future. Hence, we need to forcast future values that come in later years and we train on older samples and predict on newer samples. This gives us a better idea as to how the model would perform when deployed into the real world where data keeps changing over time"
   ]
  },
  {
   "cell_type": "code",
   "execution_count": 6,
   "id": "07c38e05",
   "metadata": {
    "execution": {
     "iopub.execute_input": "2022-10-10T12:27:55.354404Z",
     "iopub.status.busy": "2022-10-10T12:27:55.354003Z",
     "iopub.status.idle": "2022-10-10T12:27:55.560785Z",
     "shell.execute_reply": "2022-10-10T12:27:55.559528Z"
    },
    "papermill": {
     "duration": 0.219043,
     "end_time": "2022-10-10T12:27:55.563409",
     "exception": false,
     "start_time": "2022-10-10T12:27:55.344366",
     "status": "completed"
    },
    "tags": []
   },
   "outputs": [
    {
     "name": "stderr",
     "output_type": "stream",
     "text": [
      "2022-10-10 12:27:55.405478: I tensorflow/core/common_runtime/process_util.cc:146] Creating new thread pool with default inter op setting: 2. Tune using inter_op_parallelism_threads for best performance.\n"
     ]
    }
   ],
   "source": [
    "# Split data\n",
    "\n",
    "train_dataframe = df[df['year'] <= 2020]\n",
    "test_dataframe = df[df['year'] > 2020]\n",
    "\n",
    "train_ds = dataframe_to_dataset(train_dataframe)\n",
    "test_ds = dataframe_to_dataset(test_dataframe)\n",
    "\n",
    "# Grouping data into batches\n",
    "batch_size = 256\n",
    "train_ds = train_ds.batch(batch_size)\n",
    "test_ds = test_ds.batch(batch_size)\n"
   ]
  },
  {
   "cell_type": "markdown",
   "id": "aab92b2b",
   "metadata": {
    "papermill": {
     "duration": 0.008712,
     "end_time": "2022-10-10T12:27:55.580856",
     "exception": false,
     "start_time": "2022-10-10T12:27:55.572144",
     "status": "completed"
    },
    "tags": []
   },
   "source": [
    "## Part B\n",
    ">A team of data scientists has implemented a linear regression model via Scikitlearn. They obtained a test **$R^2$ value of 0.627** and happily shared with you that their\n",
    "model only took a few seconds to train. They suggest you to try out an equivalent\n",
    "deep learning model to see if you get a similar result. Recall that a linear regression\n",
    "model is equivalent to a neural network with only 1 Dense layer (i.e. no hidden\n",
    "layer) with linear activation and 1 output node"
   ]
  },
  {
   "cell_type": "markdown",
   "id": "27fc0594",
   "metadata": {
    "papermill": {
     "duration": 0.00827,
     "end_time": "2022-10-10T12:27:55.597833",
     "exception": false,
     "start_time": "2022-10-10T12:27:55.589563",
     "status": "completed"
    },
    "tags": []
   },
   "source": [
    "### Creating Input Layer\n",
    "> All categorical features are encoded during the forward propagation and All numerical features are normalized using the statistics of the training dataset"
   ]
  },
  {
   "cell_type": "code",
   "execution_count": 7,
   "id": "f8eb5425",
   "metadata": {
    "execution": {
     "iopub.execute_input": "2022-10-10T12:27:55.617552Z",
     "iopub.status.busy": "2022-10-10T12:27:55.616878Z",
     "iopub.status.idle": "2022-10-10T12:28:13.828720Z",
     "shell.execute_reply": "2022-10-10T12:28:13.827436Z"
    },
    "papermill": {
     "duration": 18.225206,
     "end_time": "2022-10-10T12:28:13.831646",
     "exception": false,
     "start_time": "2022-10-10T12:27:55.606440",
     "status": "completed"
    },
    "tags": []
   },
   "outputs": [
    {
     "name": "stderr",
     "output_type": "stream",
     "text": [
      "2022-10-10 12:27:55.979262: I tensorflow/compiler/mlir/mlir_graph_optimization_pass.cc:185] None of the MLIR Optimization Passes are enabled (registered 2)\n"
     ]
    }
   ],
   "source": [
    "# Categorical features encoded as integers\n",
    "month = keras.Input(shape=(1,), name=\"month\", dtype=\"int64\")\n",
    "month_encoded = encode_categorical_feature(month, \"month\", train_ds, False)\n",
    "\n",
    "# Categorical feature encoded as string\n",
    "flat_model_type = keras.Input(shape=(1,), name=\"flat_model_type\", dtype=\"string\")\n",
    "storey_range = keras.Input(shape=(1,), name=\"storey_range\", dtype=\"string\")\n",
    "\n",
    "flat_model_type_encoded = encode_categorical_feature(flat_model_type, \"flat_model_type\", train_ds, True)\n",
    "storey_range_encoded = encode_categorical_feature(storey_range, \"storey_range\", train_ds, True)\n",
    "\n",
    "\n",
    "# Numerical features\n",
    "dist_to_nearest_stn = keras.Input(shape=(1,), name=\"dist_to_nearest_stn\")\n",
    "floor_area_sqm = keras.Input(shape=(1,), name=\"floor_area_sqm\")\n",
    "dist_to_dhoby = keras.Input(shape=(1,), name=\"dist_to_dhoby\")\n",
    "degree_centrality = keras.Input(shape=(1,), name=\"degree_centrality\")\n",
    "eigenvector_centrality = keras.Input(shape=(1,), name=\"eigenvector_centrality\")\n",
    "remaining_lease_years = keras.Input(shape=(1,), name=\"remaining_lease_years\")\n",
    "\n",
    "dist_to_nearest_stn_encoded = encode_numerical_feature(dist_to_nearest_stn, \"dist_to_nearest_stn\", train_ds)\n",
    "floor_area_sqm_encoded = encode_numerical_feature(floor_area_sqm, \"floor_area_sqm\", train_ds)\n",
    "dist_to_dhoby_encoded = encode_numerical_feature(dist_to_dhoby, \"dist_to_dhoby\", train_ds)\n",
    "degree_centrality_encoded = encode_numerical_feature(degree_centrality, \"degree_centrality\", train_ds)\n",
    "eigenvector_centrality_encoded = encode_numerical_feature(eigenvector_centrality, \"eigenvector_centrality\", train_ds)\n",
    "remaining_lease_years_encoded = encode_numerical_feature(remaining_lease_years, \"remaining_lease_years\", train_ds)\n",
    "\n",
    "# Raw input features\n",
    "all_inputs = [\n",
    "    month,\n",
    "    storey_range,\n",
    "    flat_model_type,\n",
    "    floor_area_sqm,\n",
    "    remaining_lease_years,\n",
    "    degree_centrality,\n",
    "    eigenvector_centrality,\n",
    "    dist_to_nearest_stn,\n",
    "    dist_to_dhoby,\n",
    "]\n",
    "\n",
    "# Encoded features\n",
    "all_features = layers.concatenate(\n",
    "    [\n",
    "        month_encoded,\n",
    "        storey_range_encoded,\n",
    "        flat_model_type_encoded,\n",
    "        floor_area_sqm_encoded,\n",
    "        remaining_lease_years_encoded,\n",
    "        degree_centrality_encoded,\n",
    "        eigenvector_centrality_encoded,\n",
    "        dist_to_nearest_stn_encoded,\n",
    "        dist_to_dhoby_encoded,\n",
    "    ]\n",
    ")"
   ]
  },
  {
   "cell_type": "markdown",
   "id": "0b39c0c1",
   "metadata": {
    "papermill": {
     "duration": 0.008549,
     "end_time": "2022-10-10T12:28:13.849245",
     "exception": false,
     "start_time": "2022-10-10T12:28:13.840696",
     "status": "completed"
    },
    "tags": []
   },
   "source": [
    "### Defining model architecture\n",
    ">The architecture below defines a Linear Regression model where the encoded features passes through a dense layer with 1 neuron which is also the output neuron. This neuron has a linear activation function."
   ]
  },
  {
   "cell_type": "code",
   "execution_count": 8,
   "id": "84aab4da",
   "metadata": {
    "execution": {
     "iopub.execute_input": "2022-10-10T12:28:13.869037Z",
     "iopub.status.busy": "2022-10-10T12:28:13.867835Z",
     "iopub.status.idle": "2022-10-10T12:28:13.901298Z",
     "shell.execute_reply": "2022-10-10T12:28:13.899965Z"
    },
    "papermill": {
     "duration": 0.04652,
     "end_time": "2022-10-10T12:28:13.904447",
     "exception": false,
     "start_time": "2022-10-10T12:28:13.857927",
     "status": "completed"
    },
    "tags": []
   },
   "outputs": [],
   "source": [
    "dense_layer = layers.Dense(1, activation=\"linear\")(all_features)\n",
    "model = keras.Model(all_inputs, dense_layer)"
   ]
  },
  {
   "cell_type": "markdown",
   "id": "7b58da0d",
   "metadata": {
    "papermill": {
     "duration": 0.008966,
     "end_time": "2022-10-10T12:28:13.922234",
     "exception": false,
     "start_time": "2022-10-10T12:28:13.913268",
     "status": "completed"
    },
    "tags": []
   },
   "source": [
    "### Plot of Model Architecture"
   ]
  },
  {
   "cell_type": "code",
   "execution_count": 9,
   "id": "51dbdd09",
   "metadata": {
    "execution": {
     "iopub.execute_input": "2022-10-10T12:28:13.942531Z",
     "iopub.status.busy": "2022-10-10T12:28:13.941735Z",
     "iopub.status.idle": "2022-10-10T12:28:15.367839Z",
     "shell.execute_reply": "2022-10-10T12:28:15.366469Z"
    },
    "papermill": {
     "duration": 1.44109,
     "end_time": "2022-10-10T12:28:15.372497",
     "exception": false,
     "start_time": "2022-10-10T12:28:13.931407",
     "status": "completed"
    },
    "tags": []
   },
   "outputs": [
    {
     "data": {
      "image/png": "[encoded data removed]",
      "text/plain": [
       "<IPython.core.display.Image object>"
      ]
     },
     "execution_count": 9,
     "metadata": {},
     "output_type": "execute_result"
    }
   ],
   "source": [
    "plot_model(model, show_shapes=True, rankdir=\"LR\")"
   ]
  },
  {
   "cell_type": "markdown",
   "id": "de2bcaac",
   "metadata": {
    "papermill": {
     "duration": 0.012067,
     "end_time": "2022-10-10T12:28:15.398324",
     "exception": false,
     "start_time": "2022-10-10T12:28:15.386257",
     "status": "completed"
    },
    "tags": []
   },
   "source": [
    "## Part C\n",
    ">The team suggests you to train the model for 50 epochs using mini-batch gradient\n",
    "descent with batch size = 256, Adam optimiser (with a default learning rate of 𝛼 =\n",
    "0.001) and mean square error as cost function. However, you find that your results\n",
    "are far off from their model. Change the optimiser to SGD (with default learning rate\n",
    "of 𝛼 = 0.01) and observe how the problem gets fixed. Report the test R\n",
    "2 value and\n",
    "explain why the change to SGD fixes the problem faced when using Adam optimiser.<br>\n",
    "(Hint: Look carefully at how Adam is implemented and see how SGD is different.)"
   ]
  },
  {
   "cell_type": "markdown",
   "id": "b2bd7f49",
   "metadata": {
    "papermill": {
     "duration": 0.011667,
     "end_time": "2022-10-10T12:28:15.422148",
     "exception": false,
     "start_time": "2022-10-10T12:28:15.410481",
     "status": "completed"
    },
    "tags": []
   },
   "source": [
    "### Defining Optimizer and Compiling Model"
   ]
  },
  {
   "cell_type": "code",
   "execution_count": 10,
   "id": "a460aa82",
   "metadata": {
    "execution": {
     "iopub.execute_input": "2022-10-10T12:28:15.448482Z",
     "iopub.status.busy": "2022-10-10T12:28:15.448005Z",
     "iopub.status.idle": "2022-10-10T12:28:15.473333Z",
     "shell.execute_reply": "2022-10-10T12:28:15.471975Z"
    },
    "papermill": {
     "duration": 0.042043,
     "end_time": "2022-10-10T12:28:15.476136",
     "exception": false,
     "start_time": "2022-10-10T12:28:15.434093",
     "status": "completed"
    },
    "tags": []
   },
   "outputs": [],
   "source": [
    "opt=keras.optimizers.Adam(learning_rate=0.001)\n",
    "model.compile(optimizer=opt, loss='mse', metrics=[tf.keras.metrics.MeanSquaredError(), r2])"
   ]
  },
  {
   "cell_type": "markdown",
   "id": "90cbbc20",
   "metadata": {
    "papermill": {
     "duration": 0.012264,
     "end_time": "2022-10-10T12:28:15.500518",
     "exception": false,
     "start_time": "2022-10-10T12:28:15.488254",
     "status": "completed"
    },
    "tags": []
   },
   "source": [
    "### Model Training"
   ]
  },
  {
   "cell_type": "code",
   "execution_count": 11,
   "id": "63bb663b",
   "metadata": {
    "execution": {
     "iopub.execute_input": "2022-10-10T12:28:15.526677Z",
     "iopub.status.busy": "2022-10-10T12:28:15.526232Z",
     "iopub.status.idle": "2022-10-10T12:32:10.241459Z",
     "shell.execute_reply": "2022-10-10T12:32:10.240179Z"
    },
    "papermill": {
     "duration": 234.731655,
     "end_time": "2022-10-10T12:32:10.244436",
     "exception": false,
     "start_time": "2022-10-10T12:28:15.512781",
     "status": "completed"
    },
    "tags": []
   },
   "outputs": [
    {
     "name": "stdout",
     "output_type": "stream",
     "text": [
      "Epoch 1/50\n"
     ]
    },
    {
     "name": "stderr",
     "output_type": "stream",
     "text": [
      "/opt/conda/lib/python3.7/site-packages/keras/engine/functional.py:585: UserWarning: Input dict contained keys ['year', 'full_address', 'nearest_stn'] which did not match any model input. They will be ignored by the model.\n",
      "  [n for n in tensors.keys() if n not in ref_input_names])\n"
     ]
    },
    {
     "name": "stdout",
     "output_type": "stream",
     "text": [
      "342/342 [==============================] - 5s 10ms/step - loss: 219585921024.0000 - mean_squared_error: 219585921024.0000 - r2: -8.3474 - val_loss: 301486735360.0000 - val_mean_squared_error: 301486735360.0000 - val_r2: -10.0832\n",
      "Epoch 2/50\n",
      "342/342 [==============================] - 3s 8ms/step - loss: 219584561152.0000 - mean_squared_error: 219584561152.0000 - r2: -8.3520 - val_loss: 301485064192.0000 - val_mean_squared_error: 301485064192.0000 - val_r2: -10.0722\n",
      "Epoch 3/50\n",
      "342/342 [==============================] - 3s 8ms/step - loss: 219583217664.0000 - mean_squared_error: 219583217664.0000 - r2: -8.3501 - val_loss: 301483458560.0000 - val_mean_squared_error: 301483458560.0000 - val_r2: -10.1026\n",
      "Epoch 4/50\n",
      "342/342 [==============================] - 3s 8ms/step - loss: 219581890560.0000 - mean_squared_error: 219581890560.0000 - r2: -8.3437 - val_loss: 301481951232.0000 - val_mean_squared_error: 301481951232.0000 - val_r2: -10.0800\n",
      "Epoch 5/50\n",
      "342/342 [==============================] - 3s 8ms/step - loss: 219580661760.0000 - mean_squared_error: 219580661760.0000 - r2: -8.3458 - val_loss: 301480378368.0000 - val_mean_squared_error: 301480378368.0000 - val_r2: -10.1214\n",
      "Epoch 6/50\n",
      "342/342 [==============================] - 3s 8ms/step - loss: 219579383808.0000 - mean_squared_error: 219579383808.0000 - r2: -8.3513 - val_loss: 301478871040.0000 - val_mean_squared_error: 301478871040.0000 - val_r2: -10.0838\n",
      "Epoch 7/50\n",
      "342/342 [==============================] - 3s 8ms/step - loss: 219578007552.0000 - mean_squared_error: 219578007552.0000 - r2: -8.3379 - val_loss: 301477199872.0000 - val_mean_squared_error: 301477199872.0000 - val_r2: -10.0794\n",
      "Epoch 8/50\n",
      "342/342 [==============================] - 4s 9ms/step - loss: 219576696832.0000 - mean_squared_error: 219576696832.0000 - r2: -8.3468 - val_loss: 301475495936.0000 - val_mean_squared_error: 301475495936.0000 - val_r2: -10.0875\n",
      "Epoch 9/50\n",
      "342/342 [==============================] - 3s 8ms/step - loss: 219575369728.0000 - mean_squared_error: 219575369728.0000 - r2: -8.3361 - val_loss: 301473988608.0000 - val_mean_squared_error: 301473988608.0000 - val_r2: -10.0987\n",
      "Epoch 10/50\n",
      "342/342 [==============================] - 3s 8ms/step - loss: 219573944320.0000 - mean_squared_error: 219573944320.0000 - r2: -8.3610 - val_loss: 301472546816.0000 - val_mean_squared_error: 301472546816.0000 - val_r2: -10.0676\n",
      "Epoch 11/50\n",
      "342/342 [==============================] - 4s 9ms/step - loss: 219572699136.0000 - mean_squared_error: 219572699136.0000 - r2: -8.3384 - val_loss: 301470941184.0000 - val_mean_squared_error: 301470941184.0000 - val_r2: -10.0713\n",
      "Epoch 12/50\n",
      "342/342 [==============================] - 3s 8ms/step - loss: 219571290112.0000 - mean_squared_error: 219571290112.0000 - r2: -8.3493 - val_loss: 301469433856.0000 - val_mean_squared_error: 301469433856.0000 - val_r2: -10.0838\n",
      "Epoch 13/50\n",
      "342/342 [==============================] - 3s 8ms/step - loss: 219570012160.0000 - mean_squared_error: 219570012160.0000 - r2: -8.3537 - val_loss: 301467828224.0000 - val_mean_squared_error: 301467828224.0000 - val_r2: -10.0720\n",
      "Epoch 14/50\n",
      "342/342 [==============================] - 3s 8ms/step - loss: 219568635904.0000 - mean_squared_error: 219568635904.0000 - r2: -8.3496 - val_loss: 301466255360.0000 - val_mean_squared_error: 301466255360.0000 - val_r2: -10.0802\n",
      "Epoch 15/50\n",
      "342/342 [==============================] - 3s 8ms/step - loss: 219567390720.0000 - mean_squared_error: 219567390720.0000 - r2: -8.3436 - val_loss: 301464649728.0000 - val_mean_squared_error: 301464649728.0000 - val_r2: -10.0789\n",
      "Epoch 16/50\n",
      "342/342 [==============================] - 3s 8ms/step - loss: 219566030848.0000 - mean_squared_error: 219566030848.0000 - r2: -8.3404 - val_loss: 301463076864.0000 - val_mean_squared_error: 301463076864.0000 - val_r2: -10.0780\n",
      "Epoch 17/50\n",
      "342/342 [==============================] - 3s 8ms/step - loss: 219564539904.0000 - mean_squared_error: 219564539904.0000 - r2: -8.3417 - val_loss: 301461569536.0000 - val_mean_squared_error: 301461569536.0000 - val_r2: -10.0888\n",
      "Epoch 18/50\n",
      "342/342 [==============================] - 3s 8ms/step - loss: 219563360256.0000 - mean_squared_error: 219563360256.0000 - r2: -8.3549 - val_loss: 301459800064.0000 - val_mean_squared_error: 301459800064.0000 - val_r2: -10.0648\n",
      "Epoch 19/50\n",
      "342/342 [==============================] - 3s 8ms/step - loss: 219562082304.0000 - mean_squared_error: 219562082304.0000 - r2: -8.3613 - val_loss: 301458391040.0000 - val_mean_squared_error: 301458391040.0000 - val_r2: -10.0815\n",
      "Epoch 20/50\n",
      "342/342 [==============================] - 3s 8ms/step - loss: 219560607744.0000 - mean_squared_error: 219560607744.0000 - r2: -8.3505 - val_loss: 301456883712.0000 - val_mean_squared_error: 301456883712.0000 - val_r2: -10.0901\n",
      "Epoch 21/50\n",
      "342/342 [==============================] - 3s 8ms/step - loss: 219559247872.0000 - mean_squared_error: 219559247872.0000 - r2: -8.3440 - val_loss: 301455212544.0000 - val_mean_squared_error: 301455212544.0000 - val_r2: -10.0895\n",
      "Epoch 22/50\n",
      "342/342 [==============================] - 3s 8ms/step - loss: 219557904384.0000 - mean_squared_error: 219557904384.0000 - r2: -8.3422 - val_loss: 301453672448.0000 - val_mean_squared_error: 301453672448.0000 - val_r2: -10.0798\n",
      "Epoch 23/50\n",
      "342/342 [==============================] - 3s 8ms/step - loss: 219556626432.0000 - mean_squared_error: 219556626432.0000 - r2: -8.3484 - val_loss: 301452099584.0000 - val_mean_squared_error: 301452099584.0000 - val_r2: -10.0744\n",
      "Epoch 24/50\n",
      "342/342 [==============================] - 3s 8ms/step - loss: 219555266560.0000 - mean_squared_error: 219555266560.0000 - r2: -8.3529 - val_loss: 301450493952.0000 - val_mean_squared_error: 301450493952.0000 - val_r2: -10.0714\n",
      "Epoch 25/50\n",
      "342/342 [==============================] - 3s 8ms/step - loss: 219554070528.0000 - mean_squared_error: 219554070528.0000 - r2: -8.3670 - val_loss: 301448986624.0000 - val_mean_squared_error: 301448986624.0000 - val_r2: -10.0714\n",
      "Epoch 26/50\n",
      "342/342 [==============================] - 3s 8ms/step - loss: 219552563200.0000 - mean_squared_error: 219552563200.0000 - r2: -8.3584 - val_loss: 301447348224.0000 - val_mean_squared_error: 301447348224.0000 - val_r2: -10.0604\n",
      "Epoch 27/50\n",
      "342/342 [==============================] - 3s 8ms/step - loss: 219551416320.0000 - mean_squared_error: 219551416320.0000 - r2: -8.3555 - val_loss: 301445808128.0000 - val_mean_squared_error: 301445808128.0000 - val_r2: -10.0936\n",
      "Epoch 28/50\n",
      "342/342 [==============================] - 3s 8ms/step - loss: 219549941760.0000 - mean_squared_error: 219549941760.0000 - r2: -8.3427 - val_loss: 301444268032.0000 - val_mean_squared_error: 301444268032.0000 - val_r2: -10.0704\n",
      "Epoch 29/50\n",
      "342/342 [==============================] - 3s 8ms/step - loss: 219548729344.0000 - mean_squared_error: 219548729344.0000 - r2: -8.3483 - val_loss: 301442629632.0000 - val_mean_squared_error: 301442629632.0000 - val_r2: -10.0780\n",
      "Epoch 30/50\n",
      "342/342 [==============================] - 4s 9ms/step - loss: 219547402240.0000 - mean_squared_error: 219547402240.0000 - r2: -8.3525 - val_loss: 301441056768.0000 - val_mean_squared_error: 301441056768.0000 - val_r2: -10.0887\n",
      "Epoch 31/50\n",
      "342/342 [==============================] - 3s 8ms/step - loss: 219545976832.0000 - mean_squared_error: 219545976832.0000 - r2: -8.3495 - val_loss: 301439549440.0000 - val_mean_squared_error: 301439549440.0000 - val_r2: -10.0753\n",
      "Epoch 32/50\n",
      "342/342 [==============================] - 4s 8ms/step - loss: 219544698880.0000 - mean_squared_error: 219544698880.0000 - r2: -8.3439 - val_loss: 301438009344.0000 - val_mean_squared_error: 301438009344.0000 - val_r2: -10.0697\n",
      "Epoch 33/50\n",
      "342/342 [==============================] - 3s 8ms/step - loss: 219543224320.0000 - mean_squared_error: 219543224320.0000 - r2: -8.3394 - val_loss: 301436370944.0000 - val_mean_squared_error: 301436370944.0000 - val_r2: -10.0841\n",
      "Epoch 34/50\n",
      "342/342 [==============================] - 4s 9ms/step - loss: 219542011904.0000 - mean_squared_error: 219542011904.0000 - r2: -8.3379 - val_loss: 301434830848.0000 - val_mean_squared_error: 301434830848.0000 - val_r2: -10.0817\n",
      "Epoch 35/50\n",
      "342/342 [==============================] - 3s 8ms/step - loss: 219540668416.0000 - mean_squared_error: 219540668416.0000 - r2: -8.3572 - val_loss: 301433356288.0000 - val_mean_squared_error: 301433356288.0000 - val_r2: -10.0745\n",
      "Epoch 36/50\n",
      "342/342 [==============================] - 3s 8ms/step - loss: 219539308544.0000 - mean_squared_error: 219539308544.0000 - r2: -8.3376 - val_loss: 301431586816.0000 - val_mean_squared_error: 301431586816.0000 - val_r2: -10.0944\n",
      "Epoch 37/50\n",
      "342/342 [==============================] - 3s 8ms/step - loss: 219538112512.0000 - mean_squared_error: 219538112512.0000 - r2: -8.3422 - val_loss: 301430079488.0000 - val_mean_squared_error: 301430079488.0000 - val_r2: -10.1003\n",
      "Epoch 38/50\n",
      "342/342 [==============================] - 3s 8ms/step - loss: 219536654336.0000 - mean_squared_error: 219536654336.0000 - r2: -8.3458 - val_loss: 301428506624.0000 - val_mean_squared_error: 301428506624.0000 - val_r2: -10.0598\n",
      "Epoch 39/50\n",
      "342/342 [==============================] - 3s 8ms/step - loss: 219535310848.0000 - mean_squared_error: 219535310848.0000 - r2: -8.3552 - val_loss: 301426999296.0000 - val_mean_squared_error: 301426999296.0000 - val_r2: -10.0878\n",
      "Epoch 40/50\n",
      "342/342 [==============================] - 3s 8ms/step - loss: 219533983744.0000 - mean_squared_error: 219533983744.0000 - r2: -8.3535 - val_loss: 301425393664.0000 - val_mean_squared_error: 301425393664.0000 - val_r2: -10.0813\n",
      "Epoch 41/50\n",
      "342/342 [==============================] - 4s 9ms/step - loss: 219532525568.0000 - mean_squared_error: 219532525568.0000 - r2: -8.3537 - val_loss: 301423788032.0000 - val_mean_squared_error: 301423788032.0000 - val_r2: -10.0829\n",
      "Epoch 42/50\n",
      "342/342 [==============================] - 3s 8ms/step - loss: 219531280384.0000 - mean_squared_error: 219531280384.0000 - r2: -8.3425 - val_loss: 301422247936.0000 - val_mean_squared_error: 301422247936.0000 - val_r2: -10.0835\n",
      "Epoch 43/50\n",
      "342/342 [==============================] - 3s 8ms/step - loss: 219529920512.0000 - mean_squared_error: 219529920512.0000 - r2: -8.3514 - val_loss: 301420707840.0000 - val_mean_squared_error: 301420707840.0000 - val_r2: -10.0769\n",
      "Epoch 44/50\n",
      "342/342 [==============================] - 3s 8ms/step - loss: 219528691712.0000 - mean_squared_error: 219528691712.0000 - r2: -8.3413 - val_loss: 301419069440.0000 - val_mean_squared_error: 301419069440.0000 - val_r2: -10.0676\n",
      "Epoch 45/50\n",
      "342/342 [==============================] - 3s 8ms/step - loss: 219527348224.0000 - mean_squared_error: 219527348224.0000 - r2: -8.3392 - val_loss: 301417463808.0000 - val_mean_squared_error: 301417463808.0000 - val_r2: -10.0957\n",
      "Epoch 46/50\n",
      "342/342 [==============================] - 3s 8ms/step - loss: 219526037504.0000 - mean_squared_error: 219526037504.0000 - r2: -8.3425 - val_loss: 301415956480.0000 - val_mean_squared_error: 301415956480.0000 - val_r2: -10.0749\n",
      "Epoch 47/50\n",
      "342/342 [==============================] - 5s 13ms/step - loss: 219524759552.0000 - mean_squared_error: 219524759552.0000 - r2: -8.3485 - val_loss: 301414416384.0000 - val_mean_squared_error: 301414416384.0000 - val_r2: -10.0613\n",
      "Epoch 48/50\n",
      "342/342 [==============================] - 4s 9ms/step - loss: 219523334144.0000 - mean_squared_error: 219523334144.0000 - r2: -8.3431 - val_loss: 301412810752.0000 - val_mean_squared_error: 301412810752.0000 - val_r2: -10.0856\n",
      "Epoch 49/50\n",
      "342/342 [==============================] - 3s 8ms/step - loss: 219522039808.0000 - mean_squared_error: 219522039808.0000 - r2: -8.3478 - val_loss: 301411434496.0000 - val_mean_squared_error: 301411434496.0000 - val_r2: -10.0833\n",
      "Epoch 50/50\n",
      "342/342 [==============================] - 3s 8ms/step - loss: 219520679936.0000 - mean_squared_error: 219520679936.0000 - r2: -8.3501 - val_loss: 301409632256.0000 - val_mean_squared_error: 301409632256.0000 - val_r2: -10.0739\n"
     ]
    }
   ],
   "source": [
    "history = model.fit(train_ds, epochs=50, validation_data=test_ds)"
   ]
  },
  {
   "cell_type": "markdown",
   "id": "885b908e",
   "metadata": {
    "papermill": {
     "duration": 0.126099,
     "end_time": "2022-10-10T12:32:10.499403",
     "exception": false,
     "start_time": "2022-10-10T12:32:10.373304",
     "status": "completed"
    },
    "tags": []
   },
   "source": [
    "### Test $R^2$ Linear Regression with Adam"
   ]
  },
  {
   "cell_type": "code",
   "execution_count": 12,
   "id": "0e15af82",
   "metadata": {
    "execution": {
     "iopub.execute_input": "2022-10-10T12:32:10.758546Z",
     "iopub.status.busy": "2022-10-10T12:32:10.758125Z",
     "iopub.status.idle": "2022-10-10T12:32:10.763969Z",
     "shell.execute_reply": "2022-10-10T12:32:10.762688Z"
    },
    "papermill": {
     "duration": 0.137566,
     "end_time": "2022-10-10T12:32:10.767279",
     "exception": false,
     "start_time": "2022-10-10T12:32:10.629713",
     "status": "completed"
    },
    "tags": []
   },
   "outputs": [
    {
     "name": "stdout",
     "output_type": "stream",
     "text": [
      "test R2 value: -10.07387924194336\n"
     ]
    }
   ],
   "source": [
    "print(f\"test R2 value: {history.history['val_r2'][-1]}\")"
   ]
  },
  {
   "cell_type": "markdown",
   "id": "f8653d20",
   "metadata": {
    "papermill": {
     "duration": 0.12745,
     "end_time": "2022-10-10T12:32:11.023083",
     "exception": false,
     "start_time": "2022-10-10T12:32:10.895633",
     "status": "completed"
    },
    "tags": []
   },
   "source": [
    "### Observations\n",
    ">The test $R^2$ value is below 0 which means the model does not follow the trend of the data and its performance is very bad"
   ]
  },
  {
   "cell_type": "markdown",
   "id": "d48bca1a",
   "metadata": {
    "papermill": {
     "duration": 0.128838,
     "end_time": "2022-10-10T12:32:11.279178",
     "exception": false,
     "start_time": "2022-10-10T12:32:11.150340",
     "status": "completed"
    },
    "tags": []
   },
   "source": [
    "### Switching Optimizer to SGD"
   ]
  },
  {
   "cell_type": "code",
   "execution_count": 13,
   "id": "c8cf35cd",
   "metadata": {
    "execution": {
     "iopub.execute_input": "2022-10-10T12:32:11.537872Z",
     "iopub.status.busy": "2022-10-10T12:32:11.537459Z",
     "iopub.status.idle": "2022-10-10T12:35:18.274388Z",
     "shell.execute_reply": "2022-10-10T12:35:18.273179Z"
    },
    "papermill": {
     "duration": 186.869656,
     "end_time": "2022-10-10T12:35:18.277001",
     "exception": false,
     "start_time": "2022-10-10T12:32:11.407345",
     "status": "completed"
    },
    "tags": []
   },
   "outputs": [
    {
     "name": "stdout",
     "output_type": "stream",
     "text": [
      "Epoch 1/50\n",
      "342/342 [==============================] - 5s 10ms/step - loss: 18728673280.0000 - mean_squared_error: 18728673280.0000 - r2: 0.1966 - val_loss: 13789992960.0000 - val_mean_squared_error: 13789992960.0000 - val_r2: 0.4958\n",
      "Epoch 2/50\n",
      "342/342 [==============================] - 4s 9ms/step - loss: 5481924096.0000 - mean_squared_error: 5481924096.0000 - r2: 0.7678 - val_loss: 12796292096.0000 - val_mean_squared_error: 12796292096.0000 - val_r2: 0.5320\n",
      "Epoch 3/50\n",
      "342/342 [==============================] - 4s 9ms/step - loss: 5026647040.0000 - mean_squared_error: 5026647040.0000 - r2: 0.7875 - val_loss: 12325083136.0000 - val_mean_squared_error: 12325083136.0000 - val_r2: 0.5501\n",
      "Epoch 4/50\n",
      "342/342 [==============================] - 4s 9ms/step - loss: 4776961536.0000 - mean_squared_error: 4776961536.0000 - r2: 0.7976 - val_loss: 12102071296.0000 - val_mean_squared_error: 12102071296.0000 - val_r2: 0.5574\n",
      "Epoch 5/50\n",
      "342/342 [==============================] - 4s 9ms/step - loss: 4609034240.0000 - mean_squared_error: 4609034240.0000 - r2: 0.8049 - val_loss: 11926617088.0000 - val_mean_squared_error: 11926617088.0000 - val_r2: 0.5641\n",
      "Epoch 6/50\n",
      "342/342 [==============================] - 4s 9ms/step - loss: 4482668032.0000 - mean_squared_error: 4482668032.0000 - r2: 0.8106 - val_loss: 11662400512.0000 - val_mean_squared_error: 11662400512.0000 - val_r2: 0.5736\n",
      "Epoch 7/50\n",
      "342/342 [==============================] - 4s 9ms/step - loss: 4384753664.0000 - mean_squared_error: 4384753664.0000 - r2: 0.8140 - val_loss: 11666560000.0000 - val_mean_squared_error: 11666560000.0000 - val_r2: 0.5743\n",
      "Epoch 8/50\n",
      "342/342 [==============================] - 4s 9ms/step - loss: 4306892288.0000 - mean_squared_error: 4306892288.0000 - r2: 0.8173 - val_loss: 11521385472.0000 - val_mean_squared_error: 11521385472.0000 - val_r2: 0.5791\n",
      "Epoch 9/50\n",
      "342/342 [==============================] - 4s 9ms/step - loss: 4242375936.0000 - mean_squared_error: 4242375936.0000 - r2: 0.8203 - val_loss: 11452345344.0000 - val_mean_squared_error: 11452345344.0000 - val_r2: 0.5809\n",
      "Epoch 10/50\n",
      "342/342 [==============================] - 4s 9ms/step - loss: 4189069312.0000 - mean_squared_error: 4189069312.0000 - r2: 0.8224 - val_loss: 11380866048.0000 - val_mean_squared_error: 11380866048.0000 - val_r2: 0.5841\n",
      "Epoch 11/50\n",
      "342/342 [==============================] - 4s 9ms/step - loss: 4144392960.0000 - mean_squared_error: 4144392960.0000 - r2: 0.8241 - val_loss: 11411281920.0000 - val_mean_squared_error: 11411281920.0000 - val_r2: 0.5829\n",
      "Epoch 12/50\n",
      "342/342 [==============================] - 4s 9ms/step - loss: 4106320128.0000 - mean_squared_error: 4106320128.0000 - r2: 0.8260 - val_loss: 11307233280.0000 - val_mean_squared_error: 11307233280.0000 - val_r2: 0.5865\n",
      "Epoch 13/50\n",
      "342/342 [==============================] - 4s 10ms/step - loss: 4072896256.0000 - mean_squared_error: 4072896256.0000 - r2: 0.8270 - val_loss: 11243691008.0000 - val_mean_squared_error: 11243691008.0000 - val_r2: 0.5889\n",
      "Epoch 14/50\n",
      "342/342 [==============================] - 4s 9ms/step - loss: 4044700416.0000 - mean_squared_error: 4044700416.0000 - r2: 0.8284 - val_loss: 11245492224.0000 - val_mean_squared_error: 11245492224.0000 - val_r2: 0.5885\n",
      "Epoch 15/50\n",
      "342/342 [==============================] - 4s 9ms/step - loss: 4019290624.0000 - mean_squared_error: 4019290624.0000 - r2: 0.8295 - val_loss: 11110981632.0000 - val_mean_squared_error: 11110981632.0000 - val_r2: 0.5937\n",
      "Epoch 16/50\n",
      "342/342 [==============================] - 4s 9ms/step - loss: 3997253120.0000 - mean_squared_error: 3997253120.0000 - r2: 0.8303 - val_loss: 11105985536.0000 - val_mean_squared_error: 11105985536.0000 - val_r2: 0.5936\n",
      "Epoch 17/50\n",
      "342/342 [==============================] - 4s 10ms/step - loss: 3977681920.0000 - mean_squared_error: 3977681920.0000 - r2: 0.8314 - val_loss: 11057275904.0000 - val_mean_squared_error: 11057275904.0000 - val_r2: 0.5950\n",
      "Epoch 18/50\n",
      "342/342 [==============================] - 4s 9ms/step - loss: 3959626240.0000 - mean_squared_error: 3959626240.0000 - r2: 0.8321 - val_loss: 11035270144.0000 - val_mean_squared_error: 11035270144.0000 - val_r2: 0.5958\n",
      "Epoch 19/50\n",
      "342/342 [==============================] - 4s 9ms/step - loss: 3944144384.0000 - mean_squared_error: 3944144384.0000 - r2: 0.8327 - val_loss: 11040445440.0000 - val_mean_squared_error: 11040445440.0000 - val_r2: 0.5960\n",
      "Epoch 20/50\n",
      "342/342 [==============================] - 4s 9ms/step - loss: 3929246720.0000 - mean_squared_error: 3929246720.0000 - r2: 0.8336 - val_loss: 10964623360.0000 - val_mean_squared_error: 10964623360.0000 - val_r2: 0.5986\n",
      "Epoch 21/50\n",
      "342/342 [==============================] - 4s 10ms/step - loss: 3916507392.0000 - mean_squared_error: 3916507392.0000 - r2: 0.8336 - val_loss: 10949518336.0000 - val_mean_squared_error: 10949518336.0000 - val_r2: 0.5995\n",
      "Epoch 22/50\n",
      "342/342 [==============================] - 4s 9ms/step - loss: 3904253952.0000 - mean_squared_error: 3904253952.0000 - r2: 0.8342 - val_loss: 10884124672.0000 - val_mean_squared_error: 10884124672.0000 - val_r2: 0.6011\n",
      "Epoch 23/50\n",
      "342/342 [==============================] - 4s 9ms/step - loss: 3894405632.0000 - mean_squared_error: 3894405632.0000 - r2: 0.8350 - val_loss: 10865316864.0000 - val_mean_squared_error: 10865316864.0000 - val_r2: 0.6020\n",
      "Epoch 24/50\n",
      "342/342 [==============================] - 4s 9ms/step - loss: 3883598592.0000 - mean_squared_error: 3883598592.0000 - r2: 0.8350 - val_loss: 10960051200.0000 - val_mean_squared_error: 10960051200.0000 - val_r2: 0.5986\n",
      "Epoch 25/50\n",
      "342/342 [==============================] - 4s 9ms/step - loss: 3873945344.0000 - mean_squared_error: 3873945344.0000 - r2: 0.8357 - val_loss: 11016626176.0000 - val_mean_squared_error: 11016626176.0000 - val_r2: 0.5963\n",
      "Epoch 26/50\n",
      "342/342 [==============================] - 4s 9ms/step - loss: 3866179840.0000 - mean_squared_error: 3866179840.0000 - r2: 0.8359 - val_loss: 10871537664.0000 - val_mean_squared_error: 10871537664.0000 - val_r2: 0.6018\n",
      "Epoch 27/50\n",
      "342/342 [==============================] - 4s 9ms/step - loss: 3858716160.0000 - mean_squared_error: 3858716160.0000 - r2: 0.8366 - val_loss: 10842901504.0000 - val_mean_squared_error: 10842901504.0000 - val_r2: 0.6028\n",
      "Epoch 28/50\n",
      "342/342 [==============================] - 4s 9ms/step - loss: 3850363136.0000 - mean_squared_error: 3850363136.0000 - r2: 0.8367 - val_loss: 10923934720.0000 - val_mean_squared_error: 10923934720.0000 - val_r2: 0.6004\n",
      "Epoch 29/50\n",
      "342/342 [==============================] - 4s 9ms/step - loss: 3843891456.0000 - mean_squared_error: 3843891456.0000 - r2: 0.8370 - val_loss: 10925690880.0000 - val_mean_squared_error: 10925690880.0000 - val_r2: 0.6008\n",
      "Epoch 30/50\n",
      "342/342 [==============================] - 4s 9ms/step - loss: 3837199616.0000 - mean_squared_error: 3837199616.0000 - r2: 0.8373 - val_loss: 10895942656.0000 - val_mean_squared_error: 10895942656.0000 - val_r2: 0.6011\n",
      "Epoch 31/50\n",
      "342/342 [==============================] - 4s 9ms/step - loss: 3831435776.0000 - mean_squared_error: 3831435776.0000 - r2: 0.8371 - val_loss: 10731488256.0000 - val_mean_squared_error: 10731488256.0000 - val_r2: 0.6072\n",
      "Epoch 32/50\n",
      "342/342 [==============================] - 4s 9ms/step - loss: 3825584384.0000 - mean_squared_error: 3825584384.0000 - r2: 0.8378 - val_loss: 10807678976.0000 - val_mean_squared_error: 10807678976.0000 - val_r2: 0.6042\n",
      "Epoch 33/50\n",
      "342/342 [==============================] - 4s 9ms/step - loss: 3819255552.0000 - mean_squared_error: 3819255552.0000 - r2: 0.8374 - val_loss: 10939112448.0000 - val_mean_squared_error: 10939112448.0000 - val_r2: 0.5987\n",
      "Epoch 34/50\n",
      "342/342 [==============================] - 4s 9ms/step - loss: 3814951168.0000 - mean_squared_error: 3814951168.0000 - r2: 0.8382 - val_loss: 10770733056.0000 - val_mean_squared_error: 10770733056.0000 - val_r2: 0.6057\n",
      "Epoch 35/50\n",
      "342/342 [==============================] - 4s 9ms/step - loss: 3809930496.0000 - mean_squared_error: 3809930496.0000 - r2: 0.8381 - val_loss: 10925248512.0000 - val_mean_squared_error: 10925248512.0000 - val_r2: 0.5994\n",
      "Epoch 36/50\n",
      "342/342 [==============================] - 4s 9ms/step - loss: 3805564160.0000 - mean_squared_error: 3805564160.0000 - r2: 0.8384 - val_loss: 10799646720.0000 - val_mean_squared_error: 10799646720.0000 - val_r2: 0.6041\n",
      "Epoch 37/50\n",
      "342/342 [==============================] - 4s 9ms/step - loss: 3800980480.0000 - mean_squared_error: 3800980480.0000 - r2: 0.8386 - val_loss: 10752345088.0000 - val_mean_squared_error: 10752345088.0000 - val_r2: 0.6066\n",
      "Epoch 38/50\n",
      "342/342 [==============================] - 4s 9ms/step - loss: 3796910848.0000 - mean_squared_error: 3796910848.0000 - r2: 0.8386 - val_loss: 10769934336.0000 - val_mean_squared_error: 10769934336.0000 - val_r2: 0.6054\n",
      "Epoch 39/50\n",
      "342/342 [==============================] - 4s 9ms/step - loss: 3792662528.0000 - mean_squared_error: 3792662528.0000 - r2: 0.8390 - val_loss: 10778493952.0000 - val_mean_squared_error: 10778493952.0000 - val_r2: 0.6055\n",
      "Epoch 40/50\n",
      "342/342 [==============================] - 4s 8ms/step - loss: 3789236992.0000 - mean_squared_error: 3789236992.0000 - r2: 0.8391 - val_loss: 10768461824.0000 - val_mean_squared_error: 10768461824.0000 - val_r2: 0.6048\n",
      "Epoch 41/50\n",
      "342/342 [==============================] - 4s 9ms/step - loss: 3785721088.0000 - mean_squared_error: 3785721088.0000 - r2: 0.8395 - val_loss: 10746891264.0000 - val_mean_squared_error: 10746891264.0000 - val_r2: 0.6065\n",
      "Epoch 42/50\n",
      "342/342 [==============================] - 4s 8ms/step - loss: 3782262784.0000 - mean_squared_error: 3782262784.0000 - r2: 0.8395 - val_loss: 10701328384.0000 - val_mean_squared_error: 10701328384.0000 - val_r2: 0.6086\n",
      "Epoch 43/50\n",
      "342/342 [==============================] - 3s 8ms/step - loss: 3778768896.0000 - mean_squared_error: 3778768896.0000 - r2: 0.8395 - val_loss: 10712087552.0000 - val_mean_squared_error: 10712087552.0000 - val_r2: 0.6074\n",
      "Epoch 44/50\n",
      "342/342 [==============================] - 4s 9ms/step - loss: 3775587840.0000 - mean_squared_error: 3775587840.0000 - r2: 0.8397 - val_loss: 10774879232.0000 - val_mean_squared_error: 10774879232.0000 - val_r2: 0.6047\n",
      "Epoch 45/50\n",
      "342/342 [==============================] - 3s 8ms/step - loss: 3772508928.0000 - mean_squared_error: 3772508928.0000 - r2: 0.8399 - val_loss: 10763447296.0000 - val_mean_squared_error: 10763447296.0000 - val_r2: 0.6059\n",
      "Epoch 46/50\n",
      "342/342 [==============================] - 4s 9ms/step - loss: 3769698048.0000 - mean_squared_error: 3769698048.0000 - r2: 0.8399 - val_loss: 10645613568.0000 - val_mean_squared_error: 10645613568.0000 - val_r2: 0.6105\n",
      "Epoch 47/50\n",
      "342/342 [==============================] - 3s 8ms/step - loss: 3767044352.0000 - mean_squared_error: 3767044352.0000 - r2: 0.8400 - val_loss: 10574584832.0000 - val_mean_squared_error: 10574584832.0000 - val_r2: 0.6126\n",
      "Epoch 48/50\n",
      "342/342 [==============================] - 3s 8ms/step - loss: 3763999232.0000 - mean_squared_error: 3763999232.0000 - r2: 0.8401 - val_loss: 10654331904.0000 - val_mean_squared_error: 10654331904.0000 - val_r2: 0.6100\n",
      "Epoch 49/50\n",
      "342/342 [==============================] - 3s 8ms/step - loss: 3761456128.0000 - mean_squared_error: 3761456128.0000 - r2: 0.8403 - val_loss: 10667339776.0000 - val_mean_squared_error: 10667339776.0000 - val_r2: 0.6090\n",
      "Epoch 50/50\n",
      "342/342 [==============================] - 3s 8ms/step - loss: 3758373632.0000 - mean_squared_error: 3758373632.0000 - r2: 0.8403 - val_loss: 10645579776.0000 - val_mean_squared_error: 10645579776.0000 - val_r2: 0.6101\n"
     ]
    }
   ],
   "source": [
    "dense_layer = layers.Dense(1, activation=\"linear\")(all_features)\n",
    "model = keras.Model(all_inputs, dense_layer)\n",
    "opt=keras.optimizers.SGD(learning_rate=0.01)\n",
    "model.compile(optimizer=opt, loss='mse', metrics=[tf.keras.metrics.MeanSquaredError(), r2])\n",
    "history = model.fit(train_ds, epochs=50, validation_data=test_ds)"
   ]
  },
  {
   "cell_type": "markdown",
   "id": "88bdb7c3",
   "metadata": {
    "papermill": {
     "duration": 0.254059,
     "end_time": "2022-10-10T12:35:18.792163",
     "exception": false,
     "start_time": "2022-10-10T12:35:18.538104",
     "status": "completed"
    },
    "tags": []
   },
   "source": [
    "### Test $R^2$ Linear Regression with SGD"
   ]
  },
  {
   "cell_type": "code",
   "execution_count": 14,
   "id": "1b107eb1",
   "metadata": {
    "execution": {
     "iopub.execute_input": "2022-10-10T12:35:19.360667Z",
     "iopub.status.busy": "2022-10-10T12:35:19.359906Z",
     "iopub.status.idle": "2022-10-10T12:35:19.365352Z",
     "shell.execute_reply": "2022-10-10T12:35:19.364209Z"
    },
    "papermill": {
     "duration": 0.263725,
     "end_time": "2022-10-10T12:35:19.367585",
     "exception": false,
     "start_time": "2022-10-10T12:35:19.103860",
     "status": "completed"
    },
    "tags": []
   },
   "outputs": [
    {
     "name": "stdout",
     "output_type": "stream",
     "text": [
      "test R2 value: 0.6100942492485046\n"
     ]
    }
   ],
   "source": [
    "print(f\"test R2 value: {history.history['val_r2'][-1]}\")"
   ]
  },
  {
   "cell_type": "markdown",
   "id": "7b5f82ef",
   "metadata": {
    "papermill": {
     "duration": 0.263108,
     "end_time": "2022-10-10T12:35:19.912131",
     "exception": false,
     "start_time": "2022-10-10T12:35:19.649023",
     "status": "completed"
    },
    "tags": []
   },
   "source": [
    "### Observations\n",
    ">The test $R^2$ value using SGD optimizer is much better and seems to fix the problem.\n",
    "\n",
    "### Inference\n",
    "Adam optimizer involves a combination of two gradient descent methodologies: \n",
    "* **Momentum**: This algorithm is used to accelerate the gradient descent algorithm by taking into consideration the ‘exponentially weighted average’ of the gradients. Using averages makes the algorithm converge towards the minima in a faster pace. <br>\n",
    "$w_{t+1} = w_t - \\alpha m_t$<br>\n",
    "$where$ $m_t = \\beta_1 m_{t-1} + (1-\\beta_1) \\dfrac{\\partial L}{\\partial w_t}$\n",
    "\n",
    "* **Root Mean Square Propagation (RMSP)**: Root mean square prop or RMSprop is an adaptive learning algorithm that tries to improve AdaGrad. Instead of taking the cumulative sum of squared gradients like in AdaGrad, it takes the ‘exponential moving average’.\n",
    "$w_{t+1} = w_t - \\dfrac{\\alpha_t}{\\sqrt{v_t + \\epsilon}} \\dfrac{\\partial L}{\\partial w_t} $<br>\n",
    "$where$ $v_t = \\beta_2 v_{t-1} + (1-\\beta_2) (\\dfrac{\\partial L}{\\partial w_t})^2$\n",
    "\n",
    "Adam can suffer a weight decay problem. Weight decay works by adding a penalty term to the cost function of a neural network which has the effect of shrinking the weights during backpropagation. This helps prevent the network from overfitting the training data but in our case it seems to be underfitting and the model is not able to learn a good approximation function for our dataset. Moreover, Adam gives a higher priority to previous gradients and tries to make gradient updates in this direction and hence its hard to recover once we start underfitting.\n",
    "\n",
    "Stochastic gradient descent on the other hand has some randomness or noise which allows to escape from local minima to reach a better minimum.\n",
    "<br>.Moreover, it doesn't suffer from weight decay and is able to learn a good function approximator. <br>\n",
    "$w_{t+1} = w_t - \\alpha \\dfrac{\\partial L}{\\partial w_t}$"
   ]
  },
  {
   "cell_type": "markdown",
   "id": "f2cb1fef",
   "metadata": {
    "papermill": {
     "duration": 0.257868,
     "end_time": "2022-10-10T12:35:20.424228",
     "exception": false,
     "start_time": "2022-10-10T12:35:20.166360",
     "status": "completed"
    },
    "tags": []
   },
   "source": [
    "## Part D\n",
    ">Add 1 hidden layer (10 units) to the architecture in Q1c and train it with the same\n",
    "configuration as in Q1c (i.e. with Adam) except that the learning rate is increased to\n",
    "0.08. Report the test R\n",
    "2 value."
   ]
  },
  {
   "cell_type": "markdown",
   "id": "9958e912",
   "metadata": {
    "papermill": {
     "duration": 0.254218,
     "end_time": "2022-10-10T12:35:20.935733",
     "exception": false,
     "start_time": "2022-10-10T12:35:20.681515",
     "status": "completed"
    },
    "tags": []
   },
   "source": [
    "### Definition of Model Architecture\n",
    ">Nothing was mentioned about the activation function so I used ReLU"
   ]
  },
  {
   "cell_type": "code",
   "execution_count": 15,
   "id": "a0f22755",
   "metadata": {
    "execution": {
     "iopub.execute_input": "2022-10-10T12:35:21.498889Z",
     "iopub.status.busy": "2022-10-10T12:35:21.498119Z",
     "iopub.status.idle": "2022-10-10T12:38:28.972684Z",
     "shell.execute_reply": "2022-10-10T12:38:28.971269Z"
    },
    "papermill": {
     "duration": 187.730342,
     "end_time": "2022-10-10T12:38:28.975626",
     "exception": false,
     "start_time": "2022-10-10T12:35:21.245284",
     "status": "completed"
    },
    "tags": []
   },
   "outputs": [
    {
     "name": "stdout",
     "output_type": "stream",
     "text": [
      "Epoch 1/50\n",
      "342/342 [==============================] - 5s 10ms/step - loss: 202138501120.0000 - mean_squared_error: 202138501120.0000 - r2: -7.5969 - val_loss: 234665263104.0000 - val_mean_squared_error: 234665263104.0000 - val_r2: -7.6305\n",
      "Epoch 2/50\n",
      "342/342 [==============================] - 4s 9ms/step - loss: 108115525632.0000 - mean_squared_error: 108115525632.0000 - r2: -3.6036 - val_loss: 99724115968.0000 - val_mean_squared_error: 99724115968.0000 - val_r2: -2.6657\n",
      "Epoch 3/50\n",
      "342/342 [==============================] - 4s 9ms/step - loss: 28253134848.0000 - mean_squared_error: 28253134848.0000 - r2: -0.1999 - val_loss: 29892052992.0000 - val_mean_squared_error: 29892052992.0000 - val_r2: -0.0934\n",
      "Epoch 4/50\n",
      "342/342 [==============================] - 4s 10ms/step - loss: 7283666944.0000 - mean_squared_error: 7283666944.0000 - r2: 0.6924 - val_loss: 14998016000.0000 - val_mean_squared_error: 14998016000.0000 - val_r2: 0.4524\n",
      "Epoch 5/50\n",
      "342/342 [==============================] - 4s 9ms/step - loss: 5322429952.0000 - mean_squared_error: 5322429952.0000 - r2: 0.7750 - val_loss: 12778392576.0000 - val_mean_squared_error: 12778392576.0000 - val_r2: 0.5332\n",
      "Epoch 6/50\n",
      "342/342 [==============================] - 4s 9ms/step - loss: 4915913216.0000 - mean_squared_error: 4915913216.0000 - r2: 0.7921 - val_loss: 12210914304.0000 - val_mean_squared_error: 12210914304.0000 - val_r2: 0.5543\n",
      "Epoch 7/50\n",
      "342/342 [==============================] - 4s 9ms/step - loss: 4619474944.0000 - mean_squared_error: 4619474944.0000 - r2: 0.8045 - val_loss: 11930339328.0000 - val_mean_squared_error: 11930339328.0000 - val_r2: 0.5646\n",
      "Epoch 8/50\n",
      "342/342 [==============================] - 4s 9ms/step - loss: 4389765120.0000 - mean_squared_error: 4389765120.0000 - r2: 0.8139 - val_loss: 11569184768.0000 - val_mean_squared_error: 11569184768.0000 - val_r2: 0.5769\n",
      "Epoch 9/50\n",
      "342/342 [==============================] - 4s 9ms/step - loss: 4210541568.0000 - mean_squared_error: 4210541568.0000 - r2: 0.8215 - val_loss: 11397473280.0000 - val_mean_squared_error: 11397473280.0000 - val_r2: 0.5835\n",
      "Epoch 10/50\n",
      "342/342 [==============================] - 4s 9ms/step - loss: 4069799680.0000 - mean_squared_error: 4069799680.0000 - r2: 0.8272 - val_loss: 11076745216.0000 - val_mean_squared_error: 11076745216.0000 - val_r2: 0.5951\n",
      "Epoch 11/50\n",
      "342/342 [==============================] - 4s 9ms/step - loss: 3955380480.0000 - mean_squared_error: 3955380480.0000 - r2: 0.8322 - val_loss: 11073992704.0000 - val_mean_squared_error: 11073992704.0000 - val_r2: 0.5948\n",
      "Epoch 12/50\n",
      "342/342 [==============================] - 4s 10ms/step - loss: 3858279168.0000 - mean_squared_error: 3858279168.0000 - r2: 0.8364 - val_loss: 10841579520.0000 - val_mean_squared_error: 10841579520.0000 - val_r2: 0.6036\n",
      "Epoch 13/50\n",
      "342/342 [==============================] - 4s 9ms/step - loss: 3764498176.0000 - mean_squared_error: 3764498176.0000 - r2: 0.8402 - val_loss: 10837084160.0000 - val_mean_squared_error: 10837084160.0000 - val_r2: 0.6025\n",
      "Epoch 14/50\n",
      "342/342 [==============================] - 4s 9ms/step - loss: 3672583936.0000 - mean_squared_error: 3672583936.0000 - r2: 0.8438 - val_loss: 10694507520.0000 - val_mean_squared_error: 10694507520.0000 - val_r2: 0.6085\n",
      "Epoch 15/50\n",
      "342/342 [==============================] - 4s 9ms/step - loss: 3579956480.0000 - mean_squared_error: 3579956480.0000 - r2: 0.8481 - val_loss: 10576580608.0000 - val_mean_squared_error: 10576580608.0000 - val_r2: 0.6120\n",
      "Epoch 16/50\n",
      "342/342 [==============================] - 4s 9ms/step - loss: 3483858688.0000 - mean_squared_error: 3483858688.0000 - r2: 0.8521 - val_loss: 10279352320.0000 - val_mean_squared_error: 10279352320.0000 - val_r2: 0.6233\n",
      "Epoch 17/50\n",
      "342/342 [==============================] - 4s 9ms/step - loss: 3381215744.0000 - mean_squared_error: 3381215744.0000 - r2: 0.8565 - val_loss: 10172773376.0000 - val_mean_squared_error: 10172773376.0000 - val_r2: 0.6278\n",
      "Epoch 18/50\n",
      "342/342 [==============================] - 4s 9ms/step - loss: 3281017856.0000 - mean_squared_error: 3281017856.0000 - r2: 0.8608 - val_loss: 9930745856.0000 - val_mean_squared_error: 9930745856.0000 - val_r2: 0.6364\n",
      "Epoch 19/50\n",
      "342/342 [==============================] - 4s 9ms/step - loss: 3190970880.0000 - mean_squared_error: 3190970880.0000 - r2: 0.8643 - val_loss: 10043301888.0000 - val_mean_squared_error: 10043301888.0000 - val_r2: 0.6318\n",
      "Epoch 20/50\n",
      "342/342 [==============================] - 4s 9ms/step - loss: 3116173568.0000 - mean_squared_error: 3116173568.0000 - r2: 0.8675 - val_loss: 9682366464.0000 - val_mean_squared_error: 9682366464.0000 - val_r2: 0.6450\n",
      "Epoch 21/50\n",
      "342/342 [==============================] - 4s 9ms/step - loss: 3055749888.0000 - mean_squared_error: 3055749888.0000 - r2: 0.8698 - val_loss: 9804777472.0000 - val_mean_squared_error: 9804777472.0000 - val_r2: 0.6401\n",
      "Epoch 22/50\n",
      "342/342 [==============================] - 4s 9ms/step - loss: 3006139648.0000 - mean_squared_error: 3006139648.0000 - r2: 0.8721 - val_loss: 9565143040.0000 - val_mean_squared_error: 9565143040.0000 - val_r2: 0.6492\n",
      "Epoch 23/50\n",
      "342/342 [==============================] - 4s 9ms/step - loss: 2966515456.0000 - mean_squared_error: 2966515456.0000 - r2: 0.8740 - val_loss: 9642937344.0000 - val_mean_squared_error: 9642937344.0000 - val_r2: 0.6463\n",
      "Epoch 24/50\n",
      "342/342 [==============================] - 4s 9ms/step - loss: 2931954432.0000 - mean_squared_error: 2931954432.0000 - r2: 0.8755 - val_loss: 9474412544.0000 - val_mean_squared_error: 9474412544.0000 - val_r2: 0.6525\n",
      "Epoch 25/50\n",
      "342/342 [==============================] - 4s 9ms/step - loss: 2904108544.0000 - mean_squared_error: 2904108544.0000 - r2: 0.8765 - val_loss: 9399116800.0000 - val_mean_squared_error: 9399116800.0000 - val_r2: 0.6552\n",
      "Epoch 26/50\n",
      "342/342 [==============================] - 4s 9ms/step - loss: 2879586304.0000 - mean_squared_error: 2879586304.0000 - r2: 0.8776 - val_loss: 9759892480.0000 - val_mean_squared_error: 9759892480.0000 - val_r2: 0.6416\n",
      "Epoch 27/50\n",
      "342/342 [==============================] - 4s 9ms/step - loss: 2859341056.0000 - mean_squared_error: 2859341056.0000 - r2: 0.8785 - val_loss: 9525557248.0000 - val_mean_squared_error: 9525557248.0000 - val_r2: 0.6502\n",
      "Epoch 28/50\n",
      "342/342 [==============================] - 4s 9ms/step - loss: 2842182656.0000 - mean_squared_error: 2842182656.0000 - r2: 0.8791 - val_loss: 9543900160.0000 - val_mean_squared_error: 9543900160.0000 - val_r2: 0.6490\n",
      "Epoch 29/50\n",
      "342/342 [==============================] - 4s 10ms/step - loss: 2824723712.0000 - mean_squared_error: 2824723712.0000 - r2: 0.8797 - val_loss: 9520196608.0000 - val_mean_squared_error: 9520196608.0000 - val_r2: 0.6500\n",
      "Epoch 30/50\n",
      "342/342 [==============================] - 4s 9ms/step - loss: 2808072960.0000 - mean_squared_error: 2808072960.0000 - r2: 0.8807 - val_loss: 9592617984.0000 - val_mean_squared_error: 9592617984.0000 - val_r2: 0.6478\n",
      "Epoch 31/50\n",
      "342/342 [==============================] - 4s 9ms/step - loss: 2793792512.0000 - mean_squared_error: 2793792512.0000 - r2: 0.8812 - val_loss: 9401908224.0000 - val_mean_squared_error: 9401908224.0000 - val_r2: 0.6549\n",
      "Epoch 32/50\n",
      "342/342 [==============================] - 4s 9ms/step - loss: 2781305088.0000 - mean_squared_error: 2781305088.0000 - r2: 0.8816 - val_loss: 9303140352.0000 - val_mean_squared_error: 9303140352.0000 - val_r2: 0.6575\n",
      "Epoch 33/50\n",
      "342/342 [==============================] - 4s 9ms/step - loss: 2769276928.0000 - mean_squared_error: 2769276928.0000 - r2: 0.8822 - val_loss: 9518306304.0000 - val_mean_squared_error: 9518306304.0000 - val_r2: 0.6498\n",
      "Epoch 34/50\n",
      "342/342 [==============================] - 4s 9ms/step - loss: 2758745600.0000 - mean_squared_error: 2758745600.0000 - r2: 0.8826 - val_loss: 9419766784.0000 - val_mean_squared_error: 9419766784.0000 - val_r2: 0.6542\n",
      "Epoch 35/50\n",
      "342/342 [==============================] - 4s 9ms/step - loss: 2749287680.0000 - mean_squared_error: 2749287680.0000 - r2: 0.8830 - val_loss: 9369304064.0000 - val_mean_squared_error: 9369304064.0000 - val_r2: 0.6551\n",
      "Epoch 36/50\n",
      "342/342 [==============================] - 4s 9ms/step - loss: 2742069760.0000 - mean_squared_error: 2742069760.0000 - r2: 0.8834 - val_loss: 9352012800.0000 - val_mean_squared_error: 9352012800.0000 - val_r2: 0.6565\n",
      "Epoch 37/50\n",
      "342/342 [==============================] - 4s 10ms/step - loss: 2732725504.0000 - mean_squared_error: 2732725504.0000 - r2: 0.8836 - val_loss: 9593297920.0000 - val_mean_squared_error: 9593297920.0000 - val_r2: 0.6474\n",
      "Epoch 38/50\n",
      "342/342 [==============================] - 4s 9ms/step - loss: 2725910528.0000 - mean_squared_error: 2725910528.0000 - r2: 0.8843 - val_loss: 9616448512.0000 - val_mean_squared_error: 9616448512.0000 - val_r2: 0.6460\n",
      "Epoch 39/50\n",
      "342/342 [==============================] - 4s 9ms/step - loss: 2719138560.0000 - mean_squared_error: 2719138560.0000 - r2: 0.8842 - val_loss: 9142396928.0000 - val_mean_squared_error: 9142396928.0000 - val_r2: 0.6641\n",
      "Epoch 40/50\n",
      "342/342 [==============================] - 4s 9ms/step - loss: 2713145088.0000 - mean_squared_error: 2713145088.0000 - r2: 0.8848 - val_loss: 9229948928.0000 - val_mean_squared_error: 9229948928.0000 - val_r2: 0.6606\n",
      "Epoch 41/50\n",
      "342/342 [==============================] - 4s 9ms/step - loss: 2707427328.0000 - mean_squared_error: 2707427328.0000 - r2: 0.8848 - val_loss: 9450164224.0000 - val_mean_squared_error: 9450164224.0000 - val_r2: 0.6523\n",
      "Epoch 42/50\n",
      "342/342 [==============================] - 3s 8ms/step - loss: 2702973184.0000 - mean_squared_error: 2702973184.0000 - r2: 0.8847 - val_loss: 9330144256.0000 - val_mean_squared_error: 9330144256.0000 - val_r2: 0.6572\n",
      "Epoch 43/50\n",
      "342/342 [==============================] - 4s 9ms/step - loss: 2698019584.0000 - mean_squared_error: 2698019584.0000 - r2: 0.8853 - val_loss: 9326530560.0000 - val_mean_squared_error: 9326530560.0000 - val_r2: 0.6576\n",
      "Epoch 44/50\n",
      "342/342 [==============================] - 4s 9ms/step - loss: 2694040320.0000 - mean_squared_error: 2694040320.0000 - r2: 0.8856 - val_loss: 9455104000.0000 - val_mean_squared_error: 9455104000.0000 - val_r2: 0.6520\n",
      "Epoch 45/50\n",
      "342/342 [==============================] - 4s 9ms/step - loss: 2689457920.0000 - mean_squared_error: 2689457920.0000 - r2: 0.8855 - val_loss: 9356378112.0000 - val_mean_squared_error: 9356378112.0000 - val_r2: 0.6564\n",
      "Epoch 46/50\n",
      "342/342 [==============================] - 4s 9ms/step - loss: 2686201344.0000 - mean_squared_error: 2686201344.0000 - r2: 0.8854 - val_loss: 9354425344.0000 - val_mean_squared_error: 9354425344.0000 - val_r2: 0.6557\n",
      "Epoch 47/50\n",
      "342/342 [==============================] - 4s 9ms/step - loss: 2683047936.0000 - mean_squared_error: 2683047936.0000 - r2: 0.8860 - val_loss: 9216567296.0000 - val_mean_squared_error: 9216567296.0000 - val_r2: 0.6618\n",
      "Epoch 48/50\n",
      "342/342 [==============================] - 4s 9ms/step - loss: 2679462400.0000 - mean_squared_error: 2679462400.0000 - r2: 0.8859 - val_loss: 9376736256.0000 - val_mean_squared_error: 9376736256.0000 - val_r2: 0.6557\n",
      "Epoch 49/50\n",
      "342/342 [==============================] - 4s 9ms/step - loss: 2676208384.0000 - mean_squared_error: 2676208384.0000 - r2: 0.8862 - val_loss: 9328588800.0000 - val_mean_squared_error: 9328588800.0000 - val_r2: 0.6580\n",
      "Epoch 50/50\n",
      "342/342 [==============================] - 4s 9ms/step - loss: 2672859136.0000 - mean_squared_error: 2672859136.0000 - r2: 0.8862 - val_loss: 9182333952.0000 - val_mean_squared_error: 9182333952.0000 - val_r2: 0.6629\n"
     ]
    }
   ],
   "source": [
    "hidden_layer = layers.Dense(10, activation=\"relu\")(all_features)\n",
    "dense_layer = layers.Dense(1, activation=\"linear\")(hidden_layer)\n",
    "model = keras.Model(all_inputs, dense_layer)\n",
    "opt=keras.optimizers.Adam(learning_rate=0.08)\n",
    "model.compile(optimizer=opt, loss='mse', metrics=[tf.keras.metrics.MeanSquaredError(), r2])\n",
    "history = model.fit(train_ds, epochs=50, validation_data=test_ds)"
   ]
  },
  {
   "cell_type": "markdown",
   "id": "0d0a2473",
   "metadata": {
    "papermill": {
     "duration": 0.384265,
     "end_time": "2022-10-10T12:38:29.749667",
     "exception": false,
     "start_time": "2022-10-10T12:38:29.365402",
     "status": "completed"
    },
    "tags": []
   },
   "source": [
    "### Test $R^2$ with 1 hidden layer"
   ]
  },
  {
   "cell_type": "code",
   "execution_count": 16,
   "id": "0fe94603",
   "metadata": {
    "execution": {
     "iopub.execute_input": "2022-10-10T12:38:30.577055Z",
     "iopub.status.busy": "2022-10-10T12:38:30.576185Z",
     "iopub.status.idle": "2022-10-10T12:38:30.583047Z",
     "shell.execute_reply": "2022-10-10T12:38:30.581636Z"
    },
    "papermill": {
     "duration": 0.393793,
     "end_time": "2022-10-10T12:38:30.585534",
     "exception": false,
     "start_time": "2022-10-10T12:38:30.191741",
     "status": "completed"
    },
    "tags": []
   },
   "outputs": [
    {
     "name": "stdout",
     "output_type": "stream",
     "text": [
      "test R2 value: 0.6628679633140564\n"
     ]
    }
   ],
   "source": [
    "print(f\"test R2 value: {history.history['val_r2'][-1]}\")"
   ]
  },
  {
   "cell_type": "markdown",
   "id": "2d507105",
   "metadata": {
    "papermill": {
     "duration": 0.381521,
     "end_time": "2022-10-10T12:38:31.355871",
     "exception": false,
     "start_time": "2022-10-10T12:38:30.974350",
     "status": "completed"
    },
    "tags": []
   },
   "source": [
    "## Part E\n",
    ">Compare the performance of the linear regression model to the Dense layer (Q1c)\n",
    "and the NN architecture (Q1d) and suggest reasons for the observations you made."
   ]
  },
  {
   "cell_type": "markdown",
   "id": "8a58e3e8",
   "metadata": {
    "papermill": {
     "duration": 0.444685,
     "end_time": "2022-10-10T12:38:32.182123",
     "exception": false,
     "start_time": "2022-10-10T12:38:31.737438",
     "status": "completed"
    },
    "tags": []
   },
   "source": [
    "### Answer\n",
    "The Linear Regression Model performs slightly better that the Dense Layer in Q1c but the Neural Network architecture defined in Q1d performs better that the Linear Regression Model\n",
    "\n",
    "The Neural Network learns better features and can handle non-linearity due to the hidden layer. This makes it a better function approximator that the Linear Regression  Model.\n",
    "\n",
    "The Linear Regression Model and the Dense Layer have similar performace and the Linear Regression model is slightly better. However, with hyperparameter tuning of the Dense Layer (Batch Size and Learning Rate), the Dense Layer might give a higher score and could perform on par with the Linear Regression Model\n"
   ]
  },
  {
   "cell_type": "code",
   "execution_count": null,
   "id": "61655c01",
   "metadata": {
    "papermill": {
     "duration": 0.386109,
     "end_time": "2022-10-10T12:38:32.955073",
     "exception": false,
     "start_time": "2022-10-10T12:38:32.568964",
     "status": "completed"
    },
    "tags": []
   },
   "outputs": [],
   "source": []
  }
 ],
 "metadata": {
  "kernelspec": {
   "display_name": "Python 3.10.7 64-bit (microsoft store)",
   "language": "python",
   "name": "python3"
  },
  "language_info": {
   "codemirror_mode": {
    "name": "ipython",
    "version": 3
   },
   "file_extension": ".py",
   "mimetype": "text/x-python",
   "name": "python",
   "nbconvert_exporter": "python",
   "pygments_lexer": "ipython3",
   "version": "3.10.7"
  },
  "papermill": {
   "default_parameters": {},
   "duration": 658.600877,
   "end_time": "2022-10-10T12:38:36.428627",
   "environment_variables": {},
   "exception": null,
   "input_path": "__notebook__.ipynb",
   "output_path": "__notebook__.ipynb",
   "parameters": {},
   "start_time": "2022-10-10T12:27:37.827750",
   "version": "2.3.4"
  },
  "vscode": {
   "interpreter": {
    "hash": "c334af6b5e372f58295cc533b75b87ed916e9de50706c4869f269a22475fcf0e"
   }
  }
 },
 "nbformat": 4,
 "nbformat_minor": 5
}
