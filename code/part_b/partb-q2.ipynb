{
 "cells": [
  {
   "cell_type": "markdown",
   "id": "ad356320",
   "metadata": {
    "papermill": {
     "duration": 0.015201,
     "end_time": "2022-10-10T12:28:13.768500",
     "exception": false,
     "start_time": "2022-10-10T12:28:13.753299",
     "status": "completed"
    },
    "tags": []
   },
   "source": [
    "# Part B: Regression Problem\n",
    "\n",
    "* **Name** Acharya Atul\n",
    "* **Matriculation Number** U1923502C\n",
    "* **Email** atul001@e.ntu.edu.sg\n",
    "\n",
    "# Question 2\n",
    ">Neural networks offer much more than fundamental machine learning algorithms. In this part of\n",
    "the assignment, we will investigate one of its advantages: the use of trainable embeddings. Also,\n",
    "we will learn how to set up a quick and convenient way of tuning your neural network models.\n",
    "Instead of using one-hot encoding, an alternative approach is to use embeddings to encode\n",
    "categorical variables. Such an approach utilises the ability of neural networks to learn richer\n",
    "representations1 of the data – an edge it has over traditional ML models.\n"
   ]
  },
  {
   "cell_type": "code",
   "execution_count": 1,
   "id": "e9185493",
   "metadata": {
    "execution": {
     "iopub.execute_input": "2022-10-10T12:28:13.806915Z",
     "iopub.status.busy": "2022-10-10T12:28:13.806110Z",
     "iopub.status.idle": "2022-10-10T12:28:13.818592Z",
     "shell.execute_reply": "2022-10-10T12:28:13.817222Z"
    },
    "id": "wbxikLgOSwaB",
    "papermill": {
     "duration": 0.037912,
     "end_time": "2022-10-10T12:28:13.822209",
     "exception": false,
     "start_time": "2022-10-10T12:28:13.784297",
     "status": "completed"
    },
    "tags": []
   },
   "outputs": [],
   "source": [
    "import warnings\n",
    "warnings.filterwarnings(\"ignore\")"
   ]
  },
  {
   "cell_type": "markdown",
   "id": "8fb4fc0c",
   "metadata": {
    "papermill": {
     "duration": 0.01698,
     "end_time": "2022-10-10T12:28:13.858405",
     "exception": false,
     "start_time": "2022-10-10T12:28:13.841425",
     "status": "completed"
    },
    "tags": []
   },
   "source": [
    "### Neccessary Imports\n",
    "\n",
    "* **pandas** - Data analysis and manipulation\n",
    "* **tensorflow** - Modeling neural networks and training them\n",
    "* **graphviz** - Visualization of model architecture\n",
    "* **keras_tuner** - Hyperparameter Tuning"
   ]
  },
  {
   "cell_type": "code",
   "execution_count": 2,
   "id": "e0fe1c52",
   "metadata": {
    "execution": {
     "iopub.execute_input": "2022-10-10T12:28:13.896157Z",
     "iopub.status.busy": "2022-10-10T12:28:13.895355Z",
     "iopub.status.idle": "2022-10-10T12:30:04.112864Z",
     "shell.execute_reply": "2022-10-10T12:30:04.111773Z"
    },
    "id": "H9aowY0VOwx4",
    "outputId": "89d721bf-5df5-4fb9-863d-a24be56c2793",
    "papermill": {
     "duration": 110.240243,
     "end_time": "2022-10-10T12:30:04.115749",
     "exception": false,
     "start_time": "2022-10-10T12:28:13.875506",
     "status": "completed"
    },
    "tags": []
   },
   "outputs": [
    {
     "name": "stdout",
     "output_type": "stream",
     "text": [
      "Requirement already satisfied: tensorflow in /opt/conda/lib/python3.7/site-packages (2.6.4)\r\n",
      "Collecting tensorflow\r\n",
      "  Downloading tensorflow-2.10.0-cp37-cp37m-manylinux_2_17_x86_64.manylinux2014_x86_64.whl (578.0 MB)\r\n",
      "\u001b[2K     \u001b[90m━━━━━━━━━━━━━━━━━━━━━━━━━━━━━━━━━━━━━━━\u001b[0m \u001b[32m578.0/578.0 MB\u001b[0m \u001b[31m1.2 MB/s\u001b[0m eta \u001b[36m0:00:00\u001b[0m\r\n",
      "\u001b[?25hCollecting libclang>=13.0.0\r\n",
      "  Downloading libclang-14.0.6-py2.py3-none-manylinux2010_x86_64.whl (14.1 MB)\r\n",
      "\u001b[2K     \u001b[90m━━━━━━━━━━━━━━━━━━━━━━━━━━━━━━━━━━━━━━━━\u001b[0m \u001b[32m14.1/14.1 MB\u001b[0m \u001b[31m15.9 MB/s\u001b[0m eta \u001b[36m0:00:00\u001b[0m\r\n",
      "\u001b[?25hRequirement already satisfied: six>=1.12.0 in /opt/conda/lib/python3.7/site-packages (from tensorflow) (1.15.0)\r\n",
      "Requirement already satisfied: protobuf<3.20,>=3.9.2 in /opt/conda/lib/python3.7/site-packages (from tensorflow) (3.19.4)\r\n",
      "Collecting tensorflow-estimator<2.11,>=2.10.0\r\n",
      "  Downloading tensorflow_estimator-2.10.0-py2.py3-none-any.whl (438 kB)\r\n",
      "\u001b[2K     \u001b[90m━━━━━━━━━━━━━━━━━━━━━━━━━━━━━━━━━━━━━━\u001b[0m \u001b[32m438.7/438.7 kB\u001b[0m \u001b[31m27.6 MB/s\u001b[0m eta \u001b[36m0:00:00\u001b[0m\r\n",
      "\u001b[?25hRequirement already satisfied: setuptools in /opt/conda/lib/python3.7/site-packages (from tensorflow) (59.8.0)\r\n",
      "Collecting absl-py>=1.0.0\r\n",
      "  Downloading absl_py-1.2.0-py3-none-any.whl (123 kB)\r\n",
      "\u001b[2K     \u001b[90m━━━━━━━━━━━━━━━━━━━━━━━━━━━━━━━━━━━━━━━\u001b[0m \u001b[32m123.4/123.4 kB\u001b[0m \u001b[31m9.2 MB/s\u001b[0m eta \u001b[36m0:00:00\u001b[0m\r\n",
      "\u001b[?25hRequirement already satisfied: packaging in /opt/conda/lib/python3.7/site-packages (from tensorflow) (21.3)\r\n",
      "Requirement already satisfied: grpcio<2.0,>=1.24.3 in /opt/conda/lib/python3.7/site-packages (from tensorflow) (1.43.0)\r\n",
      "Requirement already satisfied: termcolor>=1.1.0 in /opt/conda/lib/python3.7/site-packages (from tensorflow) (1.1.0)\r\n",
      "Requirement already satisfied: numpy>=1.20 in /opt/conda/lib/python3.7/site-packages (from tensorflow) (1.21.6)\r\n",
      "Collecting keras<2.11,>=2.10.0\r\n",
      "  Downloading keras-2.10.0-py2.py3-none-any.whl (1.7 MB)\r\n",
      "\u001b[2K     \u001b[90m━━━━━━━━━━━━━━━━━━━━━━━━━━━━━━━━━━━━━━━━\u001b[0m \u001b[32m1.7/1.7 MB\u001b[0m \u001b[31m42.9 MB/s\u001b[0m eta \u001b[36m0:00:00\u001b[0m\r\n",
      "\u001b[?25hCollecting tensorflow-io-gcs-filesystem>=0.23.1\r\n",
      "  Downloading tensorflow_io_gcs_filesystem-0.27.0-cp37-cp37m-manylinux_2_12_x86_64.manylinux2010_x86_64.whl (2.4 MB)\r\n",
      "\u001b[2K     \u001b[90m━━━━━━━━━━━━━━━━━━━━━━━━━━━━━━━━━━━━━━━━\u001b[0m \u001b[32m2.4/2.4 MB\u001b[0m \u001b[31m47.7 MB/s\u001b[0m eta \u001b[36m0:00:00\u001b[0m\r\n",
      "\u001b[?25hRequirement already satisfied: google-pasta>=0.1.1 in /opt/conda/lib/python3.7/site-packages (from tensorflow) (0.2.0)\r\n",
      "Requirement already satisfied: tensorboard<2.11,>=2.10 in /opt/conda/lib/python3.7/site-packages (from tensorflow) (2.10.0)\r\n",
      "Collecting flatbuffers>=2.0\r\n",
      "  Downloading flatbuffers-22.9.24-py2.py3-none-any.whl (26 kB)\r\n",
      "Requirement already satisfied: typing-extensions>=3.6.6 in /opt/conda/lib/python3.7/site-packages (from tensorflow) (4.3.0)\r\n",
      "Requirement already satisfied: astunparse>=1.6.0 in /opt/conda/lib/python3.7/site-packages (from tensorflow) (1.6.3)\r\n",
      "Requirement already satisfied: keras-preprocessing>=1.1.1 in /opt/conda/lib/python3.7/site-packages (from tensorflow) (1.1.2)\r\n",
      "Requirement already satisfied: gast<=0.4.0,>=0.2.1 in /opt/conda/lib/python3.7/site-packages (from tensorflow) (0.4.0)\r\n",
      "Requirement already satisfied: h5py>=2.9.0 in /opt/conda/lib/python3.7/site-packages (from tensorflow) (3.7.0)\r\n",
      "Requirement already satisfied: wrapt>=1.11.0 in /opt/conda/lib/python3.7/site-packages (from tensorflow) (1.12.1)\r\n",
      "Requirement already satisfied: opt-einsum>=2.3.2 in /opt/conda/lib/python3.7/site-packages (from tensorflow) (3.3.0)\r\n",
      "Requirement already satisfied: wheel<1.0,>=0.23.0 in /opt/conda/lib/python3.7/site-packages (from astunparse>=1.6.0->tensorflow) (0.37.1)\r\n",
      "Requirement already satisfied: requests<3,>=2.21.0 in /opt/conda/lib/python3.7/site-packages (from tensorboard<2.11,>=2.10->tensorflow) (2.28.1)\r\n",
      "Requirement already satisfied: tensorboard-plugin-wit>=1.6.0 in /opt/conda/lib/python3.7/site-packages (from tensorboard<2.11,>=2.10->tensorflow) (1.8.1)\r\n",
      "Requirement already satisfied: google-auth<3,>=1.6.3 in /opt/conda/lib/python3.7/site-packages (from tensorboard<2.11,>=2.10->tensorflow) (1.35.0)\r\n",
      "Requirement already satisfied: markdown>=2.6.8 in /opt/conda/lib/python3.7/site-packages (from tensorboard<2.11,>=2.10->tensorflow) (3.3.7)\r\n",
      "Requirement already satisfied: google-auth-oauthlib<0.5,>=0.4.1 in /opt/conda/lib/python3.7/site-packages (from tensorboard<2.11,>=2.10->tensorflow) (0.4.6)\r\n",
      "Requirement already satisfied: werkzeug>=1.0.1 in /opt/conda/lib/python3.7/site-packages (from tensorboard<2.11,>=2.10->tensorflow) (2.2.2)\r\n",
      "Requirement already satisfied: tensorboard-data-server<0.7.0,>=0.6.0 in /opt/conda/lib/python3.7/site-packages (from tensorboard<2.11,>=2.10->tensorflow) (0.6.1)\r\n",
      "Requirement already satisfied: pyparsing!=3.0.5,>=2.0.2 in /opt/conda/lib/python3.7/site-packages (from packaging->tensorflow) (3.0.9)\r\n",
      "Requirement already satisfied: cachetools<5.0,>=2.0.0 in /opt/conda/lib/python3.7/site-packages (from google-auth<3,>=1.6.3->tensorboard<2.11,>=2.10->tensorflow) (4.2.4)\r\n",
      "Requirement already satisfied: pyasn1-modules>=0.2.1 in /opt/conda/lib/python3.7/site-packages (from google-auth<3,>=1.6.3->tensorboard<2.11,>=2.10->tensorflow) (0.2.7)\r\n",
      "Requirement already satisfied: rsa<5,>=3.1.4 in /opt/conda/lib/python3.7/site-packages (from google-auth<3,>=1.6.3->tensorboard<2.11,>=2.10->tensorflow) (4.8)\r\n",
      "Requirement already satisfied: requests-oauthlib>=0.7.0 in /opt/conda/lib/python3.7/site-packages (from google-auth-oauthlib<0.5,>=0.4.1->tensorboard<2.11,>=2.10->tensorflow) (1.3.1)\r\n",
      "Requirement already satisfied: importlib-metadata>=4.4 in /opt/conda/lib/python3.7/site-packages (from markdown>=2.6.8->tensorboard<2.11,>=2.10->tensorflow) (4.12.0)\r\n",
      "Requirement already satisfied: certifi>=2017.4.17 in /opt/conda/lib/python3.7/site-packages (from requests<3,>=2.21.0->tensorboard<2.11,>=2.10->tensorflow) (2022.6.15.2)\r\n",
      "Requirement already satisfied: idna<4,>=2.5 in /opt/conda/lib/python3.7/site-packages (from requests<3,>=2.21.0->tensorboard<2.11,>=2.10->tensorflow) (3.3)\r\n",
      "Requirement already satisfied: urllib3<1.27,>=1.21.1 in /opt/conda/lib/python3.7/site-packages (from requests<3,>=2.21.0->tensorboard<2.11,>=2.10->tensorflow) (1.26.12)\r\n",
      "Requirement already satisfied: charset-normalizer<3,>=2 in /opt/conda/lib/python3.7/site-packages (from requests<3,>=2.21.0->tensorboard<2.11,>=2.10->tensorflow) (2.1.0)\r\n",
      "Requirement already satisfied: MarkupSafe>=2.1.1 in /opt/conda/lib/python3.7/site-packages (from werkzeug>=1.0.1->tensorboard<2.11,>=2.10->tensorflow) (2.1.1)\r\n",
      "Requirement already satisfied: zipp>=0.5 in /opt/conda/lib/python3.7/site-packages (from importlib-metadata>=4.4->markdown>=2.6.8->tensorboard<2.11,>=2.10->tensorflow) (3.8.0)\r\n",
      "Requirement already satisfied: pyasn1<0.5.0,>=0.4.6 in /opt/conda/lib/python3.7/site-packages (from pyasn1-modules>=0.2.1->google-auth<3,>=1.6.3->tensorboard<2.11,>=2.10->tensorflow) (0.4.8)\r\n",
      "Requirement already satisfied: oauthlib>=3.0.0 in /opt/conda/lib/python3.7/site-packages (from requests-oauthlib>=0.7.0->google-auth-oauthlib<0.5,>=0.4.1->tensorboard<2.11,>=2.10->tensorflow) (3.2.0)\r\n",
      "Installing collected packages: libclang, keras, flatbuffers, tensorflow-io-gcs-filesystem, tensorflow-estimator, absl-py, tensorflow\r\n",
      "  Attempting uninstall: keras\r\n",
      "    Found existing installation: keras 2.6.0\r\n",
      "    Uninstalling keras-2.6.0:\r\n",
      "      Successfully uninstalled keras-2.6.0\r\n",
      "  Attempting uninstall: flatbuffers\r\n",
      "    Found existing installation: flatbuffers 1.12\r\n",
      "    Uninstalling flatbuffers-1.12:\r\n",
      "      Successfully uninstalled flatbuffers-1.12\r\n",
      "  Attempting uninstall: tensorflow-estimator\r\n",
      "    Found existing installation: tensorflow-estimator 2.6.0\r\n",
      "    Uninstalling tensorflow-estimator-2.6.0:\r\n",
      "      Successfully uninstalled tensorflow-estimator-2.6.0\r\n",
      "  Attempting uninstall: absl-py\r\n",
      "    Found existing installation: absl-py 0.15.0\r\n",
      "    Uninstalling absl-py-0.15.0:\r\n",
      "      Successfully uninstalled absl-py-0.15.0\r\n",
      "  Attempting uninstall: tensorflow\r\n",
      "    Found existing installation: tensorflow 2.6.4\r\n",
      "    Uninstalling tensorflow-2.6.4:\r\n",
      "      Successfully uninstalled tensorflow-2.6.4\r\n",
      "\u001b[31mERROR: pip's dependency resolver does not currently take into account all the packages that are installed. This behaviour is the source of the following dependency conflicts.\r\n",
      "tfx-bsl 1.9.0 requires pyarrow<6,>=1, but you have pyarrow 8.0.0 which is incompatible.\r\n",
      "tensorflow-transform 1.9.0 requires pyarrow<6,>=1, but you have pyarrow 8.0.0 which is incompatible.\r\n",
      "tensorflow-transform 1.9.0 requires tensorflow!=2.0.*,!=2.1.*,!=2.2.*,!=2.3.*,!=2.4.*,!=2.5.*,!=2.6.*,!=2.7.*,!=2.8.*,<2.10,>=1.15.5, but you have tensorflow 2.10.0 which is incompatible.\r\n",
      "tensorflow-io 0.21.0 requires tensorflow<2.7.0,>=2.6.0, but you have tensorflow 2.10.0 which is incompatible.\r\n",
      "tensorflow-io 0.21.0 requires tensorflow-io-gcs-filesystem==0.21.0, but you have tensorflow-io-gcs-filesystem 0.27.0 which is incompatible.\r\n",
      "flax 0.6.0 requires rich~=11.1, but you have rich 12.1.0 which is incompatible.\u001b[0m\u001b[31m\r\n",
      "\u001b[0mSuccessfully installed absl-py-1.2.0 flatbuffers-22.9.24 keras-2.10.0 libclang-14.0.6 tensorflow-2.10.0 tensorflow-estimator-2.10.0 tensorflow-io-gcs-filesystem-0.27.0\r\n",
      "\u001b[33mWARNING: Running pip as the 'root' user can result in broken permissions and conflicting behaviour with the system package manager. It is recommended to use a virtual environment instead: https://pip.pypa.io/warnings/venv\u001b[0m\u001b[33m\r\n",
      "\u001b[0m"
     ]
    },
    {
     "name": "stderr",
     "output_type": "stream",
     "text": [
      "2022-10-10 12:29:58.346071: I tensorflow/core/platform/cpu_feature_guard.cc:193] This TensorFlow binary is optimized with oneAPI Deep Neural Network Library (oneDNN) to use the following CPU instructions in performance-critical operations:  AVX2 FMA\n",
      "To enable them in other operations, rebuild TensorFlow with the appropriate compiler flags.\n",
      "2022-10-10 12:29:58.543751: W tensorflow/stream_executor/platform/default/dso_loader.cc:64] Could not load dynamic library 'libcudart.so.11.0'; dlerror: libcudart.so.11.0: cannot open shared object file: No such file or directory; LD_LIBRARY_PATH: /usr/local/cuda/lib64:/usr/local/cuda/lib:/usr/local/lib/x86_64-linux-gnu:/usr/local/nvidia/lib:/usr/local/nvidia/lib64:\n",
      "2022-10-10 12:29:58.543783: I tensorflow/stream_executor/cuda/cudart_stub.cc:29] Ignore above cudart dlerror if you do not have a GPU set up on your machine.\n",
      "2022-10-10 12:29:58.583046: E tensorflow/stream_executor/cuda/cuda_blas.cc:2981] Unable to register cuBLAS factory: Attempting to register factory for plugin cuBLAS when one has already been registered\n",
      "2022-10-10 12:29:59.926852: W tensorflow/stream_executor/platform/default/dso_loader.cc:64] Could not load dynamic library 'libnvinfer.so.7'; dlerror: libnvinfer.so.7: cannot open shared object file: No such file or directory; LD_LIBRARY_PATH: /usr/local/cuda/lib64:/usr/local/cuda/lib:/usr/local/lib/x86_64-linux-gnu:/usr/local/nvidia/lib:/usr/local/nvidia/lib64:\n",
      "2022-10-10 12:29:59.927055: W tensorflow/stream_executor/platform/default/dso_loader.cc:64] Could not load dynamic library 'libnvinfer_plugin.so.7'; dlerror: libnvinfer_plugin.so.7: cannot open shared object file: No such file or directory; LD_LIBRARY_PATH: /usr/local/cuda/lib64:/usr/local/cuda/lib:/usr/local/lib/x86_64-linux-gnu:/usr/local/nvidia/lib:/usr/local/nvidia/lib64:\n",
      "2022-10-10 12:29:59.927071: W tensorflow/compiler/tf2tensorrt/utils/py_utils.cc:38] TF-TRT Warning: Cannot dlopen some TensorRT libraries. If you would like to use Nvidia GPU with TensorRT, please make sure the missing libraries mentioned above are installed properly.\n"
     ]
    }
   ],
   "source": [
    "!pip install --upgrade tensorflow\n",
    "import numpy as np\n",
    "import matplotlib.pyplot as plt\n",
    "import pandas as pd\n",
    "from tensorflow import keras\n",
    "from tensorflow.keras import layers\n",
    "from tensorflow.keras.layers import Normalization, StringLookup, IntegerLookup\n",
    "\n",
    "import graphviz\n",
    "from keras.utils.vis_utils import plot_model\n",
    "\n",
    "try:\n",
    "    import keras_tuner as kt\n",
    "except ModuleNotFoundError:\n",
    "    !pip install keras-tuner --upgrade\n",
    "    import keras_tuner as kt\n"
   ]
  },
  {
   "cell_type": "markdown",
   "id": "95321584",
   "metadata": {
    "papermill": {
     "duration": 0.065307,
     "end_time": "2022-10-10T12:30:04.247473",
     "exception": false,
     "start_time": "2022-10-10T12:30:04.182166",
     "status": "completed"
    },
    "tags": []
   },
   "source": [
    "### Setting the seed for reproducability\n",
    "\n",
    ">For this assignment we will be using 42 as the seed"
   ]
  },
  {
   "cell_type": "code",
   "execution_count": 3,
   "id": "748275a6",
   "metadata": {
    "execution": {
     "iopub.execute_input": "2022-10-10T12:30:04.383161Z",
     "iopub.status.busy": "2022-10-10T12:30:04.381475Z",
     "iopub.status.idle": "2022-10-10T12:30:04.389351Z",
     "shell.execute_reply": "2022-10-10T12:30:04.388017Z"
    },
    "id": "zVolOYNGOwx7",
    "papermill": {
     "duration": 0.079083,
     "end_time": "2022-10-10T12:30:04.392150",
     "exception": false,
     "start_time": "2022-10-10T12:30:04.313067",
     "status": "completed"
    },
    "tags": []
   },
   "outputs": [],
   "source": [
    "# Setting the seed here is sufficient. \n",
    "# If you don't plan to use these starter code, make sure you add this cell.\n",
    "\n",
    "SEED = 42\n",
    "\n",
    "import os\n",
    "os.environ['TF_CUDNN_DETERMINISTIC'] = '1'\n",
    "\n",
    "import random \n",
    "random.seed(SEED)\n",
    "\n",
    "import numpy as np\n",
    "np.random.seed(SEED)\n",
    "\n",
    "import tensorflow as tf\n",
    "tf.random.set_seed(SEED)"
   ]
  },
  {
   "cell_type": "markdown",
   "id": "9b8868fb",
   "metadata": {
    "papermill": {
     "duration": 0.066029,
     "end_time": "2022-10-10T12:30:04.524085",
     "exception": false,
     "start_time": "2022-10-10T12:30:04.458056",
     "status": "completed"
    },
    "tags": []
   },
   "source": [
    "### Reading Dataset"
   ]
  },
  {
   "cell_type": "code",
   "execution_count": 4,
   "id": "6ee9e0c7",
   "metadata": {
    "execution": {
     "iopub.execute_input": "2022-10-10T12:30:04.657955Z",
     "iopub.status.busy": "2022-10-10T12:30:04.657158Z",
     "iopub.status.idle": "2022-10-10T12:30:05.264785Z",
     "shell.execute_reply": "2022-10-10T12:30:05.263318Z"
    },
    "id": "20XtidHVOwx8",
    "outputId": "676c2e66-8435-4cd8-ec09-1c67f7ba73fc",
    "papermill": {
     "duration": 0.678457,
     "end_time": "2022-10-10T12:30:05.268552",
     "exception": false,
     "start_time": "2022-10-10T12:30:04.590095",
     "status": "completed"
    },
    "tags": []
   },
   "outputs": [
    {
     "data": {
      "text/html": [
       "<div>\n",
       "<style scoped>\n",
       "    .dataframe tbody tr th:only-of-type {\n",
       "        vertical-align: middle;\n",
       "    }\n",
       "\n",
       "    .dataframe tbody tr th {\n",
       "        vertical-align: top;\n",
       "    }\n",
       "\n",
       "    .dataframe thead th {\n",
       "        text-align: right;\n",
       "    }\n",
       "</style>\n",
       "<table border=\"1\" class=\"dataframe\">\n",
       "  <thead>\n",
       "    <tr style=\"text-align: right;\">\n",
       "      <th></th>\n",
       "      <th>month</th>\n",
       "      <th>year</th>\n",
       "      <th>full_address</th>\n",
       "      <th>nearest_stn</th>\n",
       "      <th>dist_to_nearest_stn</th>\n",
       "      <th>dist_to_dhoby</th>\n",
       "      <th>degree_centrality</th>\n",
       "      <th>eigenvector_centrality</th>\n",
       "      <th>flat_model_type</th>\n",
       "      <th>remaining_lease_years</th>\n",
       "      <th>floor_area_sqm</th>\n",
       "      <th>storey_range</th>\n",
       "      <th>resale_price</th>\n",
       "    </tr>\n",
       "  </thead>\n",
       "  <tbody>\n",
       "    <tr>\n",
       "      <th>0</th>\n",
       "      <td>1</td>\n",
       "      <td>2017</td>\n",
       "      <td>406 ANG MO KIO AVENUE 10</td>\n",
       "      <td>Ang Mo Kio</td>\n",
       "      <td>1.007264</td>\n",
       "      <td>7.006044</td>\n",
       "      <td>0.016807</td>\n",
       "      <td>0.006243</td>\n",
       "      <td>2 ROOM, Improved</td>\n",
       "      <td>61.333333</td>\n",
       "      <td>44.0</td>\n",
       "      <td>10 TO 12</td>\n",
       "      <td>232000.0</td>\n",
       "    </tr>\n",
       "    <tr>\n",
       "      <th>1</th>\n",
       "      <td>1</td>\n",
       "      <td>2017</td>\n",
       "      <td>108 ANG MO KIO AVENUE 4</td>\n",
       "      <td>Ang Mo Kio</td>\n",
       "      <td>1.271389</td>\n",
       "      <td>7.983837</td>\n",
       "      <td>0.016807</td>\n",
       "      <td>0.006243</td>\n",
       "      <td>3 ROOM, New Generation</td>\n",
       "      <td>60.583333</td>\n",
       "      <td>67.0</td>\n",
       "      <td>01 TO 03</td>\n",
       "      <td>250000.0</td>\n",
       "    </tr>\n",
       "    <tr>\n",
       "      <th>2</th>\n",
       "      <td>1</td>\n",
       "      <td>2017</td>\n",
       "      <td>602 ANG MO KIO AVENUE 5</td>\n",
       "      <td>Yio Chu Kang</td>\n",
       "      <td>1.069743</td>\n",
       "      <td>9.090700</td>\n",
       "      <td>0.016807</td>\n",
       "      <td>0.002459</td>\n",
       "      <td>3 ROOM, New Generation</td>\n",
       "      <td>62.416667</td>\n",
       "      <td>67.0</td>\n",
       "      <td>01 TO 03</td>\n",
       "      <td>262000.0</td>\n",
       "    </tr>\n",
       "    <tr>\n",
       "      <th>3</th>\n",
       "      <td>1</td>\n",
       "      <td>2017</td>\n",
       "      <td>465 ANG MO KIO AVENUE 10</td>\n",
       "      <td>Ang Mo Kio</td>\n",
       "      <td>0.946890</td>\n",
       "      <td>7.519889</td>\n",
       "      <td>0.016807</td>\n",
       "      <td>0.006243</td>\n",
       "      <td>3 ROOM, New Generation</td>\n",
       "      <td>62.083333</td>\n",
       "      <td>68.0</td>\n",
       "      <td>04 TO 06</td>\n",
       "      <td>265000.0</td>\n",
       "    </tr>\n",
       "    <tr>\n",
       "      <th>4</th>\n",
       "      <td>1</td>\n",
       "      <td>2017</td>\n",
       "      <td>601 ANG MO KIO AVENUE 5</td>\n",
       "      <td>Yio Chu Kang</td>\n",
       "      <td>1.092551</td>\n",
       "      <td>9.130489</td>\n",
       "      <td>0.016807</td>\n",
       "      <td>0.002459</td>\n",
       "      <td>3 ROOM, New Generation</td>\n",
       "      <td>62.416667</td>\n",
       "      <td>67.0</td>\n",
       "      <td>01 TO 03</td>\n",
       "      <td>265000.0</td>\n",
       "    </tr>\n",
       "  </tbody>\n",
       "</table>\n",
       "</div>"
      ],
      "text/plain": [
       "   month  year              full_address   nearest_stn  dist_to_nearest_stn  \\\n",
       "0      1  2017  406 ANG MO KIO AVENUE 10    Ang Mo Kio             1.007264   \n",
       "1      1  2017   108 ANG MO KIO AVENUE 4    Ang Mo Kio             1.271389   \n",
       "2      1  2017   602 ANG MO KIO AVENUE 5  Yio Chu Kang             1.069743   \n",
       "3      1  2017  465 ANG MO KIO AVENUE 10    Ang Mo Kio             0.946890   \n",
       "4      1  2017   601 ANG MO KIO AVENUE 5  Yio Chu Kang             1.092551   \n",
       "\n",
       "   dist_to_dhoby  degree_centrality  eigenvector_centrality  \\\n",
       "0       7.006044           0.016807                0.006243   \n",
       "1       7.983837           0.016807                0.006243   \n",
       "2       9.090700           0.016807                0.002459   \n",
       "3       7.519889           0.016807                0.006243   \n",
       "4       9.130489           0.016807                0.002459   \n",
       "\n",
       "          flat_model_type  remaining_lease_years  floor_area_sqm storey_range  \\\n",
       "0        2 ROOM, Improved              61.333333            44.0     10 TO 12   \n",
       "1  3 ROOM, New Generation              60.583333            67.0     01 TO 03   \n",
       "2  3 ROOM, New Generation              62.416667            67.0     01 TO 03   \n",
       "3  3 ROOM, New Generation              62.083333            68.0     04 TO 06   \n",
       "4  3 ROOM, New Generation              62.416667            67.0     01 TO 03   \n",
       "\n",
       "   resale_price  \n",
       "0      232000.0  \n",
       "1      250000.0  \n",
       "2      262000.0  \n",
       "3      265000.0  \n",
       "4      265000.0  "
      ]
     },
     "execution_count": 4,
     "metadata": {},
     "output_type": "execute_result"
    }
   ],
   "source": [
    "df = pd.read_csv('../input/assignment/hdb_price_prediction.csv')\n",
    "df.head()"
   ]
  },
  {
   "cell_type": "markdown",
   "id": "305a9100",
   "metadata": {
    "papermill": {
     "duration": 0.07541,
     "end_time": "2022-10-10T12:30:05.410046",
     "exception": false,
     "start_time": "2022-10-10T12:30:05.334636",
     "status": "completed"
    },
    "tags": []
   },
   "source": [
    "### Functions to create our dataset and encode features"
   ]
  },
  {
   "cell_type": "code",
   "execution_count": 5,
   "id": "0712b969",
   "metadata": {
    "execution": {
     "iopub.execute_input": "2022-10-10T12:30:05.564883Z",
     "iopub.status.busy": "2022-10-10T12:30:05.564427Z",
     "iopub.status.idle": "2022-10-10T12:30:05.576703Z",
     "shell.execute_reply": "2022-10-10T12:30:05.574506Z"
    },
    "id": "vIXEK8u_Owx-",
    "papermill": {
     "duration": 0.082545,
     "end_time": "2022-10-10T12:30:05.579750",
     "exception": false,
     "start_time": "2022-10-10T12:30:05.497205",
     "status": "completed"
    },
    "tags": []
   },
   "outputs": [],
   "source": [
    "# The functions in this cell are adapted from https://keras.io/examples/structured_data/structured_data_classification_from_scratch/\n",
    "# It is the same link as the one mentioned in the question paper (Q1b)\n",
    "\n",
    "def dataframe_to_dataset(dataframe, shuffle=False):\n",
    "    dataframe = dataframe.copy()\n",
    "    labels = dataframe.pop(\"resale_price\")\n",
    "    ds = tf.data.Dataset.from_tensor_slices((dict(dataframe), labels))\n",
    "    if shuffle:\n",
    "        ds = ds.shuffle(buffer_size=len(dataframe))\n",
    "    return ds\n",
    "\n",
    "\n",
    "def encode_numerical_feature(feature, name, dataset):\n",
    "    # Create a Normalization layer for our feature\n",
    "    normalizer = Normalization()\n",
    "\n",
    "    # Prepare a Dataset that only yields our feature\n",
    "    feature_ds = dataset.map(lambda x, y: x[name])\n",
    "    feature_ds = feature_ds.map(lambda x: tf.expand_dims(x, -1))\n",
    "\n",
    "    # Learn the statistics of the data\n",
    "    normalizer.adapt(feature_ds)\n",
    "\n",
    "    # Normalize the input feature\n",
    "    encoded_feature = normalizer(feature)\n",
    "    return encoded_feature\n",
    "\n",
    "\n",
    "def encode_categorical_feature(feature, name, dataset, is_string):\n",
    "    lookup_class = StringLookup if is_string else IntegerLookup\n",
    "    # Create a lookup layer which will turn strings into integer indices\n",
    "    lookup = lookup_class(output_mode=\"binary\") # NOTE: as mentioned in the question paper, this actually does one-hot encoding. You could replace 'binary' with 'one_hot' if you wish to.\n",
    "\n",
    "    # Prepare a Dataset that only yields our feature\n",
    "    feature_ds = dataset.map(lambda x, y: x[name])\n",
    "    feature_ds = feature_ds.map(lambda x: tf.expand_dims(x, -1))\n",
    "\n",
    "    # Learn the set of possible string values and assign them a fixed integer index\n",
    "    lookup.adapt(feature_ds)\n",
    "\n",
    "    # Turn the string input into integer indices\n",
    "    encoded_feature = lookup(feature)\n",
    "    return encoded_feature\n"
   ]
  },
  {
   "cell_type": "markdown",
   "id": "20cc1009",
   "metadata": {
    "papermill": {
     "duration": 0.06943,
     "end_time": "2022-10-10T12:30:05.720296",
     "exception": false,
     "start_time": "2022-10-10T12:30:05.650866",
     "status": "completed"
    },
    "tags": []
   },
   "source": [
    "### Function to compute $R^2$ score\n",
    ">$R^2$ = 1 - $\\dfrac{\\Sigma_i(y_i - \\hat{y_i})} {\\Sigma_i(y_i - \\bar{y_i})}$"
   ]
  },
  {
   "cell_type": "code",
   "execution_count": 6,
   "id": "98363f94",
   "metadata": {
    "execution": {
     "iopub.execute_input": "2022-10-10T12:30:05.856850Z",
     "iopub.status.busy": "2022-10-10T12:30:05.856392Z",
     "iopub.status.idle": "2022-10-10T12:30:05.864912Z",
     "shell.execute_reply": "2022-10-10T12:30:05.863297Z"
    },
    "id": "ZmvAUVz_Owx_",
    "papermill": {
     "duration": 0.079912,
     "end_time": "2022-10-10T12:30:05.868240",
     "exception": false,
     "start_time": "2022-10-10T12:30:05.788328",
     "status": "completed"
    },
    "tags": []
   },
   "outputs": [],
   "source": [
    "from keras import backend as K\n",
    "\n",
    "def r2(y_true, y_pred): \n",
    "    '''\n",
    "    # Obtained from https://jmlb.github.io/ml/2017/03/20/CoeffDetermination_CustomMetric4Keras/\n",
    "    # TODO: you have to find out how to use it in your code\n",
    "    '''\n",
    "    SS_res = K.sum(K.square( y_true - y_pred )) \n",
    "    SS_tot = K.sum(K.square( y_true - K.mean(y_true) ) ) \n",
    "    return ( 1 - SS_res/(SS_tot + K.epsilon()) )"
   ]
  },
  {
   "cell_type": "markdown",
   "id": "105ab260",
   "metadata": {
    "papermill": {
     "duration": 0.070048,
     "end_time": "2022-10-10T12:30:06.004555",
     "exception": false,
     "start_time": "2022-10-10T12:30:05.934507",
     "status": "completed"
    },
    "tags": []
   },
   "source": [
    "## Part A\n",
    ">Further split the data from year 2020 and before (i.e. those not in test set) by\n",
    "using data from year 2020 as validation set and the rest as the training set."
   ]
  },
  {
   "cell_type": "markdown",
   "id": "c7ce3911",
   "metadata": {
    "papermill": {
     "duration": 0.068263,
     "end_time": "2022-10-10T12:30:06.139525",
     "exception": false,
     "start_time": "2022-10-10T12:30:06.071262",
     "status": "completed"
    },
    "tags": []
   },
   "source": [
    "### Splitting Data\n",
    ">All datapoints until the year 2019 belong in the train set, datapoints with year = 2020 belong in the validation set\n",
    "and all datapoints from year 2021 and onwards belong to the test set.\n",
    "\n",
    "***Note***: The test data was grouped in batches for faster inference time "
   ]
  },
  {
   "cell_type": "code",
   "execution_count": 7,
   "id": "1ab705cb",
   "metadata": {
    "execution": {
     "iopub.execute_input": "2022-10-10T12:30:06.275026Z",
     "iopub.status.busy": "2022-10-10T12:30:06.274592Z",
     "iopub.status.idle": "2022-10-10T12:30:06.542372Z",
     "shell.execute_reply": "2022-10-10T12:30:06.541270Z"
    },
    "id": "4qPIhZRqOwyA",
    "outputId": "3461aa98-bff6-4ae5-e08f-3c7131e692a7",
    "papermill": {
     "duration": 0.337661,
     "end_time": "2022-10-10T12:30:06.545562",
     "exception": false,
     "start_time": "2022-10-10T12:30:06.207901",
     "status": "completed"
    },
    "tags": []
   },
   "outputs": [
    {
     "name": "stderr",
     "output_type": "stream",
     "text": [
      "2022-10-10 12:30:06.329452: W tensorflow/stream_executor/platform/default/dso_loader.cc:64] Could not load dynamic library 'libcuda.so.1'; dlerror: libcuda.so.1: cannot open shared object file: No such file or directory; LD_LIBRARY_PATH: /usr/local/cuda/lib64:/usr/local/cuda/lib:/usr/local/lib/x86_64-linux-gnu:/usr/local/nvidia/lib:/usr/local/nvidia/lib64:\n",
      "2022-10-10 12:30:06.329511: W tensorflow/stream_executor/cuda/cuda_driver.cc:263] failed call to cuInit: UNKNOWN ERROR (303)\n",
      "2022-10-10 12:30:06.329546: I tensorflow/stream_executor/cuda/cuda_diagnostics.cc:156] kernel driver does not appear to be running on this host (c79b2b248e4a): /proc/driver/nvidia/version does not exist\n",
      "2022-10-10 12:30:06.329993: I tensorflow/core/platform/cpu_feature_guard.cc:193] This TensorFlow binary is optimized with oneAPI Deep Neural Network Library (oneDNN) to use the following CPU instructions in performance-critical operations:  AVX2 FMA\n",
      "To enable them in other operations, rebuild TensorFlow with the appropriate compiler flags.\n"
     ]
    }
   ],
   "source": [
    "# Split data\n",
    "\n",
    "non_test_split_dataframe = df[df['year'] <= 2020]\n",
    "\n",
    "train_dataframe = df[df['year'] < 2020]\n",
    "val_dataframe = df[df['year'] == 2020]\n",
    "test_dataframe = df[df['year'] > 2020]\n",
    "\n",
    "train_ds = dataframe_to_dataset(train_dataframe)\n",
    "val_ds = dataframe_to_dataset(val_dataframe)\n",
    "test_ds = dataframe_to_dataset(test_dataframe, shuffle=False)\n",
    "\n",
    "non_test_ds = dataframe_to_dataset(non_test_split_dataframe)\n",
    "\n",
    "train_ds = train_ds.batch(256)\n",
    "val_ds = val_ds.batch(256)\n",
    "test_ds = test_ds.batch(256)\n",
    "\n",
    "non_test_ds = non_test_ds.batch(256)\n"
   ]
  },
  {
   "cell_type": "markdown",
   "id": "7c1be7ca",
   "metadata": {
    "papermill": {
     "duration": 0.066105,
     "end_time": "2022-10-10T12:30:06.678701",
     "exception": false,
     "start_time": "2022-10-10T12:30:06.612596",
     "status": "completed"
    },
    "tags": []
   },
   "source": [
    "## Part B\n",
    "> For each categorical variable, replace the one-hot encoding with the layer\n",
    "tf.keras.layers.Embedding(). Set output_dim = floor(num_categories//divisor).\n",
    "‘num_categories’ refers to the number of categories in the categorical variable.\n",
    "‘divisor’ is a parameter which we will tune later (Hint: You will still need the\n",
    "lookup classes from Q1b. Read the documentation to find out what to change.)\n",
    "<br><br>The Embedding layer produces a 2D output (3D, including batch), which cannot\n",
    "be concatenated with the other features. Add a Flatten layer to resolve this. "
   ]
  },
  {
   "cell_type": "markdown",
   "id": "ce12ee06",
   "metadata": {
    "papermill": {
     "duration": 0.066907,
     "end_time": "2022-10-10T12:30:06.812780",
     "exception": false,
     "start_time": "2022-10-10T12:30:06.745873",
     "status": "completed"
    },
    "tags": []
   },
   "source": [
    "### Model Architecture\n",
    ">The model architecture is similar to Question 1. The difference is that we use an embedding layer for categorical variables to represent them meaningfully in a different space. This helps the model learn better features.\n",
    "<br><br>The first argument to the embedding is the vocabulary size and the second argument is the output dimension of the feature vector. We add $+1$ to the vocab size to handle unkown $UNK$ categories which may not be present in the training set but might be present in the test set "
   ]
  },
  {
   "cell_type": "markdown",
   "id": "1f4b22af",
   "metadata": {
    "papermill": {
     "duration": 0.065923,
     "end_time": "2022-10-10T12:30:06.944296",
     "exception": false,
     "start_time": "2022-10-10T12:30:06.878373",
     "status": "completed"
    },
    "tags": []
   },
   "source": [
    "***Note***: The *build_model* function takes an argument hp. This is used by keras tuner to perform the search for optimal hyperparameters.\n",
    "* **Divisor**: hp.Int('Divisor', 1, 2, step=1) (min=1, max=2, step=1)\n",
    "* **Number of neurons**: (hp.Int('Number of neurons', 4, 32, step=4) (min=4, max=32, step=4)\n",
    "* **Learning rate**: hp.Float('Learning rate', 1e-4, 2e-1, sampling='log') (min=1e-4, max=2e-1, sampling=’log’)"
   ]
  },
  {
   "cell_type": "code",
   "execution_count": 8,
   "id": "f728f730",
   "metadata": {
    "execution": {
     "iopub.execute_input": "2022-10-10T12:30:07.081848Z",
     "iopub.status.busy": "2022-10-10T12:30:07.080845Z",
     "iopub.status.idle": "2022-10-10T12:30:07.102803Z",
     "shell.execute_reply": "2022-10-10T12:30:07.101438Z"
    },
    "id": "fYSsd-uLOwyB",
    "papermill": {
     "duration": 0.09321,
     "end_time": "2022-10-10T12:30:07.105889",
     "exception": false,
     "start_time": "2022-10-10T12:30:07.012679",
     "status": "completed"
    },
    "tags": []
   },
   "outputs": [],
   "source": [
    "def build_model(hp):\n",
    "    # Categorical features encoded as integers\n",
    "    month = keras.Input(shape=(1,), name=\"month\", dtype=\"int64\")\n",
    "    month_encoded = encode_categorical_feature(month, \"month\", train_ds, False)\n",
    "\n",
    "    # Categorical feature encoded as string\n",
    "    flat_model_type = keras.Input(shape=(1,), name=\"flat_model_type\", dtype=\"string\")\n",
    "    storey_range = keras.Input(shape=(1,), name=\"storey_range\", dtype=\"string\")\n",
    "\n",
    "    flat_model_type_encoded = encode_categorical_feature(flat_model_type, \"flat_model_type\", train_ds, True)\n",
    "    storey_range_encoded = encode_categorical_feature(storey_range, \"storey_range\", train_ds, True)\n",
    "\n",
    "    # Numerical features\n",
    "    dist_to_nearest_stn = keras.Input(shape=(1,), name=\"dist_to_nearest_stn\")\n",
    "    floor_area_sqm = keras.Input(shape=(1,), name=\"floor_area_sqm\")\n",
    "    dist_to_dhoby = keras.Input(shape=(1,), name=\"dist_to_dhoby\")\n",
    "    degree_centrality = keras.Input(shape=(1,), name=\"degree_centrality\")\n",
    "    eigenvector_centrality = keras.Input(shape=(1,), name=\"eigenvector_centrality\")\n",
    "    remaining_lease_years = keras.Input(shape=(1,), name=\"remaining_lease_years\")\n",
    "\n",
    "    dist_to_nearest_stn_encoded = encode_numerical_feature(dist_to_nearest_stn, \"dist_to_nearest_stn\", train_ds)\n",
    "    floor_area_sqm_encoded = encode_numerical_feature(floor_area_sqm, \"floor_area_sqm\", train_ds)\n",
    "    dist_to_dhoby_encoded = encode_numerical_feature(dist_to_dhoby, \"dist_to_dhoby\", train_ds)\n",
    "    degree_centrality_encoded = encode_numerical_feature(degree_centrality, \"degree_centrality\", train_ds)\n",
    "    eigenvector_centrality_encoded = encode_numerical_feature(eigenvector_centrality, \"eigenvector_centrality\", train_ds)\n",
    "    remaining_lease_years_encoded = encode_numerical_feature(remaining_lease_years, \"remaining_lease_years\", train_ds)\n",
    "\n",
    "    all_inputs = [\n",
    "        month,\n",
    "        storey_range,\n",
    "        flat_model_type,\n",
    "        floor_area_sqm,\n",
    "        remaining_lease_years,\n",
    "        degree_centrality,\n",
    "        eigenvector_centrality,\n",
    "        dist_to_nearest_stn,\n",
    "        dist_to_dhoby,\n",
    "    ]\n",
    "\n",
    "    #Embedding to categorical features\n",
    "    # Categorical features encoded as integers\n",
    "    month_encoded = encode_categorical_feature(month, \"month\", train_ds, False)\n",
    "    month_embedding = layers.Embedding(int(len(np.unique(train_dataframe['month']))+1), int(np.floor((len(np.unique(train_dataframe['month']))+1)/hp.Int('Divisor', 1, 2, step=1))))(month_encoded)\n",
    "    month_flatten = layers.Flatten()(month_embedding)\n",
    "\n",
    "    #Categorical feature encoded as string\n",
    "    flat_model_type_encoded = encode_categorical_feature(flat_model_type, \"flat_model_type\", train_ds, True)\n",
    "    flat_model_type_embedding = layers.Embedding(int(len(np.unique(train_dataframe['flat_model_type']))+1), int(np.floor((len(np.unique(train_dataframe['flat_model_type']))+1)/hp.Int('Divisor', 1, 2, step=1))))(flat_model_type_encoded)\n",
    "    flat_model_type_flatten = layers.Flatten()(flat_model_type_embedding)\n",
    "\n",
    "    storey_range_encoded = encode_categorical_feature(storey_range, \"storey_range\", train_ds, True)\n",
    "    storey_range_embedding = layers.Embedding(int(len(np.unique(train_dataframe['storey_range']))+1), int(np.floor((len(np.unique(train_dataframe['storey_range']))+1)/hp.Int('Divisor', 1, 2, step=1))))(storey_range_encoded)\n",
    "    storey_range_flatten = layers.Flatten()(storey_range_embedding)\n",
    "\n",
    "    concat_features= layers.concatenate(\n",
    "        [\n",
    "            month_flatten,\n",
    "            flat_model_type_flatten,\n",
    "            storey_range_flatten,\n",
    "            floor_area_sqm_encoded,\n",
    "            dist_to_dhoby_encoded,\n",
    "            dist_to_nearest_stn_encoded,\n",
    "            degree_centrality_encoded,\n",
    "            eigenvector_centrality_encoded, \n",
    "            remaining_lease_years_encoded\n",
    "        ]\n",
    "    )\n",
    "    \n",
    "\n",
    "    hidden_layer = layers.Dense(hp.Int('Number of neurons', 4, 32, step=4), activation=\"relu\")(concat_features)\n",
    "    dense_layer = layers.Dense(1, activation=\"linear\")(hidden_layer)\n",
    "    model = keras.Model(all_inputs, dense_layer)\n",
    "    opt=keras.optimizers.Adam(learning_rate=hp.Float('Learning rate', 1e-4, 2e-1, sampling='log'))\n",
    "    model.compile(optimizer=opt, loss='mse', metrics=[tf.keras.metrics.MeanSquaredError(), r2])\n",
    "\n",
    "    return model"
   ]
  },
  {
   "cell_type": "markdown",
   "id": "f76e8b37",
   "metadata": {
    "papermill": {
     "duration": 0.066092,
     "end_time": "2022-10-10T12:30:07.238511",
     "exception": false,
     "start_time": "2022-10-10T12:30:07.172419",
     "status": "completed"
    },
    "tags": []
   },
   "source": [
    "## Part C\n",
    ">Via a callback, introduce early stopping (based on val_loss, with patience of\n",
    "10 epochs) to the model.\n",
    "Using this as a reference, use KerasTuner (with the RandomSearch algorithm)\n",
    "to tune the model on the validation set, according to the following ranges:\n",
    ">- Number of neurons: min=4, max=32, step=4\n",
    ">- Learning rate: min=1e-4, max=2e-1, sampling=’log’\n",
    ">- Divisor: min=1, max=2, step=1\n",
    ">Run 10 iterations of parameter search (i.e. max_trials=10), each for 50 epochs\n",
    "and report the best set of hyperparameters (based on validation accuracy). "
   ]
  },
  {
   "cell_type": "markdown",
   "id": "c39e50f5",
   "metadata": {
    "papermill": {
     "duration": 0.065148,
     "end_time": "2022-10-10T12:30:07.370635",
     "exception": false,
     "start_time": "2022-10-10T12:30:07.305487",
     "status": "completed"
    },
    "tags": []
   },
   "source": [
    "### Setting constants for training and hyperparameter search"
   ]
  },
  {
   "cell_type": "code",
   "execution_count": 9,
   "id": "177254db",
   "metadata": {
    "execution": {
     "iopub.execute_input": "2022-10-10T12:30:07.508797Z",
     "iopub.status.busy": "2022-10-10T12:30:07.508343Z",
     "iopub.status.idle": "2022-10-10T12:30:07.514018Z",
     "shell.execute_reply": "2022-10-10T12:30:07.512400Z"
    },
    "papermill": {
     "duration": 0.079871,
     "end_time": "2022-10-10T12:30:07.517081",
     "exception": false,
     "start_time": "2022-10-10T12:30:07.437210",
     "status": "completed"
    },
    "tags": []
   },
   "outputs": [],
   "source": [
    "max_trials = 10\n",
    "num_epochs = 50"
   ]
  },
  {
   "cell_type": "markdown",
   "id": "7b16ede2",
   "metadata": {
    "papermill": {
     "duration": 0.065729,
     "end_time": "2022-10-10T12:30:07.650218",
     "exception": false,
     "start_time": "2022-10-10T12:30:07.584489",
     "status": "completed"
    },
    "tags": []
   },
   "source": [
    "### Instantiating the tuner"
   ]
  },
  {
   "cell_type": "code",
   "execution_count": 10,
   "id": "4e3ef194",
   "metadata": {
    "execution": {
     "iopub.execute_input": "2022-10-10T12:30:07.785483Z",
     "iopub.status.busy": "2022-10-10T12:30:07.785027Z",
     "iopub.status.idle": "2022-10-10T12:30:17.744707Z",
     "shell.execute_reply": "2022-10-10T12:30:17.743203Z"
    },
    "id": "AYANR7IZOwyC",
    "papermill": {
     "duration": 10.029982,
     "end_time": "2022-10-10T12:30:17.747579",
     "exception": false,
     "start_time": "2022-10-10T12:30:07.717597",
     "status": "completed"
    },
    "tags": []
   },
   "outputs": [],
   "source": [
    "tuner = kt.RandomSearch(\n",
    "    build_model,\n",
    "    objective='val_loss',\n",
    "    max_trials=max_trials)"
   ]
  },
  {
   "cell_type": "markdown",
   "id": "25550351",
   "metadata": {
    "papermill": {
     "duration": 0.070313,
     "end_time": "2022-10-10T12:30:17.886943",
     "exception": false,
     "start_time": "2022-10-10T12:30:17.816630",
     "status": "completed"
    },
    "tags": []
   },
   "source": [
    "### Hyperparameter Search"
   ]
  },
  {
   "cell_type": "code",
   "execution_count": 11,
   "id": "d3074260",
   "metadata": {
    "execution": {
     "iopub.execute_input": "2022-10-10T12:30:18.034301Z",
     "iopub.status.busy": "2022-10-10T12:30:18.033200Z",
     "iopub.status.idle": "2022-10-10T13:00:29.331728Z",
     "shell.execute_reply": "2022-10-10T13:00:29.329240Z"
    },
    "id": "4mvfYkNuOwyC",
    "outputId": "4f7255a0-3cb4-4dad-de2f-345bb83153fd",
    "papermill": {
     "duration": 1811.375815,
     "end_time": "2022-10-10T13:00:29.335573",
     "exception": false,
     "start_time": "2022-10-10T12:30:17.959758",
     "status": "completed"
    },
    "tags": []
   },
   "outputs": [
    {
     "name": "stdout",
     "output_type": "stream",
     "text": [
      "Trial 10 Complete [00h 01m 49s]\n",
      "val_loss: 24106113024.0\n",
      "\n",
      "Best val_loss So Far: 3171257344.0\n",
      "Total elapsed time: 00h 30m 11s\n"
     ]
    }
   ],
   "source": [
    "tuner.search(\n",
    "            train_ds,\n",
    "            validation_data=val_ds,\n",
    "            callbacks=[tf.keras.callbacks.EarlyStopping(patience=10, monitor='val_loss')],\n",
    "            epochs=num_epochs\n",
    "            )"
   ]
  },
  {
   "cell_type": "markdown",
   "id": "10aaaa79",
   "metadata": {
    "papermill": {
     "duration": 0.070024,
     "end_time": "2022-10-10T13:00:29.474751",
     "exception": false,
     "start_time": "2022-10-10T13:00:29.404727",
     "status": "completed"
    },
    "tags": []
   },
   "source": [
    "### Save the results of the tuner into a variable"
   ]
  },
  {
   "cell_type": "code",
   "execution_count": 12,
   "id": "d99d4e2e",
   "metadata": {
    "execution": {
     "iopub.execute_input": "2022-10-10T13:00:29.610631Z",
     "iopub.status.busy": "2022-10-10T13:00:29.610093Z",
     "iopub.status.idle": "2022-10-10T13:00:29.618718Z",
     "shell.execute_reply": "2022-10-10T13:00:29.617724Z"
    },
    "id": "3kGnOOlJOwyD",
    "outputId": "69b09dd0-6826-44c6-ef7f-ca456cc5b5ad",
    "papermill": {
     "duration": 0.079788,
     "end_time": "2022-10-10T13:00:29.621513",
     "exception": false,
     "start_time": "2022-10-10T13:00:29.541725",
     "status": "completed"
    },
    "tags": []
   },
   "outputs": [],
   "source": [
    "%%capture tuner_output --no-stderr\n",
    "tuner.results_summary()"
   ]
  },
  {
   "cell_type": "markdown",
   "id": "d825aa9f",
   "metadata": {
    "papermill": {
     "duration": 0.069696,
     "end_time": "2022-10-10T13:00:29.762556",
     "exception": false,
     "start_time": "2022-10-10T13:00:29.692860",
     "status": "completed"
    },
    "tags": []
   },
   "source": [
    "### Extract Tuner results"
   ]
  },
  {
   "cell_type": "code",
   "execution_count": 13,
   "id": "5ce46af5",
   "metadata": {
    "execution": {
     "iopub.execute_input": "2022-10-10T13:00:29.901067Z",
     "iopub.status.busy": "2022-10-10T13:00:29.899364Z",
     "iopub.status.idle": "2022-10-10T13:00:29.908173Z",
     "shell.execute_reply": "2022-10-10T13:00:29.907092Z"
    },
    "papermill": {
     "duration": 0.080479,
     "end_time": "2022-10-10T13:00:29.910795",
     "exception": false,
     "start_time": "2022-10-10T13:00:29.830316",
     "status": "completed"
    },
    "tags": []
   },
   "outputs": [],
   "source": [
    "result_string = tuner_output.stdout\n",
    "result_string = result_string.split(\"\\n\")\n",
    "\n",
    "divisor_list = [x[x.find(':')+2:] for x in result_string if 'Divisor' in x]\n",
    "hidden_size_list = [x[x.find(':')+2:] for x in result_string if 'Number of neurons' in x]\n",
    "learning_rate_list = [x[x.find(':')+2:] for x in result_string if 'Learning rate' in x]\n",
    "score_list = [x[x.find(':')+2:] for x in result_string if 'Score' in x]"
   ]
  },
  {
   "cell_type": "markdown",
   "id": "10804bc4",
   "metadata": {
    "papermill": {
     "duration": 0.070493,
     "end_time": "2022-10-10T13:00:30.052272",
     "exception": false,
     "start_time": "2022-10-10T13:00:29.981779",
     "status": "completed"
    },
    "tags": []
   },
   "source": [
    "### Display the tuner results"
   ]
  },
  {
   "cell_type": "code",
   "execution_count": 14,
   "id": "598b2001",
   "metadata": {
    "execution": {
     "iopub.execute_input": "2022-10-10T13:00:30.188097Z",
     "iopub.status.busy": "2022-10-10T13:00:30.186661Z",
     "iopub.status.idle": "2022-10-10T13:00:30.201641Z",
     "shell.execute_reply": "2022-10-10T13:00:30.200412Z"
    },
    "papermill": {
     "duration": 0.085684,
     "end_time": "2022-10-10T13:00:30.204320",
     "exception": false,
     "start_time": "2022-10-10T13:00:30.118636",
     "status": "completed"
    },
    "tags": []
   },
   "outputs": [],
   "source": [
    "records = {}\n",
    "records['Divisor'] = divisor_list\n",
    "records['Hidden Size'] = hidden_size_list\n",
    "records['Learning Rate'] = learning_rate_list\n",
    "records['Score'] = score_list\n",
    "\n",
    "hyperparameter_table = pd.DataFrame(records)\n",
    "hyperparameter_table['Score'] = pd.to_numeric(hyperparameter_table['Score'])\n",
    "hyperparameter_table = hyperparameter_table.sort_values('Score')"
   ]
  },
  {
   "cell_type": "code",
   "execution_count": 15,
   "id": "43c9dd1f",
   "metadata": {
    "execution": {
     "iopub.execute_input": "2022-10-10T13:00:30.343906Z",
     "iopub.status.busy": "2022-10-10T13:00:30.342449Z",
     "iopub.status.idle": "2022-10-10T13:00:30.362941Z",
     "shell.execute_reply": "2022-10-10T13:00:30.361562Z"
    },
    "papermill": {
     "duration": 0.092317,
     "end_time": "2022-10-10T13:00:30.365942",
     "exception": false,
     "start_time": "2022-10-10T13:00:30.273625",
     "status": "completed"
    },
    "tags": []
   },
   "outputs": [
    {
     "data": {
      "text/html": [
       "<div>\n",
       "<style scoped>\n",
       "    .dataframe tbody tr th:only-of-type {\n",
       "        vertical-align: middle;\n",
       "    }\n",
       "\n",
       "    .dataframe tbody tr th {\n",
       "        vertical-align: top;\n",
       "    }\n",
       "\n",
       "    .dataframe thead th {\n",
       "        text-align: right;\n",
       "    }\n",
       "</style>\n",
       "<table border=\"1\" class=\"dataframe\">\n",
       "  <thead>\n",
       "    <tr style=\"text-align: right;\">\n",
       "      <th></th>\n",
       "      <th>Divisor</th>\n",
       "      <th>Hidden Size</th>\n",
       "      <th>Learning Rate</th>\n",
       "      <th>Score</th>\n",
       "    </tr>\n",
       "  </thead>\n",
       "  <tbody>\n",
       "    <tr>\n",
       "      <th>0</th>\n",
       "      <td>2</td>\n",
       "      <td>16</td>\n",
       "      <td>0.06805250998340012</td>\n",
       "      <td>3.171257e+09</td>\n",
       "    </tr>\n",
       "    <tr>\n",
       "      <th>1</th>\n",
       "      <td>2</td>\n",
       "      <td>4</td>\n",
       "      <td>0.08200053321721724</td>\n",
       "      <td>4.580778e+09</td>\n",
       "    </tr>\n",
       "    <tr>\n",
       "      <th>2</th>\n",
       "      <td>2</td>\n",
       "      <td>12</td>\n",
       "      <td>0.01113262387652895</td>\n",
       "      <td>8.155260e+09</td>\n",
       "    </tr>\n",
       "    <tr>\n",
       "      <th>3</th>\n",
       "      <td>1</td>\n",
       "      <td>24</td>\n",
       "      <td>0.0019608369359383425</td>\n",
       "      <td>2.040594e+10</td>\n",
       "    </tr>\n",
       "    <tr>\n",
       "      <th>4</th>\n",
       "      <td>2</td>\n",
       "      <td>20</td>\n",
       "      <td>0.00035649925917289845</td>\n",
       "      <td>2.403876e+10</td>\n",
       "    </tr>\n",
       "    <tr>\n",
       "      <th>5</th>\n",
       "      <td>2</td>\n",
       "      <td>24</td>\n",
       "      <td>0.0008419693545704217</td>\n",
       "      <td>2.406642e+10</td>\n",
       "    </tr>\n",
       "    <tr>\n",
       "      <th>6</th>\n",
       "      <td>1</td>\n",
       "      <td>28</td>\n",
       "      <td>0.0004948066745302922</td>\n",
       "      <td>2.407448e+10</td>\n",
       "    </tr>\n",
       "    <tr>\n",
       "      <th>7</th>\n",
       "      <td>1</td>\n",
       "      <td>12</td>\n",
       "      <td>0.0012598966611313636</td>\n",
       "      <td>2.410611e+10</td>\n",
       "    </tr>\n",
       "    <tr>\n",
       "      <th>8</th>\n",
       "      <td>1</td>\n",
       "      <td>20</td>\n",
       "      <td>0.000201065526779238</td>\n",
       "      <td>2.412770e+10</td>\n",
       "    </tr>\n",
       "    <tr>\n",
       "      <th>9</th>\n",
       "      <td>2</td>\n",
       "      <td>8</td>\n",
       "      <td>0.0001465335544953214</td>\n",
       "      <td>1.667990e+11</td>\n",
       "    </tr>\n",
       "  </tbody>\n",
       "</table>\n",
       "</div>"
      ],
      "text/plain": [
       "  Divisor Hidden Size           Learning Rate         Score\n",
       "0       2          16     0.06805250998340012  3.171257e+09\n",
       "1       2           4     0.08200053321721724  4.580778e+09\n",
       "2       2          12     0.01113262387652895  8.155260e+09\n",
       "3       1          24   0.0019608369359383425  2.040594e+10\n",
       "4       2          20  0.00035649925917289845  2.403876e+10\n",
       "5       2          24   0.0008419693545704217  2.406642e+10\n",
       "6       1          28   0.0004948066745302922  2.407448e+10\n",
       "7       1          12   0.0012598966611313636  2.410611e+10\n",
       "8       1          20    0.000201065526779238  2.412770e+10\n",
       "9       2           8   0.0001465335544953214  1.667990e+11"
      ]
     },
     "execution_count": 15,
     "metadata": {},
     "output_type": "execute_result"
    }
   ],
   "source": [
    "hyperparameter_table.head(max_trials)"
   ]
  },
  {
   "cell_type": "markdown",
   "id": "2da54151",
   "metadata": {
    "papermill": {
     "duration": 0.069986,
     "end_time": "2022-10-10T13:00:30.505875",
     "exception": false,
     "start_time": "2022-10-10T13:00:30.435889",
     "status": "completed"
    },
    "tags": []
   },
   "source": [
    "### Get the best value of hyperparameters"
   ]
  },
  {
   "cell_type": "code",
   "execution_count": 16,
   "id": "f0d00249",
   "metadata": {
    "execution": {
     "iopub.execute_input": "2022-10-10T13:00:30.641997Z",
     "iopub.status.busy": "2022-10-10T13:00:30.641549Z",
     "iopub.status.idle": "2022-10-10T13:00:30.647984Z",
     "shell.execute_reply": "2022-10-10T13:00:30.646983Z"
    },
    "id": "1_x7TWBtOwyE",
    "outputId": "a841aa9f-b312-4b2b-888d-f8aca0057efc",
    "papermill": {
     "duration": 0.077065,
     "end_time": "2022-10-10T13:00:30.651451",
     "exception": false,
     "start_time": "2022-10-10T13:00:30.574386",
     "status": "completed"
    },
    "tags": []
   },
   "outputs": [
    {
     "name": "stdout",
     "output_type": "stream",
     "text": [
      "----- Best Hyperparamers -----\n",
      "Divisor: 2\n",
      "Number of neurons: 16\n",
      "Learning rate: 0.06805250998340012\n"
     ]
    }
   ],
   "source": [
    "best_hyperparameters = tuner.get_best_hyperparameters(1)[0]\n",
    "\n",
    "params = ['Divisor', 'Number of neurons', 'Learning rate']\n",
    "\n",
    "print('----- Best Hyperparamers -----')\n",
    "for param in params:\n",
    "    print(f\"{param}: {best_hyperparameters.get(name=param)}\")"
   ]
  },
  {
   "cell_type": "code",
   "execution_count": 17,
   "id": "899741a6",
   "metadata": {
    "execution": {
     "iopub.execute_input": "2022-10-10T13:00:30.789061Z",
     "iopub.status.busy": "2022-10-10T13:00:30.788570Z",
     "iopub.status.idle": "2022-10-10T13:00:30.795868Z",
     "shell.execute_reply": "2022-10-10T13:00:30.794382Z"
    },
    "id": "2tY7IYMAOwyE",
    "papermill": {
     "duration": 0.079757,
     "end_time": "2022-10-10T13:00:30.799195",
     "exception": false,
     "start_time": "2022-10-10T13:00:30.719438",
     "status": "completed"
    },
    "tags": []
   },
   "outputs": [],
   "source": [
    "best_divisor = best_hyperparameters.get(name='Divisor')\n",
    "best_hidden_size = best_hyperparameters.get(name='Number of neurons')\n",
    "best_learning_rate = best_hyperparameters.get(name='Learning rate')"
   ]
  },
  {
   "cell_type": "markdown",
   "id": "b31a360b",
   "metadata": {
    "papermill": {
     "duration": 0.067593,
     "end_time": "2022-10-10T13:00:30.936700",
     "exception": false,
     "start_time": "2022-10-10T13:00:30.869107",
     "status": "completed"
    },
    "tags": []
   },
   "source": [
    "## Part D\n",
    ">Using the best model configuration, train a model on the non-test split (i.e.\n",
    "year 2020 and before) for 50 epochs. Generate a plot to show how the train\n",
    "and test root mean square errors (RMSE) changes across epochs.\n",
    "(Tip: You can skip the first few epochs if the plot gets dominated by them) "
   ]
  },
  {
   "cell_type": "markdown",
   "id": "07ebbcce",
   "metadata": {
    "papermill": {
     "duration": 0.067934,
     "end_time": "2022-10-10T13:00:31.074535",
     "exception": false,
     "start_time": "2022-10-10T13:00:31.006601",
     "status": "completed"
    },
    "tags": []
   },
   "source": [
    "### Create model with best configuration\n",
    ">**Divisor**: 2<br>\n",
    "**Number of neurons**: 16<br>\n",
    "**Learning rate**: 0.06805250998340012"
   ]
  },
  {
   "cell_type": "code",
   "execution_count": 18,
   "id": "acbde5bb",
   "metadata": {
    "execution": {
     "iopub.execute_input": "2022-10-10T13:00:31.210465Z",
     "iopub.status.busy": "2022-10-10T13:00:31.210003Z",
     "iopub.status.idle": "2022-10-10T13:00:31.234443Z",
     "shell.execute_reply": "2022-10-10T13:00:31.233038Z"
    },
    "id": "voerDNjBOwyE",
    "outputId": "8450b429-9cd4-4d7c-a301-0a8025181dc9",
    "papermill": {
     "duration": 0.096508,
     "end_time": "2022-10-10T13:00:31.237686",
     "exception": false,
     "start_time": "2022-10-10T13:00:31.141178",
     "status": "completed"
    },
    "tags": []
   },
   "outputs": [],
   "source": [
    "def create_model():\n",
    "\n",
    "    # Categorical features encoded as integers\n",
    "    month = keras.Input(shape=(1,), name=\"month\", dtype=\"int64\")\n",
    "    month_encoded = encode_categorical_feature(month, \"month\", non_test_ds, False)\n",
    "\n",
    "    # Categorical feature encoded as string\n",
    "    flat_model_type = keras.Input(shape=(1,), name=\"flat_model_type\", dtype=\"string\")\n",
    "    storey_range = keras.Input(shape=(1,), name=\"storey_range\", dtype=\"string\")\n",
    "\n",
    "    flat_model_type_encoded = encode_categorical_feature(flat_model_type, \"flat_model_type\", non_test_ds, True)\n",
    "    storey_range_encoded = encode_categorical_feature(storey_range, \"storey_range\", non_test_ds, True)\n",
    "\n",
    "    # Numerical features\n",
    "    dist_to_nearest_stn = keras.Input(shape=(1,), name=\"dist_to_nearest_stn\")\n",
    "    floor_area_sqm = keras.Input(shape=(1,), name=\"floor_area_sqm\")\n",
    "    dist_to_dhoby = keras.Input(shape=(1,), name=\"dist_to_dhoby\")\n",
    "    degree_centrality = keras.Input(shape=(1,), name=\"degree_centrality\")\n",
    "    eigenvector_centrality = keras.Input(shape=(1,), name=\"eigenvector_centrality\")\n",
    "    remaining_lease_years = keras.Input(shape=(1,), name=\"remaining_lease_years\")\n",
    "\n",
    "    dist_to_nearest_stn_encoded = encode_numerical_feature(dist_to_nearest_stn, \"dist_to_nearest_stn\", non_test_ds)\n",
    "    floor_area_sqm_encoded = encode_numerical_feature(floor_area_sqm, \"floor_area_sqm\", non_test_ds)\n",
    "    dist_to_dhoby_encoded = encode_numerical_feature(dist_to_dhoby, \"dist_to_dhoby\", non_test_ds)\n",
    "    degree_centrality_encoded = encode_numerical_feature(degree_centrality, \"degree_centrality\", non_test_ds)\n",
    "    eigenvector_centrality_encoded = encode_numerical_feature(eigenvector_centrality, \"eigenvector_centrality\", non_test_ds)\n",
    "    remaining_lease_years_encoded = encode_numerical_feature(remaining_lease_years, \"remaining_lease_years\", non_test_ds)\n",
    "\n",
    "    all_inputs = [\n",
    "        month,\n",
    "        storey_range,\n",
    "        flat_model_type,\n",
    "        floor_area_sqm,\n",
    "        remaining_lease_years,\n",
    "        degree_centrality,\n",
    "        eigenvector_centrality,\n",
    "        dist_to_nearest_stn,\n",
    "        dist_to_dhoby,\n",
    "    ]\n",
    "\n",
    "    #Embedding to categorical features\n",
    "    # Categorical features encoded as integers\n",
    "    month_encoded = encode_categorical_feature(month, \"month\", non_test_ds, False)\n",
    "    month_embedding = layers.Embedding(int(len(np.unique(non_test_split_dataframe['month']))+1), int(np.floor((len(np.unique(non_test_split_dataframe['month']))+1)/best_divisor)))(month_encoded)\n",
    "    month_flatten = layers.Flatten()(month_embedding)\n",
    "\n",
    "    #Categorical feature encoded as string\n",
    "    flat_model_type_encoded = encode_categorical_feature(flat_model_type, \"flat_model_type\", non_test_ds, True)\n",
    "    flat_model_type_embedding = layers.Embedding(int(len(np.unique(non_test_split_dataframe['flat_model_type']))+1), int(np.floor((len(np.unique(non_test_split_dataframe['flat_model_type']))+1)/best_divisor)))(flat_model_type_encoded)\n",
    "    flat_model_type_flatten = layers.Flatten()(flat_model_type_embedding)\n",
    "\n",
    "    storey_range_encoded = encode_categorical_feature(storey_range, \"storey_range\", non_test_ds, True)\n",
    "    storey_range_embedding = layers.Embedding(int(len(np.unique(non_test_split_dataframe['storey_range']))+1), int(np.floor((len(np.unique(non_test_split_dataframe['storey_range']))+1)/best_divisor)))(storey_range_encoded)\n",
    "    storey_range_flatten = layers.Flatten()(storey_range_embedding)\n",
    "\n",
    "    concat_features= layers.concatenate(\n",
    "        [\n",
    "            month_flatten,\n",
    "            flat_model_type_flatten,\n",
    "            storey_range_flatten,\n",
    "            floor_area_sqm_encoded,\n",
    "            dist_to_dhoby_encoded,\n",
    "            dist_to_nearest_stn_encoded,\n",
    "            degree_centrality_encoded,\n",
    "            eigenvector_centrality_encoded, \n",
    "            remaining_lease_years_encoded\n",
    "        ]\n",
    "    )\n",
    "\n",
    "\n",
    "    hidden_layer = layers.Dense(best_hidden_size, activation=\"relu\")(concat_features)\n",
    "    dense_layer = layers.Dense(1, activation=\"linear\")(hidden_layer)\n",
    "    model = keras.Model(all_inputs, dense_layer)\n",
    "    opt=keras.optimizers.Adam(learning_rate=best_learning_rate)\n",
    "    model.compile(optimizer=opt, loss='mse', metrics=[tf.keras.metrics.MeanSquaredError(), tf.keras.metrics.RootMeanSquaredError()])\n",
    "    \n",
    "    return model"
   ]
  },
  {
   "cell_type": "code",
   "execution_count": 19,
   "id": "be7bfe6a",
   "metadata": {
    "execution": {
     "iopub.execute_input": "2022-10-10T13:00:31.373580Z",
     "iopub.status.busy": "2022-10-10T13:00:31.373171Z",
     "iopub.status.idle": "2022-10-10T13:00:44.333479Z",
     "shell.execute_reply": "2022-10-10T13:00:44.332033Z"
    },
    "papermill": {
     "duration": 13.030815,
     "end_time": "2022-10-10T13:00:44.336463",
     "exception": false,
     "start_time": "2022-10-10T13:00:31.305648",
     "status": "completed"
    },
    "tags": []
   },
   "outputs": [],
   "source": [
    "model = create_model()"
   ]
  },
  {
   "cell_type": "markdown",
   "id": "97404db5",
   "metadata": {
    "papermill": {
     "duration": 0.066233,
     "end_time": "2022-10-10T13:00:44.471590",
     "exception": false,
     "start_time": "2022-10-10T13:00:44.405357",
     "status": "completed"
    },
    "tags": []
   },
   "source": [
    "### Visualize Model Architecture"
   ]
  },
  {
   "cell_type": "code",
   "execution_count": 20,
   "id": "404c5907",
   "metadata": {
    "execution": {
     "iopub.execute_input": "2022-10-10T13:00:44.609060Z",
     "iopub.status.busy": "2022-10-10T13:00:44.607934Z",
     "iopub.status.idle": "2022-10-10T13:00:46.307235Z",
     "shell.execute_reply": "2022-10-10T13:00:46.305590Z"
    },
    "papermill": {
     "duration": 1.771322,
     "end_time": "2022-10-10T13:00:46.310251",
     "exception": false,
     "start_time": "2022-10-10T13:00:44.538929",
     "status": "completed"
    },
    "tags": []
   },
   "outputs": [
    {
     "data": {
      "image/png": "[encoded data removed]",
      "text/plain": [
       "<IPython.core.display.Image object>"
      ]
     },
     "execution_count": 20,
     "metadata": {},
     "output_type": "execute_result"
    }
   ],
   "source": [
    "plot_model(model, show_shapes=True, rankdir=\"LR\")"
   ]
  },
  {
   "cell_type": "markdown",
   "id": "34dcf07b",
   "metadata": {
    "papermill": {
     "duration": 0.069639,
     "end_time": "2022-10-10T13:00:46.453080",
     "exception": false,
     "start_time": "2022-10-10T13:00:46.383441",
     "status": "completed"
    },
    "tags": []
   },
   "source": [
    "### ModelCheckpoint to save the best model"
   ]
  },
  {
   "cell_type": "code",
   "execution_count": 21,
   "id": "8212a6fa",
   "metadata": {
    "execution": {
     "iopub.execute_input": "2022-10-10T13:00:46.595186Z",
     "iopub.status.busy": "2022-10-10T13:00:46.594207Z",
     "iopub.status.idle": "2022-10-10T13:00:46.601256Z",
     "shell.execute_reply": "2022-10-10T13:00:46.599912Z"
    },
    "id": "hYXryLAHOwyF",
    "outputId": "73a160da-587c-4a5b-9b85-a15efb1eb1e9",
    "papermill": {
     "duration": 0.081423,
     "end_time": "2022-10-10T13:00:46.603972",
     "exception": false,
     "start_time": "2022-10-10T13:00:46.522549",
     "status": "completed"
    },
    "tags": []
   },
   "outputs": [],
   "source": [
    "checkpoint_filepath = 'tmp/checkpoint/'\n",
    "\n",
    "model_checkpoint_callback = keras.callbacks.ModelCheckpoint(\n",
    "    filepath=checkpoint_filepath,\n",
    "    monitor='val_loss',\n",
    "    mode='min',\n",
    "    save_weights_only=True,\n",
    "    save_best_only=True)"
   ]
  },
  {
   "cell_type": "markdown",
   "id": "40028f73",
   "metadata": {
    "papermill": {
     "duration": 0.069339,
     "end_time": "2022-10-10T13:00:46.744322",
     "exception": false,
     "start_time": "2022-10-10T13:00:46.674983",
     "status": "completed"
    },
    "tags": []
   },
   "source": [
    "### Train model"
   ]
  },
  {
   "cell_type": "code",
   "execution_count": 22,
   "id": "5903cdbb",
   "metadata": {
    "execution": {
     "iopub.execute_input": "2022-10-10T13:00:46.886472Z",
     "iopub.status.busy": "2022-10-10T13:00:46.885586Z",
     "iopub.status.idle": "2022-10-10T13:04:56.284856Z",
     "shell.execute_reply": "2022-10-10T13:04:56.282748Z"
    },
    "papermill": {
     "duration": 249.472928,
     "end_time": "2022-10-10T13:04:56.287635",
     "exception": false,
     "start_time": "2022-10-10T13:00:46.814707",
     "status": "completed"
    },
    "tags": []
   },
   "outputs": [
    {
     "name": "stdout",
     "output_type": "stream",
     "text": [
      "Epoch 1/50\n",
      "342/342 [==============================] - 6s 13ms/step - loss: 41209114624.0000 - mean_squared_error: 41209114624.0000 - root_mean_squared_error: 203000.2812 - val_loss: 28574584832.0000 - val_mean_squared_error: 28574584832.0000 - val_root_mean_squared_error: 169040.1875\n",
      "Epoch 2/50\n",
      "342/342 [==============================] - 4s 12ms/step - loss: 21576009728.0000 - mean_squared_error: 21576009728.0000 - root_mean_squared_error: 146887.7500 - val_loss: 20698087424.0000 - val_mean_squared_error: 20698087424.0000 - val_root_mean_squared_error: 143868.2969\n",
      "Epoch 3/50\n",
      "342/342 [==============================] - 4s 13ms/step - loss: 12434079744.0000 - mean_squared_error: 12434079744.0000 - root_mean_squared_error: 111508.2031 - val_loss: 14682006528.0000 - val_mean_squared_error: 14682006528.0000 - val_root_mean_squared_error: 121169.3281\n",
      "Epoch 4/50\n",
      "342/342 [==============================] - 4s 13ms/step - loss: 9236328448.0000 - mean_squared_error: 9236328448.0000 - root_mean_squared_error: 96105.8203 - val_loss: 12730534912.0000 - val_mean_squared_error: 12730534912.0000 - val_root_mean_squared_error: 112829.6719\n",
      "Epoch 5/50\n",
      "342/342 [==============================] - 4s 12ms/step - loss: 8041528320.0000 - mean_squared_error: 8041528320.0000 - root_mean_squared_error: 89674.5703 - val_loss: 11797338112.0000 - val_mean_squared_error: 11797338112.0000 - val_root_mean_squared_error: 108615.5547\n",
      "Epoch 6/50\n",
      "342/342 [==============================] - 4s 12ms/step - loss: 7376346624.0000 - mean_squared_error: 7376346624.0000 - root_mean_squared_error: 85885.6641 - val_loss: 11135896576.0000 - val_mean_squared_error: 11135896576.0000 - val_root_mean_squared_error: 105526.7578\n",
      "Epoch 7/50\n",
      "342/342 [==============================] - 4s 13ms/step - loss: 6863898624.0000 - mean_squared_error: 6863898624.0000 - root_mean_squared_error: 82848.6484 - val_loss: 10780448768.0000 - val_mean_squared_error: 10780448768.0000 - val_root_mean_squared_error: 103828.9375\n",
      "Epoch 8/50\n",
      "342/342 [==============================] - 4s 13ms/step - loss: 6418271744.0000 - mean_squared_error: 6418271744.0000 - root_mean_squared_error: 80114.1172 - val_loss: 10661768192.0000 - val_mean_squared_error: 10661768192.0000 - val_root_mean_squared_error: 103255.8359\n",
      "Epoch 9/50\n",
      "342/342 [==============================] - 4s 13ms/step - loss: 6013065216.0000 - mean_squared_error: 6013065216.0000 - root_mean_squared_error: 77543.9531 - val_loss: 10537373696.0000 - val_mean_squared_error: 10537373696.0000 - val_root_mean_squared_error: 102651.7109\n",
      "Epoch 10/50\n",
      "342/342 [==============================] - 4s 13ms/step - loss: 5652696576.0000 - mean_squared_error: 5652696576.0000 - root_mean_squared_error: 75184.4141 - val_loss: 10203371520.0000 - val_mean_squared_error: 10203371520.0000 - val_root_mean_squared_error: 101011.7422\n",
      "Epoch 11/50\n",
      "342/342 [==============================] - 5s 13ms/step - loss: 5348106240.0000 - mean_squared_error: 5348106240.0000 - root_mean_squared_error: 73130.7500 - val_loss: 9784737792.0000 - val_mean_squared_error: 9784737792.0000 - val_root_mean_squared_error: 98917.8359\n",
      "Epoch 12/50\n",
      "342/342 [==============================] - 4s 13ms/step - loss: 5101121024.0000 - mean_squared_error: 5101121024.0000 - root_mean_squared_error: 71422.1328 - val_loss: 9507689472.0000 - val_mean_squared_error: 9507689472.0000 - val_root_mean_squared_error: 97507.3828\n",
      "Epoch 13/50\n",
      "342/342 [==============================] - 4s 13ms/step - loss: 4902275072.0000 - mean_squared_error: 4902275072.0000 - root_mean_squared_error: 70016.2500 - val_loss: 9343982592.0000 - val_mean_squared_error: 9343982592.0000 - val_root_mean_squared_error: 96664.2812\n",
      "Epoch 14/50\n",
      "342/342 [==============================] - 4s 13ms/step - loss: 4740078080.0000 - mean_squared_error: 4740078080.0000 - root_mean_squared_error: 68848.2266 - val_loss: 9189212160.0000 - val_mean_squared_error: 9189212160.0000 - val_root_mean_squared_error: 95860.3750\n",
      "Epoch 15/50\n",
      "342/342 [==============================] - 4s 13ms/step - loss: 4604557312.0000 - mean_squared_error: 4604557312.0000 - root_mean_squared_error: 67856.8906 - val_loss: 9062346752.0000 - val_mean_squared_error: 9062346752.0000 - val_root_mean_squared_error: 95196.3594\n",
      "Epoch 16/50\n",
      "342/342 [==============================] - 4s 13ms/step - loss: 4420022272.0000 - mean_squared_error: 4420022272.0000 - root_mean_squared_error: 66483.2500 - val_loss: 8804517888.0000 - val_mean_squared_error: 8804517888.0000 - val_root_mean_squared_error: 93832.3906\n",
      "Epoch 17/50\n",
      "342/342 [==============================] - 4s 13ms/step - loss: 4238084096.0000 - mean_squared_error: 4238084096.0000 - root_mean_squared_error: 65100.5703 - val_loss: 8714798080.0000 - val_mean_squared_error: 8714798080.0000 - val_root_mean_squared_error: 93353.0859\n",
      "Epoch 18/50\n",
      "342/342 [==============================] - 4s 13ms/step - loss: 4161345536.0000 - mean_squared_error: 4161345536.0000 - root_mean_squared_error: 64508.4922 - val_loss: 8774899712.0000 - val_mean_squared_error: 8774899712.0000 - val_root_mean_squared_error: 93674.4375\n",
      "Epoch 19/50\n",
      "342/342 [==============================] - 4s 13ms/step - loss: 5721383936.0000 - mean_squared_error: 5721383936.0000 - root_mean_squared_error: 75639.8281 - val_loss: 6578171392.0000 - val_mean_squared_error: 6578171392.0000 - val_root_mean_squared_error: 81105.9297\n",
      "Epoch 20/50\n",
      "342/342 [==============================] - 4s 13ms/step - loss: 4028291840.0000 - mean_squared_error: 4028291840.0000 - root_mean_squared_error: 63468.8242 - val_loss: 7500110848.0000 - val_mean_squared_error: 7500110848.0000 - val_root_mean_squared_error: 86603.1797\n",
      "Epoch 21/50\n",
      "342/342 [==============================] - 4s 13ms/step - loss: 3680058112.0000 - mean_squared_error: 3680058112.0000 - root_mean_squared_error: 60663.4844 - val_loss: 7866911744.0000 - val_mean_squared_error: 7866911744.0000 - val_root_mean_squared_error: 88695.6094\n",
      "Epoch 22/50\n",
      "342/342 [==============================] - 5s 13ms/step - loss: 3553137408.0000 - mean_squared_error: 3553137408.0000 - root_mean_squared_error: 59608.1992 - val_loss: 7827415040.0000 - val_mean_squared_error: 7827415040.0000 - val_root_mean_squared_error: 88472.6797\n",
      "Epoch 23/50\n",
      "342/342 [==============================] - 4s 12ms/step - loss: 3467796992.0000 - mean_squared_error: 3467796992.0000 - root_mean_squared_error: 58888.0039 - val_loss: 7706549248.0000 - val_mean_squared_error: 7706549248.0000 - val_root_mean_squared_error: 87786.9531\n",
      "Epoch 24/50\n",
      "342/342 [==============================] - 5s 14ms/step - loss: 3438112256.0000 - mean_squared_error: 3438112256.0000 - root_mean_squared_error: 58635.4180 - val_loss: 7702968320.0000 - val_mean_squared_error: 7702968320.0000 - val_root_mean_squared_error: 87766.5547\n",
      "Epoch 25/50\n",
      "342/342 [==============================] - 4s 13ms/step - loss: 3541960448.0000 - mean_squared_error: 3541960448.0000 - root_mean_squared_error: 59514.3711 - val_loss: 8042381312.0000 - val_mean_squared_error: 8042381312.0000 - val_root_mean_squared_error: 89679.3281\n",
      "Epoch 26/50\n",
      "342/342 [==============================] - 5s 13ms/step - loss: 3548371456.0000 - mean_squared_error: 3548371456.0000 - root_mean_squared_error: 59568.2070 - val_loss: 7574592000.0000 - val_mean_squared_error: 7574592000.0000 - val_root_mean_squared_error: 87032.1328\n",
      "Epoch 27/50\n",
      "342/342 [==============================] - 4s 13ms/step - loss: 3278425088.0000 - mean_squared_error: 3278425088.0000 - root_mean_squared_error: 57257.5312 - val_loss: 7458824704.0000 - val_mean_squared_error: 7458824704.0000 - val_root_mean_squared_error: 86364.4844\n",
      "Epoch 28/50\n",
      "342/342 [==============================] - 4s 13ms/step - loss: 3161136384.0000 - mean_squared_error: 3161136384.0000 - root_mean_squared_error: 56223.9844 - val_loss: 7532294656.0000 - val_mean_squared_error: 7532294656.0000 - val_root_mean_squared_error: 86788.7969\n",
      "Epoch 29/50\n",
      "342/342 [==============================] - 4s 12ms/step - loss: 3103687680.0000 - mean_squared_error: 3103687680.0000 - root_mean_squared_error: 55710.7500 - val_loss: 7467213824.0000 - val_mean_squared_error: 7467213824.0000 - val_root_mean_squared_error: 86413.0391\n",
      "Epoch 30/50\n",
      "342/342 [==============================] - 4s 12ms/step - loss: 3076067584.0000 - mean_squared_error: 3076067584.0000 - root_mean_squared_error: 55462.3086 - val_loss: 7373288960.0000 - val_mean_squared_error: 7373288960.0000 - val_root_mean_squared_error: 85867.8594\n",
      "Epoch 31/50\n",
      "342/342 [==============================] - 4s 12ms/step - loss: 3058639104.0000 - mean_squared_error: 3058639104.0000 - root_mean_squared_error: 55304.9648 - val_loss: 7355993600.0000 - val_mean_squared_error: 7355993600.0000 - val_root_mean_squared_error: 85767.0859\n",
      "Epoch 32/50\n",
      "342/342 [==============================] - 5s 13ms/step - loss: 3034949888.0000 - mean_squared_error: 3034949888.0000 - root_mean_squared_error: 55090.3789 - val_loss: 7334524416.0000 - val_mean_squared_error: 7334524416.0000 - val_root_mean_squared_error: 85641.8359\n",
      "Epoch 33/50\n",
      "342/342 [==============================] - 4s 13ms/step - loss: 3002200064.0000 - mean_squared_error: 3002200064.0000 - root_mean_squared_error: 54792.3359 - val_loss: 7319563776.0000 - val_mean_squared_error: 7319563776.0000 - val_root_mean_squared_error: 85554.4453\n",
      "Epoch 34/50\n",
      "342/342 [==============================] - 5s 13ms/step - loss: 2967260928.0000 - mean_squared_error: 2967260928.0000 - root_mean_squared_error: 54472.5703 - val_loss: 7317937152.0000 - val_mean_squared_error: 7317937152.0000 - val_root_mean_squared_error: 85544.9453\n",
      "Epoch 35/50\n",
      "342/342 [==============================] - 4s 13ms/step - loss: 2936255232.0000 - mean_squared_error: 2936255232.0000 - root_mean_squared_error: 54187.2227 - val_loss: 7317628416.0000 - val_mean_squared_error: 7317628416.0000 - val_root_mean_squared_error: 85543.1406\n",
      "Epoch 36/50\n",
      "342/342 [==============================] - 5s 13ms/step - loss: 2911246336.0000 - mean_squared_error: 2911246336.0000 - root_mean_squared_error: 53955.9648 - val_loss: 7336162304.0000 - val_mean_squared_error: 7336162304.0000 - val_root_mean_squared_error: 85651.3984\n",
      "Epoch 37/50\n",
      "342/342 [==============================] - 4s 12ms/step - loss: 2889671424.0000 - mean_squared_error: 2889671424.0000 - root_mean_squared_error: 53755.6641 - val_loss: 7331977216.0000 - val_mean_squared_error: 7331977216.0000 - val_root_mean_squared_error: 85626.9688\n",
      "Epoch 38/50\n",
      "342/342 [==============================] - 5s 13ms/step - loss: 2866589952.0000 - mean_squared_error: 2866589952.0000 - root_mean_squared_error: 53540.5469 - val_loss: 7271977472.0000 - val_mean_squared_error: 7271977472.0000 - val_root_mean_squared_error: 85275.8906\n",
      "Epoch 39/50\n",
      "342/342 [==============================] - 4s 13ms/step - loss: 2846340608.0000 - mean_squared_error: 2846340608.0000 - root_mean_squared_error: 53351.1055 - val_loss: 7248263680.0000 - val_mean_squared_error: 7248263680.0000 - val_root_mean_squared_error: 85136.7344\n",
      "Epoch 40/50\n",
      "342/342 [==============================] - 5s 13ms/step - loss: 2829493248.0000 - mean_squared_error: 2829493248.0000 - root_mean_squared_error: 53192.9805 - val_loss: 7201883648.0000 - val_mean_squared_error: 7201883648.0000 - val_root_mean_squared_error: 84863.9141\n",
      "Epoch 41/50\n",
      "342/342 [==============================] - 4s 13ms/step - loss: 2816132864.0000 - mean_squared_error: 2816132864.0000 - root_mean_squared_error: 53067.2500 - val_loss: 7155260928.0000 - val_mean_squared_error: 7155260928.0000 - val_root_mean_squared_error: 84588.7734\n",
      "Epoch 42/50\n",
      "342/342 [==============================] - 5s 13ms/step - loss: 2803771136.0000 - mean_squared_error: 2803771136.0000 - root_mean_squared_error: 52950.6484 - val_loss: 7142976512.0000 - val_mean_squared_error: 7142976512.0000 - val_root_mean_squared_error: 84516.1328\n",
      "Epoch 43/50\n",
      "342/342 [==============================] - 5s 14ms/step - loss: 2790537216.0000 - mean_squared_error: 2790537216.0000 - root_mean_squared_error: 52825.5352 - val_loss: 7146646528.0000 - val_mean_squared_error: 7146646528.0000 - val_root_mean_squared_error: 84537.8438\n",
      "Epoch 44/50\n",
      "342/342 [==============================] - 5s 14ms/step - loss: 2776817152.0000 - mean_squared_error: 2776817152.0000 - root_mean_squared_error: 52695.5117 - val_loss: 7145079808.0000 - val_mean_squared_error: 7145079808.0000 - val_root_mean_squared_error: 84528.5703\n",
      "Epoch 45/50\n",
      "342/342 [==============================] - 5s 13ms/step - loss: 2765286400.0000 - mean_squared_error: 2765286400.0000 - root_mean_squared_error: 52585.9922 - val_loss: 7150121472.0000 - val_mean_squared_error: 7150121472.0000 - val_root_mean_squared_error: 84558.3906\n",
      "Epoch 46/50\n",
      "342/342 [==============================] - 5s 13ms/step - loss: 2752934656.0000 - mean_squared_error: 2752934656.0000 - root_mean_squared_error: 52468.4141 - val_loss: 7150507520.0000 - val_mean_squared_error: 7150507520.0000 - val_root_mean_squared_error: 84560.6719\n",
      "Epoch 47/50\n",
      "342/342 [==============================] - 5s 13ms/step - loss: 2742470400.0000 - mean_squared_error: 2742470400.0000 - root_mean_squared_error: 52368.6016 - val_loss: 7188493824.0000 - val_mean_squared_error: 7188493824.0000 - val_root_mean_squared_error: 84784.9844\n",
      "Epoch 48/50\n",
      "342/342 [==============================] - 5s 13ms/step - loss: 2733135104.0000 - mean_squared_error: 2733135104.0000 - root_mean_squared_error: 52279.3945 - val_loss: 7255515648.0000 - val_mean_squared_error: 7255515648.0000 - val_root_mean_squared_error: 85179.3125\n",
      "Epoch 49/50\n",
      "342/342 [==============================] - 6s 17ms/step - loss: 2724554752.0000 - mean_squared_error: 2724554752.0000 - root_mean_squared_error: 52197.2695 - val_loss: 7345759744.0000 - val_mean_squared_error: 7345759744.0000 - val_root_mean_squared_error: 85707.4062\n",
      "Epoch 50/50\n",
      "342/342 [==============================] - 5s 14ms/step - loss: 2715580160.0000 - mean_squared_error: 2715580160.0000 - root_mean_squared_error: 52111.2305 - val_loss: 7383075328.0000 - val_mean_squared_error: 7383075328.0000 - val_root_mean_squared_error: 85924.8203\n"
     ]
    }
   ],
   "source": [
    "history = model.fit(non_test_ds, epochs=num_epochs, validation_data=test_ds, callbacks=[model_checkpoint_callback])"
   ]
  },
  {
   "cell_type": "markdown",
   "id": "f00f71e6",
   "metadata": {
    "papermill": {
     "duration": 0.267821,
     "end_time": "2022-10-10T13:04:56.830854",
     "exception": false,
     "start_time": "2022-10-10T13:04:56.563033",
     "status": "completed"
    },
    "tags": []
   },
   "source": [
    "### Plot of train and test root mean square errors (RMSE)"
   ]
  },
  {
   "cell_type": "code",
   "execution_count": 23,
   "id": "2eb1dbaf",
   "metadata": {
    "execution": {
     "iopub.execute_input": "2022-10-10T13:04:57.382191Z",
     "iopub.status.busy": "2022-10-10T13:04:57.380859Z",
     "iopub.status.idle": "2022-10-10T13:04:57.712821Z",
     "shell.execute_reply": "2022-10-10T13:04:57.711479Z"
    },
    "id": "zZSvuRLbOwyF",
    "papermill": {
     "duration": 0.611351,
     "end_time": "2022-10-10T13:04:57.715619",
     "exception": false,
     "start_time": "2022-10-10T13:04:57.104268",
     "status": "completed"
    },
    "tags": []
   },
   "outputs": [
    {
     "data": {
      "text/plain": [
       "<matplotlib.legend.Legend at 0x7fe13bb03550>"
      ]
     },
     "execution_count": 23,
     "metadata": {},
     "output_type": "execute_result"
    },
    {
     "data": {
      "image/png": "[encoded data removed]",
      "text/plain": [
       "<Figure size 432x288 with 1 Axes>"
      ]
     },
     "metadata": {
      "needs_background": "light"
     },
     "output_type": "display_data"
    }
   ],
   "source": [
    "plt.figure()\n",
    "plt.plot(history.history['root_mean_squared_error'])\n",
    "plt.plot(history.history['val_root_mean_squared_error'])\n",
    "plt.title('Root Mean Square Errors')\n",
    "plt.ylabel('root_mean_squared_error')\n",
    "plt.xlabel('epoch')\n",
    "plt.legend(['train', 'test'], loc='upper right')"
   ]
  },
  {
   "cell_type": "markdown",
   "id": "4a8b4817",
   "metadata": {
    "papermill": {
     "duration": 0.275868,
     "end_time": "2022-10-10T13:04:58.345499",
     "exception": false,
     "start_time": "2022-10-10T13:04:58.069631",
     "status": "completed"
    },
    "tags": []
   },
   "source": [
    "## Part E\n",
    ">Using the model from the best epoch, report the test R2 value and show the\n",
    "top 30 test samples with the largest errors. List down any trends you find in\n",
    "these samples and suggest ways to reduce these errors.\n",
    "(Tip: Add the prediction error as a column in the DataFrame and sort by it.)"
   ]
  },
  {
   "cell_type": "markdown",
   "id": "14719e63",
   "metadata": {
    "papermill": {
     "duration": 0.265904,
     "end_time": "2022-10-10T13:04:58.880880",
     "exception": false,
     "start_time": "2022-10-10T13:04:58.614976",
     "status": "completed"
    },
    "tags": []
   },
   "source": [
    "### Load weights of best model"
   ]
  },
  {
   "cell_type": "code",
   "execution_count": 24,
   "id": "5b6bfed1",
   "metadata": {
    "execution": {
     "iopub.execute_input": "2022-10-10T13:04:59.419038Z",
     "iopub.status.busy": "2022-10-10T13:04:59.418551Z",
     "iopub.status.idle": "2022-10-10T13:05:12.438366Z",
     "shell.execute_reply": "2022-10-10T13:05:12.436905Z"
    },
    "papermill": {
     "duration": 13.290697,
     "end_time": "2022-10-10T13:05:12.441081",
     "exception": false,
     "start_time": "2022-10-10T13:04:59.150384",
     "status": "completed"
    },
    "tags": []
   },
   "outputs": [
    {
     "data": {
      "text/plain": [
       "<tensorflow.python.checkpoint.checkpoint.CheckpointLoadStatus at 0x7fe13ab62990>"
      ]
     },
     "execution_count": 24,
     "metadata": {},
     "output_type": "execute_result"
    }
   ],
   "source": [
    "best_model = create_model()\n",
    "best_model.load_weights(checkpoint_filepath)"
   ]
  },
  {
   "cell_type": "markdown",
   "id": "edd6e069",
   "metadata": {
    "papermill": {
     "duration": 0.335789,
     "end_time": "2022-10-10T13:05:13.042647",
     "exception": false,
     "start_time": "2022-10-10T13:05:12.706858",
     "status": "completed"
    },
    "tags": []
   },
   "source": [
    "### Predict on the test dataset"
   ]
  },
  {
   "cell_type": "code",
   "execution_count": 25,
   "id": "05ec9986",
   "metadata": {
    "execution": {
     "iopub.execute_input": "2022-10-10T13:05:13.580625Z",
     "iopub.status.busy": "2022-10-10T13:05:13.580201Z",
     "iopub.status.idle": "2022-10-10T13:05:15.167647Z",
     "shell.execute_reply": "2022-10-10T13:05:15.166335Z"
    },
    "id": "QKKDBWF6OwyG",
    "papermill": {
     "duration": 1.863195,
     "end_time": "2022-10-10T13:05:15.170730",
     "exception": false,
     "start_time": "2022-10-10T13:05:13.307535",
     "status": "completed"
    },
    "tags": []
   },
   "outputs": [
    {
     "name": "stdout",
     "output_type": "stream",
     "text": [
      "180/180 [==============================] - 1s 7ms/step\n"
     ]
    }
   ],
   "source": [
    "predicted = model.predict(test_ds)"
   ]
  },
  {
   "cell_type": "code",
   "execution_count": 26,
   "id": "7f8337dc",
   "metadata": {
    "execution": {
     "iopub.execute_input": "2022-10-10T13:05:15.741826Z",
     "iopub.status.busy": "2022-10-10T13:05:15.741393Z",
     "iopub.status.idle": "2022-10-10T13:05:16.284663Z",
     "shell.execute_reply": "2022-10-10T13:05:16.283418Z"
    },
    "papermill": {
     "duration": 0.826902,
     "end_time": "2022-10-10T13:05:16.287660",
     "exception": false,
     "start_time": "2022-10-10T13:05:15.460758",
     "status": "completed"
    },
    "tags": []
   },
   "outputs": [],
   "source": [
    "target = np.concatenate([y for x, y in test_ds], axis=0)\n",
    "target = np.expand_dims(target, axis=1)"
   ]
  },
  {
   "cell_type": "code",
   "execution_count": 27,
   "id": "512f4ef1",
   "metadata": {
    "execution": {
     "iopub.execute_input": "2022-10-10T13:05:16.953641Z",
     "iopub.status.busy": "2022-10-10T13:05:16.953118Z",
     "iopub.status.idle": "2022-10-10T13:05:16.958846Z",
     "shell.execute_reply": "2022-10-10T13:05:16.957852Z"
    },
    "papermill": {
     "duration": 0.312118,
     "end_time": "2022-10-10T13:05:16.963608",
     "exception": false,
     "start_time": "2022-10-10T13:05:16.651490",
     "status": "completed"
    },
    "tags": []
   },
   "outputs": [
    {
     "name": "stdout",
     "output_type": "stream",
     "text": [
      "(46042, 1)\n",
      "(46042, 1)\n"
     ]
    }
   ],
   "source": [
    "print(predicted.shape)\n",
    "print(target.shape)"
   ]
  },
  {
   "cell_type": "markdown",
   "id": "c5b8bc3b",
   "metadata": {
    "papermill": {
     "duration": 0.319267,
     "end_time": "2022-10-10T13:05:17.562214",
     "exception": false,
     "start_time": "2022-10-10T13:05:17.242947",
     "status": "completed"
    },
    "tags": []
   },
   "source": [
    "### Test $R^2$ value"
   ]
  },
  {
   "cell_type": "code",
   "execution_count": 28,
   "id": "9db3f86c",
   "metadata": {
    "execution": {
     "iopub.execute_input": "2022-10-10T13:05:18.181821Z",
     "iopub.status.busy": "2022-10-10T13:05:18.181335Z",
     "iopub.status.idle": "2022-10-10T13:05:18.207657Z",
     "shell.execute_reply": "2022-10-10T13:05:18.205652Z"
    },
    "id": "-zM9Ohm3OwyG",
    "papermill": {
     "duration": 0.374851,
     "end_time": "2022-10-10T13:05:18.210754",
     "exception": false,
     "start_time": "2022-10-10T13:05:17.835903",
     "status": "completed"
    },
    "tags": []
   },
   "outputs": [
    {
     "name": "stdout",
     "output_type": "stream",
     "text": [
      "R2 value: 0.732009377707046\n"
     ]
    }
   ],
   "source": [
    "print(f'R2 value: {r2(tf.convert_to_tensor(np.double(target)), tf.convert_to_tensor(np.double(predicted)))}')"
   ]
  },
  {
   "cell_type": "markdown",
   "id": "07738936",
   "metadata": {
    "papermill": {
     "duration": 0.28263,
     "end_time": "2022-10-10T13:05:18.780177",
     "exception": false,
     "start_time": "2022-10-10T13:05:18.497547",
     "status": "completed"
    },
    "tags": []
   },
   "source": [
    "### Calculate the error for each test sample\n",
    ">$error = (y_i - \\hat{y})^2$"
   ]
  },
  {
   "cell_type": "code",
   "execution_count": 29,
   "id": "4240414f",
   "metadata": {
    "execution": {
     "iopub.execute_input": "2022-10-10T13:05:19.338193Z",
     "iopub.status.busy": "2022-10-10T13:05:19.336898Z",
     "iopub.status.idle": "2022-10-10T13:05:19.344036Z",
     "shell.execute_reply": "2022-10-10T13:05:19.342916Z"
    },
    "id": "Wt5yhmnWOwyH",
    "papermill": {
     "duration": 0.282721,
     "end_time": "2022-10-10T13:05:19.346433",
     "exception": false,
     "start_time": "2022-10-10T13:05:19.063712",
     "status": "completed"
    },
    "tags": []
   },
   "outputs": [
    {
     "name": "stdout",
     "output_type": "stream",
     "text": [
      "(46042, 1)\n"
     ]
    }
   ],
   "source": [
    "squared_error = np.square(target - predicted)\n",
    "print(squared_error.shape)"
   ]
  },
  {
   "cell_type": "markdown",
   "id": "c1245fda",
   "metadata": {
    "papermill": {
     "duration": 0.275467,
     "end_time": "2022-10-10T13:05:19.899118",
     "exception": false,
     "start_time": "2022-10-10T13:05:19.623651",
     "status": "completed"
    },
    "tags": []
   },
   "source": [
    "### Sort the errors in descending order"
   ]
  },
  {
   "cell_type": "code",
   "execution_count": 30,
   "id": "7fb60ca6",
   "metadata": {
    "execution": {
     "iopub.execute_input": "2022-10-10T13:05:20.522775Z",
     "iopub.status.busy": "2022-10-10T13:05:20.521899Z",
     "iopub.status.idle": "2022-10-10T13:05:20.551094Z",
     "shell.execute_reply": "2022-10-10T13:05:20.549395Z"
    },
    "id": "3iCj9Dp-OwyH",
    "papermill": {
     "duration": 0.309629,
     "end_time": "2022-10-10T13:05:20.554192",
     "exception": false,
     "start_time": "2022-10-10T13:05:20.244563",
     "status": "completed"
    },
    "tags": []
   },
   "outputs": [],
   "source": [
    "test_dataframe['squared_error'] = squared_error\n",
    "table = test_dataframe.sort_values('squared_error', ascending=False)"
   ]
  },
  {
   "cell_type": "markdown",
   "id": "c2a9beea",
   "metadata": {
    "papermill": {
     "duration": 0.283219,
     "end_time": "2022-10-10T13:05:21.116507",
     "exception": false,
     "start_time": "2022-10-10T13:05:20.833288",
     "status": "completed"
    },
    "tags": []
   },
   "source": [
    "### Display top 30 samples with the highest error"
   ]
  },
  {
   "cell_type": "code",
   "execution_count": 31,
   "id": "3c6dfc09",
   "metadata": {
    "execution": {
     "iopub.execute_input": "2022-10-10T13:05:21.691611Z",
     "iopub.status.busy": "2022-10-10T13:05:21.690725Z",
     "iopub.status.idle": "2022-10-10T13:05:21.729689Z",
     "shell.execute_reply": "2022-10-10T13:05:21.728159Z"
    },
    "id": "Y6qW-c51OwyH",
    "papermill": {
     "duration": 0.33055,
     "end_time": "2022-10-10T13:05:21.732775",
     "exception": false,
     "start_time": "2022-10-10T13:05:21.402225",
     "status": "completed"
    },
    "tags": []
   },
   "outputs": [
    {
     "data": {
      "text/html": [
       "<div>\n",
       "<style scoped>\n",
       "    .dataframe tbody tr th:only-of-type {\n",
       "        vertical-align: middle;\n",
       "    }\n",
       "\n",
       "    .dataframe tbody tr th {\n",
       "        vertical-align: top;\n",
       "    }\n",
       "\n",
       "    .dataframe thead th {\n",
       "        text-align: right;\n",
       "    }\n",
       "</style>\n",
       "<table border=\"1\" class=\"dataframe\">\n",
       "  <thead>\n",
       "    <tr style=\"text-align: right;\">\n",
       "      <th></th>\n",
       "      <th>month</th>\n",
       "      <th>year</th>\n",
       "      <th>full_address</th>\n",
       "      <th>nearest_stn</th>\n",
       "      <th>dist_to_nearest_stn</th>\n",
       "      <th>dist_to_dhoby</th>\n",
       "      <th>degree_centrality</th>\n",
       "      <th>eigenvector_centrality</th>\n",
       "      <th>flat_model_type</th>\n",
       "      <th>remaining_lease_years</th>\n",
       "      <th>floor_area_sqm</th>\n",
       "      <th>storey_range</th>\n",
       "      <th>resale_price</th>\n",
       "      <th>squared_error</th>\n",
       "    </tr>\n",
       "  </thead>\n",
       "  <tbody>\n",
       "    <tr>\n",
       "      <th>114504</th>\n",
       "      <td>12</td>\n",
       "      <td>2021</td>\n",
       "      <td>6 TOH YI DRIVE</td>\n",
       "      <td>Beauty World</td>\n",
       "      <td>0.428356</td>\n",
       "      <td>8.948410</td>\n",
       "      <td>0.016807</td>\n",
       "      <td>0.001358</td>\n",
       "      <td>EXECUTIVE, Maisonette</td>\n",
       "      <td>66.666667</td>\n",
       "      <td>154.0</td>\n",
       "      <td>04 TO 06</td>\n",
       "      <td>1238000.0</td>\n",
       "      <td>2.289526e+11</td>\n",
       "    </tr>\n",
       "    <tr>\n",
       "      <th>117054</th>\n",
       "      <td>4</td>\n",
       "      <td>2022</td>\n",
       "      <td>260A ANG MO KIO STREET 21</td>\n",
       "      <td>Ang Mo Kio</td>\n",
       "      <td>1.722450</td>\n",
       "      <td>7.861222</td>\n",
       "      <td>0.016807</td>\n",
       "      <td>0.006243</td>\n",
       "      <td>5 ROOM, Improved</td>\n",
       "      <td>95.166667</td>\n",
       "      <td>113.0</td>\n",
       "      <td>28 TO 30</td>\n",
       "      <td>1150000.0</td>\n",
       "      <td>2.062453e+11</td>\n",
       "    </tr>\n",
       "    <tr>\n",
       "      <th>111790</th>\n",
       "      <td>11</td>\n",
       "      <td>2021</td>\n",
       "      <td>46 SENG POH ROAD</td>\n",
       "      <td>Tiong Bahru</td>\n",
       "      <td>0.581977</td>\n",
       "      <td>2.309477</td>\n",
       "      <td>0.016807</td>\n",
       "      <td>0.047782</td>\n",
       "      <td>3 ROOM, Standard</td>\n",
       "      <td>50.166667</td>\n",
       "      <td>88.0</td>\n",
       "      <td>01 TO 03</td>\n",
       "      <td>780000.0</td>\n",
       "      <td>2.059186e+11</td>\n",
       "    </tr>\n",
       "    <tr>\n",
       "      <th>120164</th>\n",
       "      <td>1</td>\n",
       "      <td>2022</td>\n",
       "      <td>2 TOH YI DRIVE</td>\n",
       "      <td>Beauty World</td>\n",
       "      <td>0.271583</td>\n",
       "      <td>9.003026</td>\n",
       "      <td>0.016807</td>\n",
       "      <td>0.001358</td>\n",
       "      <td>EXECUTIVE, Maisonette</td>\n",
       "      <td>65.666667</td>\n",
       "      <td>146.0</td>\n",
       "      <td>07 TO 09</td>\n",
       "      <td>1202000.0</td>\n",
       "      <td>2.022861e+11</td>\n",
       "    </tr>\n",
       "    <tr>\n",
       "      <th>117058</th>\n",
       "      <td>6</td>\n",
       "      <td>2022</td>\n",
       "      <td>260A ANG MO KIO STREET 21</td>\n",
       "      <td>Ang Mo Kio</td>\n",
       "      <td>1.722450</td>\n",
       "      <td>7.861222</td>\n",
       "      <td>0.016807</td>\n",
       "      <td>0.006243</td>\n",
       "      <td>5 ROOM, Improved</td>\n",
       "      <td>95.083333</td>\n",
       "      <td>113.0</td>\n",
       "      <td>19 TO 21</td>\n",
       "      <td>1100000.0</td>\n",
       "      <td>1.882733e+11</td>\n",
       "    </tr>\n",
       "    <tr>\n",
       "      <th>117052</th>\n",
       "      <td>2</td>\n",
       "      <td>2022</td>\n",
       "      <td>260A ANG MO KIO STREET 21</td>\n",
       "      <td>Ang Mo Kio</td>\n",
       "      <td>1.722450</td>\n",
       "      <td>7.861222</td>\n",
       "      <td>0.016807</td>\n",
       "      <td>0.006243</td>\n",
       "      <td>5 ROOM, Improved</td>\n",
       "      <td>95.333333</td>\n",
       "      <td>113.0</td>\n",
       "      <td>16 TO 18</td>\n",
       "      <td>1050000.0</td>\n",
       "      <td>1.860109e+11</td>\n",
       "    </tr>\n",
       "    <tr>\n",
       "      <th>114505</th>\n",
       "      <td>12</td>\n",
       "      <td>2021</td>\n",
       "      <td>7 TOH YI DRIVE</td>\n",
       "      <td>Beauty World</td>\n",
       "      <td>0.473544</td>\n",
       "      <td>8.936025</td>\n",
       "      <td>0.016807</td>\n",
       "      <td>0.001358</td>\n",
       "      <td>EXECUTIVE, Apartment</td>\n",
       "      <td>66.750000</td>\n",
       "      <td>142.0</td>\n",
       "      <td>04 TO 06</td>\n",
       "      <td>1125000.0</td>\n",
       "      <td>1.846294e+11</td>\n",
       "    </tr>\n",
       "    <tr>\n",
       "      <th>125467</th>\n",
       "      <td>5</td>\n",
       "      <td>2022</td>\n",
       "      <td>156 PASIR RIS STREET 13</td>\n",
       "      <td>Tampines East</td>\n",
       "      <td>1.192284</td>\n",
       "      <td>14.877669</td>\n",
       "      <td>0.016807</td>\n",
       "      <td>0.000127</td>\n",
       "      <td>EXECUTIVE, Maisonette</td>\n",
       "      <td>71.750000</td>\n",
       "      <td>189.0</td>\n",
       "      <td>07 TO 09</td>\n",
       "      <td>1138888.0</td>\n",
       "      <td>1.836889e+11</td>\n",
       "    </tr>\n",
       "    <tr>\n",
       "      <th>117057</th>\n",
       "      <td>5</td>\n",
       "      <td>2022</td>\n",
       "      <td>260A ANG MO KIO STREET 21</td>\n",
       "      <td>Ang Mo Kio</td>\n",
       "      <td>1.722450</td>\n",
       "      <td>7.861222</td>\n",
       "      <td>0.016807</td>\n",
       "      <td>0.006243</td>\n",
       "      <td>5 ROOM, Improved</td>\n",
       "      <td>95.083333</td>\n",
       "      <td>113.0</td>\n",
       "      <td>13 TO 15</td>\n",
       "      <td>1028000.0</td>\n",
       "      <td>1.834737e+11</td>\n",
       "    </tr>\n",
       "    <tr>\n",
       "      <th>117060</th>\n",
       "      <td>7</td>\n",
       "      <td>2022</td>\n",
       "      <td>260B ANG MO KIO STREET 21</td>\n",
       "      <td>Ang Mo Kio</td>\n",
       "      <td>1.745057</td>\n",
       "      <td>7.818413</td>\n",
       "      <td>0.016807</td>\n",
       "      <td>0.006243</td>\n",
       "      <td>5 ROOM, Improved</td>\n",
       "      <td>95.000000</td>\n",
       "      <td>113.0</td>\n",
       "      <td>13 TO 15</td>\n",
       "      <td>1025000.0</td>\n",
       "      <td>1.818333e+11</td>\n",
       "    </tr>\n",
       "    <tr>\n",
       "      <th>117107</th>\n",
       "      <td>7</td>\n",
       "      <td>2022</td>\n",
       "      <td>104A ANG MO KIO STREET 11</td>\n",
       "      <td>Ang Mo Kio</td>\n",
       "      <td>1.216557</td>\n",
       "      <td>8.071776</td>\n",
       "      <td>0.016807</td>\n",
       "      <td>0.006243</td>\n",
       "      <td>EXECUTIVE, Apartment</td>\n",
       "      <td>72.833333</td>\n",
       "      <td>146.0</td>\n",
       "      <td>04 TO 06</td>\n",
       "      <td>1120000.0</td>\n",
       "      <td>1.805109e+11</td>\n",
       "    </tr>\n",
       "    <tr>\n",
       "      <th>125000</th>\n",
       "      <td>7</td>\n",
       "      <td>2022</td>\n",
       "      <td>28 MARINE CRESCENT</td>\n",
       "      <td>Kembangan</td>\n",
       "      <td>1.941828</td>\n",
       "      <td>7.532504</td>\n",
       "      <td>0.016807</td>\n",
       "      <td>0.002799</td>\n",
       "      <td>5 ROOM, Standard</td>\n",
       "      <td>51.750000</td>\n",
       "      <td>126.0</td>\n",
       "      <td>22 TO 24</td>\n",
       "      <td>1010888.0</td>\n",
       "      <td>1.804466e+11</td>\n",
       "    </tr>\n",
       "    <tr>\n",
       "      <th>125006</th>\n",
       "      <td>1</td>\n",
       "      <td>2022</td>\n",
       "      <td>72 MARINE DRIVE</td>\n",
       "      <td>Eunos</td>\n",
       "      <td>1.821677</td>\n",
       "      <td>6.985963</td>\n",
       "      <td>0.016807</td>\n",
       "      <td>0.007049</td>\n",
       "      <td>5 ROOM, Standard</td>\n",
       "      <td>54.083333</td>\n",
       "      <td>120.0</td>\n",
       "      <td>13 TO 15</td>\n",
       "      <td>950000.0</td>\n",
       "      <td>1.791587e+11</td>\n",
       "    </tr>\n",
       "    <tr>\n",
       "      <th>117061</th>\n",
       "      <td>7</td>\n",
       "      <td>2022</td>\n",
       "      <td>260A ANG MO KIO STREET 21</td>\n",
       "      <td>Ang Mo Kio</td>\n",
       "      <td>1.722450</td>\n",
       "      <td>7.861222</td>\n",
       "      <td>0.016807</td>\n",
       "      <td>0.006243</td>\n",
       "      <td>5 ROOM, Improved</td>\n",
       "      <td>95.000000</td>\n",
       "      <td>113.0</td>\n",
       "      <td>25 TO 27</td>\n",
       "      <td>1100000.0</td>\n",
       "      <td>1.774463e+11</td>\n",
       "    </tr>\n",
       "    <tr>\n",
       "      <th>125015</th>\n",
       "      <td>1</td>\n",
       "      <td>2022</td>\n",
       "      <td>3 MARINE TERRACE</td>\n",
       "      <td>Kembangan</td>\n",
       "      <td>1.928160</td>\n",
       "      <td>8.024195</td>\n",
       "      <td>0.016807</td>\n",
       "      <td>0.002799</td>\n",
       "      <td>5 ROOM, Standard</td>\n",
       "      <td>52.083333</td>\n",
       "      <td>122.0</td>\n",
       "      <td>16 TO 18</td>\n",
       "      <td>938000.0</td>\n",
       "      <td>1.768538e+11</td>\n",
       "    </tr>\n",
       "    <tr>\n",
       "      <th>125026</th>\n",
       "      <td>8</td>\n",
       "      <td>2022</td>\n",
       "      <td>14 MARINE TERRACE</td>\n",
       "      <td>Kembangan</td>\n",
       "      <td>1.949971</td>\n",
       "      <td>7.761923</td>\n",
       "      <td>0.016807</td>\n",
       "      <td>0.002799</td>\n",
       "      <td>5 ROOM, Standard</td>\n",
       "      <td>51.500000</td>\n",
       "      <td>120.0</td>\n",
       "      <td>13 TO 15</td>\n",
       "      <td>938000.0</td>\n",
       "      <td>1.755669e+11</td>\n",
       "    </tr>\n",
       "    <tr>\n",
       "      <th>120166</th>\n",
       "      <td>3</td>\n",
       "      <td>2022</td>\n",
       "      <td>2 TOH YI DRIVE</td>\n",
       "      <td>Beauty World</td>\n",
       "      <td>0.271583</td>\n",
       "      <td>9.003026</td>\n",
       "      <td>0.016807</td>\n",
       "      <td>0.001358</td>\n",
       "      <td>EXECUTIVE, Maisonette</td>\n",
       "      <td>65.500000</td>\n",
       "      <td>146.0</td>\n",
       "      <td>13 TO 15</td>\n",
       "      <td>1198000.0</td>\n",
       "      <td>1.745280e+11</td>\n",
       "    </tr>\n",
       "    <tr>\n",
       "      <th>125011</th>\n",
       "      <td>5</td>\n",
       "      <td>2022</td>\n",
       "      <td>79 MARINE DRIVE</td>\n",
       "      <td>Eunos</td>\n",
       "      <td>2.093848</td>\n",
       "      <td>6.906438</td>\n",
       "      <td>0.016807</td>\n",
       "      <td>0.007049</td>\n",
       "      <td>5 ROOM, Standard</td>\n",
       "      <td>53.750000</td>\n",
       "      <td>120.0</td>\n",
       "      <td>16 TO 18</td>\n",
       "      <td>950000.0</td>\n",
       "      <td>1.693766e+11</td>\n",
       "    </tr>\n",
       "    <tr>\n",
       "      <th>119399</th>\n",
       "      <td>5</td>\n",
       "      <td>2022</td>\n",
       "      <td>96A HENDERSON ROAD</td>\n",
       "      <td>Tiong Bahru</td>\n",
       "      <td>0.586629</td>\n",
       "      <td>2.932814</td>\n",
       "      <td>0.016807</td>\n",
       "      <td>0.047782</td>\n",
       "      <td>5 ROOM, Improved</td>\n",
       "      <td>96.083333</td>\n",
       "      <td>113.0</td>\n",
       "      <td>40 TO 42</td>\n",
       "      <td>1400000.0</td>\n",
       "      <td>1.629542e+11</td>\n",
       "    </tr>\n",
       "    <tr>\n",
       "      <th>120165</th>\n",
       "      <td>2</td>\n",
       "      <td>2022</td>\n",
       "      <td>6 TOH YI DRIVE</td>\n",
       "      <td>Beauty World</td>\n",
       "      <td>0.428356</td>\n",
       "      <td>8.948410</td>\n",
       "      <td>0.016807</td>\n",
       "      <td>0.001358</td>\n",
       "      <td>EXECUTIVE, Maisonette</td>\n",
       "      <td>66.500000</td>\n",
       "      <td>150.0</td>\n",
       "      <td>01 TO 03</td>\n",
       "      <td>1120000.0</td>\n",
       "      <td>1.619983e+11</td>\n",
       "    </tr>\n",
       "    <tr>\n",
       "      <th>117056</th>\n",
       "      <td>5</td>\n",
       "      <td>2022</td>\n",
       "      <td>260B ANG MO KIO STREET 21</td>\n",
       "      <td>Ang Mo Kio</td>\n",
       "      <td>1.745057</td>\n",
       "      <td>7.818413</td>\n",
       "      <td>0.016807</td>\n",
       "      <td>0.006243</td>\n",
       "      <td>5 ROOM, Improved</td>\n",
       "      <td>95.166667</td>\n",
       "      <td>113.0</td>\n",
       "      <td>16 TO 18</td>\n",
       "      <td>1020000.0</td>\n",
       "      <td>1.619632e+11</td>\n",
       "    </tr>\n",
       "    <tr>\n",
       "      <th>110155</th>\n",
       "      <td>10</td>\n",
       "      <td>2021</td>\n",
       "      <td>1 MARINE TERRACE</td>\n",
       "      <td>Kembangan</td>\n",
       "      <td>1.878596</td>\n",
       "      <td>8.127893</td>\n",
       "      <td>0.016807</td>\n",
       "      <td>0.002799</td>\n",
       "      <td>5 ROOM, Standard</td>\n",
       "      <td>52.333333</td>\n",
       "      <td>122.0</td>\n",
       "      <td>22 TO 24</td>\n",
       "      <td>960000.0</td>\n",
       "      <td>1.560262e+11</td>\n",
       "    </tr>\n",
       "    <tr>\n",
       "      <th>90353</th>\n",
       "      <td>2</td>\n",
       "      <td>2021</td>\n",
       "      <td>2 TOH YI DRIVE</td>\n",
       "      <td>Beauty World</td>\n",
       "      <td>0.271583</td>\n",
       "      <td>9.003026</td>\n",
       "      <td>0.016807</td>\n",
       "      <td>0.001358</td>\n",
       "      <td>EXECUTIVE, Maisonette</td>\n",
       "      <td>66.500000</td>\n",
       "      <td>154.0</td>\n",
       "      <td>13 TO 15</td>\n",
       "      <td>1210000.0</td>\n",
       "      <td>1.559930e+11</td>\n",
       "    </tr>\n",
       "    <tr>\n",
       "      <th>119000</th>\n",
       "      <td>4</td>\n",
       "      <td>2022</td>\n",
       "      <td>41 KIM CHENG STREET</td>\n",
       "      <td>Tiong Bahru</td>\n",
       "      <td>0.555490</td>\n",
       "      <td>2.250149</td>\n",
       "      <td>0.016807</td>\n",
       "      <td>0.047782</td>\n",
       "      <td>3 ROOM, Standard</td>\n",
       "      <td>49.750000</td>\n",
       "      <td>88.0</td>\n",
       "      <td>04 TO 06</td>\n",
       "      <td>725000.0</td>\n",
       "      <td>1.546615e+11</td>\n",
       "    </tr>\n",
       "    <tr>\n",
       "      <th>119400</th>\n",
       "      <td>5</td>\n",
       "      <td>2022</td>\n",
       "      <td>96A HENDERSON ROAD</td>\n",
       "      <td>Tiong Bahru</td>\n",
       "      <td>0.586629</td>\n",
       "      <td>2.932814</td>\n",
       "      <td>0.016807</td>\n",
       "      <td>0.047782</td>\n",
       "      <td>5 ROOM, Improved</td>\n",
       "      <td>96.083333</td>\n",
       "      <td>113.0</td>\n",
       "      <td>46 TO 48</td>\n",
       "      <td>1380000.0</td>\n",
       "      <td>1.546060e+11</td>\n",
       "    </tr>\n",
       "    <tr>\n",
       "      <th>115160</th>\n",
       "      <td>12</td>\n",
       "      <td>2021</td>\n",
       "      <td>29 MARINE CRESCENT</td>\n",
       "      <td>Kembangan</td>\n",
       "      <td>2.006884</td>\n",
       "      <td>7.511825</td>\n",
       "      <td>0.016807</td>\n",
       "      <td>0.002799</td>\n",
       "      <td>5 ROOM, Standard</td>\n",
       "      <td>52.333333</td>\n",
       "      <td>120.0</td>\n",
       "      <td>16 TO 18</td>\n",
       "      <td>925000.0</td>\n",
       "      <td>1.527625e+11</td>\n",
       "    </tr>\n",
       "    <tr>\n",
       "      <th>118998</th>\n",
       "      <td>2</td>\n",
       "      <td>2022</td>\n",
       "      <td>42 KIM CHENG STREET</td>\n",
       "      <td>Tiong Bahru</td>\n",
       "      <td>0.567414</td>\n",
       "      <td>2.269756</td>\n",
       "      <td>0.016807</td>\n",
       "      <td>0.047782</td>\n",
       "      <td>3 ROOM, Standard</td>\n",
       "      <td>49.916667</td>\n",
       "      <td>88.0</td>\n",
       "      <td>01 TO 03</td>\n",
       "      <td>705000.0</td>\n",
       "      <td>1.515891e+11</td>\n",
       "    </tr>\n",
       "    <tr>\n",
       "      <th>120273</th>\n",
       "      <td>6</td>\n",
       "      <td>2022</td>\n",
       "      <td>8 TANJONG PAGAR PLAZA</td>\n",
       "      <td>Tanjong Pagar</td>\n",
       "      <td>0.440015</td>\n",
       "      <td>2.442299</td>\n",
       "      <td>0.016807</td>\n",
       "      <td>0.103876</td>\n",
       "      <td>4 ROOM, Improved</td>\n",
       "      <td>57.000000</td>\n",
       "      <td>83.0</td>\n",
       "      <td>16 TO 18</td>\n",
       "      <td>870088.0</td>\n",
       "      <td>1.509256e+11</td>\n",
       "    </tr>\n",
       "    <tr>\n",
       "      <th>105012</th>\n",
       "      <td>8</td>\n",
       "      <td>2021</td>\n",
       "      <td>2 MARINE TERRACE</td>\n",
       "      <td>Kembangan</td>\n",
       "      <td>1.902433</td>\n",
       "      <td>8.075966</td>\n",
       "      <td>0.016807</td>\n",
       "      <td>0.002799</td>\n",
       "      <td>5 ROOM, Standard</td>\n",
       "      <td>52.416667</td>\n",
       "      <td>120.0</td>\n",
       "      <td>19 TO 21</td>\n",
       "      <td>950000.0</td>\n",
       "      <td>1.504488e+11</td>\n",
       "    </tr>\n",
       "    <tr>\n",
       "      <th>119102</th>\n",
       "      <td>6</td>\n",
       "      <td>2022</td>\n",
       "      <td>24 TIONG BAHRU ROAD</td>\n",
       "      <td>Tiong Bahru</td>\n",
       "      <td>0.488873</td>\n",
       "      <td>2.196224</td>\n",
       "      <td>0.016807</td>\n",
       "      <td>0.047782</td>\n",
       "      <td>3 ROOM, Standard</td>\n",
       "      <td>49.666667</td>\n",
       "      <td>88.0</td>\n",
       "      <td>04 TO 06</td>\n",
       "      <td>720000.0</td>\n",
       "      <td>1.503638e+11</td>\n",
       "    </tr>\n",
       "  </tbody>\n",
       "</table>\n",
       "</div>"
      ],
      "text/plain": [
       "        month  year               full_address    nearest_stn  \\\n",
       "114504     12  2021             6 TOH YI DRIVE   Beauty World   \n",
       "117054      4  2022  260A ANG MO KIO STREET 21     Ang Mo Kio   \n",
       "111790     11  2021           46 SENG POH ROAD    Tiong Bahru   \n",
       "120164      1  2022             2 TOH YI DRIVE   Beauty World   \n",
       "117058      6  2022  260A ANG MO KIO STREET 21     Ang Mo Kio   \n",
       "117052      2  2022  260A ANG MO KIO STREET 21     Ang Mo Kio   \n",
       "114505     12  2021             7 TOH YI DRIVE   Beauty World   \n",
       "125467      5  2022    156 PASIR RIS STREET 13  Tampines East   \n",
       "117057      5  2022  260A ANG MO KIO STREET 21     Ang Mo Kio   \n",
       "117060      7  2022  260B ANG MO KIO STREET 21     Ang Mo Kio   \n",
       "117107      7  2022  104A ANG MO KIO STREET 11     Ang Mo Kio   \n",
       "125000      7  2022         28 MARINE CRESCENT      Kembangan   \n",
       "125006      1  2022            72 MARINE DRIVE          Eunos   \n",
       "117061      7  2022  260A ANG MO KIO STREET 21     Ang Mo Kio   \n",
       "125015      1  2022           3 MARINE TERRACE      Kembangan   \n",
       "125026      8  2022          14 MARINE TERRACE      Kembangan   \n",
       "120166      3  2022             2 TOH YI DRIVE   Beauty World   \n",
       "125011      5  2022            79 MARINE DRIVE          Eunos   \n",
       "119399      5  2022         96A HENDERSON ROAD    Tiong Bahru   \n",
       "120165      2  2022             6 TOH YI DRIVE   Beauty World   \n",
       "117056      5  2022  260B ANG MO KIO STREET 21     Ang Mo Kio   \n",
       "110155     10  2021           1 MARINE TERRACE      Kembangan   \n",
       "90353       2  2021             2 TOH YI DRIVE   Beauty World   \n",
       "119000      4  2022        41 KIM CHENG STREET    Tiong Bahru   \n",
       "119400      5  2022         96A HENDERSON ROAD    Tiong Bahru   \n",
       "115160     12  2021         29 MARINE CRESCENT      Kembangan   \n",
       "118998      2  2022        42 KIM CHENG STREET    Tiong Bahru   \n",
       "120273      6  2022      8 TANJONG PAGAR PLAZA  Tanjong Pagar   \n",
       "105012      8  2021           2 MARINE TERRACE      Kembangan   \n",
       "119102      6  2022        24 TIONG BAHRU ROAD    Tiong Bahru   \n",
       "\n",
       "        dist_to_nearest_stn  dist_to_dhoby  degree_centrality  \\\n",
       "114504             0.428356       8.948410           0.016807   \n",
       "117054             1.722450       7.861222           0.016807   \n",
       "111790             0.581977       2.309477           0.016807   \n",
       "120164             0.271583       9.003026           0.016807   \n",
       "117058             1.722450       7.861222           0.016807   \n",
       "117052             1.722450       7.861222           0.016807   \n",
       "114505             0.473544       8.936025           0.016807   \n",
       "125467             1.192284      14.877669           0.016807   \n",
       "117057             1.722450       7.861222           0.016807   \n",
       "117060             1.745057       7.818413           0.016807   \n",
       "117107             1.216557       8.071776           0.016807   \n",
       "125000             1.941828       7.532504           0.016807   \n",
       "125006             1.821677       6.985963           0.016807   \n",
       "117061             1.722450       7.861222           0.016807   \n",
       "125015             1.928160       8.024195           0.016807   \n",
       "125026             1.949971       7.761923           0.016807   \n",
       "120166             0.271583       9.003026           0.016807   \n",
       "125011             2.093848       6.906438           0.016807   \n",
       "119399             0.586629       2.932814           0.016807   \n",
       "120165             0.428356       8.948410           0.016807   \n",
       "117056             1.745057       7.818413           0.016807   \n",
       "110155             1.878596       8.127893           0.016807   \n",
       "90353              0.271583       9.003026           0.016807   \n",
       "119000             0.555490       2.250149           0.016807   \n",
       "119400             0.586629       2.932814           0.016807   \n",
       "115160             2.006884       7.511825           0.016807   \n",
       "118998             0.567414       2.269756           0.016807   \n",
       "120273             0.440015       2.442299           0.016807   \n",
       "105012             1.902433       8.075966           0.016807   \n",
       "119102             0.488873       2.196224           0.016807   \n",
       "\n",
       "        eigenvector_centrality        flat_model_type  remaining_lease_years  \\\n",
       "114504                0.001358  EXECUTIVE, Maisonette              66.666667   \n",
       "117054                0.006243       5 ROOM, Improved              95.166667   \n",
       "111790                0.047782       3 ROOM, Standard              50.166667   \n",
       "120164                0.001358  EXECUTIVE, Maisonette              65.666667   \n",
       "117058                0.006243       5 ROOM, Improved              95.083333   \n",
       "117052                0.006243       5 ROOM, Improved              95.333333   \n",
       "114505                0.001358   EXECUTIVE, Apartment              66.750000   \n",
       "125467                0.000127  EXECUTIVE, Maisonette              71.750000   \n",
       "117057                0.006243       5 ROOM, Improved              95.083333   \n",
       "117060                0.006243       5 ROOM, Improved              95.000000   \n",
       "117107                0.006243   EXECUTIVE, Apartment              72.833333   \n",
       "125000                0.002799       5 ROOM, Standard              51.750000   \n",
       "125006                0.007049       5 ROOM, Standard              54.083333   \n",
       "117061                0.006243       5 ROOM, Improved              95.000000   \n",
       "125015                0.002799       5 ROOM, Standard              52.083333   \n",
       "125026                0.002799       5 ROOM, Standard              51.500000   \n",
       "120166                0.001358  EXECUTIVE, Maisonette              65.500000   \n",
       "125011                0.007049       5 ROOM, Standard              53.750000   \n",
       "119399                0.047782       5 ROOM, Improved              96.083333   \n",
       "120165                0.001358  EXECUTIVE, Maisonette              66.500000   \n",
       "117056                0.006243       5 ROOM, Improved              95.166667   \n",
       "110155                0.002799       5 ROOM, Standard              52.333333   \n",
       "90353                 0.001358  EXECUTIVE, Maisonette              66.500000   \n",
       "119000                0.047782       3 ROOM, Standard              49.750000   \n",
       "119400                0.047782       5 ROOM, Improved              96.083333   \n",
       "115160                0.002799       5 ROOM, Standard              52.333333   \n",
       "118998                0.047782       3 ROOM, Standard              49.916667   \n",
       "120273                0.103876       4 ROOM, Improved              57.000000   \n",
       "105012                0.002799       5 ROOM, Standard              52.416667   \n",
       "119102                0.047782       3 ROOM, Standard              49.666667   \n",
       "\n",
       "        floor_area_sqm storey_range  resale_price  squared_error  \n",
       "114504           154.0     04 TO 06     1238000.0   2.289526e+11  \n",
       "117054           113.0     28 TO 30     1150000.0   2.062453e+11  \n",
       "111790            88.0     01 TO 03      780000.0   2.059186e+11  \n",
       "120164           146.0     07 TO 09     1202000.0   2.022861e+11  \n",
       "117058           113.0     19 TO 21     1100000.0   1.882733e+11  \n",
       "117052           113.0     16 TO 18     1050000.0   1.860109e+11  \n",
       "114505           142.0     04 TO 06     1125000.0   1.846294e+11  \n",
       "125467           189.0     07 TO 09     1138888.0   1.836889e+11  \n",
       "117057           113.0     13 TO 15     1028000.0   1.834737e+11  \n",
       "117060           113.0     13 TO 15     1025000.0   1.818333e+11  \n",
       "117107           146.0     04 TO 06     1120000.0   1.805109e+11  \n",
       "125000           126.0     22 TO 24     1010888.0   1.804466e+11  \n",
       "125006           120.0     13 TO 15      950000.0   1.791587e+11  \n",
       "117061           113.0     25 TO 27     1100000.0   1.774463e+11  \n",
       "125015           122.0     16 TO 18      938000.0   1.768538e+11  \n",
       "125026           120.0     13 TO 15      938000.0   1.755669e+11  \n",
       "120166           146.0     13 TO 15     1198000.0   1.745280e+11  \n",
       "125011           120.0     16 TO 18      950000.0   1.693766e+11  \n",
       "119399           113.0     40 TO 42     1400000.0   1.629542e+11  \n",
       "120165           150.0     01 TO 03     1120000.0   1.619983e+11  \n",
       "117056           113.0     16 TO 18     1020000.0   1.619632e+11  \n",
       "110155           122.0     22 TO 24      960000.0   1.560262e+11  \n",
       "90353            154.0     13 TO 15     1210000.0   1.559930e+11  \n",
       "119000            88.0     04 TO 06      725000.0   1.546615e+11  \n",
       "119400           113.0     46 TO 48     1380000.0   1.546060e+11  \n",
       "115160           120.0     16 TO 18      925000.0   1.527625e+11  \n",
       "118998            88.0     01 TO 03      705000.0   1.515891e+11  \n",
       "120273            83.0     16 TO 18      870088.0   1.509256e+11  \n",
       "105012           120.0     19 TO 21      950000.0   1.504488e+11  \n",
       "119102            88.0     04 TO 06      720000.0   1.503638e+11  "
      ]
     },
     "execution_count": 31,
     "metadata": {},
     "output_type": "execute_result"
    }
   ],
   "source": [
    "table.head(30)"
   ]
  },
  {
   "cell_type": "markdown",
   "id": "aaf04c02",
   "metadata": {},
   "source": [
    "### Trends in the top 30 samples\n",
    "* Majority of the datapoints have *nearest_stn* as \"Ang Mo Kio\".\n",
    "* Most of the datapoints have *dist_to_dhoby* $\\epsilon$ (7, 9) range.\n",
    "* Almost all of the datapoints are 5 bedroom houses EXECUTIVE Maisonettes which seem to be very expensive.\n",
    "* The resale price of all these datapoints is very high.  "
   ]
  },
  {
   "cell_type": "markdown",
   "id": "5758a716",
   "metadata": {},
   "source": [
    "### Preventing Errors\n",
    "* Gather more data with these trends to help the model learn better from this distribution\n",
    "* Train a separate model on the datapoints exhibiting these trends and see if this specialized model performs better\n",
    "* Create an outlier detection algorithm (eg: *Isolation Forest*) that predicts the outlier score of a datapoint. Add this as a separate column in the dataset to allow the model to know that this is an outlier."
   ]
  },
  {
   "cell_type": "markdown",
   "id": "9a1175ce",
   "metadata": {},
   "source": []
  }
 ],
 "metadata": {
  "kernelspec": {
   "display_name": "Python 3",
   "language": "python",
   "name": "python3"
  },
  "language_info": {
   "codemirror_mode": {
    "name": "ipython",
    "version": 3
   },
   "file_extension": ".py",
   "mimetype": "text/x-python",
   "name": "python",
   "nbconvert_exporter": "python",
   "pygments_lexer": "ipython3",
   "version": "3.7.12"
  },
  "papermill": {
   "default_parameters": {},
   "duration": 2241.634003,
   "end_time": "2022-10-10T13:05:25.281305",
   "environment_variables": {},
   "exception": null,
   "input_path": "__notebook__.ipynb",
   "output_path": "__notebook__.ipynb",
   "parameters": {},
   "start_time": "2022-10-10T12:28:03.647302",
   "version": "2.3.4"
  }
 },
 "nbformat": 4,
 "nbformat_minor": 5
}
