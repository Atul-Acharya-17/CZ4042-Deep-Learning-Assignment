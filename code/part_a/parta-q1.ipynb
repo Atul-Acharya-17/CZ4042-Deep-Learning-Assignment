{
 "cells": [
  {
   "cell_type": "markdown",
   "id": "3e4a9d97",
   "metadata": {
    "papermill": {
     "duration": 0.007497,
     "end_time": "2022-10-08T14:19:59.594980",
     "exception": false,
     "start_time": "2022-10-08T14:19:59.587483",
     "status": "completed"
    },
    "tags": []
   },
   "source": [
    "# Part A: Classification Problem\n",
    "\n",
    "* **Name** Acharya Atul\n",
    "* **Matriculation Number** U1923502C\n",
    "* **Email** atul001@e.ntu.edu.sg\n",
    "\n",
    "# Question 1"
   ]
  },
  {
   "cell_type": "markdown",
   "id": "834cda0c",
   "metadata": {
    "papermill": {
     "duration": 0.006049,
     "end_time": "2022-10-08T14:19:59.607714",
     "exception": false,
     "start_time": "2022-10-08T14:19:59.601665",
     "status": "completed"
    },
    "tags": []
   },
   "source": [
    "### Install the latest version of tensorflow"
   ]
  },
  {
   "cell_type": "code",
   "execution_count": 1,
   "id": "e73432fc",
   "metadata": {
    "execution": {
     "iopub.execute_input": "2022-10-08T14:19:59.622058Z",
     "iopub.status.busy": "2022-10-08T14:19:59.621627Z",
     "iopub.status.idle": "2022-10-08T14:21:42.802108Z",
     "shell.execute_reply": "2022-10-08T14:21:42.800543Z"
    },
    "papermill": {
     "duration": 103.19108,
     "end_time": "2022-10-08T14:21:42.805065",
     "exception": false,
     "start_time": "2022-10-08T14:19:59.613985",
     "status": "completed"
    },
    "tags": []
   },
   "outputs": [
    {
     "name": "stdout",
     "output_type": "stream",
     "text": [
      "Requirement already satisfied: tensorflow in /opt/conda/lib/python3.7/site-packages (2.6.4)\r\n",
      "Collecting tensorflow\r\n",
      "  Downloading tensorflow-2.10.0-cp37-cp37m-manylinux_2_17_x86_64.manylinux2014_x86_64.whl (578.0 MB)\r\n",
      "\u001b[2K     \u001b[90m━━━━━━━━━━━━━━━━━━━━━━━━━━━━━━━━━━━━━━━\u001b[0m \u001b[32m578.0/578.0 MB\u001b[0m \u001b[31m1.8 MB/s\u001b[0m eta \u001b[36m0:00:00\u001b[0m\r\n",
      "\u001b[?25hRequirement already satisfied: numpy>=1.20 in /opt/conda/lib/python3.7/site-packages (from tensorflow) (1.21.6)\r\n",
      "Requirement already satisfied: opt-einsum>=2.3.2 in /opt/conda/lib/python3.7/site-packages (from tensorflow) (3.3.0)\r\n",
      "Requirement already satisfied: protobuf<3.20,>=3.9.2 in /opt/conda/lib/python3.7/site-packages (from tensorflow) (3.19.4)\r\n",
      "Collecting absl-py>=1.0.0\r\n",
      "  Downloading absl_py-1.2.0-py3-none-any.whl (123 kB)\r\n",
      "\u001b[2K     \u001b[90m━━━━━━━━━━━━━━━━━━━━━━━━━━━━━━━━━━━━━━\u001b[0m \u001b[32m123.4/123.4 kB\u001b[0m \u001b[31m10.7 MB/s\u001b[0m eta \u001b[36m0:00:00\u001b[0m\r\n",
      "\u001b[?25hRequirement already satisfied: h5py>=2.9.0 in /opt/conda/lib/python3.7/site-packages (from tensorflow) (3.7.0)\r\n",
      "Requirement already satisfied: gast<=0.4.0,>=0.2.1 in /opt/conda/lib/python3.7/site-packages (from tensorflow) (0.4.0)\r\n",
      "Requirement already satisfied: wrapt>=1.11.0 in /opt/conda/lib/python3.7/site-packages (from tensorflow) (1.12.1)\r\n",
      "Requirement already satisfied: google-pasta>=0.1.1 in /opt/conda/lib/python3.7/site-packages (from tensorflow) (0.2.0)\r\n",
      "Collecting flatbuffers>=2.0\r\n",
      "  Downloading flatbuffers-22.9.24-py2.py3-none-any.whl (26 kB)\r\n",
      "Requirement already satisfied: termcolor>=1.1.0 in /opt/conda/lib/python3.7/site-packages (from tensorflow) (1.1.0)\r\n",
      "Collecting tensorflow-estimator<2.11,>=2.10.0\r\n",
      "  Downloading tensorflow_estimator-2.10.0-py2.py3-none-any.whl (438 kB)\r\n",
      "\u001b[2K     \u001b[90m━━━━━━━━━━━━━━━━━━━━━━━━━━━━━━━━━━━━━━\u001b[0m \u001b[32m438.7/438.7 kB\u001b[0m \u001b[31m34.9 MB/s\u001b[0m eta \u001b[36m0:00:00\u001b[0m\r\n",
      "\u001b[?25hCollecting tensorflow-io-gcs-filesystem>=0.23.1\r\n",
      "  Downloading tensorflow_io_gcs_filesystem-0.27.0-cp37-cp37m-manylinux_2_12_x86_64.manylinux2010_x86_64.whl (2.4 MB)\r\n",
      "\u001b[2K     \u001b[90m━━━━━━━━━━━━━━━━━━━━━━━━━━━━━━━━━━━━━━━━\u001b[0m \u001b[32m2.4/2.4 MB\u001b[0m \u001b[31m42.0 MB/s\u001b[0m eta \u001b[36m0:00:00\u001b[0m\r\n",
      "\u001b[?25hRequirement already satisfied: typing-extensions>=3.6.6 in /opt/conda/lib/python3.7/site-packages (from tensorflow) (4.3.0)\r\n",
      "Requirement already satisfied: packaging in /opt/conda/lib/python3.7/site-packages (from tensorflow) (21.3)\r\n",
      "Requirement already satisfied: astunparse>=1.6.0 in /opt/conda/lib/python3.7/site-packages (from tensorflow) (1.6.3)\r\n",
      "Requirement already satisfied: grpcio<2.0,>=1.24.3 in /opt/conda/lib/python3.7/site-packages (from tensorflow) (1.43.0)\r\n",
      "Requirement already satisfied: six>=1.12.0 in /opt/conda/lib/python3.7/site-packages (from tensorflow) (1.15.0)\r\n",
      "Requirement already satisfied: tensorboard<2.11,>=2.10 in /opt/conda/lib/python3.7/site-packages (from tensorflow) (2.10.0)\r\n",
      "Requirement already satisfied: setuptools in /opt/conda/lib/python3.7/site-packages (from tensorflow) (59.8.0)\r\n",
      "Requirement already satisfied: keras-preprocessing>=1.1.1 in /opt/conda/lib/python3.7/site-packages (from tensorflow) (1.1.2)\r\n",
      "Collecting keras<2.11,>=2.10.0\r\n",
      "  Downloading keras-2.10.0-py2.py3-none-any.whl (1.7 MB)\r\n",
      "\u001b[2K     \u001b[90m━━━━━━━━━━━━━━━━━━━━━━━━━━━━━━━━━━━━━━━━\u001b[0m \u001b[32m1.7/1.7 MB\u001b[0m \u001b[31m41.7 MB/s\u001b[0m eta \u001b[36m0:00:00\u001b[0m\r\n",
      "\u001b[?25hCollecting libclang>=13.0.0\r\n",
      "  Downloading libclang-14.0.6-py2.py3-none-manylinux2010_x86_64.whl (14.1 MB)\r\n",
      "\u001b[2K     \u001b[90m━━━━━━━━━━━━━━━━━━━━━━━━━━━━━━━━━━━━━━━━\u001b[0m \u001b[32m14.1/14.1 MB\u001b[0m \u001b[31m14.4 MB/s\u001b[0m eta \u001b[36m0:00:00\u001b[0m\r\n",
      "\u001b[?25hRequirement already satisfied: wheel<1.0,>=0.23.0 in /opt/conda/lib/python3.7/site-packages (from astunparse>=1.6.0->tensorflow) (0.37.1)\r\n",
      "Requirement already satisfied: google-auth<3,>=1.6.3 in /opt/conda/lib/python3.7/site-packages (from tensorboard<2.11,>=2.10->tensorflow) (1.35.0)\r\n",
      "Requirement already satisfied: requests<3,>=2.21.0 in /opt/conda/lib/python3.7/site-packages (from tensorboard<2.11,>=2.10->tensorflow) (2.28.1)\r\n",
      "Requirement already satisfied: tensorboard-data-server<0.7.0,>=0.6.0 in /opt/conda/lib/python3.7/site-packages (from tensorboard<2.11,>=2.10->tensorflow) (0.6.1)\r\n",
      "Requirement already satisfied: werkzeug>=1.0.1 in /opt/conda/lib/python3.7/site-packages (from tensorboard<2.11,>=2.10->tensorflow) (2.2.2)\r\n",
      "Requirement already satisfied: markdown>=2.6.8 in /opt/conda/lib/python3.7/site-packages (from tensorboard<2.11,>=2.10->tensorflow) (3.3.7)\r\n",
      "Requirement already satisfied: google-auth-oauthlib<0.5,>=0.4.1 in /opt/conda/lib/python3.7/site-packages (from tensorboard<2.11,>=2.10->tensorflow) (0.4.6)\r\n",
      "Requirement already satisfied: tensorboard-plugin-wit>=1.6.0 in /opt/conda/lib/python3.7/site-packages (from tensorboard<2.11,>=2.10->tensorflow) (1.8.1)\r\n",
      "Requirement already satisfied: pyparsing!=3.0.5,>=2.0.2 in /opt/conda/lib/python3.7/site-packages (from packaging->tensorflow) (3.0.9)\r\n",
      "Requirement already satisfied: cachetools<5.0,>=2.0.0 in /opt/conda/lib/python3.7/site-packages (from google-auth<3,>=1.6.3->tensorboard<2.11,>=2.10->tensorflow) (4.2.4)\r\n",
      "Requirement already satisfied: rsa<5,>=3.1.4 in /opt/conda/lib/python3.7/site-packages (from google-auth<3,>=1.6.3->tensorboard<2.11,>=2.10->tensorflow) (4.8)\r\n",
      "Requirement already satisfied: pyasn1-modules>=0.2.1 in /opt/conda/lib/python3.7/site-packages (from google-auth<3,>=1.6.3->tensorboard<2.11,>=2.10->tensorflow) (0.2.7)\r\n",
      "Requirement already satisfied: requests-oauthlib>=0.7.0 in /opt/conda/lib/python3.7/site-packages (from google-auth-oauthlib<0.5,>=0.4.1->tensorboard<2.11,>=2.10->tensorflow) (1.3.1)\r\n",
      "Requirement already satisfied: importlib-metadata>=4.4 in /opt/conda/lib/python3.7/site-packages (from markdown>=2.6.8->tensorboard<2.11,>=2.10->tensorflow) (4.12.0)\r\n",
      "Requirement already satisfied: charset-normalizer<3,>=2 in /opt/conda/lib/python3.7/site-packages (from requests<3,>=2.21.0->tensorboard<2.11,>=2.10->tensorflow) (2.1.0)\r\n",
      "Requirement already satisfied: urllib3<1.27,>=1.21.1 in /opt/conda/lib/python3.7/site-packages (from requests<3,>=2.21.0->tensorboard<2.11,>=2.10->tensorflow) (1.26.12)\r\n",
      "Requirement already satisfied: certifi>=2017.4.17 in /opt/conda/lib/python3.7/site-packages (from requests<3,>=2.21.0->tensorboard<2.11,>=2.10->tensorflow) (2022.6.15.2)\r\n",
      "Requirement already satisfied: idna<4,>=2.5 in /opt/conda/lib/python3.7/site-packages (from requests<3,>=2.21.0->tensorboard<2.11,>=2.10->tensorflow) (3.3)\r\n",
      "Requirement already satisfied: MarkupSafe>=2.1.1 in /opt/conda/lib/python3.7/site-packages (from werkzeug>=1.0.1->tensorboard<2.11,>=2.10->tensorflow) (2.1.1)\r\n",
      "Requirement already satisfied: zipp>=0.5 in /opt/conda/lib/python3.7/site-packages (from importlib-metadata>=4.4->markdown>=2.6.8->tensorboard<2.11,>=2.10->tensorflow) (3.8.0)\r\n",
      "Requirement already satisfied: pyasn1<0.5.0,>=0.4.6 in /opt/conda/lib/python3.7/site-packages (from pyasn1-modules>=0.2.1->google-auth<3,>=1.6.3->tensorboard<2.11,>=2.10->tensorflow) (0.4.8)\r\n",
      "Requirement already satisfied: oauthlib>=3.0.0 in /opt/conda/lib/python3.7/site-packages (from requests-oauthlib>=0.7.0->google-auth-oauthlib<0.5,>=0.4.1->tensorboard<2.11,>=2.10->tensorflow) (3.2.0)\r\n",
      "Installing collected packages: libclang, keras, flatbuffers, tensorflow-io-gcs-filesystem, tensorflow-estimator, absl-py, tensorflow\r\n",
      "  Attempting uninstall: keras\r\n",
      "    Found existing installation: keras 2.6.0\r\n",
      "    Uninstalling keras-2.6.0:\r\n",
      "      Successfully uninstalled keras-2.6.0\r\n",
      "  Attempting uninstall: flatbuffers\r\n",
      "    Found existing installation: flatbuffers 1.12\r\n",
      "    Uninstalling flatbuffers-1.12:\r\n",
      "      Successfully uninstalled flatbuffers-1.12\r\n",
      "  Attempting uninstall: tensorflow-estimator\r\n",
      "    Found existing installation: tensorflow-estimator 2.6.0\r\n",
      "    Uninstalling tensorflow-estimator-2.6.0:\r\n",
      "      Successfully uninstalled tensorflow-estimator-2.6.0\r\n",
      "  Attempting uninstall: absl-py\r\n",
      "    Found existing installation: absl-py 0.15.0\r\n",
      "    Uninstalling absl-py-0.15.0:\r\n",
      "      Successfully uninstalled absl-py-0.15.0\r\n",
      "  Attempting uninstall: tensorflow\r\n",
      "    Found existing installation: tensorflow 2.6.4\r\n",
      "    Uninstalling tensorflow-2.6.4:\r\n",
      "      Successfully uninstalled tensorflow-2.6.4\r\n",
      "\u001b[31mERROR: pip's dependency resolver does not currently take into account all the packages that are installed. This behaviour is the source of the following dependency conflicts.\r\n",
      "tfx-bsl 1.9.0 requires pyarrow<6,>=1, but you have pyarrow 8.0.0 which is incompatible.\r\n",
      "tensorflow-transform 1.9.0 requires pyarrow<6,>=1, but you have pyarrow 8.0.0 which is incompatible.\r\n",
      "tensorflow-transform 1.9.0 requires tensorflow!=2.0.*,!=2.1.*,!=2.2.*,!=2.3.*,!=2.4.*,!=2.5.*,!=2.6.*,!=2.7.*,!=2.8.*,<2.10,>=1.15.5, but you have tensorflow 2.10.0 which is incompatible.\r\n",
      "tensorflow-io 0.21.0 requires tensorflow<2.7.0,>=2.6.0, but you have tensorflow 2.10.0 which is incompatible.\r\n",
      "tensorflow-io 0.21.0 requires tensorflow-io-gcs-filesystem==0.21.0, but you have tensorflow-io-gcs-filesystem 0.27.0 which is incompatible.\r\n",
      "flax 0.6.0 requires rich~=11.1, but you have rich 12.1.0 which is incompatible.\u001b[0m\u001b[31m\r\n",
      "\u001b[0mSuccessfully installed absl-py-1.2.0 flatbuffers-22.9.24 keras-2.10.0 libclang-14.0.6 tensorflow-2.10.0 tensorflow-estimator-2.10.0 tensorflow-io-gcs-filesystem-0.27.0\r\n",
      "\u001b[33mWARNING: Running pip as the 'root' user can result in broken permissions and conflicting behaviour with the system package manager. It is recommended to use a virtual environment instead: https://pip.pypa.io/warnings/venv\u001b[0m\u001b[33m\r\n",
      "\u001b[0m"
     ]
    }
   ],
   "source": [
    "!pip install --upgrade tensorflow"
   ]
  },
  {
   "cell_type": "markdown",
   "id": "feedd258",
   "metadata": {
    "papermill": {
     "duration": 0.062554,
     "end_time": "2022-10-08T14:21:42.931290",
     "exception": false,
     "start_time": "2022-10-08T14:21:42.868736",
     "status": "completed"
    },
    "tags": []
   },
   "source": [
    "### Neccessary Imports\n",
    "\n",
    "* **pandas** - Data analysis and manipulation\n",
    "* **matplotlib** - Plotting graphs and creating visuals\n",
    "* **sklearn** - Basic data preprocessing and splitting dataset\n",
    "* **tensorflow** - Modeling neural networks and training them\n",
    "* **graphviz** - Visualization of model architecture"
   ]
  },
  {
   "cell_type": "code",
   "execution_count": 2,
   "id": "341c2201",
   "metadata": {
    "execution": {
     "iopub.execute_input": "2022-10-08T14:21:43.068311Z",
     "iopub.status.busy": "2022-10-08T14:21:43.067660Z",
     "iopub.status.idle": "2022-10-08T14:21:48.174696Z",
     "shell.execute_reply": "2022-10-08T14:21:48.173668Z"
    },
    "papermill": {
     "duration": 5.174378,
     "end_time": "2022-10-08T14:21:48.177388",
     "exception": false,
     "start_time": "2022-10-08T14:21:43.003010",
     "status": "completed"
    },
    "tags": []
   },
   "outputs": [
    {
     "name": "stderr",
     "output_type": "stream",
     "text": [
      "2022-10-08 14:21:44.152027: I tensorflow/core/platform/cpu_feature_guard.cc:193] This TensorFlow binary is optimized with oneAPI Deep Neural Network Library (oneDNN) to use the following CPU instructions in performance-critical operations:  AVX2 FMA\n",
      "To enable them in other operations, rebuild TensorFlow with the appropriate compiler flags.\n",
      "2022-10-08 14:21:44.341334: W tensorflow/stream_executor/platform/default/dso_loader.cc:64] Could not load dynamic library 'libcudart.so.11.0'; dlerror: libcudart.so.11.0: cannot open shared object file: No such file or directory; LD_LIBRARY_PATH: /usr/local/cuda/lib64:/usr/local/cuda/lib:/usr/local/lib/x86_64-linux-gnu:/usr/local/nvidia/lib:/usr/local/nvidia/lib64:\n",
      "2022-10-08 14:21:44.341372: I tensorflow/stream_executor/cuda/cudart_stub.cc:29] Ignore above cudart dlerror if you do not have a GPU set up on your machine.\n",
      "2022-10-08 14:21:44.381984: E tensorflow/stream_executor/cuda/cuda_blas.cc:2981] Unable to register cuBLAS factory: Attempting to register factory for plugin cuBLAS when one has already been registered\n",
      "2022-10-08 14:21:45.472900: W tensorflow/stream_executor/platform/default/dso_loader.cc:64] Could not load dynamic library 'libnvinfer.so.7'; dlerror: libnvinfer.so.7: cannot open shared object file: No such file or directory; LD_LIBRARY_PATH: /usr/local/cuda/lib64:/usr/local/cuda/lib:/usr/local/lib/x86_64-linux-gnu:/usr/local/nvidia/lib:/usr/local/nvidia/lib64:\n",
      "2022-10-08 14:21:45.473102: W tensorflow/stream_executor/platform/default/dso_loader.cc:64] Could not load dynamic library 'libnvinfer_plugin.so.7'; dlerror: libnvinfer_plugin.so.7: cannot open shared object file: No such file or directory; LD_LIBRARY_PATH: /usr/local/cuda/lib64:/usr/local/cuda/lib:/usr/local/lib/x86_64-linux-gnu:/usr/local/nvidia/lib:/usr/local/nvidia/lib64:\n",
      "2022-10-08 14:21:45.473116: W tensorflow/compiler/tf2tensorrt/utils/py_utils.cc:38] TF-TRT Warning: Cannot dlopen some TensorRT libraries. If you would like to use Nvidia GPU with TensorRT, please make sure the missing libraries mentioned above are installed properly.\n"
     ]
    }
   ],
   "source": [
    "import pandas as pd\n",
    "import matplotlib.pyplot as plt\n",
    "\n",
    "from sklearn import preprocessing\n",
    "from sklearn.model_selection import train_test_split\n",
    "\n",
    "from tensorflow.keras import Sequential\n",
    "from tensorflow.keras.layers import InputLayer, Dense, Dropout\n",
    "from tensorflow.keras.callbacks import EarlyStopping\n",
    "from tensorflow.keras.optimizers import Adam\n",
    "\n",
    "import graphviz\n",
    "from keras.utils.vis_utils import plot_model"
   ]
  },
  {
   "cell_type": "markdown",
   "id": "1688d851",
   "metadata": {
    "papermill": {
     "duration": 0.06225,
     "end_time": "2022-10-08T14:21:48.301711",
     "exception": false,
     "start_time": "2022-10-08T14:21:48.239461",
     "status": "completed"
    },
    "tags": []
   },
   "source": [
    "### Setting the seed for reproducability\n",
    "\n",
    ">For this assignment we will be using 42 as the seed"
   ]
  },
  {
   "cell_type": "code",
   "execution_count": 3,
   "id": "51ce5fa9",
   "metadata": {
    "execution": {
     "iopub.execute_input": "2022-10-08T14:21:48.427871Z",
     "iopub.status.busy": "2022-10-08T14:21:48.427152Z",
     "iopub.status.idle": "2022-10-08T14:21:48.433611Z",
     "shell.execute_reply": "2022-10-08T14:21:48.432363Z"
    },
    "papermill": {
     "duration": 0.072226,
     "end_time": "2022-10-08T14:21:48.435863",
     "exception": false,
     "start_time": "2022-10-08T14:21:48.363637",
     "status": "completed"
    },
    "tags": []
   },
   "outputs": [],
   "source": [
    "SEED = 42\n",
    "\n",
    "import os\n",
    "os.environ['TF_CUDNN_DETERMINISTIC'] = '1'\n",
    "\n",
    "import random \n",
    "random.seed(SEED)\n",
    "\n",
    "import numpy as np\n",
    "np.random.seed(SEED)\n",
    "\n",
    "import tensorflow as tf\n",
    "tf.random.set_seed(SEED)"
   ]
  },
  {
   "cell_type": "markdown",
   "id": "3986e0dc",
   "metadata": {
    "papermill": {
     "duration": 0.061871,
     "end_time": "2022-10-08T14:21:48.559624",
     "exception": false,
     "start_time": "2022-10-08T14:21:48.497753",
     "status": "completed"
    },
    "tags": []
   },
   "source": [
    "### Reading dataset"
   ]
  },
  {
   "cell_type": "code",
   "execution_count": 4,
   "id": "9b85eabd",
   "metadata": {
    "execution": {
     "iopub.execute_input": "2022-10-08T14:21:48.686527Z",
     "iopub.status.busy": "2022-10-08T14:21:48.685830Z",
     "iopub.status.idle": "2022-10-08T14:21:54.046164Z",
     "shell.execute_reply": "2022-10-08T14:21:54.045082Z"
    },
    "papermill": {
     "duration": 5.42658,
     "end_time": "2022-10-08T14:21:54.048735",
     "exception": false,
     "start_time": "2022-10-08T14:21:48.622155",
     "status": "completed"
    },
    "tags": []
   },
   "outputs": [
    {
     "data": {
      "text/html": [
       "<div>\n",
       "<style scoped>\n",
       "    .dataframe tbody tr th:only-of-type {\n",
       "        vertical-align: middle;\n",
       "    }\n",
       "\n",
       "    .dataframe tbody tr th {\n",
       "        vertical-align: top;\n",
       "    }\n",
       "\n",
       "    .dataframe thead th {\n",
       "        text-align: right;\n",
       "    }\n",
       "</style>\n",
       "<table border=\"1\" class=\"dataframe\">\n",
       "  <thead>\n",
       "    <tr style=\"text-align: right;\">\n",
       "      <th></th>\n",
       "      <th>filename</th>\n",
       "      <th>tempo</th>\n",
       "      <th>total_beats</th>\n",
       "      <th>average_beats</th>\n",
       "      <th>chroma_stft_mean</th>\n",
       "      <th>chroma_stft_var</th>\n",
       "      <th>chroma_cq_mean</th>\n",
       "      <th>chroma_cq_var</th>\n",
       "      <th>chroma_cens_mean</th>\n",
       "      <th>chroma_cens_var</th>\n",
       "      <th>...</th>\n",
       "      <th>mfcc15_mean</th>\n",
       "      <th>mfcc15_var</th>\n",
       "      <th>mfcc16_mean</th>\n",
       "      <th>mfcc16_var</th>\n",
       "      <th>mfcc17_mean</th>\n",
       "      <th>mfcc17_var</th>\n",
       "      <th>mfcc18_mean</th>\n",
       "      <th>mfcc18_var</th>\n",
       "      <th>mfcc19_mean</th>\n",
       "      <th>mfcc19_var</th>\n",
       "    </tr>\n",
       "  </thead>\n",
       "  <tbody>\n",
       "    <tr>\n",
       "      <th>0</th>\n",
       "      <td>app_3001_4001_phnd_neg_0000.wav</td>\n",
       "      <td>184.570312</td>\n",
       "      <td>623</td>\n",
       "      <td>69.222222</td>\n",
       "      <td>0.515281</td>\n",
       "      <td>0.093347</td>\n",
       "      <td>0.443441</td>\n",
       "      <td>0.082742</td>\n",
       "      <td>0.249143</td>\n",
       "      <td>0.021261</td>\n",
       "      <td>...</td>\n",
       "      <td>-10.669799</td>\n",
       "      <td>63.340282</td>\n",
       "      <td>1.811605</td>\n",
       "      <td>58.117188</td>\n",
       "      <td>-3.286546</td>\n",
       "      <td>54.268448</td>\n",
       "      <td>-2.719069</td>\n",
       "      <td>59.548176</td>\n",
       "      <td>-4.559987</td>\n",
       "      <td>70.774803</td>\n",
       "    </tr>\n",
       "    <tr>\n",
       "      <th>1</th>\n",
       "      <td>app_3001_4001_phnd_neg_0001.wav</td>\n",
       "      <td>151.999081</td>\n",
       "      <td>521</td>\n",
       "      <td>74.428571</td>\n",
       "      <td>0.487201</td>\n",
       "      <td>0.094461</td>\n",
       "      <td>0.542182</td>\n",
       "      <td>0.073359</td>\n",
       "      <td>0.274423</td>\n",
       "      <td>0.008025</td>\n",
       "      <td>...</td>\n",
       "      <td>-5.666375</td>\n",
       "      <td>90.256195</td>\n",
       "      <td>1.573594</td>\n",
       "      <td>105.070496</td>\n",
       "      <td>-0.742024</td>\n",
       "      <td>82.417496</td>\n",
       "      <td>-1.961745</td>\n",
       "      <td>119.312355</td>\n",
       "      <td>1.513660</td>\n",
       "      <td>101.014572</td>\n",
       "    </tr>\n",
       "    <tr>\n",
       "      <th>2</th>\n",
       "      <td>app_3001_4001_phnd_neg_0002.wav</td>\n",
       "      <td>112.347147</td>\n",
       "      <td>1614</td>\n",
       "      <td>146.727273</td>\n",
       "      <td>0.444244</td>\n",
       "      <td>0.099268</td>\n",
       "      <td>0.442014</td>\n",
       "      <td>0.083224</td>\n",
       "      <td>0.264430</td>\n",
       "      <td>0.013410</td>\n",
       "      <td>...</td>\n",
       "      <td>-5.502390</td>\n",
       "      <td>73.079750</td>\n",
       "      <td>0.202623</td>\n",
       "      <td>72.040550</td>\n",
       "      <td>-4.021009</td>\n",
       "      <td>73.844353</td>\n",
       "      <td>-5.916223</td>\n",
       "      <td>103.834824</td>\n",
       "      <td>-2.939086</td>\n",
       "      <td>113.598824</td>\n",
       "    </tr>\n",
       "    <tr>\n",
       "      <th>3</th>\n",
       "      <td>app_3001_4001_phnd_neg_0003.wav</td>\n",
       "      <td>107.666016</td>\n",
       "      <td>2060</td>\n",
       "      <td>158.461538</td>\n",
       "      <td>0.454156</td>\n",
       "      <td>0.100834</td>\n",
       "      <td>0.424370</td>\n",
       "      <td>0.084435</td>\n",
       "      <td>0.257672</td>\n",
       "      <td>0.016938</td>\n",
       "      <td>...</td>\n",
       "      <td>-8.812989</td>\n",
       "      <td>93.791893</td>\n",
       "      <td>-0.429413</td>\n",
       "      <td>60.002579</td>\n",
       "      <td>-4.013513</td>\n",
       "      <td>82.544540</td>\n",
       "      <td>-5.858006</td>\n",
       "      <td>84.402092</td>\n",
       "      <td>0.686969</td>\n",
       "      <td>90.126389</td>\n",
       "    </tr>\n",
       "    <tr>\n",
       "      <th>4</th>\n",
       "      <td>app_3001_4001_phnd_neg_0004.wav</td>\n",
       "      <td>75.999540</td>\n",
       "      <td>66</td>\n",
       "      <td>33.000000</td>\n",
       "      <td>0.478780</td>\n",
       "      <td>0.100000</td>\n",
       "      <td>0.414859</td>\n",
       "      <td>0.089313</td>\n",
       "      <td>0.252143</td>\n",
       "      <td>0.019757</td>\n",
       "      <td>...</td>\n",
       "      <td>-6.584204</td>\n",
       "      <td>64.973305</td>\n",
       "      <td>0.744403</td>\n",
       "      <td>68.908516</td>\n",
       "      <td>-6.354805</td>\n",
       "      <td>66.414391</td>\n",
       "      <td>-6.555534</td>\n",
       "      <td>47.852840</td>\n",
       "      <td>-4.809713</td>\n",
       "      <td>73.033966</td>\n",
       "    </tr>\n",
       "  </tbody>\n",
       "</table>\n",
       "<p>5 rows × 78 columns</p>\n",
       "</div>"
      ],
      "text/plain": [
       "                          filename       tempo  total_beats  average_beats  \\\n",
       "0  app_3001_4001_phnd_neg_0000.wav  184.570312          623      69.222222   \n",
       "1  app_3001_4001_phnd_neg_0001.wav  151.999081          521      74.428571   \n",
       "2  app_3001_4001_phnd_neg_0002.wav  112.347147         1614     146.727273   \n",
       "3  app_3001_4001_phnd_neg_0003.wav  107.666016         2060     158.461538   \n",
       "4  app_3001_4001_phnd_neg_0004.wav   75.999540           66      33.000000   \n",
       "\n",
       "   chroma_stft_mean  chroma_stft_var  chroma_cq_mean  chroma_cq_var  \\\n",
       "0          0.515281         0.093347        0.443441       0.082742   \n",
       "1          0.487201         0.094461        0.542182       0.073359   \n",
       "2          0.444244         0.099268        0.442014       0.083224   \n",
       "3          0.454156         0.100834        0.424370       0.084435   \n",
       "4          0.478780         0.100000        0.414859       0.089313   \n",
       "\n",
       "   chroma_cens_mean  chroma_cens_var  ...  mfcc15_mean  mfcc15_var  \\\n",
       "0          0.249143         0.021261  ...   -10.669799   63.340282   \n",
       "1          0.274423         0.008025  ...    -5.666375   90.256195   \n",
       "2          0.264430         0.013410  ...    -5.502390   73.079750   \n",
       "3          0.257672         0.016938  ...    -8.812989   93.791893   \n",
       "4          0.252143         0.019757  ...    -6.584204   64.973305   \n",
       "\n",
       "   mfcc16_mean  mfcc16_var  mfcc17_mean  mfcc17_var  mfcc18_mean  mfcc18_var  \\\n",
       "0     1.811605   58.117188    -3.286546   54.268448    -2.719069   59.548176   \n",
       "1     1.573594  105.070496    -0.742024   82.417496    -1.961745  119.312355   \n",
       "2     0.202623   72.040550    -4.021009   73.844353    -5.916223  103.834824   \n",
       "3    -0.429413   60.002579    -4.013513   82.544540    -5.858006   84.402092   \n",
       "4     0.744403   68.908516    -6.354805   66.414391    -6.555534   47.852840   \n",
       "\n",
       "   mfcc19_mean  mfcc19_var  \n",
       "0    -4.559987   70.774803  \n",
       "1     1.513660  101.014572  \n",
       "2    -2.939086  113.598824  \n",
       "3     0.686969   90.126389  \n",
       "4    -4.809713   73.033966  \n",
       "\n",
       "[5 rows x 78 columns]"
      ]
     },
     "execution_count": 4,
     "metadata": {},
     "output_type": "execute_result"
    }
   ],
   "source": [
    "df = pd.read_csv('../input/assignment/full.csv')\n",
    "df.head()"
   ]
  },
  {
   "cell_type": "code",
   "execution_count": 5,
   "id": "89d56daa",
   "metadata": {
    "execution": {
     "iopub.execute_input": "2022-10-08T14:21:54.175359Z",
     "iopub.status.busy": "2022-10-08T14:21:54.174574Z",
     "iopub.status.idle": "2022-10-08T14:21:54.918872Z",
     "shell.execute_reply": "2022-10-08T14:21:54.917525Z"
    },
    "papermill": {
     "duration": 0.810174,
     "end_time": "2022-10-08T14:21:54.921490",
     "exception": false,
     "start_time": "2022-10-08T14:21:54.111316",
     "status": "completed"
    },
    "tags": []
   },
   "outputs": [],
   "source": [
    "df['label'] = df['filename'].str.split('_').str[-2]"
   ]
  },
  {
   "cell_type": "code",
   "execution_count": 6,
   "id": "9ed42d69",
   "metadata": {
    "execution": {
     "iopub.execute_input": "2022-10-08T14:21:55.046591Z",
     "iopub.status.busy": "2022-10-08T14:21:55.046132Z",
     "iopub.status.idle": "2022-10-08T14:21:55.079122Z",
     "shell.execute_reply": "2022-10-08T14:21:55.077949Z"
    },
    "papermill": {
     "duration": 0.098037,
     "end_time": "2022-10-08T14:21:55.081478",
     "exception": false,
     "start_time": "2022-10-08T14:21:54.983441",
     "status": "completed"
    },
    "tags": []
   },
   "outputs": [
    {
     "data": {
      "text/plain": [
       "pos    92826\n",
       "neg    89428\n",
       "Name: label, dtype: int64"
      ]
     },
     "execution_count": 6,
     "metadata": {},
     "output_type": "execute_result"
    }
   ],
   "source": [
    "df['label'].value_counts()"
   ]
  },
  {
   "cell_type": "markdown",
   "id": "5d5b1a24",
   "metadata": {
    "papermill": {
     "duration": 0.061564,
     "end_time": "2022-10-08T14:21:55.204969",
     "exception": false,
     "start_time": "2022-10-08T14:21:55.143405",
     "status": "completed"
    },
    "tags": []
   },
   "source": [
    "### Function to preprocess the dataset and split it into train and test"
   ]
  },
  {
   "cell_type": "code",
   "execution_count": 7,
   "id": "b6ee61c6",
   "metadata": {
    "execution": {
     "iopub.execute_input": "2022-10-08T14:21:55.330936Z",
     "iopub.status.busy": "2022-10-08T14:21:55.330234Z",
     "iopub.status.idle": "2022-10-08T14:21:55.355663Z",
     "shell.execute_reply": "2022-10-08T14:21:55.354545Z"
    },
    "papermill": {
     "duration": 0.091905,
     "end_time": "2022-10-08T14:21:55.358357",
     "exception": false,
     "start_time": "2022-10-08T14:21:55.266452",
     "status": "completed"
    },
    "tags": []
   },
   "outputs": [],
   "source": [
    "def split_dataset(df, columns_to_drop, test_size, random_state):\n",
    "    label_encoder = preprocessing.LabelEncoder()\n",
    "\n",
    "    df['label'] = label_encoder.fit_transform(df['label'])\n",
    "\n",
    "    df_train, df_test = train_test_split(df, test_size=test_size, random_state=random_state)\n",
    "\n",
    "    df_train2 = df_train.drop(columns_to_drop,axis=1)\n",
    "    y_train2 = df_train['label'].to_numpy()\n",
    "\n",
    "    df_test2 = df_test.drop(columns_to_drop,axis=1)\n",
    "    y_test2 = df_test['label'].to_numpy() \n",
    "\n",
    "    return df_train2, y_train2, df_test2, y_test2\n"
   ]
  },
  {
   "cell_type": "markdown",
   "id": "ee84f8f1",
   "metadata": {
    "papermill": {
     "duration": 0.06179,
     "end_time": "2022-10-08T14:21:55.482393",
     "exception": false,
     "start_time": "2022-10-08T14:21:55.420603",
     "status": "completed"
    },
    "tags": []
   },
   "source": [
    "### Function to appropriately scale the dataset"
   ]
  },
  {
   "cell_type": "code",
   "execution_count": 8,
   "id": "83ecd84e",
   "metadata": {
    "execution": {
     "iopub.execute_input": "2022-10-08T14:21:55.606344Z",
     "iopub.status.busy": "2022-10-08T14:21:55.605324Z",
     "iopub.status.idle": "2022-10-08T14:21:55.610533Z",
     "shell.execute_reply": "2022-10-08T14:21:55.609658Z"
    },
    "papermill": {
     "duration": 0.069605,
     "end_time": "2022-10-08T14:21:55.612848",
     "exception": false,
     "start_time": "2022-10-08T14:21:55.543243",
     "status": "completed"
    },
    "tags": []
   },
   "outputs": [],
   "source": [
    "def preprocess_dataset(df_train, df_test):\n",
    "\n",
    "    standard_scaler = preprocessing.StandardScaler()\n",
    "    df_train_scaled = standard_scaler.fit_transform(df_train)\n",
    "\n",
    "    df_test_scaled = standard_scaler.transform(df_test)\n",
    "\n",
    "    return df_train_scaled, df_test_scaled"
   ]
  },
  {
   "cell_type": "markdown",
   "id": "ba14ef80",
   "metadata": {
    "papermill": {
     "duration": 0.06162,
     "end_time": "2022-10-08T14:21:55.736170",
     "exception": false,
     "start_time": "2022-10-08T14:21:55.674550",
     "status": "completed"
    },
    "tags": []
   },
   "source": [
    "### Preprocess and scale the dataset"
   ]
  },
  {
   "cell_type": "code",
   "execution_count": 9,
   "id": "f616db6a",
   "metadata": {
    "execution": {
     "iopub.execute_input": "2022-10-08T14:21:55.862780Z",
     "iopub.status.busy": "2022-10-08T14:21:55.862397Z",
     "iopub.status.idle": "2022-10-08T14:21:56.344768Z",
     "shell.execute_reply": "2022-10-08T14:21:56.343825Z"
    },
    "papermill": {
     "duration": 0.548098,
     "end_time": "2022-10-08T14:21:56.347306",
     "exception": false,
     "start_time": "2022-10-08T14:21:55.799208",
     "status": "completed"
    },
    "tags": []
   },
   "outputs": [],
   "source": [
    "columns_to_drop = ['label','filename']\n",
    "\n",
    "X_train, y_train, X_test, y_test = split_dataset(df, columns_to_drop, test_size=0.3, random_state=0) # positive labels being encoded as 1\n",
    "\n",
    "X_train_scaled, X_test_scaled = preprocess_dataset(X_train, X_test)"
   ]
  },
  {
   "cell_type": "markdown",
   "id": "f8a1e08a",
   "metadata": {
    "papermill": {
     "duration": 0.061906,
     "end_time": "2022-10-08T14:21:56.472452",
     "exception": false,
     "start_time": "2022-10-08T14:21:56.410546",
     "status": "completed"
    },
    "tags": []
   },
   "source": [
    "## Part A\n",
    "\n",
    ">  Use the training dataset to train the model for 100 epochs. Implement early\n",
    "stopping with patience of 3. "
   ]
  },
  {
   "cell_type": "markdown",
   "id": "6cc6a280",
   "metadata": {
    "papermill": {
     "duration": 0.061902,
     "end_time": "2022-10-08T14:21:56.595825",
     "exception": false,
     "start_time": "2022-10-08T14:21:56.533923",
     "status": "completed"
    },
    "tags": []
   },
   "source": [
    "### Model Definition\n",
    ">Below is the definition of a feedforward deep neural network (DNN) which consists of an input layer, three hidden\n",
    "layers of 128 neurons each with ReLU activation function, and an output layer with sigmoid\n",
    "activation function."
   ]
  },
  {
   "cell_type": "code",
   "execution_count": 10,
   "id": "197a1ab4",
   "metadata": {
    "execution": {
     "iopub.execute_input": "2022-10-08T14:21:56.723261Z",
     "iopub.status.busy": "2022-10-08T14:21:56.722861Z",
     "iopub.status.idle": "2022-10-08T14:21:56.730111Z",
     "shell.execute_reply": "2022-10-08T14:21:56.729056Z"
    },
    "papermill": {
     "duration": 0.072623,
     "end_time": "2022-10-08T14:21:56.732432",
     "exception": false,
     "start_time": "2022-10-08T14:21:56.659809",
     "status": "completed"
    },
    "tags": []
   },
   "outputs": [],
   "source": [
    "def create_model(input_shape):\n",
    "    \"\"\"\n",
    "    Returns a neural network with the required specifications\n",
    "    \n",
    "    :param input_shape: Number of features fed to the neural network\n",
    "    \"\"\"\n",
    "    \n",
    "    # Size of every hidden layer\n",
    "    num_neurons = 128\n",
    "\n",
    "    model = Sequential([\n",
    "        InputLayer(input_shape=(input_shape,)),\n",
    "        Dense(num_neurons, activation='relu'),\n",
    "        Dropout(0.2),\n",
    "        Dense(num_neurons, activation='relu'),\n",
    "        Dropout(0.2),\n",
    "        Dense(num_neurons, activation='relu'),\n",
    "        Dropout(0.2),\n",
    "        Dense(1, activation='sigmoid')\n",
    "    ])\n",
    "\n",
    "    # Adam optimizer with learning rate 0.001\n",
    "    optimizer = Adam(learning_rate=0.001)\n",
    "\n",
    "    model.compile(optimizer=optimizer,\n",
    "                    loss='binary_crossentropy',\n",
    "                    metrics=['accuracy'])\n",
    "    \n",
    "    return model"
   ]
  },
  {
   "cell_type": "markdown",
   "id": "fde552da",
   "metadata": {
    "papermill": {
     "duration": 0.062125,
     "end_time": "2022-10-08T14:21:56.857635",
     "exception": false,
     "start_time": "2022-10-08T14:21:56.795510",
     "status": "completed"
    },
    "tags": []
   },
   "source": [
    "### Model Creation and summary table"
   ]
  },
  {
   "cell_type": "code",
   "execution_count": 11,
   "id": "bccd4dbc",
   "metadata": {
    "execution": {
     "iopub.execute_input": "2022-10-08T14:21:56.985726Z",
     "iopub.status.busy": "2022-10-08T14:21:56.984586Z",
     "iopub.status.idle": "2022-10-08T14:21:57.137825Z",
     "shell.execute_reply": "2022-10-08T14:21:57.136810Z"
    },
    "papermill": {
     "duration": 0.227572,
     "end_time": "2022-10-08T14:21:57.148161",
     "exception": false,
     "start_time": "2022-10-08T14:21:56.920589",
     "status": "completed"
    },
    "tags": []
   },
   "outputs": [
    {
     "name": "stdout",
     "output_type": "stream",
     "text": [
      "Model: \"sequential\"\n",
      "_________________________________________________________________\n",
      " Layer (type)                Output Shape              Param #   \n",
      "=================================================================\n",
      " dense (Dense)               (None, 128)               9984      \n",
      "                                                                 \n",
      " dropout (Dropout)           (None, 128)               0         \n",
      "                                                                 \n",
      " dense_1 (Dense)             (None, 128)               16512     \n",
      "                                                                 \n",
      " dropout_1 (Dropout)         (None, 128)               0         \n",
      "                                                                 \n",
      " dense_2 (Dense)             (None, 128)               16512     \n",
      "                                                                 \n",
      " dropout_2 (Dropout)         (None, 128)               0         \n",
      "                                                                 \n",
      " dense_3 (Dense)             (None, 1)                 129       \n",
      "                                                                 \n",
      "=================================================================\n",
      "Total params: 43,137\n",
      "Trainable params: 43,137\n",
      "Non-trainable params: 0\n",
      "_________________________________________________________________\n"
     ]
    },
    {
     "name": "stderr",
     "output_type": "stream",
     "text": [
      "2022-10-08 14:21:57.004007: W tensorflow/stream_executor/platform/default/dso_loader.cc:64] Could not load dynamic library 'libcuda.so.1'; dlerror: libcuda.so.1: cannot open shared object file: No such file or directory; LD_LIBRARY_PATH: /usr/local/cuda/lib64:/usr/local/cuda/lib:/usr/local/lib/x86_64-linux-gnu:/usr/local/nvidia/lib:/usr/local/nvidia/lib64:\n",
      "2022-10-08 14:21:57.004075: W tensorflow/stream_executor/cuda/cuda_driver.cc:263] failed call to cuInit: UNKNOWN ERROR (303)\n",
      "2022-10-08 14:21:57.004109: I tensorflow/stream_executor/cuda/cuda_diagnostics.cc:156] kernel driver does not appear to be running on this host (507d52f4cf37): /proc/driver/nvidia/version does not exist\n",
      "2022-10-08 14:21:57.004439: I tensorflow/core/platform/cpu_feature_guard.cc:193] This TensorFlow binary is optimized with oneAPI Deep Neural Network Library (oneDNN) to use the following CPU instructions in performance-critical operations:  AVX2 FMA\n",
      "To enable them in other operations, rebuild TensorFlow with the appropriate compiler flags.\n"
     ]
    }
   ],
   "source": [
    "input_shape = X_train.shape[1]\n",
    "model = create_model(input_shape)\n",
    "model.summary()"
   ]
  },
  {
   "cell_type": "markdown",
   "id": "50036fc3",
   "metadata": {
    "papermill": {
     "duration": 0.062427,
     "end_time": "2022-10-08T14:21:57.274514",
     "exception": false,
     "start_time": "2022-10-08T14:21:57.212087",
     "status": "completed"
    },
    "tags": []
   },
   "source": [
    "### Visualization of model architecture"
   ]
  },
  {
   "cell_type": "code",
   "execution_count": 12,
   "id": "a0d40868",
   "metadata": {
    "execution": {
     "iopub.execute_input": "2022-10-08T14:21:57.405724Z",
     "iopub.status.busy": "2022-10-08T14:21:57.405337Z",
     "iopub.status.idle": "2022-10-08T14:21:58.421315Z",
     "shell.execute_reply": "2022-10-08T14:21:58.420009Z"
    },
    "papermill": {
     "duration": 1.08357,
     "end_time": "2022-10-08T14:21:58.423722",
     "exception": false,
     "start_time": "2022-10-08T14:21:57.340152",
     "status": "completed"
    },
    "tags": []
   },
   "outputs": [
    {
     "data": {
      "image/png": "[encoded data removed]",
      "text/plain": [
       "<IPython.core.display.Image object>"
      ]
     },
     "execution_count": 12,
     "metadata": {},
     "output_type": "execute_result"
    }
   ],
   "source": [
    "plot_model(model, show_shapes=True, rankdir=\"LR\")"
   ]
  },
  {
   "cell_type": "markdown",
   "id": "f96730c5",
   "metadata": {
    "papermill": {
     "duration": 0.06394,
     "end_time": "2022-10-08T14:21:58.552090",
     "exception": false,
     "start_time": "2022-10-08T14:21:58.488150",
     "status": "completed"
    },
    "tags": []
   },
   "source": [
    "### Creation of Early Stopping callback\n",
    ">Early stopping monitors **val_loss** and **patience = 3**.<br> \n",
    "**Note**: val_accuracy can also be monitored"
   ]
  },
  {
   "cell_type": "code",
   "execution_count": 13,
   "id": "56478135",
   "metadata": {
    "execution": {
     "iopub.execute_input": "2022-10-08T14:21:58.683293Z",
     "iopub.status.busy": "2022-10-08T14:21:58.682847Z",
     "iopub.status.idle": "2022-10-08T14:21:58.687738Z",
     "shell.execute_reply": "2022-10-08T14:21:58.686937Z"
    },
    "papermill": {
     "duration": 0.07341,
     "end_time": "2022-10-08T14:21:58.689621",
     "exception": false,
     "start_time": "2022-10-08T14:21:58.616211",
     "status": "completed"
    },
    "tags": []
   },
   "outputs": [],
   "source": [
    "def early_stopping(monitor='val_loss', patience=3):\n",
    "    return [EarlyStopping(monitor=monitor, patience=patience)]"
   ]
  },
  {
   "cell_type": "markdown",
   "id": "b07168cd",
   "metadata": {
    "papermill": {
     "duration": 0.062867,
     "end_time": "2022-10-08T14:21:58.817111",
     "exception": false,
     "start_time": "2022-10-08T14:21:58.754244",
     "status": "completed"
    },
    "tags": []
   },
   "source": [
    "### Training Neural Network\n",
    "> Training Specifications:\n",
    "<br>\n",
    "**Batch Size**: 256 <br>\n",
    "**Number of Epochs**: 100"
   ]
  },
  {
   "cell_type": "code",
   "execution_count": 14,
   "id": "9f56c7e0",
   "metadata": {
    "execution": {
     "iopub.execute_input": "2022-10-08T14:21:59.015764Z",
     "iopub.status.busy": "2022-10-08T14:21:59.014819Z",
     "iopub.status.idle": "2022-10-08T14:25:09.962788Z",
     "shell.execute_reply": "2022-10-08T14:25:09.961627Z"
    },
    "papermill": {
     "duration": 191.089231,
     "end_time": "2022-10-08T14:25:10.037479",
     "exception": false,
     "start_time": "2022-10-08T14:21:58.948248",
     "status": "completed"
    },
    "tags": []
   },
   "outputs": [
    {
     "name": "stdout",
     "output_type": "stream",
     "text": [
      "Epoch 1/100\n",
      "499/499 - 4s - loss: 0.6898 - accuracy: 0.5365 - val_loss: 0.6846 - val_accuracy: 0.5518 - 4s/epoch - 7ms/step\n",
      "Epoch 2/100\n",
      "499/499 - 3s - loss: 0.6834 - accuracy: 0.5526 - val_loss: 0.6816 - val_accuracy: 0.5565 - 3s/epoch - 6ms/step\n",
      "Epoch 3/100\n",
      "499/499 - 3s - loss: 0.6803 - accuracy: 0.5582 - val_loss: 0.6799 - val_accuracy: 0.5623 - 3s/epoch - 6ms/step\n",
      "Epoch 4/100\n",
      "499/499 - 3s - loss: 0.6775 - accuracy: 0.5657 - val_loss: 0.6763 - val_accuracy: 0.5681 - 3s/epoch - 6ms/step\n",
      "Epoch 5/100\n",
      "499/499 - 3s - loss: 0.6745 - accuracy: 0.5713 - val_loss: 0.6738 - val_accuracy: 0.5738 - 3s/epoch - 5ms/step\n",
      "Epoch 6/100\n",
      "499/499 - 3s - loss: 0.6707 - accuracy: 0.5785 - val_loss: 0.6716 - val_accuracy: 0.5783 - 3s/epoch - 5ms/step\n",
      "Epoch 7/100\n",
      "499/499 - 3s - loss: 0.6672 - accuracy: 0.5852 - val_loss: 0.6668 - val_accuracy: 0.5885 - 3s/epoch - 5ms/step\n",
      "Epoch 8/100\n",
      "499/499 - 3s - loss: 0.6632 - accuracy: 0.5914 - val_loss: 0.6632 - val_accuracy: 0.5943 - 3s/epoch - 5ms/step\n",
      "Epoch 9/100\n",
      "499/499 - 3s - loss: 0.6591 - accuracy: 0.5964 - val_loss: 0.6602 - val_accuracy: 0.5986 - 3s/epoch - 5ms/step\n",
      "Epoch 10/100\n",
      "499/499 - 3s - loss: 0.6558 - accuracy: 0.6012 - val_loss: 0.6582 - val_accuracy: 0.6033 - 3s/epoch - 5ms/step\n",
      "Epoch 11/100\n",
      "499/499 - 3s - loss: 0.6503 - accuracy: 0.6097 - val_loss: 0.6543 - val_accuracy: 0.6086 - 3s/epoch - 5ms/step\n",
      "Epoch 12/100\n",
      "499/499 - 3s - loss: 0.6480 - accuracy: 0.6125 - val_loss: 0.6506 - val_accuracy: 0.6110 - 3s/epoch - 6ms/step\n",
      "Epoch 13/100\n",
      "499/499 - 3s - loss: 0.6453 - accuracy: 0.6159 - val_loss: 0.6482 - val_accuracy: 0.6166 - 3s/epoch - 6ms/step\n",
      "Epoch 14/100\n",
      "499/499 - 3s - loss: 0.6407 - accuracy: 0.6214 - val_loss: 0.6440 - val_accuracy: 0.6218 - 3s/epoch - 5ms/step\n",
      "Epoch 15/100\n",
      "499/499 - 3s - loss: 0.6379 - accuracy: 0.6247 - val_loss: 0.6418 - val_accuracy: 0.6234 - 3s/epoch - 6ms/step\n",
      "Epoch 16/100\n",
      "499/499 - 3s - loss: 0.6358 - accuracy: 0.6254 - val_loss: 0.6404 - val_accuracy: 0.6292 - 3s/epoch - 5ms/step\n",
      "Epoch 17/100\n",
      "499/499 - 3s - loss: 0.6328 - accuracy: 0.6298 - val_loss: 0.6391 - val_accuracy: 0.6290 - 3s/epoch - 6ms/step\n",
      "Epoch 18/100\n",
      "499/499 - 3s - loss: 0.6299 - accuracy: 0.6321 - val_loss: 0.6349 - val_accuracy: 0.6321 - 3s/epoch - 6ms/step\n",
      "Epoch 19/100\n",
      "499/499 - 3s - loss: 0.6282 - accuracy: 0.6353 - val_loss: 0.6332 - val_accuracy: 0.6331 - 3s/epoch - 5ms/step\n",
      "Epoch 20/100\n",
      "499/499 - 3s - loss: 0.6246 - accuracy: 0.6399 - val_loss: 0.6323 - val_accuracy: 0.6322 - 3s/epoch - 5ms/step\n",
      "Epoch 21/100\n",
      "499/499 - 3s - loss: 0.6234 - accuracy: 0.6405 - val_loss: 0.6304 - val_accuracy: 0.6384 - 3s/epoch - 5ms/step\n",
      "Epoch 22/100\n",
      "499/499 - 3s - loss: 0.6203 - accuracy: 0.6439 - val_loss: 0.6269 - val_accuracy: 0.6414 - 3s/epoch - 5ms/step\n",
      "Epoch 23/100\n",
      "499/499 - 3s - loss: 0.6188 - accuracy: 0.6456 - val_loss: 0.6258 - val_accuracy: 0.6420 - 3s/epoch - 5ms/step\n",
      "Epoch 24/100\n",
      "499/499 - 3s - loss: 0.6170 - accuracy: 0.6476 - val_loss: 0.6242 - val_accuracy: 0.6440 - 3s/epoch - 5ms/step\n",
      "Epoch 25/100\n",
      "499/499 - 3s - loss: 0.6156 - accuracy: 0.6488 - val_loss: 0.6233 - val_accuracy: 0.6475 - 3s/epoch - 6ms/step\n",
      "Epoch 26/100\n",
      "499/499 - 3s - loss: 0.6133 - accuracy: 0.6504 - val_loss: 0.6214 - val_accuracy: 0.6454 - 3s/epoch - 6ms/step\n",
      "Epoch 27/100\n",
      "499/499 - 3s - loss: 0.6112 - accuracy: 0.6532 - val_loss: 0.6205 - val_accuracy: 0.6498 - 3s/epoch - 5ms/step\n",
      "Epoch 28/100\n",
      "499/499 - 3s - loss: 0.6104 - accuracy: 0.6536 - val_loss: 0.6190 - val_accuracy: 0.6516 - 3s/epoch - 6ms/step\n",
      "Epoch 29/100\n",
      "499/499 - 3s - loss: 0.6091 - accuracy: 0.6555 - val_loss: 0.6178 - val_accuracy: 0.6491 - 3s/epoch - 5ms/step\n",
      "Epoch 30/100\n",
      "499/499 - 3s - loss: 0.6086 - accuracy: 0.6556 - val_loss: 0.6169 - val_accuracy: 0.6488 - 3s/epoch - 5ms/step\n",
      "Epoch 31/100\n",
      "499/499 - 3s - loss: 0.6070 - accuracy: 0.6578 - val_loss: 0.6157 - val_accuracy: 0.6537 - 3s/epoch - 5ms/step\n",
      "Epoch 32/100\n",
      "499/499 - 3s - loss: 0.6059 - accuracy: 0.6590 - val_loss: 0.6153 - val_accuracy: 0.6527 - 3s/epoch - 5ms/step\n",
      "Epoch 33/100\n",
      "499/499 - 3s - loss: 0.6040 - accuracy: 0.6606 - val_loss: 0.6142 - val_accuracy: 0.6563 - 3s/epoch - 6ms/step\n",
      "Epoch 34/100\n",
      "499/499 - 3s - loss: 0.6028 - accuracy: 0.6617 - val_loss: 0.6140 - val_accuracy: 0.6571 - 3s/epoch - 6ms/step\n",
      "Epoch 35/100\n",
      "499/499 - 3s - loss: 0.6029 - accuracy: 0.6606 - val_loss: 0.6115 - val_accuracy: 0.6577 - 3s/epoch - 6ms/step\n",
      "Epoch 36/100\n",
      "499/499 - 3s - loss: 0.5995 - accuracy: 0.6660 - val_loss: 0.6112 - val_accuracy: 0.6575 - 3s/epoch - 6ms/step\n",
      "Epoch 37/100\n",
      "499/499 - 3s - loss: 0.6006 - accuracy: 0.6621 - val_loss: 0.6097 - val_accuracy: 0.6605 - 3s/epoch - 5ms/step\n",
      "Epoch 38/100\n",
      "499/499 - 3s - loss: 0.5980 - accuracy: 0.6649 - val_loss: 0.6096 - val_accuracy: 0.6599 - 3s/epoch - 5ms/step\n",
      "Epoch 39/100\n",
      "499/499 - 3s - loss: 0.5964 - accuracy: 0.6674 - val_loss: 0.6101 - val_accuracy: 0.6580 - 3s/epoch - 6ms/step\n",
      "Epoch 40/100\n",
      "499/499 - 3s - loss: 0.5961 - accuracy: 0.6677 - val_loss: 0.6071 - val_accuracy: 0.6606 - 3s/epoch - 5ms/step\n",
      "Epoch 41/100\n",
      "499/499 - 3s - loss: 0.5943 - accuracy: 0.6691 - val_loss: 0.6081 - val_accuracy: 0.6609 - 3s/epoch - 5ms/step\n",
      "Epoch 42/100\n",
      "499/499 - 3s - loss: 0.5934 - accuracy: 0.6701 - val_loss: 0.6068 - val_accuracy: 0.6620 - 3s/epoch - 6ms/step\n",
      "Epoch 43/100\n",
      "499/499 - 3s - loss: 0.5939 - accuracy: 0.6700 - val_loss: 0.6050 - val_accuracy: 0.6614 - 3s/epoch - 5ms/step\n",
      "Epoch 44/100\n",
      "499/499 - 3s - loss: 0.5932 - accuracy: 0.6708 - val_loss: 0.6052 - val_accuracy: 0.6642 - 3s/epoch - 5ms/step\n",
      "Epoch 45/100\n",
      "499/499 - 3s - loss: 0.5929 - accuracy: 0.6718 - val_loss: 0.6063 - val_accuracy: 0.6630 - 3s/epoch - 5ms/step\n",
      "Epoch 46/100\n",
      "499/499 - 3s - loss: 0.5909 - accuracy: 0.6725 - val_loss: 0.6030 - val_accuracy: 0.6646 - 3s/epoch - 6ms/step\n",
      "Epoch 47/100\n",
      "499/499 - 3s - loss: 0.5900 - accuracy: 0.6715 - val_loss: 0.6041 - val_accuracy: 0.6663 - 3s/epoch - 6ms/step\n",
      "Epoch 48/100\n",
      "499/499 - 3s - loss: 0.5893 - accuracy: 0.6746 - val_loss: 0.6026 - val_accuracy: 0.6665 - 3s/epoch - 6ms/step\n",
      "Epoch 49/100\n",
      "499/499 - 3s - loss: 0.5886 - accuracy: 0.6746 - val_loss: 0.6039 - val_accuracy: 0.6657 - 3s/epoch - 5ms/step\n",
      "Epoch 50/100\n",
      "499/499 - 3s - loss: 0.5896 - accuracy: 0.6734 - val_loss: 0.6008 - val_accuracy: 0.6681 - 3s/epoch - 5ms/step\n",
      "Epoch 51/100\n",
      "499/499 - 3s - loss: 0.5868 - accuracy: 0.6762 - val_loss: 0.6010 - val_accuracy: 0.6678 - 3s/epoch - 5ms/step\n",
      "Epoch 52/100\n",
      "499/499 - 3s - loss: 0.5867 - accuracy: 0.6768 - val_loss: 0.5996 - val_accuracy: 0.6695 - 3s/epoch - 6ms/step\n",
      "Epoch 53/100\n",
      "499/499 - 3s - loss: 0.5861 - accuracy: 0.6778 - val_loss: 0.6004 - val_accuracy: 0.6688 - 3s/epoch - 5ms/step\n",
      "Epoch 54/100\n",
      "499/499 - 3s - loss: 0.5856 - accuracy: 0.6779 - val_loss: 0.5993 - val_accuracy: 0.6696 - 3s/epoch - 6ms/step\n",
      "Epoch 55/100\n",
      "499/499 - 3s - loss: 0.5834 - accuracy: 0.6806 - val_loss: 0.5978 - val_accuracy: 0.6694 - 3s/epoch - 5ms/step\n",
      "Epoch 56/100\n",
      "499/499 - 3s - loss: 0.5849 - accuracy: 0.6777 - val_loss: 0.5979 - val_accuracy: 0.6718 - 3s/epoch - 5ms/step\n",
      "Epoch 57/100\n",
      "499/499 - 3s - loss: 0.5825 - accuracy: 0.6823 - val_loss: 0.5987 - val_accuracy: 0.6693 - 3s/epoch - 5ms/step\n",
      "Epoch 58/100\n",
      "499/499 - 3s - loss: 0.5823 - accuracy: 0.6799 - val_loss: 0.5961 - val_accuracy: 0.6710 - 3s/epoch - 5ms/step\n",
      "Epoch 59/100\n",
      "499/499 - 3s - loss: 0.5819 - accuracy: 0.6817 - val_loss: 0.5969 - val_accuracy: 0.6722 - 3s/epoch - 6ms/step\n",
      "Epoch 60/100\n",
      "499/499 - 3s - loss: 0.5795 - accuracy: 0.6815 - val_loss: 0.5948 - val_accuracy: 0.6723 - 3s/epoch - 5ms/step\n",
      "Epoch 61/100\n",
      "499/499 - 2s - loss: 0.5796 - accuracy: 0.6838 - val_loss: 0.5948 - val_accuracy: 0.6729 - 2s/epoch - 5ms/step\n",
      "Epoch 62/100\n",
      "499/499 - 3s - loss: 0.5796 - accuracy: 0.6823 - val_loss: 0.5949 - val_accuracy: 0.6723 - 3s/epoch - 5ms/step\n",
      "Epoch 63/100\n",
      "499/499 - 2s - loss: 0.5785 - accuracy: 0.6813 - val_loss: 0.5936 - val_accuracy: 0.6736 - 2s/epoch - 5ms/step\n",
      "Epoch 64/100\n",
      "499/499 - 3s - loss: 0.5790 - accuracy: 0.6833 - val_loss: 0.5938 - val_accuracy: 0.6742 - 3s/epoch - 5ms/step\n",
      "Epoch 65/100\n",
      "499/499 - 3s - loss: 0.5801 - accuracy: 0.6829 - val_loss: 0.5952 - val_accuracy: 0.6744 - 3s/epoch - 5ms/step\n",
      "Epoch 66/100\n",
      "499/499 - 3s - loss: 0.5778 - accuracy: 0.6845 - val_loss: 0.5924 - val_accuracy: 0.6747 - 3s/epoch - 6ms/step\n",
      "Epoch 67/100\n",
      "499/499 - 3s - loss: 0.5779 - accuracy: 0.6851 - val_loss: 0.5926 - val_accuracy: 0.6751 - 3s/epoch - 6ms/step\n",
      "Epoch 68/100\n",
      "499/499 - 3s - loss: 0.5779 - accuracy: 0.6856 - val_loss: 0.5916 - val_accuracy: 0.6740 - 3s/epoch - 5ms/step\n",
      "Epoch 69/100\n",
      "499/499 - 3s - loss: 0.5755 - accuracy: 0.6857 - val_loss: 0.5923 - val_accuracy: 0.6755 - 3s/epoch - 5ms/step\n",
      "Epoch 70/100\n",
      "499/499 - 3s - loss: 0.5761 - accuracy: 0.6861 - val_loss: 0.5924 - val_accuracy: 0.6731 - 3s/epoch - 5ms/step\n",
      "Epoch 71/100\n",
      "499/499 - 3s - loss: 0.5764 - accuracy: 0.6858 - val_loss: 0.5927 - val_accuracy: 0.6742 - 3s/epoch - 5ms/step\n"
     ]
    }
   ],
   "source": [
    "num_epochs = 100\n",
    "batch_size = 256\n",
    "\n",
    "history = model.fit(X_train_scaled, y_train, \n",
    "                epochs=num_epochs, \n",
    "                batch_size=batch_size, \n",
    "                verbose = 2,\n",
    "                callbacks=early_stopping(monitor='val_loss', patience=3),\n",
    "                validation_data=(X_test_scaled, y_test)\n",
    "            )"
   ]
  },
  {
   "cell_type": "markdown",
   "id": "73b7d833",
   "metadata": {
    "papermill": {
     "duration": 0.073573,
     "end_time": "2022-10-08T14:25:10.183544",
     "exception": false,
     "start_time": "2022-10-08T14:25:10.109971",
     "status": "completed"
    },
    "tags": []
   },
   "source": [
    "## Part B\n",
    ">Plot train and test accuracies and losses on training and test data against training\n",
    "epochs and comment on the line plots. Explain the use of early stopping in this\n",
    "question."
   ]
  },
  {
   "cell_type": "markdown",
   "id": "1a4363f1",
   "metadata": {
    "papermill": {
     "duration": 0.0736,
     "end_time": "2022-10-08T14:25:10.330535",
     "exception": false,
     "start_time": "2022-10-08T14:25:10.256935",
     "status": "completed"
    },
    "tags": []
   },
   "source": [
    "### Plot of Model Accuracy against number of epochs"
   ]
  },
  {
   "cell_type": "code",
   "execution_count": 15,
   "id": "5c5e7c8a",
   "metadata": {
    "execution": {
     "iopub.execute_input": "2022-10-08T14:25:10.481775Z",
     "iopub.status.busy": "2022-10-08T14:25:10.481368Z",
     "iopub.status.idle": "2022-10-08T14:25:10.775420Z",
     "shell.execute_reply": "2022-10-08T14:25:10.774340Z"
    },
    "papermill": {
     "duration": 0.372054,
     "end_time": "2022-10-08T14:25:10.777736",
     "exception": false,
     "start_time": "2022-10-08T14:25:10.405682",
     "status": "completed"
    },
    "tags": []
   },
   "outputs": [
    {
     "data": {
      "text/plain": [
       "<matplotlib.legend.Legend at 0x7f9b02713410>"
      ]
     },
     "execution_count": 15,
     "metadata": {},
     "output_type": "execute_result"
    },
    {
     "data": {
      "image/png": "[encoded data removed]",
      "text/plain": [
       "<Figure size 432x288 with 1 Axes>"
      ]
     },
     "metadata": {
      "needs_background": "light"
     },
     "output_type": "display_data"
    }
   ],
   "source": [
    "plt.figure()\n",
    "plt.plot(history.history['accuracy'])\n",
    "plt.plot(history.history['val_accuracy'])\n",
    "plt.title('Model accuracy vs Number of epochs')\n",
    "plt.ylabel('Accuracy')\n",
    "plt.xlabel('Epoch')\n",
    "plt.legend(['train', 'test'], loc='upper left')"
   ]
  },
  {
   "cell_type": "markdown",
   "id": "2df532ab",
   "metadata": {
    "papermill": {
     "duration": 0.073378,
     "end_time": "2022-10-08T14:25:10.925250",
     "exception": false,
     "start_time": "2022-10-08T14:25:10.851872",
     "status": "completed"
    },
    "tags": []
   },
   "source": [
    "### Plot of Model Loss against number of epochs"
   ]
  },
  {
   "cell_type": "code",
   "execution_count": 16,
   "id": "251af075",
   "metadata": {
    "execution": {
     "iopub.execute_input": "2022-10-08T14:25:11.076555Z",
     "iopub.status.busy": "2022-10-08T14:25:11.076095Z",
     "iopub.status.idle": "2022-10-08T14:25:11.322802Z",
     "shell.execute_reply": "2022-10-08T14:25:11.321939Z"
    },
    "papermill": {
     "duration": 0.325581,
     "end_time": "2022-10-08T14:25:11.325136",
     "exception": false,
     "start_time": "2022-10-08T14:25:10.999555",
     "status": "completed"
    },
    "tags": []
   },
   "outputs": [
    {
     "data": {
      "text/plain": [
       "<matplotlib.legend.Legend at 0x7f9b9b2bb110>"
      ]
     },
     "execution_count": 16,
     "metadata": {},
     "output_type": "execute_result"
    },
    {
     "data": {
      "image/png": "[encoded data removed]",
      "text/plain": [
       "<Figure size 432x288 with 1 Axes>"
      ]
     },
     "metadata": {
      "needs_background": "light"
     },
     "output_type": "display_data"
    }
   ],
   "source": [
    "plt.figure()\n",
    "plt.plot(history.history['loss'])\n",
    "plt.plot(history.history['val_loss'])\n",
    "plt.title('model loss')\n",
    "plt.ylabel('cross-entropy')\n",
    "plt.xlabel('epoch')\n",
    "plt.legend(['train', 'test'], loc='upper right')"
   ]
  },
  {
   "cell_type": "markdown",
   "id": "4d35ecc1",
   "metadata": {
    "papermill": {
     "duration": 0.093088,
     "end_time": "2022-10-08T14:25:11.504355",
     "exception": false,
     "start_time": "2022-10-08T14:25:11.411267",
     "status": "completed"
    },
    "tags": []
   },
   "source": [
    "### Purpose of Early Stopping\n",
    "> As we can see from the Loss plot, the train loss and test loss decrease as the number of epochs increases. However somewhere after the 60th epoch, the train loss decreases much more than the test loss and slowly the test loss starts to plateua and increase. <br>\n",
    "This is a sign of overfitting and Early Stopping cut short the training as soon as the validation loss stopped improving"
   ]
  },
  {
   "cell_type": "code",
   "execution_count": null,
   "id": "6651d8f4",
   "metadata": {
    "papermill": {
     "duration": 0.074359,
     "end_time": "2022-10-08T14:25:11.653152",
     "exception": false,
     "start_time": "2022-10-08T14:25:11.578793",
     "status": "completed"
    },
    "tags": []
   },
   "outputs": [],
   "source": []
  }
 ],
 "metadata": {
  "kernelspec": {
   "display_name": "Python 3",
   "language": "python",
   "name": "python3"
  },
  "language_info": {
   "codemirror_mode": {
    "name": "ipython",
    "version": 3
   },
   "file_extension": ".py",
   "mimetype": "text/x-python",
   "name": "python",
   "nbconvert_exporter": "python",
   "pygments_lexer": "ipython3",
   "version": "3.7.12"
  },
  "papermill": {
   "default_parameters": {},
   "duration": 323.266581,
   "end_time": "2022-10-08T14:25:14.443889",
   "environment_variables": {},
   "exception": null,
   "input_path": "__notebook__.ipynb",
   "output_path": "__notebook__.ipynb",
   "parameters": {},
   "start_time": "2022-10-08T14:19:51.177308",
   "version": "2.3.4"
  }
 },
 "nbformat": 4,
 "nbformat_minor": 5
}
