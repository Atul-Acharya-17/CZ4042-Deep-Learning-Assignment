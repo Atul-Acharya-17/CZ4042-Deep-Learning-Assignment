{
 "cells": [
  {
   "cell_type": "code",
   "execution_count": 1,
   "metadata": {},
   "outputs": [],
   "source": [
    "import pandas as pd\n",
    "import matplotlib.pyplot as plt\n",
    "\n",
    "from sklearn import preprocessing\n",
    "from sklearn.model_selection import train_test_split\n",
    "\n",
    "from tensorflow.keras import Sequential\n",
    "from tensorflow.keras.layers import InputLayer, Dense, Dropout\n",
    "from tensorflow.keras.callbacks import EarlyStopping\n",
    "from tensorflow.keras.optimizers import Adam"
   ]
  },
  {
   "cell_type": "code",
   "execution_count": 2,
   "metadata": {},
   "outputs": [],
   "source": [
    "SEED = 42\n",
    "\n",
    "import os\n",
    "os.environ['TF_CUDNN_DETERMINISTIC'] = '1'\n",
    "\n",
    "import random \n",
    "random.seed(SEED)\n",
    "\n",
    "import numpy as np\n",
    "np.random.seed(SEED)\n",
    "\n",
    "import tensorflow as tf\n",
    "tf.random.set_seed(SEED)"
   ]
  },
  {
   "cell_type": "code",
   "execution_count": 3,
   "metadata": {},
   "outputs": [
    {
     "data": {
      "text/html": [
       "<div>\n",
       "<style scoped>\n",
       "    .dataframe tbody tr th:only-of-type {\n",
       "        vertical-align: middle;\n",
       "    }\n",
       "\n",
       "    .dataframe tbody tr th {\n",
       "        vertical-align: top;\n",
       "    }\n",
       "\n",
       "    .dataframe thead th {\n",
       "        text-align: right;\n",
       "    }\n",
       "</style>\n",
       "<table border=\"1\" class=\"dataframe\">\n",
       "  <thead>\n",
       "    <tr style=\"text-align: right;\">\n",
       "      <th></th>\n",
       "      <th>filename</th>\n",
       "      <th>tempo</th>\n",
       "      <th>total_beats</th>\n",
       "      <th>average_beats</th>\n",
       "      <th>chroma_stft_mean</th>\n",
       "      <th>chroma_stft_var</th>\n",
       "      <th>chroma_cq_mean</th>\n",
       "      <th>chroma_cq_var</th>\n",
       "      <th>chroma_cens_mean</th>\n",
       "      <th>chroma_cens_var</th>\n",
       "      <th>...</th>\n",
       "      <th>mfcc15_mean</th>\n",
       "      <th>mfcc15_var</th>\n",
       "      <th>mfcc16_mean</th>\n",
       "      <th>mfcc16_var</th>\n",
       "      <th>mfcc17_mean</th>\n",
       "      <th>mfcc17_var</th>\n",
       "      <th>mfcc18_mean</th>\n",
       "      <th>mfcc18_var</th>\n",
       "      <th>mfcc19_mean</th>\n",
       "      <th>mfcc19_var</th>\n",
       "    </tr>\n",
       "  </thead>\n",
       "  <tbody>\n",
       "    <tr>\n",
       "      <th>0</th>\n",
       "      <td>app_3001_4001_phnd_neg_0000.wav</td>\n",
       "      <td>184.570312</td>\n",
       "      <td>623</td>\n",
       "      <td>69.222222</td>\n",
       "      <td>0.515281</td>\n",
       "      <td>0.093347</td>\n",
       "      <td>0.443441</td>\n",
       "      <td>0.082742</td>\n",
       "      <td>0.249143</td>\n",
       "      <td>0.021261</td>\n",
       "      <td>...</td>\n",
       "      <td>-10.669799</td>\n",
       "      <td>63.340282</td>\n",
       "      <td>1.811605</td>\n",
       "      <td>58.117188</td>\n",
       "      <td>-3.286546</td>\n",
       "      <td>54.268448</td>\n",
       "      <td>-2.719069</td>\n",
       "      <td>59.548176</td>\n",
       "      <td>-4.559987</td>\n",
       "      <td>70.774803</td>\n",
       "    </tr>\n",
       "    <tr>\n",
       "      <th>1</th>\n",
       "      <td>app_3001_4001_phnd_neg_0001.wav</td>\n",
       "      <td>151.999081</td>\n",
       "      <td>521</td>\n",
       "      <td>74.428571</td>\n",
       "      <td>0.487201</td>\n",
       "      <td>0.094461</td>\n",
       "      <td>0.542182</td>\n",
       "      <td>0.073359</td>\n",
       "      <td>0.274423</td>\n",
       "      <td>0.008025</td>\n",
       "      <td>...</td>\n",
       "      <td>-5.666375</td>\n",
       "      <td>90.256195</td>\n",
       "      <td>1.573594</td>\n",
       "      <td>105.070496</td>\n",
       "      <td>-0.742024</td>\n",
       "      <td>82.417496</td>\n",
       "      <td>-1.961745</td>\n",
       "      <td>119.312355</td>\n",
       "      <td>1.513660</td>\n",
       "      <td>101.014572</td>\n",
       "    </tr>\n",
       "    <tr>\n",
       "      <th>2</th>\n",
       "      <td>app_3001_4001_phnd_neg_0002.wav</td>\n",
       "      <td>112.347147</td>\n",
       "      <td>1614</td>\n",
       "      <td>146.727273</td>\n",
       "      <td>0.444244</td>\n",
       "      <td>0.099268</td>\n",
       "      <td>0.442014</td>\n",
       "      <td>0.083224</td>\n",
       "      <td>0.264430</td>\n",
       "      <td>0.013410</td>\n",
       "      <td>...</td>\n",
       "      <td>-5.502390</td>\n",
       "      <td>73.079750</td>\n",
       "      <td>0.202623</td>\n",
       "      <td>72.040550</td>\n",
       "      <td>-4.021009</td>\n",
       "      <td>73.844353</td>\n",
       "      <td>-5.916223</td>\n",
       "      <td>103.834824</td>\n",
       "      <td>-2.939086</td>\n",
       "      <td>113.598824</td>\n",
       "    </tr>\n",
       "    <tr>\n",
       "      <th>3</th>\n",
       "      <td>app_3001_4001_phnd_neg_0003.wav</td>\n",
       "      <td>107.666016</td>\n",
       "      <td>2060</td>\n",
       "      <td>158.461538</td>\n",
       "      <td>0.454156</td>\n",
       "      <td>0.100834</td>\n",
       "      <td>0.424370</td>\n",
       "      <td>0.084435</td>\n",
       "      <td>0.257672</td>\n",
       "      <td>0.016938</td>\n",
       "      <td>...</td>\n",
       "      <td>-8.812989</td>\n",
       "      <td>93.791893</td>\n",
       "      <td>-0.429413</td>\n",
       "      <td>60.002579</td>\n",
       "      <td>-4.013513</td>\n",
       "      <td>82.544540</td>\n",
       "      <td>-5.858006</td>\n",
       "      <td>84.402092</td>\n",
       "      <td>0.686969</td>\n",
       "      <td>90.126389</td>\n",
       "    </tr>\n",
       "    <tr>\n",
       "      <th>4</th>\n",
       "      <td>app_3001_4001_phnd_neg_0004.wav</td>\n",
       "      <td>75.999540</td>\n",
       "      <td>66</td>\n",
       "      <td>33.000000</td>\n",
       "      <td>0.478780</td>\n",
       "      <td>0.100000</td>\n",
       "      <td>0.414859</td>\n",
       "      <td>0.089313</td>\n",
       "      <td>0.252143</td>\n",
       "      <td>0.019757</td>\n",
       "      <td>...</td>\n",
       "      <td>-6.584204</td>\n",
       "      <td>64.973305</td>\n",
       "      <td>0.744403</td>\n",
       "      <td>68.908516</td>\n",
       "      <td>-6.354805</td>\n",
       "      <td>66.414391</td>\n",
       "      <td>-6.555534</td>\n",
       "      <td>47.852840</td>\n",
       "      <td>-4.809713</td>\n",
       "      <td>73.033966</td>\n",
       "    </tr>\n",
       "  </tbody>\n",
       "</table>\n",
       "<p>5 rows × 78 columns</p>\n",
       "</div>"
      ],
      "text/plain": [
       "                          filename       tempo  total_beats  average_beats  \\\n",
       "0  app_3001_4001_phnd_neg_0000.wav  184.570312          623      69.222222   \n",
       "1  app_3001_4001_phnd_neg_0001.wav  151.999081          521      74.428571   \n",
       "2  app_3001_4001_phnd_neg_0002.wav  112.347147         1614     146.727273   \n",
       "3  app_3001_4001_phnd_neg_0003.wav  107.666016         2060     158.461538   \n",
       "4  app_3001_4001_phnd_neg_0004.wav   75.999540           66      33.000000   \n",
       "\n",
       "   chroma_stft_mean  chroma_stft_var  chroma_cq_mean  chroma_cq_var  \\\n",
       "0          0.515281         0.093347        0.443441       0.082742   \n",
       "1          0.487201         0.094461        0.542182       0.073359   \n",
       "2          0.444244         0.099268        0.442014       0.083224   \n",
       "3          0.454156         0.100834        0.424370       0.084435   \n",
       "4          0.478780         0.100000        0.414859       0.089313   \n",
       "\n",
       "   chroma_cens_mean  chroma_cens_var  ...  mfcc15_mean  mfcc15_var  \\\n",
       "0          0.249143         0.021261  ...   -10.669799   63.340282   \n",
       "1          0.274423         0.008025  ...    -5.666375   90.256195   \n",
       "2          0.264430         0.013410  ...    -5.502390   73.079750   \n",
       "3          0.257672         0.016938  ...    -8.812989   93.791893   \n",
       "4          0.252143         0.019757  ...    -6.584204   64.973305   \n",
       "\n",
       "   mfcc16_mean  mfcc16_var  mfcc17_mean  mfcc17_var  mfcc18_mean  mfcc18_var  \\\n",
       "0     1.811605   58.117188    -3.286546   54.268448    -2.719069   59.548176   \n",
       "1     1.573594  105.070496    -0.742024   82.417496    -1.961745  119.312355   \n",
       "2     0.202623   72.040550    -4.021009   73.844353    -5.916223  103.834824   \n",
       "3    -0.429413   60.002579    -4.013513   82.544540    -5.858006   84.402092   \n",
       "4     0.744403   68.908516    -6.354805   66.414391    -6.555534   47.852840   \n",
       "\n",
       "   mfcc19_mean  mfcc19_var  \n",
       "0    -4.559987   70.774803  \n",
       "1     1.513660  101.014572  \n",
       "2    -2.939086  113.598824  \n",
       "3     0.686969   90.126389  \n",
       "4    -4.809713   73.033966  \n",
       "\n",
       "[5 rows x 78 columns]"
      ]
     },
     "execution_count": 3,
     "metadata": {},
     "output_type": "execute_result"
    }
   ],
   "source": [
    "df = pd.read_csv('./full.csv') \n",
    "df.head()"
   ]
  },
  {
   "cell_type": "code",
   "execution_count": 4,
   "metadata": {},
   "outputs": [],
   "source": [
    "df['label'] = df['filename'].str.split('_').str[-2]"
   ]
  },
  {
   "cell_type": "code",
   "execution_count": 5,
   "metadata": {},
   "outputs": [
    {
     "data": {
      "text/plain": [
       "pos    92826\n",
       "neg    89428\n",
       "Name: label, dtype: int64"
      ]
     },
     "execution_count": 5,
     "metadata": {},
     "output_type": "execute_result"
    }
   ],
   "source": [
    "df['label'].value_counts()"
   ]
  },
  {
   "cell_type": "code",
   "execution_count": 6,
   "metadata": {},
   "outputs": [],
   "source": [
    "def split_dataset(df, columns_to_drop, test_size, random_state):\n",
    "  label_encoder = preprocessing.LabelEncoder()\n",
    "\n",
    "  df['label'] = label_encoder.fit_transform(df['label'])\n",
    "\n",
    "  df_train, df_test = train_test_split(df, test_size=test_size, random_state=random_state)\n",
    "\n",
    "  df_train2 = df_train.drop(columns_to_drop,axis=1)\n",
    "  y_train2 = df_train['label'].to_numpy()\n",
    "\n",
    "  df_test2 = df_test.drop(columns_to_drop,axis=1)\n",
    "  y_test2 = df_test['label'].to_numpy() \n",
    "\n",
    "  return df_train2, y_train2, df_test2, y_test2\n"
   ]
  },
  {
   "cell_type": "code",
   "execution_count": 7,
   "metadata": {},
   "outputs": [],
   "source": [
    "def preprocess_dataset(df_train, df_test):\n",
    "\n",
    "  standard_scaler = preprocessing.StandardScaler()\n",
    "  df_train_scaled = standard_scaler.fit_transform(df_train)\n",
    "\n",
    "  df_test_scaled = standard_scaler.transform(df_test)\n",
    "\n",
    "  return df_train_scaled, df_test_scaled"
   ]
  },
  {
   "cell_type": "code",
   "execution_count": 8,
   "metadata": {},
   "outputs": [],
   "source": [
    "columns_to_drop = ['label','filename']\n",
    "\n",
    "X_train, y_train, X_test, y_test = split_dataset(df, columns_to_drop, test_size=0.3, random_state=0) # positive labels being encoded as 1\n",
    "\n",
    "X_train_scaled, X_test_scaled = preprocess_dataset(X_train, X_test)"
   ]
  },
  {
   "cell_type": "code",
   "execution_count": 9,
   "metadata": {},
   "outputs": [],
   "source": [
    "num_neurons = 128\n",
    "input_shape = X_train.shape[1]\n",
    "\n",
    "model = Sequential([\n",
    "    InputLayer(input_shape=(input_shape,)),\n",
    "    Dense(num_neurons, activation='relu'),\n",
    "    Dropout(0.2),\n",
    "    Dense(num_neurons, activation='relu'),\n",
    "    Dropout(0.2),\n",
    "    Dense(num_neurons, activation='relu'),\n",
    "    Dropout(0.2),\n",
    "    Dense(1, activation='sigmoid')\n",
    "])\n",
    "\n",
    "optimizer = Adam(learning_rate=0.001)\n",
    "\n",
    "model.compile(optimizer=optimizer,\n",
    "                loss='binary_crossentropy',\n",
    "                metrics=['accuracy'])"
   ]
  },
  {
   "cell_type": "code",
   "execution_count": 10,
   "metadata": {},
   "outputs": [
    {
     "name": "stdout",
     "output_type": "stream",
     "text": [
      "Model: \"sequential\"\n",
      "_________________________________________________________________\n",
      " Layer (type)                Output Shape              Param #   \n",
      "=================================================================\n",
      " dense (Dense)               (None, 128)               9984      \n",
      "                                                                 \n",
      " dropout (Dropout)           (None, 128)               0         \n",
      "                                                                 \n",
      " dense_1 (Dense)             (None, 128)               16512     \n",
      "                                                                 \n",
      " dropout_1 (Dropout)         (None, 128)               0         \n",
      "                                                                 \n",
      " dense_2 (Dense)             (None, 128)               16512     \n",
      "                                                                 \n",
      " dropout_2 (Dropout)         (None, 128)               0         \n",
      "                                                                 \n",
      " dense_3 (Dense)             (None, 1)                 129       \n",
      "                                                                 \n",
      "=================================================================\n",
      "Total params: 43,137\n",
      "Trainable params: 43,137\n",
      "Non-trainable params: 0\n",
      "_________________________________________________________________\n"
     ]
    }
   ],
   "source": [
    "model.summary()"
   ]
  },
  {
   "cell_type": "code",
   "execution_count": 11,
   "metadata": {},
   "outputs": [],
   "source": [
    "def early_stopping(monitor='val_loss', patience=3):\n",
    "    return [EarlyStopping(monitor=monitor, patience=patience)]"
   ]
  },
  {
   "cell_type": "code",
   "execution_count": 12,
   "metadata": {},
   "outputs": [
    {
     "name": "stdout",
     "output_type": "stream",
     "text": [
      "Epoch 1/100\n",
      "499/499 - 6s - loss: 0.6897 - accuracy: 0.5361 - val_loss: 0.6844 - val_accuracy: 0.5547 - 6s/epoch - 11ms/step\n",
      "Epoch 2/100\n",
      "499/499 - 9s - loss: 0.6833 - accuracy: 0.5533 - val_loss: 0.6809 - val_accuracy: 0.5589 - 9s/epoch - 19ms/step\n",
      "Epoch 3/100\n",
      "499/499 - 13s - loss: 0.6800 - accuracy: 0.5591 - val_loss: 0.6800 - val_accuracy: 0.5629 - 13s/epoch - 26ms/step\n",
      "Epoch 4/100\n",
      "499/499 - 12s - loss: 0.6774 - accuracy: 0.5658 - val_loss: 0.6767 - val_accuracy: 0.5665 - 12s/epoch - 25ms/step\n",
      "Epoch 5/100\n",
      "499/499 - 17s - loss: 0.6739 - accuracy: 0.5741 - val_loss: 0.6731 - val_accuracy: 0.5737 - 17s/epoch - 33ms/step\n",
      "Epoch 6/100\n",
      "499/499 - 17s - loss: 0.6705 - accuracy: 0.5788 - val_loss: 0.6711 - val_accuracy: 0.5792 - 17s/epoch - 34ms/step\n",
      "Epoch 7/100\n",
      "499/499 - 16s - loss: 0.6672 - accuracy: 0.5851 - val_loss: 0.6680 - val_accuracy: 0.5884 - 16s/epoch - 32ms/step\n",
      "Epoch 8/100\n",
      "499/499 - 14s - loss: 0.6637 - accuracy: 0.5903 - val_loss: 0.6636 - val_accuracy: 0.5888 - 14s/epoch - 28ms/step\n",
      "Epoch 9/100\n",
      "499/499 - 12s - loss: 0.6595 - accuracy: 0.5977 - val_loss: 0.6611 - val_accuracy: 0.5937 - 12s/epoch - 25ms/step\n",
      "Epoch 10/100\n",
      "499/499 - 13s - loss: 0.6565 - accuracy: 0.5989 - val_loss: 0.6575 - val_accuracy: 0.5987 - 13s/epoch - 27ms/step\n",
      "Epoch 11/100\n",
      "499/499 - 13s - loss: 0.6530 - accuracy: 0.6042 - val_loss: 0.6534 - val_accuracy: 0.6067 - 13s/epoch - 25ms/step\n",
      "Epoch 12/100\n",
      "499/499 - 13s - loss: 0.6494 - accuracy: 0.6102 - val_loss: 0.6504 - val_accuracy: 0.6093 - 13s/epoch - 25ms/step\n",
      "Epoch 13/100\n",
      "499/499 - 14s - loss: 0.6465 - accuracy: 0.6124 - val_loss: 0.6483 - val_accuracy: 0.6097 - 14s/epoch - 27ms/step\n",
      "Epoch 14/100\n",
      "499/499 - 13s - loss: 0.6425 - accuracy: 0.6178 - val_loss: 0.6446 - val_accuracy: 0.6168 - 13s/epoch - 27ms/step\n",
      "Epoch 15/100\n",
      "499/499 - 11s - loss: 0.6390 - accuracy: 0.6229 - val_loss: 0.6427 - val_accuracy: 0.6180 - 11s/epoch - 22ms/step\n",
      "Epoch 16/100\n",
      "499/499 - 11s - loss: 0.6379 - accuracy: 0.6240 - val_loss: 0.6411 - val_accuracy: 0.6222 - 11s/epoch - 22ms/step\n",
      "Epoch 17/100\n",
      "499/499 - 11s - loss: 0.6342 - accuracy: 0.6287 - val_loss: 0.6387 - val_accuracy: 0.6272 - 11s/epoch - 22ms/step\n",
      "Epoch 18/100\n",
      "499/499 - 12s - loss: 0.6324 - accuracy: 0.6295 - val_loss: 0.6363 - val_accuracy: 0.6274 - 12s/epoch - 23ms/step\n",
      "Epoch 19/100\n",
      "499/499 - 11s - loss: 0.6297 - accuracy: 0.6314 - val_loss: 0.6348 - val_accuracy: 0.6297 - 11s/epoch - 22ms/step\n",
      "Epoch 20/100\n",
      "499/499 - 11s - loss: 0.6270 - accuracy: 0.6371 - val_loss: 0.6338 - val_accuracy: 0.6292 - 11s/epoch - 21ms/step\n",
      "Epoch 21/100\n",
      "499/499 - 11s - loss: 0.6262 - accuracy: 0.6364 - val_loss: 0.6335 - val_accuracy: 0.6333 - 11s/epoch - 22ms/step\n",
      "Epoch 22/100\n",
      "499/499 - 12s - loss: 0.6239 - accuracy: 0.6401 - val_loss: 0.6298 - val_accuracy: 0.6348 - 12s/epoch - 23ms/step\n",
      "Epoch 23/100\n",
      "499/499 - 13s - loss: 0.6205 - accuracy: 0.6427 - val_loss: 0.6282 - val_accuracy: 0.6360 - 13s/epoch - 27ms/step\n",
      "Epoch 24/100\n",
      "499/499 - 16s - loss: 0.6194 - accuracy: 0.6425 - val_loss: 0.6282 - val_accuracy: 0.6384 - 16s/epoch - 31ms/step\n",
      "Epoch 25/100\n",
      "499/499 - 12s - loss: 0.6173 - accuracy: 0.6463 - val_loss: 0.6261 - val_accuracy: 0.6379 - 12s/epoch - 24ms/step\n",
      "Epoch 26/100\n",
      "499/499 - 11s - loss: 0.6160 - accuracy: 0.6481 - val_loss: 0.6245 - val_accuracy: 0.6405 - 11s/epoch - 22ms/step\n",
      "Epoch 27/100\n",
      "499/499 - 11s - loss: 0.6140 - accuracy: 0.6507 - val_loss: 0.6220 - val_accuracy: 0.6439 - 11s/epoch - 23ms/step\n",
      "Epoch 28/100\n",
      "499/499 - 11s - loss: 0.6121 - accuracy: 0.6516 - val_loss: 0.6228 - val_accuracy: 0.6416 - 11s/epoch - 22ms/step\n",
      "Epoch 29/100\n",
      "499/499 - 10s - loss: 0.6112 - accuracy: 0.6541 - val_loss: 0.6203 - val_accuracy: 0.6444 - 10s/epoch - 19ms/step\n",
      "Epoch 30/100\n",
      "499/499 - 10s - loss: 0.6097 - accuracy: 0.6539 - val_loss: 0.6186 - val_accuracy: 0.6466 - 10s/epoch - 20ms/step\n",
      "Epoch 31/100\n",
      "499/499 - 10s - loss: 0.6082 - accuracy: 0.6562 - val_loss: 0.6186 - val_accuracy: 0.6441 - 10s/epoch - 20ms/step\n",
      "Epoch 32/100\n",
      "499/499 - 10s - loss: 0.6073 - accuracy: 0.6573 - val_loss: 0.6188 - val_accuracy: 0.6435 - 10s/epoch - 20ms/step\n",
      "Epoch 33/100\n",
      "499/499 - 10s - loss: 0.6062 - accuracy: 0.6579 - val_loss: 0.6170 - val_accuracy: 0.6481 - 10s/epoch - 19ms/step\n",
      "Epoch 34/100\n",
      "499/499 - 11s - loss: 0.6056 - accuracy: 0.6593 - val_loss: 0.6165 - val_accuracy: 0.6496 - 11s/epoch - 22ms/step\n",
      "Epoch 35/100\n",
      "499/499 - 14s - loss: 0.6030 - accuracy: 0.6606 - val_loss: 0.6151 - val_accuracy: 0.6501 - 14s/epoch - 27ms/step\n",
      "Epoch 36/100\n",
      "499/499 - 11s - loss: 0.6035 - accuracy: 0.6603 - val_loss: 0.6144 - val_accuracy: 0.6505 - 11s/epoch - 23ms/step\n",
      "Epoch 37/100\n",
      "499/499 - 12s - loss: 0.6008 - accuracy: 0.6649 - val_loss: 0.6130 - val_accuracy: 0.6516 - 12s/epoch - 24ms/step\n",
      "Epoch 38/100\n",
      "499/499 - 10s - loss: 0.6002 - accuracy: 0.6638 - val_loss: 0.6143 - val_accuracy: 0.6522 - 10s/epoch - 20ms/step\n",
      "Epoch 39/100\n",
      "499/499 - 9s - loss: 0.5993 - accuracy: 0.6632 - val_loss: 0.6116 - val_accuracy: 0.6524 - 9s/epoch - 18ms/step\n",
      "Epoch 40/100\n",
      "499/499 - 10s - loss: 0.5980 - accuracy: 0.6648 - val_loss: 0.6101 - val_accuracy: 0.6554 - 10s/epoch - 20ms/step\n",
      "Epoch 41/100\n",
      "499/499 - 11s - loss: 0.5974 - accuracy: 0.6661 - val_loss: 0.6109 - val_accuracy: 0.6539 - 11s/epoch - 22ms/step\n",
      "Epoch 42/100\n",
      "499/499 - 9s - loss: 0.5963 - accuracy: 0.6678 - val_loss: 0.6104 - val_accuracy: 0.6557 - 9s/epoch - 18ms/step\n",
      "Epoch 43/100\n",
      "499/499 - 11s - loss: 0.5963 - accuracy: 0.6682 - val_loss: 0.6088 - val_accuracy: 0.6545 - 11s/epoch - 23ms/step\n",
      "Epoch 44/100\n",
      "499/499 - 11s - loss: 0.5947 - accuracy: 0.6683 - val_loss: 0.6090 - val_accuracy: 0.6568 - 11s/epoch - 23ms/step\n",
      "Epoch 45/100\n",
      "499/499 - 11s - loss: 0.5931 - accuracy: 0.6719 - val_loss: 0.6078 - val_accuracy: 0.6580 - 11s/epoch - 21ms/step\n",
      "Epoch 46/100\n",
      "499/499 - 11s - loss: 0.5924 - accuracy: 0.6696 - val_loss: 0.6077 - val_accuracy: 0.6579 - 11s/epoch - 22ms/step\n",
      "Epoch 47/100\n",
      "499/499 - 11s - loss: 0.5918 - accuracy: 0.6726 - val_loss: 0.6079 - val_accuracy: 0.6581 - 11s/epoch - 22ms/step\n",
      "Epoch 48/100\n",
      "499/499 - 10s - loss: 0.5919 - accuracy: 0.6712 - val_loss: 0.6061 - val_accuracy: 0.6600 - 10s/epoch - 20ms/step\n",
      "Epoch 49/100\n",
      "499/499 - 11s - loss: 0.5911 - accuracy: 0.6734 - val_loss: 0.6053 - val_accuracy: 0.6583 - 11s/epoch - 22ms/step\n",
      "Epoch 50/100\n",
      "499/499 - 12s - loss: 0.5901 - accuracy: 0.6732 - val_loss: 0.6042 - val_accuracy: 0.6598 - 12s/epoch - 23ms/step\n",
      "Epoch 51/100\n",
      "499/499 - 11s - loss: 0.5879 - accuracy: 0.6758 - val_loss: 0.6042 - val_accuracy: 0.6577 - 11s/epoch - 22ms/step\n",
      "Epoch 52/100\n",
      "499/499 - 11s - loss: 0.5883 - accuracy: 0.6751 - val_loss: 0.6045 - val_accuracy: 0.6586 - 11s/epoch - 23ms/step\n",
      "Epoch 53/100\n",
      "499/499 - 11s - loss: 0.5875 - accuracy: 0.6760 - val_loss: 0.6055 - val_accuracy: 0.6589 - 11s/epoch - 22ms/step\n"
     ]
    }
   ],
   "source": [
    "num_epochs = 100\n",
    "batch_size = 256\n",
    "\n",
    "history = model.fit(X_train_scaled, y_train, \n",
    "                epochs=num_epochs, \n",
    "                batch_size=batch_size, \n",
    "                verbose = 2,\n",
    "                callbacks=early_stopping(monitor='val_loss', patience=3),\n",
    "                validation_data=(X_test_scaled, y_test)\n",
    "            )"
   ]
  },
  {
   "cell_type": "code",
   "execution_count": 13,
   "metadata": {},
   "outputs": [
    {
     "data": {
      "text/plain": [
       "<matplotlib.legend.Legend at 0x21fd4cada00>"
      ]
     },
     "execution_count": 13,
     "metadata": {},
     "output_type": "execute_result"
    },
    {
     "data": {
      "image/png": "[encoded data removed]",
      "text/plain": [
       "<Figure size 640x480 with 1 Axes>"
      ]
     },
     "metadata": {},
     "output_type": "display_data"
    }
   ],
   "source": [
    "plt.figure()\n",
    "plt.plot(history.history['accuracy'])\n",
    "plt.plot(history.history['val_accuracy'])\n",
    "plt.title('model accuracy')\n",
    "plt.ylabel('accuracy')\n",
    "plt.xlabel('epoch')\n",
    "plt.legend(['train', 'test'], loc='upper left')"
   ]
  },
  {
   "cell_type": "code",
   "execution_count": 14,
   "metadata": {},
   "outputs": [
    {
     "data": {
      "text/plain": [
       "<matplotlib.legend.Legend at 0x21fd512d4c0>"
      ]
     },
     "execution_count": 14,
     "metadata": {},
     "output_type": "execute_result"
    },
    {
     "data": {
      "image/png": "[encoded data removed]",
      "text/plain": [
       "<Figure size 640x480 with 1 Axes>"
      ]
     },
     "metadata": {},
     "output_type": "display_data"
    }
   ],
   "source": [
    "plt.figure()\n",
    "plt.plot(history.history['loss'])\n",
    "plt.plot(history.history['val_loss'])\n",
    "plt.title('model loss')\n",
    "plt.ylabel('cross-entropy')\n",
    "plt.xlabel('epoch')\n",
    "plt.legend(['train', 'test'], loc='upper right')"
   ]
  }
 ],
 "metadata": {
  "kernelspec": {
   "display_name": "Python 3.8.10 64-bit",
   "language": "python",
   "name": "python3"
  },
  "language_info": {
   "codemirror_mode": {
    "name": "ipython",
    "version": 3
   },
   "file_extension": ".py",
   "mimetype": "text/x-python",
   "name": "python",
   "nbconvert_exporter": "python",
   "pygments_lexer": "ipython3",
   "version": "3.8.10"
  },
  "orig_nbformat": 4,
  "vscode": {
   "interpreter": {
    "hash": "89210a7a1f000587289a5110b9b6d1a5a161ff0b1d4983ecba4e8d5901c39611"
   }
  }
 },
 "nbformat": 4,
 "nbformat_minor": 2
}
